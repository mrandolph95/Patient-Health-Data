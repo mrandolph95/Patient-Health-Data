{
 "cells": [
  {
   "cell_type": "markdown",
   "metadata": {
    "application/vnd.databricks.v1+cell": {
     "cellMetadata": {},
     "inputWidgets": {},
     "nuid": "edcbeaeb-5b7c-4e46-825c-4207fcd9644c",
     "showTitle": false,
     "tableResultSettingsMap": {},
     "title": ""
    }
   },
   "source": [
    "### Create a Posteoperative Patient Data Predictive Model"
   ]
  },
  {
   "cell_type": "markdown",
   "metadata": {
    "application/vnd.databricks.v1+cell": {
     "cellMetadata": {},
     "inputWidgets": {},
     "nuid": "be22acb8-745f-4faf-b2fe-f73600b4598b",
     "showTitle": false,
     "tableResultSettingsMap": {},
     "title": ""
    }
   },
   "source": [
    "#### Packages"
   ]
  },
  {
   "cell_type": "code",
   "execution_count": 0,
   "metadata": {
    "application/vnd.databricks.v1+cell": {
     "cellMetadata": {
      "byteLimit": 2048000,
      "rowLimit": 10000
     },
     "inputWidgets": {},
     "nuid": "2d0d40d0-7a6c-4ac6-9ec0-adf36dcd736b",
     "showTitle": false,
     "tableResultSettingsMap": {},
     "title": ""
    }
   },
   "outputs": [],
   "source": [
    "from pyspark.ml.feature import StringIndexer, OneHotEncoder\n",
    "from pyspark.ml import Pipeline\n",
    "from pyspark.sql.functions import monotonically_increasing_id\n",
    "from pyspark.ml.classification import RandomForestClassifier\n",
    "from pyspark.ml.evaluation import MulticlassClassificationEvaluator\n",
    "from pyspark.sql.functions import when, col\n",
    "from pyspark.ml.feature import VectorAssembler"
   ]
  },
  {
   "cell_type": "code",
   "execution_count": 0,
   "metadata": {
    "application/vnd.databricks.v1+cell": {
     "cellMetadata": {
      "byteLimit": 2048000,
      "rowLimit": 10000
     },
     "inputWidgets": {},
     "nuid": "ec9980fc-be20-4bff-942b-e7684f8efae4",
     "showTitle": false,
     "tableResultSettingsMap": {},
     "title": ""
    }
   },
   "outputs": [],
   "source": [
    "from databricks.sdk import WorkspaceClient\n",
    "from databricks.sdk.service.jobs import Task, NotebookTask, Source"
   ]
  },
  {
   "cell_type": "markdown",
   "metadata": {
    "application/vnd.databricks.v1+cell": {
     "cellMetadata": {},
     "inputWidgets": {},
     "nuid": "b5875129-a5b2-4153-99a5-738be371b248",
     "showTitle": false,
     "tableResultSettingsMap": {},
     "title": ""
    }
   },
   "source": [
    "#### Mount My Storage to db"
   ]
  },
  {
   "cell_type": "code",
   "execution_count": 0,
   "metadata": {
    "application/vnd.databricks.v1+cell": {
     "cellMetadata": {
      "byteLimit": 2048000,
      "rowLimit": 10000
     },
     "inputWidgets": {},
     "nuid": "e9ce27da-08eb-49d4-80d0-f7b7fbb556d2",
     "showTitle": false,
     "tableResultSettingsMap": {},
     "title": ""
    }
   },
   "outputs": [
    {
     "output_type": "execute_result",
     "data": {
      "text/plain": [
       "True"
      ]
     },
     "execution_count": 8,
     "metadata": {},
     "output_type": "execute_result"
    }
   ],
   "source": [
    "storage_account_name = \"mlrstorage2025\"\n",
    "container_name = \"my-container\"\n",
    "mount_point = \"/mnt/postoperative_data\"\n",
    "sas_token = \"sp=r&st=2025-03-26T05:37:45Z&se=2025-03-26T13:37:45Z&spr=https&sv=2024-11-04&sr=c&sig=bU4ljnmAWDEJyDp2gc2DVPCaFFQbxcfOjicy5sFeLcQ%3D\"\n",
    "\n",
    "configs = {\n",
    "    f\"fs.azure.sas.{container_name}.{storage_account_name}.blob.core.windows.net\": sas_token\n",
    "}\n",
    "\n",
    "dbutils.fs.mount(\n",
    "  source = f\"wasbs://{container_name}@{storage_account_name}.blob.core.windows.net\",\n",
    "  mount_point = mount_point,\n",
    "  extra_configs = configs\n",
    ")"
   ]
  },
  {
   "cell_type": "code",
   "execution_count": 0,
   "metadata": {
    "application/vnd.databricks.v1+cell": {
     "cellMetadata": {
      "byteLimit": 2048000,
      "rowLimit": 10000
     },
     "inputWidgets": {},
     "nuid": "b42d8812-9a65-4146-a7d1-f5960c5f8552",
     "showTitle": false,
     "tableResultSettingsMap": {},
     "title": ""
    }
   },
   "outputs": [
    {
     "output_type": "execute_result",
     "data": {
      "text/plain": [
       "[MountInfo(mountPoint='/databricks-datasets', source='databricks-datasets', encryptionType=''),\n",
       " MountInfo(mountPoint='/Volumes', source='UnityCatalogVolumes', encryptionType=''),\n",
       " MountInfo(mountPoint='/databricks/mlflow-tracking', source='databricks/mlflow-tracking', encryptionType=''),\n",
       " MountInfo(mountPoint='/databricks-results', source='databricks-results', encryptionType=''),\n",
       " MountInfo(mountPoint='/databricks/mlflow-registry', source='databricks/mlflow-registry', encryptionType=''),\n",
       " MountInfo(mountPoint='/mnt/postoperative_data', source='wasbs://my-container@mlrstorage2025.blob.core.windows.net', encryptionType=''),\n",
       " MountInfo(mountPoint='/Volume', source='DbfsReserved', encryptionType=''),\n",
       " MountInfo(mountPoint='/volumes', source='DbfsReserved', encryptionType=''),\n",
       " MountInfo(mountPoint='/', source='DatabricksRoot', encryptionType=''),\n",
       " MountInfo(mountPoint='/volume', source='DbfsReserved', encryptionType='')]"
      ]
     },
     "execution_count": 9,
     "metadata": {},
     "output_type": "execute_result"
    }
   ],
   "source": [
    "dbutils.fs.mounts()"
   ]
  },
  {
   "cell_type": "code",
   "execution_count": 0,
   "metadata": {
    "application/vnd.databricks.v1+cell": {
     "cellMetadata": {
      "byteLimit": 2048000,
      "rowLimit": 10000
     },
     "inputWidgets": {},
     "nuid": "c2cb4ba2-3c29-40ea-a768-73376e821d0e",
     "showTitle": false,
     "tableResultSettingsMap": {},
     "title": ""
    }
   },
   "outputs": [],
   "source": [
    "file_path = \"/mnt/postoperative_data/postoperative_data.parquet\"\n",
    "df = spark.read.parquet(file_path)"
   ]
  },
  {
   "cell_type": "code",
   "execution_count": 0,
   "metadata": {
    "application/vnd.databricks.v1+cell": {
     "cellMetadata": {
      "byteLimit": 2048000,
      "rowLimit": 10000
     },
     "inputWidgets": {},
     "nuid": "e5849172-1c55-4278-a375-9deb29998b5d",
     "showTitle": false,
     "tableResultSettingsMap": {},
     "title": ""
    }
   },
   "outputs": [
    {
     "output_type": "display_data",
     "data": {
      "text/html": [
       "<style scoped>\n",
       "  .table-result-container {\n",
       "    max-height: 300px;\n",
       "    overflow: auto;\n",
       "  }\n",
       "  table, th, td {\n",
       "    border: 1px solid black;\n",
       "    border-collapse: collapse;\n",
       "  }\n",
       "  th, td {\n",
       "    padding: 5px;\n",
       "  }\n",
       "  th {\n",
       "    text-align: left;\n",
       "  }\n",
       "</style><div class='table-result-container'><table class='table-result'><thead style='background-color: white'><tr><th>L-CORE</th><th>L-SURF</th><th>L-O2</th><th>L-BP</th><th>SURF-STBL</th><th>CORE-STBL</th><th>BP-STBL</th><th>COMFORT</th><th>decision</th></tr></thead><tbody><tr><td>mid</td><td>low</td><td>excellent</td><td>mid</td><td>stable</td><td>stable</td><td>stable</td><td>15</td><td>A</td></tr><tr><td>mid</td><td>high</td><td>excellent</td><td>high</td><td>stable</td><td>stable</td><td>stable</td><td>10</td><td>S</td></tr><tr><td>high</td><td>low</td><td>excellent</td><td>high</td><td>stable</td><td>stable</td><td>mod-stable</td><td>10</td><td>A</td></tr><tr><td>mid</td><td>low</td><td>good</td><td>high</td><td>stable</td><td>unstable</td><td>mod-stable</td><td>15</td><td>A</td></tr><tr><td>mid</td><td>mid</td><td>excellent</td><td>high</td><td>stable</td><td>stable</td><td>stable</td><td>10</td><td>A</td></tr><tr><td>high</td><td>low</td><td>good</td><td>mid</td><td>stable</td><td>stable</td><td>unstable</td><td>15</td><td>S</td></tr><tr><td>mid</td><td>low</td><td>excellent</td><td>high</td><td>stable</td><td>stable</td><td>mod-stable</td><td>05</td><td>S</td></tr><tr><td>high</td><td>mid</td><td>excellent</td><td>mid</td><td>unstable</td><td>unstable</td><td>stable</td><td>10</td><td>S</td></tr><tr><td>mid</td><td>high</td><td>good</td><td>mid</td><td>stable</td><td>stable</td><td>stable</td><td>10</td><td>S</td></tr><tr><td>mid</td><td>low</td><td>excellent</td><td>mid</td><td>unstable</td><td>stable</td><td>mod-stable</td><td>10</td><td>S</td></tr><tr><td>mid</td><td>mid</td><td>good</td><td>mid</td><td>stable</td><td>stable</td><td>stable</td><td>15</td><td>A</td></tr><tr><td>mid</td><td>low</td><td>good</td><td>high</td><td>stable</td><td>stable</td><td>mod-stable</td><td>10</td><td>A</td></tr><tr><td>high</td><td>high</td><td>excellent</td><td>high</td><td>unstable</td><td>stable</td><td>unstable</td><td>15</td><td>A</td></tr><tr><td>mid</td><td>high</td><td>good</td><td>mid</td><td>unstable</td><td>stable</td><td>mod-stable</td><td>10</td><td>A</td></tr><tr><td>mid</td><td>low</td><td>good</td><td>high</td><td>unstable</td><td>unstable</td><td>stable</td><td>15</td><td>S</td></tr><tr><td>high</td><td>high</td><td>excellent</td><td>high</td><td>unstable</td><td>stable</td><td>unstable</td><td>10</td><td>A</td></tr><tr><td>low</td><td>high</td><td>good</td><td>high</td><td>unstable</td><td>stable</td><td>mod-stable</td><td>15</td><td>A</td></tr><tr><td>mid</td><td>low</td><td>good</td><td>high</td><td>unstable</td><td>stable</td><td>stable</td><td>10</td><td>A</td></tr><tr><td>mid</td><td>high</td><td>good</td><td>mid</td><td>unstable</td><td>stable</td><td>unstable</td><td>15</td><td>A</td></tr><tr><td>mid</td><td>mid</td><td>good</td><td>mid</td><td>stable</td><td>stable</td><td>stable</td><td>10</td><td>A</td></tr><tr><td>low</td><td>high</td><td>good</td><td>mid</td><td>unstable</td><td>stable</td><td>stable</td><td>15</td><td>A</td></tr><tr><td>low</td><td>mid</td><td>excellent</td><td>high</td><td>unstable</td><td>stable</td><td>unstable</td><td>10</td><td>S</td></tr><tr><td>mid</td><td>mid</td><td>good</td><td>mid</td><td>unstable</td><td>stable</td><td>unstable</td><td>15</td><td>A</td></tr><tr><td>mid</td><td>mid</td><td>good</td><td>mid</td><td>unstable</td><td>stable</td><td>stable</td><td>10</td><td>A</td></tr><tr><td>high</td><td>high</td><td>good</td><td>mid</td><td>stable</td><td>stable</td><td>mod-stable</td><td>10</td><td>A</td></tr><tr><td>low</td><td>mid</td><td>good</td><td>mid</td><td>unstable</td><td>stable</td><td>stable</td><td>10</td><td>A</td></tr><tr><td>high</td><td>mid</td><td>good</td><td>low</td><td>stable</td><td>stable</td><td>mod-stable</td><td>10</td><td>A</td></tr><tr><td>low</td><td>mid</td><td>excellent</td><td>high</td><td>stable</td><td>stable</td><td>mod-stable</td><td>10</td><td>A</td></tr><tr><td>mid</td><td>mid</td><td>excellent</td><td>mid</td><td>stable</td><td>stable</td><td>unstable</td><td>15</td><td>A</td></tr><tr><td>mid</td><td>mid</td><td>good</td><td>mid</td><td>unstable</td><td>stable</td><td>unstable</td><td>10</td><td>S</td></tr><tr><td>mid</td><td>mid</td><td>good</td><td>high</td><td>unstable</td><td>stable</td><td>stable</td><td>10</td><td>A</td></tr><tr><td>low</td><td>low</td><td>good</td><td>mid</td><td>unstable</td><td>stable</td><td>unstable</td><td>10</td><td>A</td></tr><tr><td>mid</td><td>mid</td><td>excellent</td><td>high</td><td>unstable</td><td>stable</td><td>mod-stable</td><td>10</td><td>A</td></tr><tr><td>mid</td><td>low</td><td>good</td><td>mid</td><td>stable</td><td>stable</td><td>stable</td><td>10</td><td>A</td></tr><tr><td>low</td><td>mid</td><td>excellent</td><td>high</td><td>stable</td><td>stable</td><td>mod-stable</td><td>10</td><td>A</td></tr><tr><td>mid</td><td>mid</td><td>good</td><td>mid</td><td>stable</td><td>stable</td><td>stable</td><td>10</td><td>A</td></tr><tr><td>low</td><td>mid</td><td>excellent</td><td>mid</td><td>stable</td><td>stable</td><td>stable</td><td>10</td><td>S</td></tr><tr><td>low</td><td>low</td><td>good</td><td>mid</td><td>unstable</td><td>stable</td><td>unstable</td><td>10</td><td>S</td></tr><tr><td>low</td><td>low</td><td>good</td><td>mid</td><td>stable</td><td>stable</td><td>stable</td><td>07</td><td>S</td></tr><tr><td>mid</td><td>mid</td><td>good</td><td>high</td><td>unstable</td><td>stable</td><td>mod-stable</td><td>10</td><td>A</td></tr><tr><td>low</td><td>low</td><td>good</td><td>mid</td><td>unstable</td><td>stable</td><td>stable</td><td>10</td><td>A</td></tr><tr><td>low</td><td>mid</td><td>good</td><td>mid</td><td>stable</td><td>stable</td><td>stable</td><td>15</td><td>S</td></tr><tr><td>high</td><td>high</td><td>good</td><td>high</td><td>unstable</td><td>stable</td><td>stable</td><td>15</td><td>S</td></tr><tr><td>mid</td><td>mid</td><td>good</td><td>mid</td><td>stable</td><td>stable</td><td>stable</td><td>10</td><td>S</td></tr><tr><td>low</td><td>low</td><td>excellent</td><td>mid</td><td>stable</td><td>stable</td><td>stable</td><td>10</td><td>A</td></tr><tr><td>low</td><td>mid</td><td>good</td><td>mid</td><td>unstable</td><td>stable</td><td>stable</td><td>10</td><td>S</td></tr><tr><td>low</td><td>mid</td><td>good</td><td>high</td><td>unstable</td><td>stable</td><td>stable</td><td>?</td><td>I</td></tr><tr><td>mid</td><td>mid</td><td>excellent</td><td>mid</td><td>unstable</td><td>stable</td><td>stable</td><td>10</td><td>A</td></tr><tr><td>high</td><td>high</td><td>excellent</td><td>high</td><td>stable</td><td>stable</td><td>unstable</td><td>?</td><td>A</td></tr><tr><td>mid</td><td>high</td><td>good</td><td>low</td><td>unstable</td><td>stable</td><td>stable</td><td>10</td><td>A</td></tr><tr><td>mid</td><td>high</td><td>good</td><td>mid</td><td>unstable</td><td>mod-stable</td><td>mod-stable</td><td>10</td><td>A</td></tr><tr><td>low</td><td>high</td><td>excellent</td><td>mid</td><td>unstable</td><td>stable</td><td>stable</td><td>10</td><td>A</td></tr><tr><td>mid</td><td>low</td><td>excellent</td><td>high</td><td>unstable</td><td>stable</td><td>unstable</td><td>10</td><td>A</td></tr><tr><td>mid</td><td>mid</td><td>good</td><td>mid</td><td>unstable</td><td>stable</td><td>mod-stable</td><td>10</td><td>S</td></tr><tr><td>high</td><td>high</td><td>excellent</td><td>mid</td><td>unstable</td><td>stable</td><td>mod-stable</td><td>10</td><td>A</td></tr><tr><td>mid</td><td>mid</td><td>good</td><td>mid</td><td>unstable</td><td>stable</td><td>stable</td><td>15</td><td>A</td></tr><tr><td>high</td><td>mid</td><td>good</td><td>high</td><td>stable</td><td>stable</td><td>unstable</td><td>15</td><td>A</td></tr><tr><td>mid</td><td>low</td><td>good</td><td>high</td><td>unstable</td><td>stable</td><td>mod-stable</td><td>10</td><td>A</td></tr><tr><td>low</td><td>low</td><td>good</td><td>high</td><td>stable</td><td>stable</td><td>stable</td><td>10</td><td>A</td></tr><tr><td>mid</td><td>high</td><td>good</td><td>mid</td><td>stable</td><td>stable</td><td>mod-stable</td><td>10</td><td>A</td></tr><tr><td>mid</td><td>high</td><td>good</td><td>mid</td><td>unstable</td><td>stable</td><td>unstable</td><td>10</td><td>A</td></tr><tr><td>mid</td><td>low</td><td>excellent</td><td>high</td><td>stable</td><td>stable</td><td>stable</td><td>10</td><td>A</td></tr><tr><td>mid</td><td>mid</td><td>good</td><td>mid</td><td>stable</td><td>stable</td><td>unstable</td><td>10</td><td>A</td></tr><tr><td>mid</td><td>low</td><td>excellent</td><td>mid</td><td>stable</td><td>stable</td><td>unstable</td><td>10</td><td>S</td></tr><tr><td>high</td><td>mid</td><td>excellent</td><td>mid</td><td>unstable</td><td>unstable</td><td>unstable</td><td>10</td><td>A</td></tr><tr><td>mid</td><td>mid</td><td>good</td><td>high</td><td>stable</td><td>stable</td><td>stable</td><td>10</td><td>S</td></tr><tr><td>mid</td><td>low</td><td>excellent</td><td>mid</td><td>unstable</td><td>stable</td><td>stable</td><td>10</td><td>A</td></tr><tr><td>mid</td><td>mid</td><td>excellent</td><td>mid</td><td>unstable</td><td>stable</td><td>stable</td><td>10</td><td>A</td></tr><tr><td>mid</td><td>mid</td><td>excellent</td><td>high</td><td>stable</td><td>stable</td><td>stable</td><td>10</td><td>A</td></tr><tr><td>mid</td><td>mid</td><td>excellent</td><td>low</td><td>stable</td><td>stable</td><td>stable</td><td>10</td><td>A</td></tr><tr><td>mid</td><td>low</td><td>excellent</td><td>mid</td><td>unstable</td><td>unstable</td><td>unstable</td><td>?</td><td>A</td></tr><tr><td>low</td><td>low</td><td>excellent</td><td>mid</td><td>stable</td><td>stable</td><td>stable</td><td>10</td><td>A</td></tr><tr><td>mid</td><td>mid</td><td>excellent</td><td>mid</td><td>stable</td><td>stable</td><td>mod-stable</td><td>10</td><td>S</td></tr><tr><td>mid</td><td>mid</td><td>excellent</td><td>high</td><td>stable</td><td>stable</td><td>stable</td><td>10</td><td>A</td></tr><tr><td>mid</td><td>low</td><td>excellent</td><td>high</td><td>stable</td><td>stable</td><td>mod-stable</td><td>10</td><td>A</td></tr><tr><td>low</td><td>mid</td><td>good</td><td>mid</td><td>stable</td><td>stable</td><td>unstable</td><td>10</td><td>A</td></tr><tr><td>mid</td><td>mid</td><td>excellent</td><td>mid</td><td>stable</td><td>stable</td><td>mod-stable</td><td>10</td><td>A</td></tr><tr><td>mid</td><td>mid</td><td>excellent</td><td>mid</td><td>stable</td><td>stable</td><td>unstable</td><td>10</td><td>A</td></tr><tr><td>mid</td><td>mid</td><td>excellent</td><td>mid</td><td>unstable</td><td>unstable</td><td>stable</td><td>10</td><td>S</td></tr><tr><td>mid</td><td>mid</td><td>good</td><td>high</td><td>stable</td><td>stable</td><td>stable</td><td>10</td><td>A</td></tr><tr><td>mid</td><td>mid</td><td>excellent</td><td>mid</td><td>stable</td><td>stable</td><td>stable</td><td>15</td><td>A</td></tr><tr><td>mid</td><td>mid</td><td>excellent</td><td>mid</td><td>stable</td><td>stable</td><td>stable</td><td>10</td><td>S</td></tr><tr><td>mid</td><td>low</td><td>good</td><td>mid</td><td>stable</td><td>stable</td><td>unstable</td><td>10</td><td>I</td></tr><tr><td>high</td><td>mid</td><td>excellent</td><td>mid</td><td>unstable</td><td>stable</td><td>unstable</td><td>05</td><td>A</td></tr><tr><td>mid</td><td>mid</td><td>excellent</td><td>mid</td><td>stable</td><td>stable</td><td>unstable</td><td>10</td><td>A</td></tr><tr><td>mid</td><td>mid</td><td>excellent</td><td>mid</td><td>unstable</td><td>stable</td><td>stable</td><td>10</td><td>A</td></tr><tr><td>mid</td><td>mid</td><td>excellent</td><td>mid</td><td>unstable</td><td>stable</td><td>stable</td><td>15</td><td>S</td></tr><tr><td>mid</td><td>mid</td><td>good</td><td>mid</td><td>unstable</td><td>stable</td><td>stable</td><td>15</td><td>A</td></tr><tr><td>mid</td><td>mid</td><td>excellent</td><td>mid</td><td>unstable</td><td>stable</td><td>stable</td><td>10</td><td>A</td></tr><tr><td>mid</td><td>mid</td><td>good</td><td>mid</td><td>unstable</td><td>stable</td><td>stable</td><td>15</td><td>S</td></tr></tbody></table></div>"
      ]
     },
     "metadata": {
      "application/vnd.databricks.v1+output": {
       "addedWidgets": {},
       "aggData": [],
       "aggError": "",
       "aggOverflow": false,
       "aggSchema": [],
       "aggSeriesLimitReached": false,
       "aggType": "",
       "arguments": {},
       "columnCustomDisplayInfos": {},
       "data": [
        [
         "mid",
         "low",
         "excellent",
         "mid",
         "stable",
         "stable",
         "stable",
         "15",
         "A"
        ],
        [
         "mid",
         "high",
         "excellent",
         "high",
         "stable",
         "stable",
         "stable",
         "10",
         "S"
        ],
        [
         "high",
         "low",
         "excellent",
         "high",
         "stable",
         "stable",
         "mod-stable",
         "10",
         "A"
        ],
        [
         "mid",
         "low",
         "good",
         "high",
         "stable",
         "unstable",
         "mod-stable",
         "15",
         "A"
        ],
        [
         "mid",
         "mid",
         "excellent",
         "high",
         "stable",
         "stable",
         "stable",
         "10",
         "A"
        ],
        [
         "high",
         "low",
         "good",
         "mid",
         "stable",
         "stable",
         "unstable",
         "15",
         "S"
        ],
        [
         "mid",
         "low",
         "excellent",
         "high",
         "stable",
         "stable",
         "mod-stable",
         "05",
         "S"
        ],
        [
         "high",
         "mid",
         "excellent",
         "mid",
         "unstable",
         "unstable",
         "stable",
         "10",
         "S"
        ],
        [
         "mid",
         "high",
         "good",
         "mid",
         "stable",
         "stable",
         "stable",
         "10",
         "S"
        ],
        [
         "mid",
         "low",
         "excellent",
         "mid",
         "unstable",
         "stable",
         "mod-stable",
         "10",
         "S"
        ],
        [
         "mid",
         "mid",
         "good",
         "mid",
         "stable",
         "stable",
         "stable",
         "15",
         "A"
        ],
        [
         "mid",
         "low",
         "good",
         "high",
         "stable",
         "stable",
         "mod-stable",
         "10",
         "A"
        ],
        [
         "high",
         "high",
         "excellent",
         "high",
         "unstable",
         "stable",
         "unstable",
         "15",
         "A"
        ],
        [
         "mid",
         "high",
         "good",
         "mid",
         "unstable",
         "stable",
         "mod-stable",
         "10",
         "A"
        ],
        [
         "mid",
         "low",
         "good",
         "high",
         "unstable",
         "unstable",
         "stable",
         "15",
         "S"
        ],
        [
         "high",
         "high",
         "excellent",
         "high",
         "unstable",
         "stable",
         "unstable",
         "10",
         "A"
        ],
        [
         "low",
         "high",
         "good",
         "high",
         "unstable",
         "stable",
         "mod-stable",
         "15",
         "A"
        ],
        [
         "mid",
         "low",
         "good",
         "high",
         "unstable",
         "stable",
         "stable",
         "10",
         "A"
        ],
        [
         "mid",
         "high",
         "good",
         "mid",
         "unstable",
         "stable",
         "unstable",
         "15",
         "A"
        ],
        [
         "mid",
         "mid",
         "good",
         "mid",
         "stable",
         "stable",
         "stable",
         "10",
         "A"
        ],
        [
         "low",
         "high",
         "good",
         "mid",
         "unstable",
         "stable",
         "stable",
         "15",
         "A"
        ],
        [
         "low",
         "mid",
         "excellent",
         "high",
         "unstable",
         "stable",
         "unstable",
         "10",
         "S"
        ],
        [
         "mid",
         "mid",
         "good",
         "mid",
         "unstable",
         "stable",
         "unstable",
         "15",
         "A"
        ],
        [
         "mid",
         "mid",
         "good",
         "mid",
         "unstable",
         "stable",
         "stable",
         "10",
         "A"
        ],
        [
         "high",
         "high",
         "good",
         "mid",
         "stable",
         "stable",
         "mod-stable",
         "10",
         "A"
        ],
        [
         "low",
         "mid",
         "good",
         "mid",
         "unstable",
         "stable",
         "stable",
         "10",
         "A"
        ],
        [
         "high",
         "mid",
         "good",
         "low",
         "stable",
         "stable",
         "mod-stable",
         "10",
         "A"
        ],
        [
         "low",
         "mid",
         "excellent",
         "high",
         "stable",
         "stable",
         "mod-stable",
         "10",
         "A"
        ],
        [
         "mid",
         "mid",
         "excellent",
         "mid",
         "stable",
         "stable",
         "unstable",
         "15",
         "A"
        ],
        [
         "mid",
         "mid",
         "good",
         "mid",
         "unstable",
         "stable",
         "unstable",
         "10",
         "S"
        ],
        [
         "mid",
         "mid",
         "good",
         "high",
         "unstable",
         "stable",
         "stable",
         "10",
         "A"
        ],
        [
         "low",
         "low",
         "good",
         "mid",
         "unstable",
         "stable",
         "unstable",
         "10",
         "A"
        ],
        [
         "mid",
         "mid",
         "excellent",
         "high",
         "unstable",
         "stable",
         "mod-stable",
         "10",
         "A"
        ],
        [
         "mid",
         "low",
         "good",
         "mid",
         "stable",
         "stable",
         "stable",
         "10",
         "A"
        ],
        [
         "low",
         "mid",
         "excellent",
         "high",
         "stable",
         "stable",
         "mod-stable",
         "10",
         "A"
        ],
        [
         "mid",
         "mid",
         "good",
         "mid",
         "stable",
         "stable",
         "stable",
         "10",
         "A"
        ],
        [
         "low",
         "mid",
         "excellent",
         "mid",
         "stable",
         "stable",
         "stable",
         "10",
         "S"
        ],
        [
         "low",
         "low",
         "good",
         "mid",
         "unstable",
         "stable",
         "unstable",
         "10",
         "S"
        ],
        [
         "low",
         "low",
         "good",
         "mid",
         "stable",
         "stable",
         "stable",
         "07",
         "S"
        ],
        [
         "mid",
         "mid",
         "good",
         "high",
         "unstable",
         "stable",
         "mod-stable",
         "10",
         "A"
        ],
        [
         "low",
         "low",
         "good",
         "mid",
         "unstable",
         "stable",
         "stable",
         "10",
         "A"
        ],
        [
         "low",
         "mid",
         "good",
         "mid",
         "stable",
         "stable",
         "stable",
         "15",
         "S"
        ],
        [
         "high",
         "high",
         "good",
         "high",
         "unstable",
         "stable",
         "stable",
         "15",
         "S"
        ],
        [
         "mid",
         "mid",
         "good",
         "mid",
         "stable",
         "stable",
         "stable",
         "10",
         "S"
        ],
        [
         "low",
         "low",
         "excellent",
         "mid",
         "stable",
         "stable",
         "stable",
         "10",
         "A"
        ],
        [
         "low",
         "mid",
         "good",
         "mid",
         "unstable",
         "stable",
         "stable",
         "10",
         "S"
        ],
        [
         "low",
         "mid",
         "good",
         "high",
         "unstable",
         "stable",
         "stable",
         "?",
         "I"
        ],
        [
         "mid",
         "mid",
         "excellent",
         "mid",
         "unstable",
         "stable",
         "stable",
         "10",
         "A"
        ],
        [
         "high",
         "high",
         "excellent",
         "high",
         "stable",
         "stable",
         "unstable",
         "?",
         "A"
        ],
        [
         "mid",
         "high",
         "good",
         "low",
         "unstable",
         "stable",
         "stable",
         "10",
         "A"
        ],
        [
         "mid",
         "high",
         "good",
         "mid",
         "unstable",
         "mod-stable",
         "mod-stable",
         "10",
         "A"
        ],
        [
         "low",
         "high",
         "excellent",
         "mid",
         "unstable",
         "stable",
         "stable",
         "10",
         "A"
        ],
        [
         "mid",
         "low",
         "excellent",
         "high",
         "unstable",
         "stable",
         "unstable",
         "10",
         "A"
        ],
        [
         "mid",
         "mid",
         "good",
         "mid",
         "unstable",
         "stable",
         "mod-stable",
         "10",
         "S"
        ],
        [
         "high",
         "high",
         "excellent",
         "mid",
         "unstable",
         "stable",
         "mod-stable",
         "10",
         "A"
        ],
        [
         "mid",
         "mid",
         "good",
         "mid",
         "unstable",
         "stable",
         "stable",
         "15",
         "A"
        ],
        [
         "high",
         "mid",
         "good",
         "high",
         "stable",
         "stable",
         "unstable",
         "15",
         "A"
        ],
        [
         "mid",
         "low",
         "good",
         "high",
         "unstable",
         "stable",
         "mod-stable",
         "10",
         "A"
        ],
        [
         "low",
         "low",
         "good",
         "high",
         "stable",
         "stable",
         "stable",
         "10",
         "A"
        ],
        [
         "mid",
         "high",
         "good",
         "mid",
         "stable",
         "stable",
         "mod-stable",
         "10",
         "A"
        ],
        [
         "mid",
         "high",
         "good",
         "mid",
         "unstable",
         "stable",
         "unstable",
         "10",
         "A"
        ],
        [
         "mid",
         "low",
         "excellent",
         "high",
         "stable",
         "stable",
         "stable",
         "10",
         "A"
        ],
        [
         "mid",
         "mid",
         "good",
         "mid",
         "stable",
         "stable",
         "unstable",
         "10",
         "A"
        ],
        [
         "mid",
         "low",
         "excellent",
         "mid",
         "stable",
         "stable",
         "unstable",
         "10",
         "S"
        ],
        [
         "high",
         "mid",
         "excellent",
         "mid",
         "unstable",
         "unstable",
         "unstable",
         "10",
         "A"
        ],
        [
         "mid",
         "mid",
         "good",
         "high",
         "stable",
         "stable",
         "stable",
         "10",
         "S"
        ],
        [
         "mid",
         "low",
         "excellent",
         "mid",
         "unstable",
         "stable",
         "stable",
         "10",
         "A"
        ],
        [
         "mid",
         "mid",
         "excellent",
         "mid",
         "unstable",
         "stable",
         "stable",
         "10",
         "A"
        ],
        [
         "mid",
         "mid",
         "excellent",
         "high",
         "stable",
         "stable",
         "stable",
         "10",
         "A"
        ],
        [
         "mid",
         "mid",
         "excellent",
         "low",
         "stable",
         "stable",
         "stable",
         "10",
         "A"
        ],
        [
         "mid",
         "low",
         "excellent",
         "mid",
         "unstable",
         "unstable",
         "unstable",
         "?",
         "A"
        ],
        [
         "low",
         "low",
         "excellent",
         "mid",
         "stable",
         "stable",
         "stable",
         "10",
         "A"
        ],
        [
         "mid",
         "mid",
         "excellent",
         "mid",
         "stable",
         "stable",
         "mod-stable",
         "10",
         "S"
        ],
        [
         "mid",
         "mid",
         "excellent",
         "high",
         "stable",
         "stable",
         "stable",
         "10",
         "A"
        ],
        [
         "mid",
         "low",
         "excellent",
         "high",
         "stable",
         "stable",
         "mod-stable",
         "10",
         "A"
        ],
        [
         "low",
         "mid",
         "good",
         "mid",
         "stable",
         "stable",
         "unstable",
         "10",
         "A"
        ],
        [
         "mid",
         "mid",
         "excellent",
         "mid",
         "stable",
         "stable",
         "mod-stable",
         "10",
         "A"
        ],
        [
         "mid",
         "mid",
         "excellent",
         "mid",
         "stable",
         "stable",
         "unstable",
         "10",
         "A"
        ],
        [
         "mid",
         "mid",
         "excellent",
         "mid",
         "unstable",
         "unstable",
         "stable",
         "10",
         "S"
        ],
        [
         "mid",
         "mid",
         "good",
         "high",
         "stable",
         "stable",
         "stable",
         "10",
         "A"
        ],
        [
         "mid",
         "mid",
         "excellent",
         "mid",
         "stable",
         "stable",
         "stable",
         "15",
         "A"
        ],
        [
         "mid",
         "mid",
         "excellent",
         "mid",
         "stable",
         "stable",
         "stable",
         "10",
         "S"
        ],
        [
         "mid",
         "low",
         "good",
         "mid",
         "stable",
         "stable",
         "unstable",
         "10",
         "I"
        ],
        [
         "high",
         "mid",
         "excellent",
         "mid",
         "unstable",
         "stable",
         "unstable",
         "05",
         "A"
        ],
        [
         "mid",
         "mid",
         "excellent",
         "mid",
         "stable",
         "stable",
         "unstable",
         "10",
         "A"
        ],
        [
         "mid",
         "mid",
         "excellent",
         "mid",
         "unstable",
         "stable",
         "stable",
         "10",
         "A"
        ],
        [
         "mid",
         "mid",
         "excellent",
         "mid",
         "unstable",
         "stable",
         "stable",
         "15",
         "S"
        ],
        [
         "mid",
         "mid",
         "good",
         "mid",
         "unstable",
         "stable",
         "stable",
         "15",
         "A"
        ],
        [
         "mid",
         "mid",
         "excellent",
         "mid",
         "unstable",
         "stable",
         "stable",
         "10",
         "A"
        ],
        [
         "mid",
         "mid",
         "good",
         "mid",
         "unstable",
         "stable",
         "stable",
         "15",
         "S"
        ]
       ],
       "datasetInfos": [],
       "dbfsResultPath": null,
       "isJsonSchema": true,
       "metadata": {},
       "overflow": false,
       "plotOptions": {
        "customPlotOptions": {},
        "displayType": "table",
        "pivotAggregation": null,
        "pivotColumns": null,
        "xColumns": null,
        "yColumns": null
       },
       "removedWidgets": [],
       "schema": [
        {
         "metadata": "{}",
         "name": "L-CORE",
         "type": "\"string\""
        },
        {
         "metadata": "{}",
         "name": "L-SURF",
         "type": "\"string\""
        },
        {
         "metadata": "{}",
         "name": "L-O2",
         "type": "\"string\""
        },
        {
         "metadata": "{}",
         "name": "L-BP",
         "type": "\"string\""
        },
        {
         "metadata": "{}",
         "name": "SURF-STBL",
         "type": "\"string\""
        },
        {
         "metadata": "{}",
         "name": "CORE-STBL",
         "type": "\"string\""
        },
        {
         "metadata": "{}",
         "name": "BP-STBL",
         "type": "\"string\""
        },
        {
         "metadata": "{}",
         "name": "COMFORT",
         "type": "\"string\""
        },
        {
         "metadata": "{}",
         "name": "decision",
         "type": "\"string\""
        }
       ],
       "type": "table"
      }
     },
     "output_type": "display_data"
    }
   ],
   "source": [
    "display(df)"
   ]
  },
  {
   "cell_type": "markdown",
   "metadata": {
    "application/vnd.databricks.v1+cell": {
     "cellMetadata": {},
     "inputWidgets": {},
     "nuid": "4b20cb34-e25f-4661-ae2e-80d5e9fa72b9",
     "showTitle": false,
     "tableResultSettingsMap": {},
     "title": ""
    }
   },
   "source": [
    "#### Process Data using Spark"
   ]
  },
  {
   "cell_type": "code",
   "execution_count": 0,
   "metadata": {
    "application/vnd.databricks.v1+cell": {
     "cellMetadata": {
      "byteLimit": 2048000,
      "rowLimit": 10000
     },
     "inputWidgets": {},
     "nuid": "05080159-44d5-493f-a746-e3c05ed5c949",
     "showTitle": false,
     "tableResultSettingsMap": {},
     "title": ""
    }
   },
   "outputs": [
    {
     "output_type": "display_data",
     "data": {
      "text/html": [
       "<style scoped>\n",
       "  .table-result-container {\n",
       "    max-height: 300px;\n",
       "    overflow: auto;\n",
       "  }\n",
       "  table, th, td {\n",
       "    border: 1px solid black;\n",
       "    border-collapse: collapse;\n",
       "  }\n",
       "  th, td {\n",
       "    padding: 5px;\n",
       "  }\n",
       "  th {\n",
       "    text-align: left;\n",
       "  }\n",
       "</style><div class='table-result-container'><table class='table-result'><thead style='background-color: white'><tr><th>index</th><th>L-CORE</th><th>L-SURF</th><th>L-O2</th><th>L-BP</th><th>SURF-STBL</th><th>CORE-STBL</th><th>BP-STBL</th><th>COMFORT</th><th>decision</th><th>index</th></tr></thead><tbody><tr><td>0</td><td>mid</td><td>low</td><td>excellent</td><td>mid</td><td>stable</td><td>stable</td><td>stable</td><td>15</td><td>A</td><td>0</td></tr><tr><td>1</td><td>mid</td><td>high</td><td>excellent</td><td>high</td><td>stable</td><td>stable</td><td>stable</td><td>10</td><td>S</td><td>1</td></tr><tr><td>2</td><td>high</td><td>low</td><td>excellent</td><td>high</td><td>stable</td><td>stable</td><td>mod-stable</td><td>10</td><td>A</td><td>2</td></tr><tr><td>3</td><td>mid</td><td>low</td><td>good</td><td>high</td><td>stable</td><td>unstable</td><td>mod-stable</td><td>15</td><td>A</td><td>3</td></tr><tr><td>4</td><td>mid</td><td>mid</td><td>excellent</td><td>high</td><td>stable</td><td>stable</td><td>stable</td><td>10</td><td>A</td><td>4</td></tr><tr><td>5</td><td>high</td><td>low</td><td>good</td><td>mid</td><td>stable</td><td>stable</td><td>unstable</td><td>15</td><td>S</td><td>5</td></tr><tr><td>6</td><td>mid</td><td>low</td><td>excellent</td><td>high</td><td>stable</td><td>stable</td><td>mod-stable</td><td>05</td><td>S</td><td>6</td></tr><tr><td>7</td><td>high</td><td>mid</td><td>excellent</td><td>mid</td><td>unstable</td><td>unstable</td><td>stable</td><td>10</td><td>S</td><td>7</td></tr><tr><td>8</td><td>mid</td><td>high</td><td>good</td><td>mid</td><td>stable</td><td>stable</td><td>stable</td><td>10</td><td>S</td><td>8</td></tr><tr><td>9</td><td>mid</td><td>low</td><td>excellent</td><td>mid</td><td>unstable</td><td>stable</td><td>mod-stable</td><td>10</td><td>S</td><td>9</td></tr><tr><td>10</td><td>mid</td><td>mid</td><td>good</td><td>mid</td><td>stable</td><td>stable</td><td>stable</td><td>15</td><td>A</td><td>10</td></tr><tr><td>11</td><td>mid</td><td>low</td><td>good</td><td>high</td><td>stable</td><td>stable</td><td>mod-stable</td><td>10</td><td>A</td><td>11</td></tr><tr><td>12</td><td>high</td><td>high</td><td>excellent</td><td>high</td><td>unstable</td><td>stable</td><td>unstable</td><td>15</td><td>A</td><td>12</td></tr><tr><td>13</td><td>mid</td><td>high</td><td>good</td><td>mid</td><td>unstable</td><td>stable</td><td>mod-stable</td><td>10</td><td>A</td><td>13</td></tr><tr><td>14</td><td>mid</td><td>low</td><td>good</td><td>high</td><td>unstable</td><td>unstable</td><td>stable</td><td>15</td><td>S</td><td>14</td></tr><tr><td>15</td><td>high</td><td>high</td><td>excellent</td><td>high</td><td>unstable</td><td>stable</td><td>unstable</td><td>10</td><td>A</td><td>15</td></tr><tr><td>16</td><td>low</td><td>high</td><td>good</td><td>high</td><td>unstable</td><td>stable</td><td>mod-stable</td><td>15</td><td>A</td><td>16</td></tr><tr><td>17</td><td>mid</td><td>low</td><td>good</td><td>high</td><td>unstable</td><td>stable</td><td>stable</td><td>10</td><td>A</td><td>17</td></tr><tr><td>18</td><td>mid</td><td>high</td><td>good</td><td>mid</td><td>unstable</td><td>stable</td><td>unstable</td><td>15</td><td>A</td><td>18</td></tr><tr><td>19</td><td>mid</td><td>mid</td><td>good</td><td>mid</td><td>stable</td><td>stable</td><td>stable</td><td>10</td><td>A</td><td>19</td></tr><tr><td>20</td><td>low</td><td>high</td><td>good</td><td>mid</td><td>unstable</td><td>stable</td><td>stable</td><td>15</td><td>A</td><td>20</td></tr><tr><td>21</td><td>low</td><td>mid</td><td>excellent</td><td>high</td><td>unstable</td><td>stable</td><td>unstable</td><td>10</td><td>S</td><td>21</td></tr><tr><td>22</td><td>mid</td><td>mid</td><td>good</td><td>mid</td><td>unstable</td><td>stable</td><td>unstable</td><td>15</td><td>A</td><td>22</td></tr><tr><td>23</td><td>mid</td><td>mid</td><td>good</td><td>mid</td><td>unstable</td><td>stable</td><td>stable</td><td>10</td><td>A</td><td>23</td></tr><tr><td>24</td><td>high</td><td>high</td><td>good</td><td>mid</td><td>stable</td><td>stable</td><td>mod-stable</td><td>10</td><td>A</td><td>24</td></tr><tr><td>25</td><td>low</td><td>mid</td><td>good</td><td>mid</td><td>unstable</td><td>stable</td><td>stable</td><td>10</td><td>A</td><td>25</td></tr><tr><td>26</td><td>high</td><td>mid</td><td>good</td><td>low</td><td>stable</td><td>stable</td><td>mod-stable</td><td>10</td><td>A</td><td>26</td></tr><tr><td>27</td><td>low</td><td>mid</td><td>excellent</td><td>high</td><td>stable</td><td>stable</td><td>mod-stable</td><td>10</td><td>A</td><td>27</td></tr><tr><td>28</td><td>mid</td><td>mid</td><td>excellent</td><td>mid</td><td>stable</td><td>stable</td><td>unstable</td><td>15</td><td>A</td><td>28</td></tr><tr><td>29</td><td>mid</td><td>mid</td><td>good</td><td>mid</td><td>unstable</td><td>stable</td><td>unstable</td><td>10</td><td>S</td><td>29</td></tr><tr><td>30</td><td>mid</td><td>mid</td><td>good</td><td>high</td><td>unstable</td><td>stable</td><td>stable</td><td>10</td><td>A</td><td>30</td></tr><tr><td>31</td><td>low</td><td>low</td><td>good</td><td>mid</td><td>unstable</td><td>stable</td><td>unstable</td><td>10</td><td>A</td><td>31</td></tr><tr><td>32</td><td>mid</td><td>mid</td><td>excellent</td><td>high</td><td>unstable</td><td>stable</td><td>mod-stable</td><td>10</td><td>A</td><td>32</td></tr><tr><td>33</td><td>mid</td><td>low</td><td>good</td><td>mid</td><td>stable</td><td>stable</td><td>stable</td><td>10</td><td>A</td><td>33</td></tr><tr><td>34</td><td>low</td><td>mid</td><td>excellent</td><td>high</td><td>stable</td><td>stable</td><td>mod-stable</td><td>10</td><td>A</td><td>34</td></tr><tr><td>35</td><td>mid</td><td>mid</td><td>good</td><td>mid</td><td>stable</td><td>stable</td><td>stable</td><td>10</td><td>A</td><td>35</td></tr><tr><td>36</td><td>low</td><td>mid</td><td>excellent</td><td>mid</td><td>stable</td><td>stable</td><td>stable</td><td>10</td><td>S</td><td>36</td></tr><tr><td>37</td><td>low</td><td>low</td><td>good</td><td>mid</td><td>unstable</td><td>stable</td><td>unstable</td><td>10</td><td>S</td><td>37</td></tr><tr><td>38</td><td>low</td><td>low</td><td>good</td><td>mid</td><td>stable</td><td>stable</td><td>stable</td><td>07</td><td>S</td><td>38</td></tr><tr><td>39</td><td>mid</td><td>mid</td><td>good</td><td>high</td><td>unstable</td><td>stable</td><td>mod-stable</td><td>10</td><td>A</td><td>39</td></tr><tr><td>40</td><td>low</td><td>low</td><td>good</td><td>mid</td><td>unstable</td><td>stable</td><td>stable</td><td>10</td><td>A</td><td>40</td></tr><tr><td>41</td><td>low</td><td>mid</td><td>good</td><td>mid</td><td>stable</td><td>stable</td><td>stable</td><td>15</td><td>S</td><td>41</td></tr><tr><td>42</td><td>high</td><td>high</td><td>good</td><td>high</td><td>unstable</td><td>stable</td><td>stable</td><td>15</td><td>S</td><td>42</td></tr><tr><td>43</td><td>mid</td><td>mid</td><td>good</td><td>mid</td><td>stable</td><td>stable</td><td>stable</td><td>10</td><td>S</td><td>43</td></tr><tr><td>44</td><td>low</td><td>low</td><td>excellent</td><td>mid</td><td>stable</td><td>stable</td><td>stable</td><td>10</td><td>A</td><td>44</td></tr><tr><td>45</td><td>low</td><td>mid</td><td>good</td><td>mid</td><td>unstable</td><td>stable</td><td>stable</td><td>10</td><td>S</td><td>45</td></tr><tr><td>46</td><td>low</td><td>mid</td><td>good</td><td>high</td><td>unstable</td><td>stable</td><td>stable</td><td>?</td><td>I</td><td>46</td></tr><tr><td>47</td><td>mid</td><td>mid</td><td>excellent</td><td>mid</td><td>unstable</td><td>stable</td><td>stable</td><td>10</td><td>A</td><td>47</td></tr><tr><td>48</td><td>high</td><td>high</td><td>excellent</td><td>high</td><td>stable</td><td>stable</td><td>unstable</td><td>?</td><td>A</td><td>48</td></tr><tr><td>49</td><td>mid</td><td>high</td><td>good</td><td>low</td><td>unstable</td><td>stable</td><td>stable</td><td>10</td><td>A</td><td>49</td></tr><tr><td>50</td><td>mid</td><td>high</td><td>good</td><td>mid</td><td>unstable</td><td>mod-stable</td><td>mod-stable</td><td>10</td><td>A</td><td>50</td></tr><tr><td>51</td><td>low</td><td>high</td><td>excellent</td><td>mid</td><td>unstable</td><td>stable</td><td>stable</td><td>10</td><td>A</td><td>51</td></tr><tr><td>52</td><td>mid</td><td>low</td><td>excellent</td><td>high</td><td>unstable</td><td>stable</td><td>unstable</td><td>10</td><td>A</td><td>52</td></tr><tr><td>53</td><td>mid</td><td>mid</td><td>good</td><td>mid</td><td>unstable</td><td>stable</td><td>mod-stable</td><td>10</td><td>S</td><td>53</td></tr><tr><td>54</td><td>high</td><td>high</td><td>excellent</td><td>mid</td><td>unstable</td><td>stable</td><td>mod-stable</td><td>10</td><td>A</td><td>54</td></tr><tr><td>55</td><td>mid</td><td>mid</td><td>good</td><td>mid</td><td>unstable</td><td>stable</td><td>stable</td><td>15</td><td>A</td><td>55</td></tr><tr><td>56</td><td>high</td><td>mid</td><td>good</td><td>high</td><td>stable</td><td>stable</td><td>unstable</td><td>15</td><td>A</td><td>56</td></tr><tr><td>57</td><td>mid</td><td>low</td><td>good</td><td>high</td><td>unstable</td><td>stable</td><td>mod-stable</td><td>10</td><td>A</td><td>57</td></tr><tr><td>58</td><td>low</td><td>low</td><td>good</td><td>high</td><td>stable</td><td>stable</td><td>stable</td><td>10</td><td>A</td><td>58</td></tr><tr><td>59</td><td>mid</td><td>high</td><td>good</td><td>mid</td><td>stable</td><td>stable</td><td>mod-stable</td><td>10</td><td>A</td><td>59</td></tr><tr><td>60</td><td>mid</td><td>high</td><td>good</td><td>mid</td><td>unstable</td><td>stable</td><td>unstable</td><td>10</td><td>A</td><td>60</td></tr><tr><td>61</td><td>mid</td><td>low</td><td>excellent</td><td>high</td><td>stable</td><td>stable</td><td>stable</td><td>10</td><td>A</td><td>61</td></tr><tr><td>62</td><td>mid</td><td>mid</td><td>good</td><td>mid</td><td>stable</td><td>stable</td><td>unstable</td><td>10</td><td>A</td><td>62</td></tr><tr><td>63</td><td>mid</td><td>low</td><td>excellent</td><td>mid</td><td>stable</td><td>stable</td><td>unstable</td><td>10</td><td>S</td><td>63</td></tr><tr><td>64</td><td>high</td><td>mid</td><td>excellent</td><td>mid</td><td>unstable</td><td>unstable</td><td>unstable</td><td>10</td><td>A</td><td>64</td></tr><tr><td>65</td><td>mid</td><td>mid</td><td>good</td><td>high</td><td>stable</td><td>stable</td><td>stable</td><td>10</td><td>S</td><td>65</td></tr><tr><td>66</td><td>mid</td><td>low</td><td>excellent</td><td>mid</td><td>unstable</td><td>stable</td><td>stable</td><td>10</td><td>A</td><td>66</td></tr><tr><td>67</td><td>mid</td><td>mid</td><td>excellent</td><td>mid</td><td>unstable</td><td>stable</td><td>stable</td><td>10</td><td>A</td><td>67</td></tr><tr><td>68</td><td>mid</td><td>mid</td><td>excellent</td><td>high</td><td>stable</td><td>stable</td><td>stable</td><td>10</td><td>A</td><td>68</td></tr><tr><td>69</td><td>mid</td><td>mid</td><td>excellent</td><td>low</td><td>stable</td><td>stable</td><td>stable</td><td>10</td><td>A</td><td>69</td></tr><tr><td>70</td><td>mid</td><td>low</td><td>excellent</td><td>mid</td><td>unstable</td><td>unstable</td><td>unstable</td><td>?</td><td>A</td><td>70</td></tr><tr><td>71</td><td>low</td><td>low</td><td>excellent</td><td>mid</td><td>stable</td><td>stable</td><td>stable</td><td>10</td><td>A</td><td>71</td></tr><tr><td>72</td><td>mid</td><td>mid</td><td>excellent</td><td>mid</td><td>stable</td><td>stable</td><td>mod-stable</td><td>10</td><td>S</td><td>72</td></tr><tr><td>73</td><td>mid</td><td>mid</td><td>excellent</td><td>high</td><td>stable</td><td>stable</td><td>stable</td><td>10</td><td>A</td><td>73</td></tr><tr><td>74</td><td>mid</td><td>low</td><td>excellent</td><td>high</td><td>stable</td><td>stable</td><td>mod-stable</td><td>10</td><td>A</td><td>74</td></tr><tr><td>75</td><td>low</td><td>mid</td><td>good</td><td>mid</td><td>stable</td><td>stable</td><td>unstable</td><td>10</td><td>A</td><td>75</td></tr><tr><td>76</td><td>mid</td><td>mid</td><td>excellent</td><td>mid</td><td>stable</td><td>stable</td><td>mod-stable</td><td>10</td><td>A</td><td>76</td></tr><tr><td>77</td><td>mid</td><td>mid</td><td>excellent</td><td>mid</td><td>stable</td><td>stable</td><td>unstable</td><td>10</td><td>A</td><td>77</td></tr><tr><td>78</td><td>mid</td><td>mid</td><td>excellent</td><td>mid</td><td>unstable</td><td>unstable</td><td>stable</td><td>10</td><td>S</td><td>78</td></tr><tr><td>79</td><td>mid</td><td>mid</td><td>good</td><td>high</td><td>stable</td><td>stable</td><td>stable</td><td>10</td><td>A</td><td>79</td></tr><tr><td>80</td><td>mid</td><td>mid</td><td>excellent</td><td>mid</td><td>stable</td><td>stable</td><td>stable</td><td>15</td><td>A</td><td>80</td></tr><tr><td>81</td><td>mid</td><td>mid</td><td>excellent</td><td>mid</td><td>stable</td><td>stable</td><td>stable</td><td>10</td><td>S</td><td>81</td></tr><tr><td>82</td><td>mid</td><td>low</td><td>good</td><td>mid</td><td>stable</td><td>stable</td><td>unstable</td><td>10</td><td>I</td><td>82</td></tr><tr><td>83</td><td>high</td><td>mid</td><td>excellent</td><td>mid</td><td>unstable</td><td>stable</td><td>unstable</td><td>05</td><td>A</td><td>83</td></tr><tr><td>84</td><td>mid</td><td>mid</td><td>excellent</td><td>mid</td><td>stable</td><td>stable</td><td>unstable</td><td>10</td><td>A</td><td>84</td></tr><tr><td>85</td><td>mid</td><td>mid</td><td>excellent</td><td>mid</td><td>unstable</td><td>stable</td><td>stable</td><td>10</td><td>A</td><td>85</td></tr><tr><td>86</td><td>mid</td><td>mid</td><td>excellent</td><td>mid</td><td>unstable</td><td>stable</td><td>stable</td><td>15</td><td>S</td><td>86</td></tr><tr><td>87</td><td>mid</td><td>mid</td><td>good</td><td>mid</td><td>unstable</td><td>stable</td><td>stable</td><td>15</td><td>A</td><td>87</td></tr><tr><td>88</td><td>mid</td><td>mid</td><td>excellent</td><td>mid</td><td>unstable</td><td>stable</td><td>stable</td><td>10</td><td>A</td><td>88</td></tr><tr><td>89</td><td>mid</td><td>mid</td><td>good</td><td>mid</td><td>unstable</td><td>stable</td><td>stable</td><td>15</td><td>S</td><td>89</td></tr></tbody></table></div>"
      ]
     },
     "metadata": {
      "application/vnd.databricks.v1+output": {
       "addedWidgets": {},
       "aggData": [],
       "aggError": "",
       "aggOverflow": false,
       "aggSchema": [],
       "aggSeriesLimitReached": false,
       "aggType": "",
       "arguments": {},
       "columnCustomDisplayInfos": {},
       "data": [
        [
         0,
         "mid",
         "low",
         "excellent",
         "mid",
         "stable",
         "stable",
         "stable",
         "15",
         "A",
         0
        ],
        [
         1,
         "mid",
         "high",
         "excellent",
         "high",
         "stable",
         "stable",
         "stable",
         "10",
         "S",
         1
        ],
        [
         2,
         "high",
         "low",
         "excellent",
         "high",
         "stable",
         "stable",
         "mod-stable",
         "10",
         "A",
         2
        ],
        [
         3,
         "mid",
         "low",
         "good",
         "high",
         "stable",
         "unstable",
         "mod-stable",
         "15",
         "A",
         3
        ],
        [
         4,
         "mid",
         "mid",
         "excellent",
         "high",
         "stable",
         "stable",
         "stable",
         "10",
         "A",
         4
        ],
        [
         5,
         "high",
         "low",
         "good",
         "mid",
         "stable",
         "stable",
         "unstable",
         "15",
         "S",
         5
        ],
        [
         6,
         "mid",
         "low",
         "excellent",
         "high",
         "stable",
         "stable",
         "mod-stable",
         "05",
         "S",
         6
        ],
        [
         7,
         "high",
         "mid",
         "excellent",
         "mid",
         "unstable",
         "unstable",
         "stable",
         "10",
         "S",
         7
        ],
        [
         8,
         "mid",
         "high",
         "good",
         "mid",
         "stable",
         "stable",
         "stable",
         "10",
         "S",
         8
        ],
        [
         9,
         "mid",
         "low",
         "excellent",
         "mid",
         "unstable",
         "stable",
         "mod-stable",
         "10",
         "S",
         9
        ],
        [
         10,
         "mid",
         "mid",
         "good",
         "mid",
         "stable",
         "stable",
         "stable",
         "15",
         "A",
         10
        ],
        [
         11,
         "mid",
         "low",
         "good",
         "high",
         "stable",
         "stable",
         "mod-stable",
         "10",
         "A",
         11
        ],
        [
         12,
         "high",
         "high",
         "excellent",
         "high",
         "unstable",
         "stable",
         "unstable",
         "15",
         "A",
         12
        ],
        [
         13,
         "mid",
         "high",
         "good",
         "mid",
         "unstable",
         "stable",
         "mod-stable",
         "10",
         "A",
         13
        ],
        [
         14,
         "mid",
         "low",
         "good",
         "high",
         "unstable",
         "unstable",
         "stable",
         "15",
         "S",
         14
        ],
        [
         15,
         "high",
         "high",
         "excellent",
         "high",
         "unstable",
         "stable",
         "unstable",
         "10",
         "A",
         15
        ],
        [
         16,
         "low",
         "high",
         "good",
         "high",
         "unstable",
         "stable",
         "mod-stable",
         "15",
         "A",
         16
        ],
        [
         17,
         "mid",
         "low",
         "good",
         "high",
         "unstable",
         "stable",
         "stable",
         "10",
         "A",
         17
        ],
        [
         18,
         "mid",
         "high",
         "good",
         "mid",
         "unstable",
         "stable",
         "unstable",
         "15",
         "A",
         18
        ],
        [
         19,
         "mid",
         "mid",
         "good",
         "mid",
         "stable",
         "stable",
         "stable",
         "10",
         "A",
         19
        ],
        [
         20,
         "low",
         "high",
         "good",
         "mid",
         "unstable",
         "stable",
         "stable",
         "15",
         "A",
         20
        ],
        [
         21,
         "low",
         "mid",
         "excellent",
         "high",
         "unstable",
         "stable",
         "unstable",
         "10",
         "S",
         21
        ],
        [
         22,
         "mid",
         "mid",
         "good",
         "mid",
         "unstable",
         "stable",
         "unstable",
         "15",
         "A",
         22
        ],
        [
         23,
         "mid",
         "mid",
         "good",
         "mid",
         "unstable",
         "stable",
         "stable",
         "10",
         "A",
         23
        ],
        [
         24,
         "high",
         "high",
         "good",
         "mid",
         "stable",
         "stable",
         "mod-stable",
         "10",
         "A",
         24
        ],
        [
         25,
         "low",
         "mid",
         "good",
         "mid",
         "unstable",
         "stable",
         "stable",
         "10",
         "A",
         25
        ],
        [
         26,
         "high",
         "mid",
         "good",
         "low",
         "stable",
         "stable",
         "mod-stable",
         "10",
         "A",
         26
        ],
        [
         27,
         "low",
         "mid",
         "excellent",
         "high",
         "stable",
         "stable",
         "mod-stable",
         "10",
         "A",
         27
        ],
        [
         28,
         "mid",
         "mid",
         "excellent",
         "mid",
         "stable",
         "stable",
         "unstable",
         "15",
         "A",
         28
        ],
        [
         29,
         "mid",
         "mid",
         "good",
         "mid",
         "unstable",
         "stable",
         "unstable",
         "10",
         "S",
         29
        ],
        [
         30,
         "mid",
         "mid",
         "good",
         "high",
         "unstable",
         "stable",
         "stable",
         "10",
         "A",
         30
        ],
        [
         31,
         "low",
         "low",
         "good",
         "mid",
         "unstable",
         "stable",
         "unstable",
         "10",
         "A",
         31
        ],
        [
         32,
         "mid",
         "mid",
         "excellent",
         "high",
         "unstable",
         "stable",
         "mod-stable",
         "10",
         "A",
         32
        ],
        [
         33,
         "mid",
         "low",
         "good",
         "mid",
         "stable",
         "stable",
         "stable",
         "10",
         "A",
         33
        ],
        [
         34,
         "low",
         "mid",
         "excellent",
         "high",
         "stable",
         "stable",
         "mod-stable",
         "10",
         "A",
         34
        ],
        [
         35,
         "mid",
         "mid",
         "good",
         "mid",
         "stable",
         "stable",
         "stable",
         "10",
         "A",
         35
        ],
        [
         36,
         "low",
         "mid",
         "excellent",
         "mid",
         "stable",
         "stable",
         "stable",
         "10",
         "S",
         36
        ],
        [
         37,
         "low",
         "low",
         "good",
         "mid",
         "unstable",
         "stable",
         "unstable",
         "10",
         "S",
         37
        ],
        [
         38,
         "low",
         "low",
         "good",
         "mid",
         "stable",
         "stable",
         "stable",
         "07",
         "S",
         38
        ],
        [
         39,
         "mid",
         "mid",
         "good",
         "high",
         "unstable",
         "stable",
         "mod-stable",
         "10",
         "A",
         39
        ],
        [
         40,
         "low",
         "low",
         "good",
         "mid",
         "unstable",
         "stable",
         "stable",
         "10",
         "A",
         40
        ],
        [
         41,
         "low",
         "mid",
         "good",
         "mid",
         "stable",
         "stable",
         "stable",
         "15",
         "S",
         41
        ],
        [
         42,
         "high",
         "high",
         "good",
         "high",
         "unstable",
         "stable",
         "stable",
         "15",
         "S",
         42
        ],
        [
         43,
         "mid",
         "mid",
         "good",
         "mid",
         "stable",
         "stable",
         "stable",
         "10",
         "S",
         43
        ],
        [
         44,
         "low",
         "low",
         "excellent",
         "mid",
         "stable",
         "stable",
         "stable",
         "10",
         "A",
         44
        ],
        [
         45,
         "low",
         "mid",
         "good",
         "mid",
         "unstable",
         "stable",
         "stable",
         "10",
         "S",
         45
        ],
        [
         46,
         "low",
         "mid",
         "good",
         "high",
         "unstable",
         "stable",
         "stable",
         "?",
         "I",
         46
        ],
        [
         47,
         "mid",
         "mid",
         "excellent",
         "mid",
         "unstable",
         "stable",
         "stable",
         "10",
         "A",
         47
        ],
        [
         48,
         "high",
         "high",
         "excellent",
         "high",
         "stable",
         "stable",
         "unstable",
         "?",
         "A",
         48
        ],
        [
         49,
         "mid",
         "high",
         "good",
         "low",
         "unstable",
         "stable",
         "stable",
         "10",
         "A",
         49
        ],
        [
         50,
         "mid",
         "high",
         "good",
         "mid",
         "unstable",
         "mod-stable",
         "mod-stable",
         "10",
         "A",
         50
        ],
        [
         51,
         "low",
         "high",
         "excellent",
         "mid",
         "unstable",
         "stable",
         "stable",
         "10",
         "A",
         51
        ],
        [
         52,
         "mid",
         "low",
         "excellent",
         "high",
         "unstable",
         "stable",
         "unstable",
         "10",
         "A",
         52
        ],
        [
         53,
         "mid",
         "mid",
         "good",
         "mid",
         "unstable",
         "stable",
         "mod-stable",
         "10",
         "S",
         53
        ],
        [
         54,
         "high",
         "high",
         "excellent",
         "mid",
         "unstable",
         "stable",
         "mod-stable",
         "10",
         "A",
         54
        ],
        [
         55,
         "mid",
         "mid",
         "good",
         "mid",
         "unstable",
         "stable",
         "stable",
         "15",
         "A",
         55
        ],
        [
         56,
         "high",
         "mid",
         "good",
         "high",
         "stable",
         "stable",
         "unstable",
         "15",
         "A",
         56
        ],
        [
         57,
         "mid",
         "low",
         "good",
         "high",
         "unstable",
         "stable",
         "mod-stable",
         "10",
         "A",
         57
        ],
        [
         58,
         "low",
         "low",
         "good",
         "high",
         "stable",
         "stable",
         "stable",
         "10",
         "A",
         58
        ],
        [
         59,
         "mid",
         "high",
         "good",
         "mid",
         "stable",
         "stable",
         "mod-stable",
         "10",
         "A",
         59
        ],
        [
         60,
         "mid",
         "high",
         "good",
         "mid",
         "unstable",
         "stable",
         "unstable",
         "10",
         "A",
         60
        ],
        [
         61,
         "mid",
         "low",
         "excellent",
         "high",
         "stable",
         "stable",
         "stable",
         "10",
         "A",
         61
        ],
        [
         62,
         "mid",
         "mid",
         "good",
         "mid",
         "stable",
         "stable",
         "unstable",
         "10",
         "A",
         62
        ],
        [
         63,
         "mid",
         "low",
         "excellent",
         "mid",
         "stable",
         "stable",
         "unstable",
         "10",
         "S",
         63
        ],
        [
         64,
         "high",
         "mid",
         "excellent",
         "mid",
         "unstable",
         "unstable",
         "unstable",
         "10",
         "A",
         64
        ],
        [
         65,
         "mid",
         "mid",
         "good",
         "high",
         "stable",
         "stable",
         "stable",
         "10",
         "S",
         65
        ],
        [
         66,
         "mid",
         "low",
         "excellent",
         "mid",
         "unstable",
         "stable",
         "stable",
         "10",
         "A",
         66
        ],
        [
         67,
         "mid",
         "mid",
         "excellent",
         "mid",
         "unstable",
         "stable",
         "stable",
         "10",
         "A",
         67
        ],
        [
         68,
         "mid",
         "mid",
         "excellent",
         "high",
         "stable",
         "stable",
         "stable",
         "10",
         "A",
         68
        ],
        [
         69,
         "mid",
         "mid",
         "excellent",
         "low",
         "stable",
         "stable",
         "stable",
         "10",
         "A",
         69
        ],
        [
         70,
         "mid",
         "low",
         "excellent",
         "mid",
         "unstable",
         "unstable",
         "unstable",
         "?",
         "A",
         70
        ],
        [
         71,
         "low",
         "low",
         "excellent",
         "mid",
         "stable",
         "stable",
         "stable",
         "10",
         "A",
         71
        ],
        [
         72,
         "mid",
         "mid",
         "excellent",
         "mid",
         "stable",
         "stable",
         "mod-stable",
         "10",
         "S",
         72
        ],
        [
         73,
         "mid",
         "mid",
         "excellent",
         "high",
         "stable",
         "stable",
         "stable",
         "10",
         "A",
         73
        ],
        [
         74,
         "mid",
         "low",
         "excellent",
         "high",
         "stable",
         "stable",
         "mod-stable",
         "10",
         "A",
         74
        ],
        [
         75,
         "low",
         "mid",
         "good",
         "mid",
         "stable",
         "stable",
         "unstable",
         "10",
         "A",
         75
        ],
        [
         76,
         "mid",
         "mid",
         "excellent",
         "mid",
         "stable",
         "stable",
         "mod-stable",
         "10",
         "A",
         76
        ],
        [
         77,
         "mid",
         "mid",
         "excellent",
         "mid",
         "stable",
         "stable",
         "unstable",
         "10",
         "A",
         77
        ],
        [
         78,
         "mid",
         "mid",
         "excellent",
         "mid",
         "unstable",
         "unstable",
         "stable",
         "10",
         "S",
         78
        ],
        [
         79,
         "mid",
         "mid",
         "good",
         "high",
         "stable",
         "stable",
         "stable",
         "10",
         "A",
         79
        ],
        [
         80,
         "mid",
         "mid",
         "excellent",
         "mid",
         "stable",
         "stable",
         "stable",
         "15",
         "A",
         80
        ],
        [
         81,
         "mid",
         "mid",
         "excellent",
         "mid",
         "stable",
         "stable",
         "stable",
         "10",
         "S",
         81
        ],
        [
         82,
         "mid",
         "low",
         "good",
         "mid",
         "stable",
         "stable",
         "unstable",
         "10",
         "I",
         82
        ],
        [
         83,
         "high",
         "mid",
         "excellent",
         "mid",
         "unstable",
         "stable",
         "unstable",
         "05",
         "A",
         83
        ],
        [
         84,
         "mid",
         "mid",
         "excellent",
         "mid",
         "stable",
         "stable",
         "unstable",
         "10",
         "A",
         84
        ],
        [
         85,
         "mid",
         "mid",
         "excellent",
         "mid",
         "unstable",
         "stable",
         "stable",
         "10",
         "A",
         85
        ],
        [
         86,
         "mid",
         "mid",
         "excellent",
         "mid",
         "unstable",
         "stable",
         "stable",
         "15",
         "S",
         86
        ],
        [
         87,
         "mid",
         "mid",
         "good",
         "mid",
         "unstable",
         "stable",
         "stable",
         "15",
         "A",
         87
        ],
        [
         88,
         "mid",
         "mid",
         "excellent",
         "mid",
         "unstable",
         "stable",
         "stable",
         "10",
         "A",
         88
        ],
        [
         89,
         "mid",
         "mid",
         "good",
         "mid",
         "unstable",
         "stable",
         "stable",
         "15",
         "S",
         89
        ]
       ],
       "datasetInfos": [],
       "dbfsResultPath": null,
       "isJsonSchema": true,
       "metadata": {},
       "overflow": false,
       "plotOptions": {
        "customPlotOptions": {},
        "displayType": "table",
        "pivotAggregation": null,
        "pivotColumns": null,
        "xColumns": null,
        "yColumns": null
       },
       "removedWidgets": [],
       "schema": [
        {
         "metadata": "{}",
         "name": "index",
         "type": "\"long\""
        },
        {
         "metadata": "{}",
         "name": "L-CORE",
         "type": "\"string\""
        },
        {
         "metadata": "{}",
         "name": "L-SURF",
         "type": "\"string\""
        },
        {
         "metadata": "{}",
         "name": "L-O2",
         "type": "\"string\""
        },
        {
         "metadata": "{}",
         "name": "L-BP",
         "type": "\"string\""
        },
        {
         "metadata": "{}",
         "name": "SURF-STBL",
         "type": "\"string\""
        },
        {
         "metadata": "{}",
         "name": "CORE-STBL",
         "type": "\"string\""
        },
        {
         "metadata": "{}",
         "name": "BP-STBL",
         "type": "\"string\""
        },
        {
         "metadata": "{}",
         "name": "COMFORT",
         "type": "\"string\""
        },
        {
         "metadata": "{}",
         "name": "decision",
         "type": "\"string\""
        },
        {
         "metadata": "{}",
         "name": "index",
         "type": "\"long\""
        }
       ],
       "type": "table"
      }
     },
     "output_type": "display_data"
    }
   ],
   "source": [
    "df = df.withColumn(\"index\", monotonically_increasing_id())\n",
    "df = df.select(\"index\", \"*\")\n",
    "display(df)"
   ]
  },
  {
   "cell_type": "code",
   "execution_count": 0,
   "metadata": {
    "application/vnd.databricks.v1+cell": {
     "cellMetadata": {
      "byteLimit": 2048000,
      "rowLimit": 10000
     },
     "inputWidgets": {},
     "nuid": "dc9e30b2-74ed-4fe0-8fdc-f59b63299bca",
     "showTitle": false,
     "tableResultSettingsMap": {},
     "title": ""
    }
   },
   "outputs": [
    {
     "output_type": "display_data",
     "data": {
      "text/html": [
       "<style scoped>\n",
       "  .table-result-container {\n",
       "    max-height: 300px;\n",
       "    overflow: auto;\n",
       "  }\n",
       "  table, th, td {\n",
       "    border: 1px solid black;\n",
       "    border-collapse: collapse;\n",
       "  }\n",
       "  th, td {\n",
       "    padding: 5px;\n",
       "  }\n",
       "  th {\n",
       "    text-align: left;\n",
       "  }\n",
       "</style><div class='table-result-container'><table class='table-result'><thead style='background-color: white'><tr><th>index</th><th>L-CORE</th><th>L-SURF</th><th>L-O2</th><th>L-BP</th><th>SURF-STBL</th><th>CORE-STBL</th><th>BP-STBL</th><th>COMFORT</th><th>decision</th><th>index</th><th>L-CORE_index</th></tr></thead><tbody><tr><td>0</td><td>mid</td><td>low</td><td>excellent</td><td>mid</td><td>stable</td><td>stable</td><td>stable</td><td>15</td><td>A</td><td>0</td><td>0.0</td></tr><tr><td>1</td><td>mid</td><td>high</td><td>excellent</td><td>high</td><td>stable</td><td>stable</td><td>stable</td><td>10</td><td>S</td><td>1</td><td>0.0</td></tr><tr><td>2</td><td>high</td><td>low</td><td>excellent</td><td>high</td><td>stable</td><td>stable</td><td>mod-stable</td><td>10</td><td>A</td><td>2</td><td>2.0</td></tr><tr><td>3</td><td>mid</td><td>low</td><td>good</td><td>high</td><td>stable</td><td>unstable</td><td>mod-stable</td><td>15</td><td>A</td><td>3</td><td>0.0</td></tr><tr><td>4</td><td>mid</td><td>mid</td><td>excellent</td><td>high</td><td>stable</td><td>stable</td><td>stable</td><td>10</td><td>A</td><td>4</td><td>0.0</td></tr><tr><td>5</td><td>high</td><td>low</td><td>good</td><td>mid</td><td>stable</td><td>stable</td><td>unstable</td><td>15</td><td>S</td><td>5</td><td>2.0</td></tr><tr><td>6</td><td>mid</td><td>low</td><td>excellent</td><td>high</td><td>stable</td><td>stable</td><td>mod-stable</td><td>05</td><td>S</td><td>6</td><td>0.0</td></tr><tr><td>7</td><td>high</td><td>mid</td><td>excellent</td><td>mid</td><td>unstable</td><td>unstable</td><td>stable</td><td>10</td><td>S</td><td>7</td><td>2.0</td></tr><tr><td>8</td><td>mid</td><td>high</td><td>good</td><td>mid</td><td>stable</td><td>stable</td><td>stable</td><td>10</td><td>S</td><td>8</td><td>0.0</td></tr><tr><td>9</td><td>mid</td><td>low</td><td>excellent</td><td>mid</td><td>unstable</td><td>stable</td><td>mod-stable</td><td>10</td><td>S</td><td>9</td><td>0.0</td></tr><tr><td>10</td><td>mid</td><td>mid</td><td>good</td><td>mid</td><td>stable</td><td>stable</td><td>stable</td><td>15</td><td>A</td><td>10</td><td>0.0</td></tr><tr><td>11</td><td>mid</td><td>low</td><td>good</td><td>high</td><td>stable</td><td>stable</td><td>mod-stable</td><td>10</td><td>A</td><td>11</td><td>0.0</td></tr><tr><td>12</td><td>high</td><td>high</td><td>excellent</td><td>high</td><td>unstable</td><td>stable</td><td>unstable</td><td>15</td><td>A</td><td>12</td><td>2.0</td></tr><tr><td>13</td><td>mid</td><td>high</td><td>good</td><td>mid</td><td>unstable</td><td>stable</td><td>mod-stable</td><td>10</td><td>A</td><td>13</td><td>0.0</td></tr><tr><td>14</td><td>mid</td><td>low</td><td>good</td><td>high</td><td>unstable</td><td>unstable</td><td>stable</td><td>15</td><td>S</td><td>14</td><td>0.0</td></tr><tr><td>15</td><td>high</td><td>high</td><td>excellent</td><td>high</td><td>unstable</td><td>stable</td><td>unstable</td><td>10</td><td>A</td><td>15</td><td>2.0</td></tr><tr><td>16</td><td>low</td><td>high</td><td>good</td><td>high</td><td>unstable</td><td>stable</td><td>mod-stable</td><td>15</td><td>A</td><td>16</td><td>1.0</td></tr><tr><td>17</td><td>mid</td><td>low</td><td>good</td><td>high</td><td>unstable</td><td>stable</td><td>stable</td><td>10</td><td>A</td><td>17</td><td>0.0</td></tr><tr><td>18</td><td>mid</td><td>high</td><td>good</td><td>mid</td><td>unstable</td><td>stable</td><td>unstable</td><td>15</td><td>A</td><td>18</td><td>0.0</td></tr><tr><td>19</td><td>mid</td><td>mid</td><td>good</td><td>mid</td><td>stable</td><td>stable</td><td>stable</td><td>10</td><td>A</td><td>19</td><td>0.0</td></tr><tr><td>20</td><td>low</td><td>high</td><td>good</td><td>mid</td><td>unstable</td><td>stable</td><td>stable</td><td>15</td><td>A</td><td>20</td><td>1.0</td></tr><tr><td>21</td><td>low</td><td>mid</td><td>excellent</td><td>high</td><td>unstable</td><td>stable</td><td>unstable</td><td>10</td><td>S</td><td>21</td><td>1.0</td></tr><tr><td>22</td><td>mid</td><td>mid</td><td>good</td><td>mid</td><td>unstable</td><td>stable</td><td>unstable</td><td>15</td><td>A</td><td>22</td><td>0.0</td></tr><tr><td>23</td><td>mid</td><td>mid</td><td>good</td><td>mid</td><td>unstable</td><td>stable</td><td>stable</td><td>10</td><td>A</td><td>23</td><td>0.0</td></tr><tr><td>24</td><td>high</td><td>high</td><td>good</td><td>mid</td><td>stable</td><td>stable</td><td>mod-stable</td><td>10</td><td>A</td><td>24</td><td>2.0</td></tr><tr><td>25</td><td>low</td><td>mid</td><td>good</td><td>mid</td><td>unstable</td><td>stable</td><td>stable</td><td>10</td><td>A</td><td>25</td><td>1.0</td></tr><tr><td>26</td><td>high</td><td>mid</td><td>good</td><td>low</td><td>stable</td><td>stable</td><td>mod-stable</td><td>10</td><td>A</td><td>26</td><td>2.0</td></tr><tr><td>27</td><td>low</td><td>mid</td><td>excellent</td><td>high</td><td>stable</td><td>stable</td><td>mod-stable</td><td>10</td><td>A</td><td>27</td><td>1.0</td></tr><tr><td>28</td><td>mid</td><td>mid</td><td>excellent</td><td>mid</td><td>stable</td><td>stable</td><td>unstable</td><td>15</td><td>A</td><td>28</td><td>0.0</td></tr><tr><td>29</td><td>mid</td><td>mid</td><td>good</td><td>mid</td><td>unstable</td><td>stable</td><td>unstable</td><td>10</td><td>S</td><td>29</td><td>0.0</td></tr><tr><td>30</td><td>mid</td><td>mid</td><td>good</td><td>high</td><td>unstable</td><td>stable</td><td>stable</td><td>10</td><td>A</td><td>30</td><td>0.0</td></tr><tr><td>31</td><td>low</td><td>low</td><td>good</td><td>mid</td><td>unstable</td><td>stable</td><td>unstable</td><td>10</td><td>A</td><td>31</td><td>1.0</td></tr><tr><td>32</td><td>mid</td><td>mid</td><td>excellent</td><td>high</td><td>unstable</td><td>stable</td><td>mod-stable</td><td>10</td><td>A</td><td>32</td><td>0.0</td></tr><tr><td>33</td><td>mid</td><td>low</td><td>good</td><td>mid</td><td>stable</td><td>stable</td><td>stable</td><td>10</td><td>A</td><td>33</td><td>0.0</td></tr><tr><td>34</td><td>low</td><td>mid</td><td>excellent</td><td>high</td><td>stable</td><td>stable</td><td>mod-stable</td><td>10</td><td>A</td><td>34</td><td>1.0</td></tr><tr><td>35</td><td>mid</td><td>mid</td><td>good</td><td>mid</td><td>stable</td><td>stable</td><td>stable</td><td>10</td><td>A</td><td>35</td><td>0.0</td></tr><tr><td>36</td><td>low</td><td>mid</td><td>excellent</td><td>mid</td><td>stable</td><td>stable</td><td>stable</td><td>10</td><td>S</td><td>36</td><td>1.0</td></tr><tr><td>37</td><td>low</td><td>low</td><td>good</td><td>mid</td><td>unstable</td><td>stable</td><td>unstable</td><td>10</td><td>S</td><td>37</td><td>1.0</td></tr><tr><td>38</td><td>low</td><td>low</td><td>good</td><td>mid</td><td>stable</td><td>stable</td><td>stable</td><td>07</td><td>S</td><td>38</td><td>1.0</td></tr><tr><td>39</td><td>mid</td><td>mid</td><td>good</td><td>high</td><td>unstable</td><td>stable</td><td>mod-stable</td><td>10</td><td>A</td><td>39</td><td>0.0</td></tr><tr><td>40</td><td>low</td><td>low</td><td>good</td><td>mid</td><td>unstable</td><td>stable</td><td>stable</td><td>10</td><td>A</td><td>40</td><td>1.0</td></tr><tr><td>41</td><td>low</td><td>mid</td><td>good</td><td>mid</td><td>stable</td><td>stable</td><td>stable</td><td>15</td><td>S</td><td>41</td><td>1.0</td></tr><tr><td>42</td><td>high</td><td>high</td><td>good</td><td>high</td><td>unstable</td><td>stable</td><td>stable</td><td>15</td><td>S</td><td>42</td><td>2.0</td></tr><tr><td>43</td><td>mid</td><td>mid</td><td>good</td><td>mid</td><td>stable</td><td>stable</td><td>stable</td><td>10</td><td>S</td><td>43</td><td>0.0</td></tr><tr><td>44</td><td>low</td><td>low</td><td>excellent</td><td>mid</td><td>stable</td><td>stable</td><td>stable</td><td>10</td><td>A</td><td>44</td><td>1.0</td></tr><tr><td>45</td><td>low</td><td>mid</td><td>good</td><td>mid</td><td>unstable</td><td>stable</td><td>stable</td><td>10</td><td>S</td><td>45</td><td>1.0</td></tr><tr><td>46</td><td>low</td><td>mid</td><td>good</td><td>high</td><td>unstable</td><td>stable</td><td>stable</td><td>?</td><td>I</td><td>46</td><td>1.0</td></tr><tr><td>47</td><td>mid</td><td>mid</td><td>excellent</td><td>mid</td><td>unstable</td><td>stable</td><td>stable</td><td>10</td><td>A</td><td>47</td><td>0.0</td></tr><tr><td>48</td><td>high</td><td>high</td><td>excellent</td><td>high</td><td>stable</td><td>stable</td><td>unstable</td><td>?</td><td>A</td><td>48</td><td>2.0</td></tr><tr><td>49</td><td>mid</td><td>high</td><td>good</td><td>low</td><td>unstable</td><td>stable</td><td>stable</td><td>10</td><td>A</td><td>49</td><td>0.0</td></tr><tr><td>50</td><td>mid</td><td>high</td><td>good</td><td>mid</td><td>unstable</td><td>mod-stable</td><td>mod-stable</td><td>10</td><td>A</td><td>50</td><td>0.0</td></tr><tr><td>51</td><td>low</td><td>high</td><td>excellent</td><td>mid</td><td>unstable</td><td>stable</td><td>stable</td><td>10</td><td>A</td><td>51</td><td>1.0</td></tr><tr><td>52</td><td>mid</td><td>low</td><td>excellent</td><td>high</td><td>unstable</td><td>stable</td><td>unstable</td><td>10</td><td>A</td><td>52</td><td>0.0</td></tr><tr><td>53</td><td>mid</td><td>mid</td><td>good</td><td>mid</td><td>unstable</td><td>stable</td><td>mod-stable</td><td>10</td><td>S</td><td>53</td><td>0.0</td></tr><tr><td>54</td><td>high</td><td>high</td><td>excellent</td><td>mid</td><td>unstable</td><td>stable</td><td>mod-stable</td><td>10</td><td>A</td><td>54</td><td>2.0</td></tr><tr><td>55</td><td>mid</td><td>mid</td><td>good</td><td>mid</td><td>unstable</td><td>stable</td><td>stable</td><td>15</td><td>A</td><td>55</td><td>0.0</td></tr><tr><td>56</td><td>high</td><td>mid</td><td>good</td><td>high</td><td>stable</td><td>stable</td><td>unstable</td><td>15</td><td>A</td><td>56</td><td>2.0</td></tr><tr><td>57</td><td>mid</td><td>low</td><td>good</td><td>high</td><td>unstable</td><td>stable</td><td>mod-stable</td><td>10</td><td>A</td><td>57</td><td>0.0</td></tr><tr><td>58</td><td>low</td><td>low</td><td>good</td><td>high</td><td>stable</td><td>stable</td><td>stable</td><td>10</td><td>A</td><td>58</td><td>1.0</td></tr><tr><td>59</td><td>mid</td><td>high</td><td>good</td><td>mid</td><td>stable</td><td>stable</td><td>mod-stable</td><td>10</td><td>A</td><td>59</td><td>0.0</td></tr><tr><td>60</td><td>mid</td><td>high</td><td>good</td><td>mid</td><td>unstable</td><td>stable</td><td>unstable</td><td>10</td><td>A</td><td>60</td><td>0.0</td></tr><tr><td>61</td><td>mid</td><td>low</td><td>excellent</td><td>high</td><td>stable</td><td>stable</td><td>stable</td><td>10</td><td>A</td><td>61</td><td>0.0</td></tr><tr><td>62</td><td>mid</td><td>mid</td><td>good</td><td>mid</td><td>stable</td><td>stable</td><td>unstable</td><td>10</td><td>A</td><td>62</td><td>0.0</td></tr><tr><td>63</td><td>mid</td><td>low</td><td>excellent</td><td>mid</td><td>stable</td><td>stable</td><td>unstable</td><td>10</td><td>S</td><td>63</td><td>0.0</td></tr><tr><td>64</td><td>high</td><td>mid</td><td>excellent</td><td>mid</td><td>unstable</td><td>unstable</td><td>unstable</td><td>10</td><td>A</td><td>64</td><td>2.0</td></tr><tr><td>65</td><td>mid</td><td>mid</td><td>good</td><td>high</td><td>stable</td><td>stable</td><td>stable</td><td>10</td><td>S</td><td>65</td><td>0.0</td></tr><tr><td>66</td><td>mid</td><td>low</td><td>excellent</td><td>mid</td><td>unstable</td><td>stable</td><td>stable</td><td>10</td><td>A</td><td>66</td><td>0.0</td></tr><tr><td>67</td><td>mid</td><td>mid</td><td>excellent</td><td>mid</td><td>unstable</td><td>stable</td><td>stable</td><td>10</td><td>A</td><td>67</td><td>0.0</td></tr><tr><td>68</td><td>mid</td><td>mid</td><td>excellent</td><td>high</td><td>stable</td><td>stable</td><td>stable</td><td>10</td><td>A</td><td>68</td><td>0.0</td></tr><tr><td>69</td><td>mid</td><td>mid</td><td>excellent</td><td>low</td><td>stable</td><td>stable</td><td>stable</td><td>10</td><td>A</td><td>69</td><td>0.0</td></tr><tr><td>70</td><td>mid</td><td>low</td><td>excellent</td><td>mid</td><td>unstable</td><td>unstable</td><td>unstable</td><td>?</td><td>A</td><td>70</td><td>0.0</td></tr><tr><td>71</td><td>low</td><td>low</td><td>excellent</td><td>mid</td><td>stable</td><td>stable</td><td>stable</td><td>10</td><td>A</td><td>71</td><td>1.0</td></tr><tr><td>72</td><td>mid</td><td>mid</td><td>excellent</td><td>mid</td><td>stable</td><td>stable</td><td>mod-stable</td><td>10</td><td>S</td><td>72</td><td>0.0</td></tr><tr><td>73</td><td>mid</td><td>mid</td><td>excellent</td><td>high</td><td>stable</td><td>stable</td><td>stable</td><td>10</td><td>A</td><td>73</td><td>0.0</td></tr><tr><td>74</td><td>mid</td><td>low</td><td>excellent</td><td>high</td><td>stable</td><td>stable</td><td>mod-stable</td><td>10</td><td>A</td><td>74</td><td>0.0</td></tr><tr><td>75</td><td>low</td><td>mid</td><td>good</td><td>mid</td><td>stable</td><td>stable</td><td>unstable</td><td>10</td><td>A</td><td>75</td><td>1.0</td></tr><tr><td>76</td><td>mid</td><td>mid</td><td>excellent</td><td>mid</td><td>stable</td><td>stable</td><td>mod-stable</td><td>10</td><td>A</td><td>76</td><td>0.0</td></tr><tr><td>77</td><td>mid</td><td>mid</td><td>excellent</td><td>mid</td><td>stable</td><td>stable</td><td>unstable</td><td>10</td><td>A</td><td>77</td><td>0.0</td></tr><tr><td>78</td><td>mid</td><td>mid</td><td>excellent</td><td>mid</td><td>unstable</td><td>unstable</td><td>stable</td><td>10</td><td>S</td><td>78</td><td>0.0</td></tr><tr><td>79</td><td>mid</td><td>mid</td><td>good</td><td>high</td><td>stable</td><td>stable</td><td>stable</td><td>10</td><td>A</td><td>79</td><td>0.0</td></tr><tr><td>80</td><td>mid</td><td>mid</td><td>excellent</td><td>mid</td><td>stable</td><td>stable</td><td>stable</td><td>15</td><td>A</td><td>80</td><td>0.0</td></tr><tr><td>81</td><td>mid</td><td>mid</td><td>excellent</td><td>mid</td><td>stable</td><td>stable</td><td>stable</td><td>10</td><td>S</td><td>81</td><td>0.0</td></tr><tr><td>82</td><td>mid</td><td>low</td><td>good</td><td>mid</td><td>stable</td><td>stable</td><td>unstable</td><td>10</td><td>I</td><td>82</td><td>0.0</td></tr><tr><td>83</td><td>high</td><td>mid</td><td>excellent</td><td>mid</td><td>unstable</td><td>stable</td><td>unstable</td><td>05</td><td>A</td><td>83</td><td>2.0</td></tr><tr><td>84</td><td>mid</td><td>mid</td><td>excellent</td><td>mid</td><td>stable</td><td>stable</td><td>unstable</td><td>10</td><td>A</td><td>84</td><td>0.0</td></tr><tr><td>85</td><td>mid</td><td>mid</td><td>excellent</td><td>mid</td><td>unstable</td><td>stable</td><td>stable</td><td>10</td><td>A</td><td>85</td><td>0.0</td></tr><tr><td>86</td><td>mid</td><td>mid</td><td>excellent</td><td>mid</td><td>unstable</td><td>stable</td><td>stable</td><td>15</td><td>S</td><td>86</td><td>0.0</td></tr><tr><td>87</td><td>mid</td><td>mid</td><td>good</td><td>mid</td><td>unstable</td><td>stable</td><td>stable</td><td>15</td><td>A</td><td>87</td><td>0.0</td></tr><tr><td>88</td><td>mid</td><td>mid</td><td>excellent</td><td>mid</td><td>unstable</td><td>stable</td><td>stable</td><td>10</td><td>A</td><td>88</td><td>0.0</td></tr><tr><td>89</td><td>mid</td><td>mid</td><td>good</td><td>mid</td><td>unstable</td><td>stable</td><td>stable</td><td>15</td><td>S</td><td>89</td><td>0.0</td></tr></tbody></table></div>"
      ]
     },
     "metadata": {
      "application/vnd.databricks.v1+output": {
       "addedWidgets": {},
       "aggData": [],
       "aggError": "",
       "aggOverflow": false,
       "aggSchema": [],
       "aggSeriesLimitReached": false,
       "aggType": "",
       "arguments": {},
       "columnCustomDisplayInfos": {},
       "data": [
        [
         0,
         "mid",
         "low",
         "excellent",
         "mid",
         "stable",
         "stable",
         "stable",
         "15",
         "A",
         0,
         0.0
        ],
        [
         1,
         "mid",
         "high",
         "excellent",
         "high",
         "stable",
         "stable",
         "stable",
         "10",
         "S",
         1,
         0.0
        ],
        [
         2,
         "high",
         "low",
         "excellent",
         "high",
         "stable",
         "stable",
         "mod-stable",
         "10",
         "A",
         2,
         2.0
        ],
        [
         3,
         "mid",
         "low",
         "good",
         "high",
         "stable",
         "unstable",
         "mod-stable",
         "15",
         "A",
         3,
         0.0
        ],
        [
         4,
         "mid",
         "mid",
         "excellent",
         "high",
         "stable",
         "stable",
         "stable",
         "10",
         "A",
         4,
         0.0
        ],
        [
         5,
         "high",
         "low",
         "good",
         "mid",
         "stable",
         "stable",
         "unstable",
         "15",
         "S",
         5,
         2.0
        ],
        [
         6,
         "mid",
         "low",
         "excellent",
         "high",
         "stable",
         "stable",
         "mod-stable",
         "05",
         "S",
         6,
         0.0
        ],
        [
         7,
         "high",
         "mid",
         "excellent",
         "mid",
         "unstable",
         "unstable",
         "stable",
         "10",
         "S",
         7,
         2.0
        ],
        [
         8,
         "mid",
         "high",
         "good",
         "mid",
         "stable",
         "stable",
         "stable",
         "10",
         "S",
         8,
         0.0
        ],
        [
         9,
         "mid",
         "low",
         "excellent",
         "mid",
         "unstable",
         "stable",
         "mod-stable",
         "10",
         "S",
         9,
         0.0
        ],
        [
         10,
         "mid",
         "mid",
         "good",
         "mid",
         "stable",
         "stable",
         "stable",
         "15",
         "A",
         10,
         0.0
        ],
        [
         11,
         "mid",
         "low",
         "good",
         "high",
         "stable",
         "stable",
         "mod-stable",
         "10",
         "A",
         11,
         0.0
        ],
        [
         12,
         "high",
         "high",
         "excellent",
         "high",
         "unstable",
         "stable",
         "unstable",
         "15",
         "A",
         12,
         2.0
        ],
        [
         13,
         "mid",
         "high",
         "good",
         "mid",
         "unstable",
         "stable",
         "mod-stable",
         "10",
         "A",
         13,
         0.0
        ],
        [
         14,
         "mid",
         "low",
         "good",
         "high",
         "unstable",
         "unstable",
         "stable",
         "15",
         "S",
         14,
         0.0
        ],
        [
         15,
         "high",
         "high",
         "excellent",
         "high",
         "unstable",
         "stable",
         "unstable",
         "10",
         "A",
         15,
         2.0
        ],
        [
         16,
         "low",
         "high",
         "good",
         "high",
         "unstable",
         "stable",
         "mod-stable",
         "15",
         "A",
         16,
         1.0
        ],
        [
         17,
         "mid",
         "low",
         "good",
         "high",
         "unstable",
         "stable",
         "stable",
         "10",
         "A",
         17,
         0.0
        ],
        [
         18,
         "mid",
         "high",
         "good",
         "mid",
         "unstable",
         "stable",
         "unstable",
         "15",
         "A",
         18,
         0.0
        ],
        [
         19,
         "mid",
         "mid",
         "good",
         "mid",
         "stable",
         "stable",
         "stable",
         "10",
         "A",
         19,
         0.0
        ],
        [
         20,
         "low",
         "high",
         "good",
         "mid",
         "unstable",
         "stable",
         "stable",
         "15",
         "A",
         20,
         1.0
        ],
        [
         21,
         "low",
         "mid",
         "excellent",
         "high",
         "unstable",
         "stable",
         "unstable",
         "10",
         "S",
         21,
         1.0
        ],
        [
         22,
         "mid",
         "mid",
         "good",
         "mid",
         "unstable",
         "stable",
         "unstable",
         "15",
         "A",
         22,
         0.0
        ],
        [
         23,
         "mid",
         "mid",
         "good",
         "mid",
         "unstable",
         "stable",
         "stable",
         "10",
         "A",
         23,
         0.0
        ],
        [
         24,
         "high",
         "high",
         "good",
         "mid",
         "stable",
         "stable",
         "mod-stable",
         "10",
         "A",
         24,
         2.0
        ],
        [
         25,
         "low",
         "mid",
         "good",
         "mid",
         "unstable",
         "stable",
         "stable",
         "10",
         "A",
         25,
         1.0
        ],
        [
         26,
         "high",
         "mid",
         "good",
         "low",
         "stable",
         "stable",
         "mod-stable",
         "10",
         "A",
         26,
         2.0
        ],
        [
         27,
         "low",
         "mid",
         "excellent",
         "high",
         "stable",
         "stable",
         "mod-stable",
         "10",
         "A",
         27,
         1.0
        ],
        [
         28,
         "mid",
         "mid",
         "excellent",
         "mid",
         "stable",
         "stable",
         "unstable",
         "15",
         "A",
         28,
         0.0
        ],
        [
         29,
         "mid",
         "mid",
         "good",
         "mid",
         "unstable",
         "stable",
         "unstable",
         "10",
         "S",
         29,
         0.0
        ],
        [
         30,
         "mid",
         "mid",
         "good",
         "high",
         "unstable",
         "stable",
         "stable",
         "10",
         "A",
         30,
         0.0
        ],
        [
         31,
         "low",
         "low",
         "good",
         "mid",
         "unstable",
         "stable",
         "unstable",
         "10",
         "A",
         31,
         1.0
        ],
        [
         32,
         "mid",
         "mid",
         "excellent",
         "high",
         "unstable",
         "stable",
         "mod-stable",
         "10",
         "A",
         32,
         0.0
        ],
        [
         33,
         "mid",
         "low",
         "good",
         "mid",
         "stable",
         "stable",
         "stable",
         "10",
         "A",
         33,
         0.0
        ],
        [
         34,
         "low",
         "mid",
         "excellent",
         "high",
         "stable",
         "stable",
         "mod-stable",
         "10",
         "A",
         34,
         1.0
        ],
        [
         35,
         "mid",
         "mid",
         "good",
         "mid",
         "stable",
         "stable",
         "stable",
         "10",
         "A",
         35,
         0.0
        ],
        [
         36,
         "low",
         "mid",
         "excellent",
         "mid",
         "stable",
         "stable",
         "stable",
         "10",
         "S",
         36,
         1.0
        ],
        [
         37,
         "low",
         "low",
         "good",
         "mid",
         "unstable",
         "stable",
         "unstable",
         "10",
         "S",
         37,
         1.0
        ],
        [
         38,
         "low",
         "low",
         "good",
         "mid",
         "stable",
         "stable",
         "stable",
         "07",
         "S",
         38,
         1.0
        ],
        [
         39,
         "mid",
         "mid",
         "good",
         "high",
         "unstable",
         "stable",
         "mod-stable",
         "10",
         "A",
         39,
         0.0
        ],
        [
         40,
         "low",
         "low",
         "good",
         "mid",
         "unstable",
         "stable",
         "stable",
         "10",
         "A",
         40,
         1.0
        ],
        [
         41,
         "low",
         "mid",
         "good",
         "mid",
         "stable",
         "stable",
         "stable",
         "15",
         "S",
         41,
         1.0
        ],
        [
         42,
         "high",
         "high",
         "good",
         "high",
         "unstable",
         "stable",
         "stable",
         "15",
         "S",
         42,
         2.0
        ],
        [
         43,
         "mid",
         "mid",
         "good",
         "mid",
         "stable",
         "stable",
         "stable",
         "10",
         "S",
         43,
         0.0
        ],
        [
         44,
         "low",
         "low",
         "excellent",
         "mid",
         "stable",
         "stable",
         "stable",
         "10",
         "A",
         44,
         1.0
        ],
        [
         45,
         "low",
         "mid",
         "good",
         "mid",
         "unstable",
         "stable",
         "stable",
         "10",
         "S",
         45,
         1.0
        ],
        [
         46,
         "low",
         "mid",
         "good",
         "high",
         "unstable",
         "stable",
         "stable",
         "?",
         "I",
         46,
         1.0
        ],
        [
         47,
         "mid",
         "mid",
         "excellent",
         "mid",
         "unstable",
         "stable",
         "stable",
         "10",
         "A",
         47,
         0.0
        ],
        [
         48,
         "high",
         "high",
         "excellent",
         "high",
         "stable",
         "stable",
         "unstable",
         "?",
         "A",
         48,
         2.0
        ],
        [
         49,
         "mid",
         "high",
         "good",
         "low",
         "unstable",
         "stable",
         "stable",
         "10",
         "A",
         49,
         0.0
        ],
        [
         50,
         "mid",
         "high",
         "good",
         "mid",
         "unstable",
         "mod-stable",
         "mod-stable",
         "10",
         "A",
         50,
         0.0
        ],
        [
         51,
         "low",
         "high",
         "excellent",
         "mid",
         "unstable",
         "stable",
         "stable",
         "10",
         "A",
         51,
         1.0
        ],
        [
         52,
         "mid",
         "low",
         "excellent",
         "high",
         "unstable",
         "stable",
         "unstable",
         "10",
         "A",
         52,
         0.0
        ],
        [
         53,
         "mid",
         "mid",
         "good",
         "mid",
         "unstable",
         "stable",
         "mod-stable",
         "10",
         "S",
         53,
         0.0
        ],
        [
         54,
         "high",
         "high",
         "excellent",
         "mid",
         "unstable",
         "stable",
         "mod-stable",
         "10",
         "A",
         54,
         2.0
        ],
        [
         55,
         "mid",
         "mid",
         "good",
         "mid",
         "unstable",
         "stable",
         "stable",
         "15",
         "A",
         55,
         0.0
        ],
        [
         56,
         "high",
         "mid",
         "good",
         "high",
         "stable",
         "stable",
         "unstable",
         "15",
         "A",
         56,
         2.0
        ],
        [
         57,
         "mid",
         "low",
         "good",
         "high",
         "unstable",
         "stable",
         "mod-stable",
         "10",
         "A",
         57,
         0.0
        ],
        [
         58,
         "low",
         "low",
         "good",
         "high",
         "stable",
         "stable",
         "stable",
         "10",
         "A",
         58,
         1.0
        ],
        [
         59,
         "mid",
         "high",
         "good",
         "mid",
         "stable",
         "stable",
         "mod-stable",
         "10",
         "A",
         59,
         0.0
        ],
        [
         60,
         "mid",
         "high",
         "good",
         "mid",
         "unstable",
         "stable",
         "unstable",
         "10",
         "A",
         60,
         0.0
        ],
        [
         61,
         "mid",
         "low",
         "excellent",
         "high",
         "stable",
         "stable",
         "stable",
         "10",
         "A",
         61,
         0.0
        ],
        [
         62,
         "mid",
         "mid",
         "good",
         "mid",
         "stable",
         "stable",
         "unstable",
         "10",
         "A",
         62,
         0.0
        ],
        [
         63,
         "mid",
         "low",
         "excellent",
         "mid",
         "stable",
         "stable",
         "unstable",
         "10",
         "S",
         63,
         0.0
        ],
        [
         64,
         "high",
         "mid",
         "excellent",
         "mid",
         "unstable",
         "unstable",
         "unstable",
         "10",
         "A",
         64,
         2.0
        ],
        [
         65,
         "mid",
         "mid",
         "good",
         "high",
         "stable",
         "stable",
         "stable",
         "10",
         "S",
         65,
         0.0
        ],
        [
         66,
         "mid",
         "low",
         "excellent",
         "mid",
         "unstable",
         "stable",
         "stable",
         "10",
         "A",
         66,
         0.0
        ],
        [
         67,
         "mid",
         "mid",
         "excellent",
         "mid",
         "unstable",
         "stable",
         "stable",
         "10",
         "A",
         67,
         0.0
        ],
        [
         68,
         "mid",
         "mid",
         "excellent",
         "high",
         "stable",
         "stable",
         "stable",
         "10",
         "A",
         68,
         0.0
        ],
        [
         69,
         "mid",
         "mid",
         "excellent",
         "low",
         "stable",
         "stable",
         "stable",
         "10",
         "A",
         69,
         0.0
        ],
        [
         70,
         "mid",
         "low",
         "excellent",
         "mid",
         "unstable",
         "unstable",
         "unstable",
         "?",
         "A",
         70,
         0.0
        ],
        [
         71,
         "low",
         "low",
         "excellent",
         "mid",
         "stable",
         "stable",
         "stable",
         "10",
         "A",
         71,
         1.0
        ],
        [
         72,
         "mid",
         "mid",
         "excellent",
         "mid",
         "stable",
         "stable",
         "mod-stable",
         "10",
         "S",
         72,
         0.0
        ],
        [
         73,
         "mid",
         "mid",
         "excellent",
         "high",
         "stable",
         "stable",
         "stable",
         "10",
         "A",
         73,
         0.0
        ],
        [
         74,
         "mid",
         "low",
         "excellent",
         "high",
         "stable",
         "stable",
         "mod-stable",
         "10",
         "A",
         74,
         0.0
        ],
        [
         75,
         "low",
         "mid",
         "good",
         "mid",
         "stable",
         "stable",
         "unstable",
         "10",
         "A",
         75,
         1.0
        ],
        [
         76,
         "mid",
         "mid",
         "excellent",
         "mid",
         "stable",
         "stable",
         "mod-stable",
         "10",
         "A",
         76,
         0.0
        ],
        [
         77,
         "mid",
         "mid",
         "excellent",
         "mid",
         "stable",
         "stable",
         "unstable",
         "10",
         "A",
         77,
         0.0
        ],
        [
         78,
         "mid",
         "mid",
         "excellent",
         "mid",
         "unstable",
         "unstable",
         "stable",
         "10",
         "S",
         78,
         0.0
        ],
        [
         79,
         "mid",
         "mid",
         "good",
         "high",
         "stable",
         "stable",
         "stable",
         "10",
         "A",
         79,
         0.0
        ],
        [
         80,
         "mid",
         "mid",
         "excellent",
         "mid",
         "stable",
         "stable",
         "stable",
         "15",
         "A",
         80,
         0.0
        ],
        [
         81,
         "mid",
         "mid",
         "excellent",
         "mid",
         "stable",
         "stable",
         "stable",
         "10",
         "S",
         81,
         0.0
        ],
        [
         82,
         "mid",
         "low",
         "good",
         "mid",
         "stable",
         "stable",
         "unstable",
         "10",
         "I",
         82,
         0.0
        ],
        [
         83,
         "high",
         "mid",
         "excellent",
         "mid",
         "unstable",
         "stable",
         "unstable",
         "05",
         "A",
         83,
         2.0
        ],
        [
         84,
         "mid",
         "mid",
         "excellent",
         "mid",
         "stable",
         "stable",
         "unstable",
         "10",
         "A",
         84,
         0.0
        ],
        [
         85,
         "mid",
         "mid",
         "excellent",
         "mid",
         "unstable",
         "stable",
         "stable",
         "10",
         "A",
         85,
         0.0
        ],
        [
         86,
         "mid",
         "mid",
         "excellent",
         "mid",
         "unstable",
         "stable",
         "stable",
         "15",
         "S",
         86,
         0.0
        ],
        [
         87,
         "mid",
         "mid",
         "good",
         "mid",
         "unstable",
         "stable",
         "stable",
         "15",
         "A",
         87,
         0.0
        ],
        [
         88,
         "mid",
         "mid",
         "excellent",
         "mid",
         "unstable",
         "stable",
         "stable",
         "10",
         "A",
         88,
         0.0
        ],
        [
         89,
         "mid",
         "mid",
         "good",
         "mid",
         "unstable",
         "stable",
         "stable",
         "15",
         "S",
         89,
         0.0
        ]
       ],
       "datasetInfos": [],
       "dbfsResultPath": null,
       "isJsonSchema": true,
       "metadata": {},
       "overflow": false,
       "plotOptions": {
        "customPlotOptions": {},
        "displayType": "table",
        "pivotAggregation": null,
        "pivotColumns": null,
        "xColumns": null,
        "yColumns": null
       },
       "removedWidgets": [],
       "schema": [
        {
         "metadata": "{}",
         "name": "index",
         "type": "\"long\""
        },
        {
         "metadata": "{}",
         "name": "L-CORE",
         "type": "\"string\""
        },
        {
         "metadata": "{}",
         "name": "L-SURF",
         "type": "\"string\""
        },
        {
         "metadata": "{}",
         "name": "L-O2",
         "type": "\"string\""
        },
        {
         "metadata": "{}",
         "name": "L-BP",
         "type": "\"string\""
        },
        {
         "metadata": "{}",
         "name": "SURF-STBL",
         "type": "\"string\""
        },
        {
         "metadata": "{}",
         "name": "CORE-STBL",
         "type": "\"string\""
        },
        {
         "metadata": "{}",
         "name": "BP-STBL",
         "type": "\"string\""
        },
        {
         "metadata": "{}",
         "name": "COMFORT",
         "type": "\"string\""
        },
        {
         "metadata": "{}",
         "name": "decision",
         "type": "\"string\""
        },
        {
         "metadata": "{}",
         "name": "index",
         "type": "\"long\""
        },
        {
         "metadata": "{\"ml_attr\":{\"vals\":[\"mid\",\"low\",\"high\"],\"type\":\"nominal\",\"name\":\"L-CORE_index\"}}",
         "name": "L-CORE_index",
         "type": "\"double\""
        }
       ],
       "type": "table"
      }
     },
     "output_type": "display_data"
    }
   ],
   "source": [
    "# Categorial feature transformation\n",
    "indexer = StringIndexer(inputCol=\"L-CORE\", outputCol=\"L-CORE_index\")\n",
    "pipeline = Pipeline(stages=[indexer])\n",
    "df = pipeline.fit(df).transform(df)\n",
    "display(df)"
   ]
  },
  {
   "cell_type": "code",
   "execution_count": 0,
   "metadata": {
    "application/vnd.databricks.v1+cell": {
     "cellMetadata": {
      "byteLimit": 2048000,
      "rowLimit": 10000
     },
     "inputWidgets": {},
     "nuid": "31a089f4-3040-4797-93f2-c3f3906bad47",
     "showTitle": false,
     "tableResultSettingsMap": {},
     "title": ""
    }
   },
   "outputs": [
    {
     "output_type": "display_data",
     "data": {
      "text/html": [
       "<style scoped>\n",
       "  .table-result-container {\n",
       "    max-height: 300px;\n",
       "    overflow: auto;\n",
       "  }\n",
       "  table, th, td {\n",
       "    border: 1px solid black;\n",
       "    border-collapse: collapse;\n",
       "  }\n",
       "  th, td {\n",
       "    padding: 5px;\n",
       "  }\n",
       "  th {\n",
       "    text-align: left;\n",
       "  }\n",
       "</style><div class='table-result-container'><table class='table-result'><thead style='background-color: white'><tr><th>index</th><th>L-CORE</th><th>L-SURF</th><th>L-O2</th><th>L-BP</th><th>SURF-STBL</th><th>CORE-STBL</th><th>BP-STBL</th><th>COMFORT</th><th>decision</th><th>index</th><th>L-CORE_index</th><th>COMFORT_Category</th></tr></thead><tbody><tr><td>0</td><td>mid</td><td>low</td><td>excellent</td><td>mid</td><td>stable</td><td>stable</td><td>stable</td><td>15</td><td>A</td><td>0</td><td>0.0</td><td>Comfortable</td></tr><tr><td>1</td><td>mid</td><td>high</td><td>excellent</td><td>high</td><td>stable</td><td>stable</td><td>stable</td><td>10</td><td>S</td><td>1</td><td>0.0</td><td>Uncomfortable</td></tr><tr><td>2</td><td>high</td><td>low</td><td>excellent</td><td>high</td><td>stable</td><td>stable</td><td>mod-stable</td><td>10</td><td>A</td><td>2</td><td>2.0</td><td>Uncomfortable</td></tr><tr><td>3</td><td>mid</td><td>low</td><td>good</td><td>high</td><td>stable</td><td>unstable</td><td>mod-stable</td><td>15</td><td>A</td><td>3</td><td>0.0</td><td>Comfortable</td></tr><tr><td>4</td><td>mid</td><td>mid</td><td>excellent</td><td>high</td><td>stable</td><td>stable</td><td>stable</td><td>10</td><td>A</td><td>4</td><td>0.0</td><td>Uncomfortable</td></tr><tr><td>5</td><td>high</td><td>low</td><td>good</td><td>mid</td><td>stable</td><td>stable</td><td>unstable</td><td>15</td><td>S</td><td>5</td><td>2.0</td><td>Comfortable</td></tr><tr><td>6</td><td>mid</td><td>low</td><td>excellent</td><td>high</td><td>stable</td><td>stable</td><td>mod-stable</td><td>05</td><td>S</td><td>6</td><td>0.0</td><td>Very Uncomfortable</td></tr><tr><td>7</td><td>high</td><td>mid</td><td>excellent</td><td>mid</td><td>unstable</td><td>unstable</td><td>stable</td><td>10</td><td>S</td><td>7</td><td>2.0</td><td>Uncomfortable</td></tr><tr><td>8</td><td>mid</td><td>high</td><td>good</td><td>mid</td><td>stable</td><td>stable</td><td>stable</td><td>10</td><td>S</td><td>8</td><td>0.0</td><td>Uncomfortable</td></tr><tr><td>9</td><td>mid</td><td>low</td><td>excellent</td><td>mid</td><td>unstable</td><td>stable</td><td>mod-stable</td><td>10</td><td>S</td><td>9</td><td>0.0</td><td>Uncomfortable</td></tr><tr><td>10</td><td>mid</td><td>mid</td><td>good</td><td>mid</td><td>stable</td><td>stable</td><td>stable</td><td>15</td><td>A</td><td>10</td><td>0.0</td><td>Comfortable</td></tr><tr><td>11</td><td>mid</td><td>low</td><td>good</td><td>high</td><td>stable</td><td>stable</td><td>mod-stable</td><td>10</td><td>A</td><td>11</td><td>0.0</td><td>Uncomfortable</td></tr><tr><td>12</td><td>high</td><td>high</td><td>excellent</td><td>high</td><td>unstable</td><td>stable</td><td>unstable</td><td>15</td><td>A</td><td>12</td><td>2.0</td><td>Comfortable</td></tr><tr><td>13</td><td>mid</td><td>high</td><td>good</td><td>mid</td><td>unstable</td><td>stable</td><td>mod-stable</td><td>10</td><td>A</td><td>13</td><td>0.0</td><td>Uncomfortable</td></tr><tr><td>14</td><td>mid</td><td>low</td><td>good</td><td>high</td><td>unstable</td><td>unstable</td><td>stable</td><td>15</td><td>S</td><td>14</td><td>0.0</td><td>Comfortable</td></tr><tr><td>15</td><td>high</td><td>high</td><td>excellent</td><td>high</td><td>unstable</td><td>stable</td><td>unstable</td><td>10</td><td>A</td><td>15</td><td>2.0</td><td>Uncomfortable</td></tr><tr><td>16</td><td>low</td><td>high</td><td>good</td><td>high</td><td>unstable</td><td>stable</td><td>mod-stable</td><td>15</td><td>A</td><td>16</td><td>1.0</td><td>Comfortable</td></tr><tr><td>17</td><td>mid</td><td>low</td><td>good</td><td>high</td><td>unstable</td><td>stable</td><td>stable</td><td>10</td><td>A</td><td>17</td><td>0.0</td><td>Uncomfortable</td></tr><tr><td>18</td><td>mid</td><td>high</td><td>good</td><td>mid</td><td>unstable</td><td>stable</td><td>unstable</td><td>15</td><td>A</td><td>18</td><td>0.0</td><td>Comfortable</td></tr><tr><td>19</td><td>mid</td><td>mid</td><td>good</td><td>mid</td><td>stable</td><td>stable</td><td>stable</td><td>10</td><td>A</td><td>19</td><td>0.0</td><td>Uncomfortable</td></tr><tr><td>20</td><td>low</td><td>high</td><td>good</td><td>mid</td><td>unstable</td><td>stable</td><td>stable</td><td>15</td><td>A</td><td>20</td><td>1.0</td><td>Comfortable</td></tr><tr><td>21</td><td>low</td><td>mid</td><td>excellent</td><td>high</td><td>unstable</td><td>stable</td><td>unstable</td><td>10</td><td>S</td><td>21</td><td>1.0</td><td>Uncomfortable</td></tr><tr><td>22</td><td>mid</td><td>mid</td><td>good</td><td>mid</td><td>unstable</td><td>stable</td><td>unstable</td><td>15</td><td>A</td><td>22</td><td>0.0</td><td>Comfortable</td></tr><tr><td>23</td><td>mid</td><td>mid</td><td>good</td><td>mid</td><td>unstable</td><td>stable</td><td>stable</td><td>10</td><td>A</td><td>23</td><td>0.0</td><td>Uncomfortable</td></tr><tr><td>24</td><td>high</td><td>high</td><td>good</td><td>mid</td><td>stable</td><td>stable</td><td>mod-stable</td><td>10</td><td>A</td><td>24</td><td>2.0</td><td>Uncomfortable</td></tr><tr><td>25</td><td>low</td><td>mid</td><td>good</td><td>mid</td><td>unstable</td><td>stable</td><td>stable</td><td>10</td><td>A</td><td>25</td><td>1.0</td><td>Uncomfortable</td></tr><tr><td>26</td><td>high</td><td>mid</td><td>good</td><td>low</td><td>stable</td><td>stable</td><td>mod-stable</td><td>10</td><td>A</td><td>26</td><td>2.0</td><td>Uncomfortable</td></tr><tr><td>27</td><td>low</td><td>mid</td><td>excellent</td><td>high</td><td>stable</td><td>stable</td><td>mod-stable</td><td>10</td><td>A</td><td>27</td><td>1.0</td><td>Uncomfortable</td></tr><tr><td>28</td><td>mid</td><td>mid</td><td>excellent</td><td>mid</td><td>stable</td><td>stable</td><td>unstable</td><td>15</td><td>A</td><td>28</td><td>0.0</td><td>Comfortable</td></tr><tr><td>29</td><td>mid</td><td>mid</td><td>good</td><td>mid</td><td>unstable</td><td>stable</td><td>unstable</td><td>10</td><td>S</td><td>29</td><td>0.0</td><td>Uncomfortable</td></tr><tr><td>30</td><td>mid</td><td>mid</td><td>good</td><td>high</td><td>unstable</td><td>stable</td><td>stable</td><td>10</td><td>A</td><td>30</td><td>0.0</td><td>Uncomfortable</td></tr><tr><td>31</td><td>low</td><td>low</td><td>good</td><td>mid</td><td>unstable</td><td>stable</td><td>unstable</td><td>10</td><td>A</td><td>31</td><td>1.0</td><td>Uncomfortable</td></tr><tr><td>32</td><td>mid</td><td>mid</td><td>excellent</td><td>high</td><td>unstable</td><td>stable</td><td>mod-stable</td><td>10</td><td>A</td><td>32</td><td>0.0</td><td>Uncomfortable</td></tr><tr><td>33</td><td>mid</td><td>low</td><td>good</td><td>mid</td><td>stable</td><td>stable</td><td>stable</td><td>10</td><td>A</td><td>33</td><td>0.0</td><td>Uncomfortable</td></tr><tr><td>34</td><td>low</td><td>mid</td><td>excellent</td><td>high</td><td>stable</td><td>stable</td><td>mod-stable</td><td>10</td><td>A</td><td>34</td><td>1.0</td><td>Uncomfortable</td></tr><tr><td>35</td><td>mid</td><td>mid</td><td>good</td><td>mid</td><td>stable</td><td>stable</td><td>stable</td><td>10</td><td>A</td><td>35</td><td>0.0</td><td>Uncomfortable</td></tr><tr><td>36</td><td>low</td><td>mid</td><td>excellent</td><td>mid</td><td>stable</td><td>stable</td><td>stable</td><td>10</td><td>S</td><td>36</td><td>1.0</td><td>Uncomfortable</td></tr><tr><td>37</td><td>low</td><td>low</td><td>good</td><td>mid</td><td>unstable</td><td>stable</td><td>unstable</td><td>10</td><td>S</td><td>37</td><td>1.0</td><td>Uncomfortable</td></tr><tr><td>38</td><td>low</td><td>low</td><td>good</td><td>mid</td><td>stable</td><td>stable</td><td>stable</td><td>07</td><td>S</td><td>38</td><td>1.0</td><td>Uncomfortable</td></tr><tr><td>39</td><td>mid</td><td>mid</td><td>good</td><td>high</td><td>unstable</td><td>stable</td><td>mod-stable</td><td>10</td><td>A</td><td>39</td><td>0.0</td><td>Uncomfortable</td></tr><tr><td>40</td><td>low</td><td>low</td><td>good</td><td>mid</td><td>unstable</td><td>stable</td><td>stable</td><td>10</td><td>A</td><td>40</td><td>1.0</td><td>Uncomfortable</td></tr><tr><td>41</td><td>low</td><td>mid</td><td>good</td><td>mid</td><td>stable</td><td>stable</td><td>stable</td><td>15</td><td>S</td><td>41</td><td>1.0</td><td>Comfortable</td></tr><tr><td>42</td><td>high</td><td>high</td><td>good</td><td>high</td><td>unstable</td><td>stable</td><td>stable</td><td>15</td><td>S</td><td>42</td><td>2.0</td><td>Comfortable</td></tr><tr><td>43</td><td>mid</td><td>mid</td><td>good</td><td>mid</td><td>stable</td><td>stable</td><td>stable</td><td>10</td><td>S</td><td>43</td><td>0.0</td><td>Uncomfortable</td></tr><tr><td>44</td><td>low</td><td>low</td><td>excellent</td><td>mid</td><td>stable</td><td>stable</td><td>stable</td><td>10</td><td>A</td><td>44</td><td>1.0</td><td>Uncomfortable</td></tr><tr><td>45</td><td>low</td><td>mid</td><td>good</td><td>mid</td><td>unstable</td><td>stable</td><td>stable</td><td>10</td><td>S</td><td>45</td><td>1.0</td><td>Uncomfortable</td></tr><tr><td>46</td><td>low</td><td>mid</td><td>good</td><td>high</td><td>unstable</td><td>stable</td><td>stable</td><td>?</td><td>I</td><td>46</td><td>1.0</td><td>Unknown</td></tr><tr><td>47</td><td>mid</td><td>mid</td><td>excellent</td><td>mid</td><td>unstable</td><td>stable</td><td>stable</td><td>10</td><td>A</td><td>47</td><td>0.0</td><td>Uncomfortable</td></tr><tr><td>48</td><td>high</td><td>high</td><td>excellent</td><td>high</td><td>stable</td><td>stable</td><td>unstable</td><td>?</td><td>A</td><td>48</td><td>2.0</td><td>Unknown</td></tr><tr><td>49</td><td>mid</td><td>high</td><td>good</td><td>low</td><td>unstable</td><td>stable</td><td>stable</td><td>10</td><td>A</td><td>49</td><td>0.0</td><td>Uncomfortable</td></tr><tr><td>50</td><td>mid</td><td>high</td><td>good</td><td>mid</td><td>unstable</td><td>mod-stable</td><td>mod-stable</td><td>10</td><td>A</td><td>50</td><td>0.0</td><td>Uncomfortable</td></tr><tr><td>51</td><td>low</td><td>high</td><td>excellent</td><td>mid</td><td>unstable</td><td>stable</td><td>stable</td><td>10</td><td>A</td><td>51</td><td>1.0</td><td>Uncomfortable</td></tr><tr><td>52</td><td>mid</td><td>low</td><td>excellent</td><td>high</td><td>unstable</td><td>stable</td><td>unstable</td><td>10</td><td>A</td><td>52</td><td>0.0</td><td>Uncomfortable</td></tr><tr><td>53</td><td>mid</td><td>mid</td><td>good</td><td>mid</td><td>unstable</td><td>stable</td><td>mod-stable</td><td>10</td><td>S</td><td>53</td><td>0.0</td><td>Uncomfortable</td></tr><tr><td>54</td><td>high</td><td>high</td><td>excellent</td><td>mid</td><td>unstable</td><td>stable</td><td>mod-stable</td><td>10</td><td>A</td><td>54</td><td>2.0</td><td>Uncomfortable</td></tr><tr><td>55</td><td>mid</td><td>mid</td><td>good</td><td>mid</td><td>unstable</td><td>stable</td><td>stable</td><td>15</td><td>A</td><td>55</td><td>0.0</td><td>Comfortable</td></tr><tr><td>56</td><td>high</td><td>mid</td><td>good</td><td>high</td><td>stable</td><td>stable</td><td>unstable</td><td>15</td><td>A</td><td>56</td><td>2.0</td><td>Comfortable</td></tr><tr><td>57</td><td>mid</td><td>low</td><td>good</td><td>high</td><td>unstable</td><td>stable</td><td>mod-stable</td><td>10</td><td>A</td><td>57</td><td>0.0</td><td>Uncomfortable</td></tr><tr><td>58</td><td>low</td><td>low</td><td>good</td><td>high</td><td>stable</td><td>stable</td><td>stable</td><td>10</td><td>A</td><td>58</td><td>1.0</td><td>Uncomfortable</td></tr><tr><td>59</td><td>mid</td><td>high</td><td>good</td><td>mid</td><td>stable</td><td>stable</td><td>mod-stable</td><td>10</td><td>A</td><td>59</td><td>0.0</td><td>Uncomfortable</td></tr><tr><td>60</td><td>mid</td><td>high</td><td>good</td><td>mid</td><td>unstable</td><td>stable</td><td>unstable</td><td>10</td><td>A</td><td>60</td><td>0.0</td><td>Uncomfortable</td></tr><tr><td>61</td><td>mid</td><td>low</td><td>excellent</td><td>high</td><td>stable</td><td>stable</td><td>stable</td><td>10</td><td>A</td><td>61</td><td>0.0</td><td>Uncomfortable</td></tr><tr><td>62</td><td>mid</td><td>mid</td><td>good</td><td>mid</td><td>stable</td><td>stable</td><td>unstable</td><td>10</td><td>A</td><td>62</td><td>0.0</td><td>Uncomfortable</td></tr><tr><td>63</td><td>mid</td><td>low</td><td>excellent</td><td>mid</td><td>stable</td><td>stable</td><td>unstable</td><td>10</td><td>S</td><td>63</td><td>0.0</td><td>Uncomfortable</td></tr><tr><td>64</td><td>high</td><td>mid</td><td>excellent</td><td>mid</td><td>unstable</td><td>unstable</td><td>unstable</td><td>10</td><td>A</td><td>64</td><td>2.0</td><td>Uncomfortable</td></tr><tr><td>65</td><td>mid</td><td>mid</td><td>good</td><td>high</td><td>stable</td><td>stable</td><td>stable</td><td>10</td><td>S</td><td>65</td><td>0.0</td><td>Uncomfortable</td></tr><tr><td>66</td><td>mid</td><td>low</td><td>excellent</td><td>mid</td><td>unstable</td><td>stable</td><td>stable</td><td>10</td><td>A</td><td>66</td><td>0.0</td><td>Uncomfortable</td></tr><tr><td>67</td><td>mid</td><td>mid</td><td>excellent</td><td>mid</td><td>unstable</td><td>stable</td><td>stable</td><td>10</td><td>A</td><td>67</td><td>0.0</td><td>Uncomfortable</td></tr><tr><td>68</td><td>mid</td><td>mid</td><td>excellent</td><td>high</td><td>stable</td><td>stable</td><td>stable</td><td>10</td><td>A</td><td>68</td><td>0.0</td><td>Uncomfortable</td></tr><tr><td>69</td><td>mid</td><td>mid</td><td>excellent</td><td>low</td><td>stable</td><td>stable</td><td>stable</td><td>10</td><td>A</td><td>69</td><td>0.0</td><td>Uncomfortable</td></tr><tr><td>70</td><td>mid</td><td>low</td><td>excellent</td><td>mid</td><td>unstable</td><td>unstable</td><td>unstable</td><td>?</td><td>A</td><td>70</td><td>0.0</td><td>Unknown</td></tr><tr><td>71</td><td>low</td><td>low</td><td>excellent</td><td>mid</td><td>stable</td><td>stable</td><td>stable</td><td>10</td><td>A</td><td>71</td><td>1.0</td><td>Uncomfortable</td></tr><tr><td>72</td><td>mid</td><td>mid</td><td>excellent</td><td>mid</td><td>stable</td><td>stable</td><td>mod-stable</td><td>10</td><td>S</td><td>72</td><td>0.0</td><td>Uncomfortable</td></tr><tr><td>73</td><td>mid</td><td>mid</td><td>excellent</td><td>high</td><td>stable</td><td>stable</td><td>stable</td><td>10</td><td>A</td><td>73</td><td>0.0</td><td>Uncomfortable</td></tr><tr><td>74</td><td>mid</td><td>low</td><td>excellent</td><td>high</td><td>stable</td><td>stable</td><td>mod-stable</td><td>10</td><td>A</td><td>74</td><td>0.0</td><td>Uncomfortable</td></tr><tr><td>75</td><td>low</td><td>mid</td><td>good</td><td>mid</td><td>stable</td><td>stable</td><td>unstable</td><td>10</td><td>A</td><td>75</td><td>1.0</td><td>Uncomfortable</td></tr><tr><td>76</td><td>mid</td><td>mid</td><td>excellent</td><td>mid</td><td>stable</td><td>stable</td><td>mod-stable</td><td>10</td><td>A</td><td>76</td><td>0.0</td><td>Uncomfortable</td></tr><tr><td>77</td><td>mid</td><td>mid</td><td>excellent</td><td>mid</td><td>stable</td><td>stable</td><td>unstable</td><td>10</td><td>A</td><td>77</td><td>0.0</td><td>Uncomfortable</td></tr><tr><td>78</td><td>mid</td><td>mid</td><td>excellent</td><td>mid</td><td>unstable</td><td>unstable</td><td>stable</td><td>10</td><td>S</td><td>78</td><td>0.0</td><td>Uncomfortable</td></tr><tr><td>79</td><td>mid</td><td>mid</td><td>good</td><td>high</td><td>stable</td><td>stable</td><td>stable</td><td>10</td><td>A</td><td>79</td><td>0.0</td><td>Uncomfortable</td></tr><tr><td>80</td><td>mid</td><td>mid</td><td>excellent</td><td>mid</td><td>stable</td><td>stable</td><td>stable</td><td>15</td><td>A</td><td>80</td><td>0.0</td><td>Comfortable</td></tr><tr><td>81</td><td>mid</td><td>mid</td><td>excellent</td><td>mid</td><td>stable</td><td>stable</td><td>stable</td><td>10</td><td>S</td><td>81</td><td>0.0</td><td>Uncomfortable</td></tr><tr><td>82</td><td>mid</td><td>low</td><td>good</td><td>mid</td><td>stable</td><td>stable</td><td>unstable</td><td>10</td><td>I</td><td>82</td><td>0.0</td><td>Uncomfortable</td></tr><tr><td>83</td><td>high</td><td>mid</td><td>excellent</td><td>mid</td><td>unstable</td><td>stable</td><td>unstable</td><td>05</td><td>A</td><td>83</td><td>2.0</td><td>Very Uncomfortable</td></tr><tr><td>84</td><td>mid</td><td>mid</td><td>excellent</td><td>mid</td><td>stable</td><td>stable</td><td>unstable</td><td>10</td><td>A</td><td>84</td><td>0.0</td><td>Uncomfortable</td></tr><tr><td>85</td><td>mid</td><td>mid</td><td>excellent</td><td>mid</td><td>unstable</td><td>stable</td><td>stable</td><td>10</td><td>A</td><td>85</td><td>0.0</td><td>Uncomfortable</td></tr><tr><td>86</td><td>mid</td><td>mid</td><td>excellent</td><td>mid</td><td>unstable</td><td>stable</td><td>stable</td><td>15</td><td>S</td><td>86</td><td>0.0</td><td>Comfortable</td></tr><tr><td>87</td><td>mid</td><td>mid</td><td>good</td><td>mid</td><td>unstable</td><td>stable</td><td>stable</td><td>15</td><td>A</td><td>87</td><td>0.0</td><td>Comfortable</td></tr><tr><td>88</td><td>mid</td><td>mid</td><td>excellent</td><td>mid</td><td>unstable</td><td>stable</td><td>stable</td><td>10</td><td>A</td><td>88</td><td>0.0</td><td>Uncomfortable</td></tr><tr><td>89</td><td>mid</td><td>mid</td><td>good</td><td>mid</td><td>unstable</td><td>stable</td><td>stable</td><td>15</td><td>S</td><td>89</td><td>0.0</td><td>Comfortable</td></tr></tbody></table></div>"
      ]
     },
     "metadata": {
      "application/vnd.databricks.v1+output": {
       "addedWidgets": {},
       "aggData": [],
       "aggError": "",
       "aggOverflow": false,
       "aggSchema": [],
       "aggSeriesLimitReached": false,
       "aggType": "",
       "arguments": {},
       "columnCustomDisplayInfos": {},
       "data": [
        [
         0,
         "mid",
         "low",
         "excellent",
         "mid",
         "stable",
         "stable",
         "stable",
         "15",
         "A",
         0,
         0.0,
         "Comfortable"
        ],
        [
         1,
         "mid",
         "high",
         "excellent",
         "high",
         "stable",
         "stable",
         "stable",
         "10",
         "S",
         1,
         0.0,
         "Uncomfortable"
        ],
        [
         2,
         "high",
         "low",
         "excellent",
         "high",
         "stable",
         "stable",
         "mod-stable",
         "10",
         "A",
         2,
         2.0,
         "Uncomfortable"
        ],
        [
         3,
         "mid",
         "low",
         "good",
         "high",
         "stable",
         "unstable",
         "mod-stable",
         "15",
         "A",
         3,
         0.0,
         "Comfortable"
        ],
        [
         4,
         "mid",
         "mid",
         "excellent",
         "high",
         "stable",
         "stable",
         "stable",
         "10",
         "A",
         4,
         0.0,
         "Uncomfortable"
        ],
        [
         5,
         "high",
         "low",
         "good",
         "mid",
         "stable",
         "stable",
         "unstable",
         "15",
         "S",
         5,
         2.0,
         "Comfortable"
        ],
        [
         6,
         "mid",
         "low",
         "excellent",
         "high",
         "stable",
         "stable",
         "mod-stable",
         "05",
         "S",
         6,
         0.0,
         "Very Uncomfortable"
        ],
        [
         7,
         "high",
         "mid",
         "excellent",
         "mid",
         "unstable",
         "unstable",
         "stable",
         "10",
         "S",
         7,
         2.0,
         "Uncomfortable"
        ],
        [
         8,
         "mid",
         "high",
         "good",
         "mid",
         "stable",
         "stable",
         "stable",
         "10",
         "S",
         8,
         0.0,
         "Uncomfortable"
        ],
        [
         9,
         "mid",
         "low",
         "excellent",
         "mid",
         "unstable",
         "stable",
         "mod-stable",
         "10",
         "S",
         9,
         0.0,
         "Uncomfortable"
        ],
        [
         10,
         "mid",
         "mid",
         "good",
         "mid",
         "stable",
         "stable",
         "stable",
         "15",
         "A",
         10,
         0.0,
         "Comfortable"
        ],
        [
         11,
         "mid",
         "low",
         "good",
         "high",
         "stable",
         "stable",
         "mod-stable",
         "10",
         "A",
         11,
         0.0,
         "Uncomfortable"
        ],
        [
         12,
         "high",
         "high",
         "excellent",
         "high",
         "unstable",
         "stable",
         "unstable",
         "15",
         "A",
         12,
         2.0,
         "Comfortable"
        ],
        [
         13,
         "mid",
         "high",
         "good",
         "mid",
         "unstable",
         "stable",
         "mod-stable",
         "10",
         "A",
         13,
         0.0,
         "Uncomfortable"
        ],
        [
         14,
         "mid",
         "low",
         "good",
         "high",
         "unstable",
         "unstable",
         "stable",
         "15",
         "S",
         14,
         0.0,
         "Comfortable"
        ],
        [
         15,
         "high",
         "high",
         "excellent",
         "high",
         "unstable",
         "stable",
         "unstable",
         "10",
         "A",
         15,
         2.0,
         "Uncomfortable"
        ],
        [
         16,
         "low",
         "high",
         "good",
         "high",
         "unstable",
         "stable",
         "mod-stable",
         "15",
         "A",
         16,
         1.0,
         "Comfortable"
        ],
        [
         17,
         "mid",
         "low",
         "good",
         "high",
         "unstable",
         "stable",
         "stable",
         "10",
         "A",
         17,
         0.0,
         "Uncomfortable"
        ],
        [
         18,
         "mid",
         "high",
         "good",
         "mid",
         "unstable",
         "stable",
         "unstable",
         "15",
         "A",
         18,
         0.0,
         "Comfortable"
        ],
        [
         19,
         "mid",
         "mid",
         "good",
         "mid",
         "stable",
         "stable",
         "stable",
         "10",
         "A",
         19,
         0.0,
         "Uncomfortable"
        ],
        [
         20,
         "low",
         "high",
         "good",
         "mid",
         "unstable",
         "stable",
         "stable",
         "15",
         "A",
         20,
         1.0,
         "Comfortable"
        ],
        [
         21,
         "low",
         "mid",
         "excellent",
         "high",
         "unstable",
         "stable",
         "unstable",
         "10",
         "S",
         21,
         1.0,
         "Uncomfortable"
        ],
        [
         22,
         "mid",
         "mid",
         "good",
         "mid",
         "unstable",
         "stable",
         "unstable",
         "15",
         "A",
         22,
         0.0,
         "Comfortable"
        ],
        [
         23,
         "mid",
         "mid",
         "good",
         "mid",
         "unstable",
         "stable",
         "stable",
         "10",
         "A",
         23,
         0.0,
         "Uncomfortable"
        ],
        [
         24,
         "high",
         "high",
         "good",
         "mid",
         "stable",
         "stable",
         "mod-stable",
         "10",
         "A",
         24,
         2.0,
         "Uncomfortable"
        ],
        [
         25,
         "low",
         "mid",
         "good",
         "mid",
         "unstable",
         "stable",
         "stable",
         "10",
         "A",
         25,
         1.0,
         "Uncomfortable"
        ],
        [
         26,
         "high",
         "mid",
         "good",
         "low",
         "stable",
         "stable",
         "mod-stable",
         "10",
         "A",
         26,
         2.0,
         "Uncomfortable"
        ],
        [
         27,
         "low",
         "mid",
         "excellent",
         "high",
         "stable",
         "stable",
         "mod-stable",
         "10",
         "A",
         27,
         1.0,
         "Uncomfortable"
        ],
        [
         28,
         "mid",
         "mid",
         "excellent",
         "mid",
         "stable",
         "stable",
         "unstable",
         "15",
         "A",
         28,
         0.0,
         "Comfortable"
        ],
        [
         29,
         "mid",
         "mid",
         "good",
         "mid",
         "unstable",
         "stable",
         "unstable",
         "10",
         "S",
         29,
         0.0,
         "Uncomfortable"
        ],
        [
         30,
         "mid",
         "mid",
         "good",
         "high",
         "unstable",
         "stable",
         "stable",
         "10",
         "A",
         30,
         0.0,
         "Uncomfortable"
        ],
        [
         31,
         "low",
         "low",
         "good",
         "mid",
         "unstable",
         "stable",
         "unstable",
         "10",
         "A",
         31,
         1.0,
         "Uncomfortable"
        ],
        [
         32,
         "mid",
         "mid",
         "excellent",
         "high",
         "unstable",
         "stable",
         "mod-stable",
         "10",
         "A",
         32,
         0.0,
         "Uncomfortable"
        ],
        [
         33,
         "mid",
         "low",
         "good",
         "mid",
         "stable",
         "stable",
         "stable",
         "10",
         "A",
         33,
         0.0,
         "Uncomfortable"
        ],
        [
         34,
         "low",
         "mid",
         "excellent",
         "high",
         "stable",
         "stable",
         "mod-stable",
         "10",
         "A",
         34,
         1.0,
         "Uncomfortable"
        ],
        [
         35,
         "mid",
         "mid",
         "good",
         "mid",
         "stable",
         "stable",
         "stable",
         "10",
         "A",
         35,
         0.0,
         "Uncomfortable"
        ],
        [
         36,
         "low",
         "mid",
         "excellent",
         "mid",
         "stable",
         "stable",
         "stable",
         "10",
         "S",
         36,
         1.0,
         "Uncomfortable"
        ],
        [
         37,
         "low",
         "low",
         "good",
         "mid",
         "unstable",
         "stable",
         "unstable",
         "10",
         "S",
         37,
         1.0,
         "Uncomfortable"
        ],
        [
         38,
         "low",
         "low",
         "good",
         "mid",
         "stable",
         "stable",
         "stable",
         "07",
         "S",
         38,
         1.0,
         "Uncomfortable"
        ],
        [
         39,
         "mid",
         "mid",
         "good",
         "high",
         "unstable",
         "stable",
         "mod-stable",
         "10",
         "A",
         39,
         0.0,
         "Uncomfortable"
        ],
        [
         40,
         "low",
         "low",
         "good",
         "mid",
         "unstable",
         "stable",
         "stable",
         "10",
         "A",
         40,
         1.0,
         "Uncomfortable"
        ],
        [
         41,
         "low",
         "mid",
         "good",
         "mid",
         "stable",
         "stable",
         "stable",
         "15",
         "S",
         41,
         1.0,
         "Comfortable"
        ],
        [
         42,
         "high",
         "high",
         "good",
         "high",
         "unstable",
         "stable",
         "stable",
         "15",
         "S",
         42,
         2.0,
         "Comfortable"
        ],
        [
         43,
         "mid",
         "mid",
         "good",
         "mid",
         "stable",
         "stable",
         "stable",
         "10",
         "S",
         43,
         0.0,
         "Uncomfortable"
        ],
        [
         44,
         "low",
         "low",
         "excellent",
         "mid",
         "stable",
         "stable",
         "stable",
         "10",
         "A",
         44,
         1.0,
         "Uncomfortable"
        ],
        [
         45,
         "low",
         "mid",
         "good",
         "mid",
         "unstable",
         "stable",
         "stable",
         "10",
         "S",
         45,
         1.0,
         "Uncomfortable"
        ],
        [
         46,
         "low",
         "mid",
         "good",
         "high",
         "unstable",
         "stable",
         "stable",
         "?",
         "I",
         46,
         1.0,
         "Unknown"
        ],
        [
         47,
         "mid",
         "mid",
         "excellent",
         "mid",
         "unstable",
         "stable",
         "stable",
         "10",
         "A",
         47,
         0.0,
         "Uncomfortable"
        ],
        [
         48,
         "high",
         "high",
         "excellent",
         "high",
         "stable",
         "stable",
         "unstable",
         "?",
         "A",
         48,
         2.0,
         "Unknown"
        ],
        [
         49,
         "mid",
         "high",
         "good",
         "low",
         "unstable",
         "stable",
         "stable",
         "10",
         "A",
         49,
         0.0,
         "Uncomfortable"
        ],
        [
         50,
         "mid",
         "high",
         "good",
         "mid",
         "unstable",
         "mod-stable",
         "mod-stable",
         "10",
         "A",
         50,
         0.0,
         "Uncomfortable"
        ],
        [
         51,
         "low",
         "high",
         "excellent",
         "mid",
         "unstable",
         "stable",
         "stable",
         "10",
         "A",
         51,
         1.0,
         "Uncomfortable"
        ],
        [
         52,
         "mid",
         "low",
         "excellent",
         "high",
         "unstable",
         "stable",
         "unstable",
         "10",
         "A",
         52,
         0.0,
         "Uncomfortable"
        ],
        [
         53,
         "mid",
         "mid",
         "good",
         "mid",
         "unstable",
         "stable",
         "mod-stable",
         "10",
         "S",
         53,
         0.0,
         "Uncomfortable"
        ],
        [
         54,
         "high",
         "high",
         "excellent",
         "mid",
         "unstable",
         "stable",
         "mod-stable",
         "10",
         "A",
         54,
         2.0,
         "Uncomfortable"
        ],
        [
         55,
         "mid",
         "mid",
         "good",
         "mid",
         "unstable",
         "stable",
         "stable",
         "15",
         "A",
         55,
         0.0,
         "Comfortable"
        ],
        [
         56,
         "high",
         "mid",
         "good",
         "high",
         "stable",
         "stable",
         "unstable",
         "15",
         "A",
         56,
         2.0,
         "Comfortable"
        ],
        [
         57,
         "mid",
         "low",
         "good",
         "high",
         "unstable",
         "stable",
         "mod-stable",
         "10",
         "A",
         57,
         0.0,
         "Uncomfortable"
        ],
        [
         58,
         "low",
         "low",
         "good",
         "high",
         "stable",
         "stable",
         "stable",
         "10",
         "A",
         58,
         1.0,
         "Uncomfortable"
        ],
        [
         59,
         "mid",
         "high",
         "good",
         "mid",
         "stable",
         "stable",
         "mod-stable",
         "10",
         "A",
         59,
         0.0,
         "Uncomfortable"
        ],
        [
         60,
         "mid",
         "high",
         "good",
         "mid",
         "unstable",
         "stable",
         "unstable",
         "10",
         "A",
         60,
         0.0,
         "Uncomfortable"
        ],
        [
         61,
         "mid",
         "low",
         "excellent",
         "high",
         "stable",
         "stable",
         "stable",
         "10",
         "A",
         61,
         0.0,
         "Uncomfortable"
        ],
        [
         62,
         "mid",
         "mid",
         "good",
         "mid",
         "stable",
         "stable",
         "unstable",
         "10",
         "A",
         62,
         0.0,
         "Uncomfortable"
        ],
        [
         63,
         "mid",
         "low",
         "excellent",
         "mid",
         "stable",
         "stable",
         "unstable",
         "10",
         "S",
         63,
         0.0,
         "Uncomfortable"
        ],
        [
         64,
         "high",
         "mid",
         "excellent",
         "mid",
         "unstable",
         "unstable",
         "unstable",
         "10",
         "A",
         64,
         2.0,
         "Uncomfortable"
        ],
        [
         65,
         "mid",
         "mid",
         "good",
         "high",
         "stable",
         "stable",
         "stable",
         "10",
         "S",
         65,
         0.0,
         "Uncomfortable"
        ],
        [
         66,
         "mid",
         "low",
         "excellent",
         "mid",
         "unstable",
         "stable",
         "stable",
         "10",
         "A",
         66,
         0.0,
         "Uncomfortable"
        ],
        [
         67,
         "mid",
         "mid",
         "excellent",
         "mid",
         "unstable",
         "stable",
         "stable",
         "10",
         "A",
         67,
         0.0,
         "Uncomfortable"
        ],
        [
         68,
         "mid",
         "mid",
         "excellent",
         "high",
         "stable",
         "stable",
         "stable",
         "10",
         "A",
         68,
         0.0,
         "Uncomfortable"
        ],
        [
         69,
         "mid",
         "mid",
         "excellent",
         "low",
         "stable",
         "stable",
         "stable",
         "10",
         "A",
         69,
         0.0,
         "Uncomfortable"
        ],
        [
         70,
         "mid",
         "low",
         "excellent",
         "mid",
         "unstable",
         "unstable",
         "unstable",
         "?",
         "A",
         70,
         0.0,
         "Unknown"
        ],
        [
         71,
         "low",
         "low",
         "excellent",
         "mid",
         "stable",
         "stable",
         "stable",
         "10",
         "A",
         71,
         1.0,
         "Uncomfortable"
        ],
        [
         72,
         "mid",
         "mid",
         "excellent",
         "mid",
         "stable",
         "stable",
         "mod-stable",
         "10",
         "S",
         72,
         0.0,
         "Uncomfortable"
        ],
        [
         73,
         "mid",
         "mid",
         "excellent",
         "high",
         "stable",
         "stable",
         "stable",
         "10",
         "A",
         73,
         0.0,
         "Uncomfortable"
        ],
        [
         74,
         "mid",
         "low",
         "excellent",
         "high",
         "stable",
         "stable",
         "mod-stable",
         "10",
         "A",
         74,
         0.0,
         "Uncomfortable"
        ],
        [
         75,
         "low",
         "mid",
         "good",
         "mid",
         "stable",
         "stable",
         "unstable",
         "10",
         "A",
         75,
         1.0,
         "Uncomfortable"
        ],
        [
         76,
         "mid",
         "mid",
         "excellent",
         "mid",
         "stable",
         "stable",
         "mod-stable",
         "10",
         "A",
         76,
         0.0,
         "Uncomfortable"
        ],
        [
         77,
         "mid",
         "mid",
         "excellent",
         "mid",
         "stable",
         "stable",
         "unstable",
         "10",
         "A",
         77,
         0.0,
         "Uncomfortable"
        ],
        [
         78,
         "mid",
         "mid",
         "excellent",
         "mid",
         "unstable",
         "unstable",
         "stable",
         "10",
         "S",
         78,
         0.0,
         "Uncomfortable"
        ],
        [
         79,
         "mid",
         "mid",
         "good",
         "high",
         "stable",
         "stable",
         "stable",
         "10",
         "A",
         79,
         0.0,
         "Uncomfortable"
        ],
        [
         80,
         "mid",
         "mid",
         "excellent",
         "mid",
         "stable",
         "stable",
         "stable",
         "15",
         "A",
         80,
         0.0,
         "Comfortable"
        ],
        [
         81,
         "mid",
         "mid",
         "excellent",
         "mid",
         "stable",
         "stable",
         "stable",
         "10",
         "S",
         81,
         0.0,
         "Uncomfortable"
        ],
        [
         82,
         "mid",
         "low",
         "good",
         "mid",
         "stable",
         "stable",
         "unstable",
         "10",
         "I",
         82,
         0.0,
         "Uncomfortable"
        ],
        [
         83,
         "high",
         "mid",
         "excellent",
         "mid",
         "unstable",
         "stable",
         "unstable",
         "05",
         "A",
         83,
         2.0,
         "Very Uncomfortable"
        ],
        [
         84,
         "mid",
         "mid",
         "excellent",
         "mid",
         "stable",
         "stable",
         "unstable",
         "10",
         "A",
         84,
         0.0,
         "Uncomfortable"
        ],
        [
         85,
         "mid",
         "mid",
         "excellent",
         "mid",
         "unstable",
         "stable",
         "stable",
         "10",
         "A",
         85,
         0.0,
         "Uncomfortable"
        ],
        [
         86,
         "mid",
         "mid",
         "excellent",
         "mid",
         "unstable",
         "stable",
         "stable",
         "15",
         "S",
         86,
         0.0,
         "Comfortable"
        ],
        [
         87,
         "mid",
         "mid",
         "good",
         "mid",
         "unstable",
         "stable",
         "stable",
         "15",
         "A",
         87,
         0.0,
         "Comfortable"
        ],
        [
         88,
         "mid",
         "mid",
         "excellent",
         "mid",
         "unstable",
         "stable",
         "stable",
         "10",
         "A",
         88,
         0.0,
         "Uncomfortable"
        ],
        [
         89,
         "mid",
         "mid",
         "good",
         "mid",
         "unstable",
         "stable",
         "stable",
         "15",
         "S",
         89,
         0.0,
         "Comfortable"
        ]
       ],
       "datasetInfos": [],
       "dbfsResultPath": null,
       "isJsonSchema": true,
       "metadata": {},
       "overflow": false,
       "plotOptions": {
        "customPlotOptions": {},
        "displayType": "table",
        "pivotAggregation": null,
        "pivotColumns": null,
        "xColumns": null,
        "yColumns": null
       },
       "removedWidgets": [],
       "schema": [
        {
         "metadata": "{}",
         "name": "index",
         "type": "\"long\""
        },
        {
         "metadata": "{}",
         "name": "L-CORE",
         "type": "\"string\""
        },
        {
         "metadata": "{}",
         "name": "L-SURF",
         "type": "\"string\""
        },
        {
         "metadata": "{}",
         "name": "L-O2",
         "type": "\"string\""
        },
        {
         "metadata": "{}",
         "name": "L-BP",
         "type": "\"string\""
        },
        {
         "metadata": "{}",
         "name": "SURF-STBL",
         "type": "\"string\""
        },
        {
         "metadata": "{}",
         "name": "CORE-STBL",
         "type": "\"string\""
        },
        {
         "metadata": "{}",
         "name": "BP-STBL",
         "type": "\"string\""
        },
        {
         "metadata": "{}",
         "name": "COMFORT",
         "type": "\"string\""
        },
        {
         "metadata": "{}",
         "name": "decision",
         "type": "\"string\""
        },
        {
         "metadata": "{}",
         "name": "index",
         "type": "\"long\""
        },
        {
         "metadata": "{\"ml_attr\":{\"vals\":[\"mid\",\"low\",\"high\"],\"type\":\"nominal\",\"name\":\"L-CORE_index\"}}",
         "name": "L-CORE_index",
         "type": "\"double\""
        },
        {
         "metadata": "{}",
         "name": "COMFORT_Category",
         "type": "\"string\""
        }
       ],
       "type": "table"
      }
     },
     "output_type": "display_data"
    }
   ],
   "source": [
    "df = df.withColumn(\n",
    "    \"COMFORT_Category\",\n",
    "    when(col(\"COMFORT\").between(0, 5), \"Very Uncomfortable\")\n",
    "    .when(col(\"COMFORT\").between(6, 10), \"Uncomfortable\")\n",
    "    .when(col(\"COMFORT\").between(11, 15), \"Comfortable\")\n",
    "    .when(col(\"COMFORT\").between(16, 20), \"Very Comfortable\")\n",
    "    .otherwise(\"Unknown\")\n",
    ")\n",
    "\n",
    "display(df)"
   ]
  },
  {
   "cell_type": "code",
   "execution_count": 0,
   "metadata": {
    "application/vnd.databricks.v1+cell": {
     "cellMetadata": {
      "byteLimit": 2048000,
      "rowLimit": 10000
     },
     "inputWidgets": {},
     "nuid": "63ad45f0-f4db-451f-9747-cedd8ca4235e",
     "showTitle": false,
     "tableResultSettingsMap": {},
     "title": ""
    }
   },
   "outputs": [
    {
     "output_type": "display_data",
     "data": {
      "text/html": [
       "<style scoped>\n",
       "  .table-result-container {\n",
       "    max-height: 300px;\n",
       "    overflow: auto;\n",
       "  }\n",
       "  table, th, td {\n",
       "    border: 1px solid black;\n",
       "    border-collapse: collapse;\n",
       "  }\n",
       "  th, td {\n",
       "    padding: 5px;\n",
       "  }\n",
       "  th {\n",
       "    text-align: left;\n",
       "  }\n",
       "</style><div class='table-result-container'><table class='table-result'><thead style='background-color: white'><tr><th>index</th><th>L_CORE</th><th>L_SURF</th><th>L_O2</th><th>L_BP</th><th>SURF_STBL</th><th>CORE_STBL</th><th>BP_STBL</th><th>COMFORT</th><th>discharge_decision</th><th>index</th><th>L-CORE_index</th><th>COMFORT_Category</th></tr></thead><tbody><tr><td>0</td><td>mid</td><td>low</td><td>excellent</td><td>mid</td><td>stable</td><td>stable</td><td>stable</td><td>15</td><td>A</td><td>0</td><td>0.0</td><td>Comfortable</td></tr><tr><td>1</td><td>mid</td><td>high</td><td>excellent</td><td>high</td><td>stable</td><td>stable</td><td>stable</td><td>10</td><td>S</td><td>1</td><td>0.0</td><td>Uncomfortable</td></tr><tr><td>2</td><td>high</td><td>low</td><td>excellent</td><td>high</td><td>stable</td><td>stable</td><td>mod-stable</td><td>10</td><td>A</td><td>2</td><td>2.0</td><td>Uncomfortable</td></tr><tr><td>3</td><td>mid</td><td>low</td><td>good</td><td>high</td><td>stable</td><td>unstable</td><td>mod-stable</td><td>15</td><td>A</td><td>3</td><td>0.0</td><td>Comfortable</td></tr><tr><td>4</td><td>mid</td><td>mid</td><td>excellent</td><td>high</td><td>stable</td><td>stable</td><td>stable</td><td>10</td><td>A</td><td>4</td><td>0.0</td><td>Uncomfortable</td></tr><tr><td>5</td><td>high</td><td>low</td><td>good</td><td>mid</td><td>stable</td><td>stable</td><td>unstable</td><td>15</td><td>S</td><td>5</td><td>2.0</td><td>Comfortable</td></tr><tr><td>6</td><td>mid</td><td>low</td><td>excellent</td><td>high</td><td>stable</td><td>stable</td><td>mod-stable</td><td>05</td><td>S</td><td>6</td><td>0.0</td><td>Very Uncomfortable</td></tr><tr><td>7</td><td>high</td><td>mid</td><td>excellent</td><td>mid</td><td>unstable</td><td>unstable</td><td>stable</td><td>10</td><td>S</td><td>7</td><td>2.0</td><td>Uncomfortable</td></tr><tr><td>8</td><td>mid</td><td>high</td><td>good</td><td>mid</td><td>stable</td><td>stable</td><td>stable</td><td>10</td><td>S</td><td>8</td><td>0.0</td><td>Uncomfortable</td></tr><tr><td>9</td><td>mid</td><td>low</td><td>excellent</td><td>mid</td><td>unstable</td><td>stable</td><td>mod-stable</td><td>10</td><td>S</td><td>9</td><td>0.0</td><td>Uncomfortable</td></tr><tr><td>10</td><td>mid</td><td>mid</td><td>good</td><td>mid</td><td>stable</td><td>stable</td><td>stable</td><td>15</td><td>A</td><td>10</td><td>0.0</td><td>Comfortable</td></tr><tr><td>11</td><td>mid</td><td>low</td><td>good</td><td>high</td><td>stable</td><td>stable</td><td>mod-stable</td><td>10</td><td>A</td><td>11</td><td>0.0</td><td>Uncomfortable</td></tr><tr><td>12</td><td>high</td><td>high</td><td>excellent</td><td>high</td><td>unstable</td><td>stable</td><td>unstable</td><td>15</td><td>A</td><td>12</td><td>2.0</td><td>Comfortable</td></tr><tr><td>13</td><td>mid</td><td>high</td><td>good</td><td>mid</td><td>unstable</td><td>stable</td><td>mod-stable</td><td>10</td><td>A</td><td>13</td><td>0.0</td><td>Uncomfortable</td></tr><tr><td>14</td><td>mid</td><td>low</td><td>good</td><td>high</td><td>unstable</td><td>unstable</td><td>stable</td><td>15</td><td>S</td><td>14</td><td>0.0</td><td>Comfortable</td></tr><tr><td>15</td><td>high</td><td>high</td><td>excellent</td><td>high</td><td>unstable</td><td>stable</td><td>unstable</td><td>10</td><td>A</td><td>15</td><td>2.0</td><td>Uncomfortable</td></tr><tr><td>16</td><td>low</td><td>high</td><td>good</td><td>high</td><td>unstable</td><td>stable</td><td>mod-stable</td><td>15</td><td>A</td><td>16</td><td>1.0</td><td>Comfortable</td></tr><tr><td>17</td><td>mid</td><td>low</td><td>good</td><td>high</td><td>unstable</td><td>stable</td><td>stable</td><td>10</td><td>A</td><td>17</td><td>0.0</td><td>Uncomfortable</td></tr><tr><td>18</td><td>mid</td><td>high</td><td>good</td><td>mid</td><td>unstable</td><td>stable</td><td>unstable</td><td>15</td><td>A</td><td>18</td><td>0.0</td><td>Comfortable</td></tr><tr><td>19</td><td>mid</td><td>mid</td><td>good</td><td>mid</td><td>stable</td><td>stable</td><td>stable</td><td>10</td><td>A</td><td>19</td><td>0.0</td><td>Uncomfortable</td></tr><tr><td>20</td><td>low</td><td>high</td><td>good</td><td>mid</td><td>unstable</td><td>stable</td><td>stable</td><td>15</td><td>A</td><td>20</td><td>1.0</td><td>Comfortable</td></tr><tr><td>21</td><td>low</td><td>mid</td><td>excellent</td><td>high</td><td>unstable</td><td>stable</td><td>unstable</td><td>10</td><td>S</td><td>21</td><td>1.0</td><td>Uncomfortable</td></tr><tr><td>22</td><td>mid</td><td>mid</td><td>good</td><td>mid</td><td>unstable</td><td>stable</td><td>unstable</td><td>15</td><td>A</td><td>22</td><td>0.0</td><td>Comfortable</td></tr><tr><td>23</td><td>mid</td><td>mid</td><td>good</td><td>mid</td><td>unstable</td><td>stable</td><td>stable</td><td>10</td><td>A</td><td>23</td><td>0.0</td><td>Uncomfortable</td></tr><tr><td>24</td><td>high</td><td>high</td><td>good</td><td>mid</td><td>stable</td><td>stable</td><td>mod-stable</td><td>10</td><td>A</td><td>24</td><td>2.0</td><td>Uncomfortable</td></tr><tr><td>25</td><td>low</td><td>mid</td><td>good</td><td>mid</td><td>unstable</td><td>stable</td><td>stable</td><td>10</td><td>A</td><td>25</td><td>1.0</td><td>Uncomfortable</td></tr><tr><td>26</td><td>high</td><td>mid</td><td>good</td><td>low</td><td>stable</td><td>stable</td><td>mod-stable</td><td>10</td><td>A</td><td>26</td><td>2.0</td><td>Uncomfortable</td></tr><tr><td>27</td><td>low</td><td>mid</td><td>excellent</td><td>high</td><td>stable</td><td>stable</td><td>mod-stable</td><td>10</td><td>A</td><td>27</td><td>1.0</td><td>Uncomfortable</td></tr><tr><td>28</td><td>mid</td><td>mid</td><td>excellent</td><td>mid</td><td>stable</td><td>stable</td><td>unstable</td><td>15</td><td>A</td><td>28</td><td>0.0</td><td>Comfortable</td></tr><tr><td>29</td><td>mid</td><td>mid</td><td>good</td><td>mid</td><td>unstable</td><td>stable</td><td>unstable</td><td>10</td><td>S</td><td>29</td><td>0.0</td><td>Uncomfortable</td></tr><tr><td>30</td><td>mid</td><td>mid</td><td>good</td><td>high</td><td>unstable</td><td>stable</td><td>stable</td><td>10</td><td>A</td><td>30</td><td>0.0</td><td>Uncomfortable</td></tr><tr><td>31</td><td>low</td><td>low</td><td>good</td><td>mid</td><td>unstable</td><td>stable</td><td>unstable</td><td>10</td><td>A</td><td>31</td><td>1.0</td><td>Uncomfortable</td></tr><tr><td>32</td><td>mid</td><td>mid</td><td>excellent</td><td>high</td><td>unstable</td><td>stable</td><td>mod-stable</td><td>10</td><td>A</td><td>32</td><td>0.0</td><td>Uncomfortable</td></tr><tr><td>33</td><td>mid</td><td>low</td><td>good</td><td>mid</td><td>stable</td><td>stable</td><td>stable</td><td>10</td><td>A</td><td>33</td><td>0.0</td><td>Uncomfortable</td></tr><tr><td>34</td><td>low</td><td>mid</td><td>excellent</td><td>high</td><td>stable</td><td>stable</td><td>mod-stable</td><td>10</td><td>A</td><td>34</td><td>1.0</td><td>Uncomfortable</td></tr><tr><td>35</td><td>mid</td><td>mid</td><td>good</td><td>mid</td><td>stable</td><td>stable</td><td>stable</td><td>10</td><td>A</td><td>35</td><td>0.0</td><td>Uncomfortable</td></tr><tr><td>36</td><td>low</td><td>mid</td><td>excellent</td><td>mid</td><td>stable</td><td>stable</td><td>stable</td><td>10</td><td>S</td><td>36</td><td>1.0</td><td>Uncomfortable</td></tr><tr><td>37</td><td>low</td><td>low</td><td>good</td><td>mid</td><td>unstable</td><td>stable</td><td>unstable</td><td>10</td><td>S</td><td>37</td><td>1.0</td><td>Uncomfortable</td></tr><tr><td>38</td><td>low</td><td>low</td><td>good</td><td>mid</td><td>stable</td><td>stable</td><td>stable</td><td>07</td><td>S</td><td>38</td><td>1.0</td><td>Uncomfortable</td></tr><tr><td>39</td><td>mid</td><td>mid</td><td>good</td><td>high</td><td>unstable</td><td>stable</td><td>mod-stable</td><td>10</td><td>A</td><td>39</td><td>0.0</td><td>Uncomfortable</td></tr><tr><td>40</td><td>low</td><td>low</td><td>good</td><td>mid</td><td>unstable</td><td>stable</td><td>stable</td><td>10</td><td>A</td><td>40</td><td>1.0</td><td>Uncomfortable</td></tr><tr><td>41</td><td>low</td><td>mid</td><td>good</td><td>mid</td><td>stable</td><td>stable</td><td>stable</td><td>15</td><td>S</td><td>41</td><td>1.0</td><td>Comfortable</td></tr><tr><td>42</td><td>high</td><td>high</td><td>good</td><td>high</td><td>unstable</td><td>stable</td><td>stable</td><td>15</td><td>S</td><td>42</td><td>2.0</td><td>Comfortable</td></tr><tr><td>43</td><td>mid</td><td>mid</td><td>good</td><td>mid</td><td>stable</td><td>stable</td><td>stable</td><td>10</td><td>S</td><td>43</td><td>0.0</td><td>Uncomfortable</td></tr><tr><td>44</td><td>low</td><td>low</td><td>excellent</td><td>mid</td><td>stable</td><td>stable</td><td>stable</td><td>10</td><td>A</td><td>44</td><td>1.0</td><td>Uncomfortable</td></tr><tr><td>45</td><td>low</td><td>mid</td><td>good</td><td>mid</td><td>unstable</td><td>stable</td><td>stable</td><td>10</td><td>S</td><td>45</td><td>1.0</td><td>Uncomfortable</td></tr><tr><td>46</td><td>low</td><td>mid</td><td>good</td><td>high</td><td>unstable</td><td>stable</td><td>stable</td><td>?</td><td>I</td><td>46</td><td>1.0</td><td>Unknown</td></tr><tr><td>47</td><td>mid</td><td>mid</td><td>excellent</td><td>mid</td><td>unstable</td><td>stable</td><td>stable</td><td>10</td><td>A</td><td>47</td><td>0.0</td><td>Uncomfortable</td></tr><tr><td>48</td><td>high</td><td>high</td><td>excellent</td><td>high</td><td>stable</td><td>stable</td><td>unstable</td><td>?</td><td>A</td><td>48</td><td>2.0</td><td>Unknown</td></tr><tr><td>49</td><td>mid</td><td>high</td><td>good</td><td>low</td><td>unstable</td><td>stable</td><td>stable</td><td>10</td><td>A</td><td>49</td><td>0.0</td><td>Uncomfortable</td></tr><tr><td>50</td><td>mid</td><td>high</td><td>good</td><td>mid</td><td>unstable</td><td>mod-stable</td><td>mod-stable</td><td>10</td><td>A</td><td>50</td><td>0.0</td><td>Uncomfortable</td></tr><tr><td>51</td><td>low</td><td>high</td><td>excellent</td><td>mid</td><td>unstable</td><td>stable</td><td>stable</td><td>10</td><td>A</td><td>51</td><td>1.0</td><td>Uncomfortable</td></tr><tr><td>52</td><td>mid</td><td>low</td><td>excellent</td><td>high</td><td>unstable</td><td>stable</td><td>unstable</td><td>10</td><td>A</td><td>52</td><td>0.0</td><td>Uncomfortable</td></tr><tr><td>53</td><td>mid</td><td>mid</td><td>good</td><td>mid</td><td>unstable</td><td>stable</td><td>mod-stable</td><td>10</td><td>S</td><td>53</td><td>0.0</td><td>Uncomfortable</td></tr><tr><td>54</td><td>high</td><td>high</td><td>excellent</td><td>mid</td><td>unstable</td><td>stable</td><td>mod-stable</td><td>10</td><td>A</td><td>54</td><td>2.0</td><td>Uncomfortable</td></tr><tr><td>55</td><td>mid</td><td>mid</td><td>good</td><td>mid</td><td>unstable</td><td>stable</td><td>stable</td><td>15</td><td>A</td><td>55</td><td>0.0</td><td>Comfortable</td></tr><tr><td>56</td><td>high</td><td>mid</td><td>good</td><td>high</td><td>stable</td><td>stable</td><td>unstable</td><td>15</td><td>A</td><td>56</td><td>2.0</td><td>Comfortable</td></tr><tr><td>57</td><td>mid</td><td>low</td><td>good</td><td>high</td><td>unstable</td><td>stable</td><td>mod-stable</td><td>10</td><td>A</td><td>57</td><td>0.0</td><td>Uncomfortable</td></tr><tr><td>58</td><td>low</td><td>low</td><td>good</td><td>high</td><td>stable</td><td>stable</td><td>stable</td><td>10</td><td>A</td><td>58</td><td>1.0</td><td>Uncomfortable</td></tr><tr><td>59</td><td>mid</td><td>high</td><td>good</td><td>mid</td><td>stable</td><td>stable</td><td>mod-stable</td><td>10</td><td>A</td><td>59</td><td>0.0</td><td>Uncomfortable</td></tr><tr><td>60</td><td>mid</td><td>high</td><td>good</td><td>mid</td><td>unstable</td><td>stable</td><td>unstable</td><td>10</td><td>A</td><td>60</td><td>0.0</td><td>Uncomfortable</td></tr><tr><td>61</td><td>mid</td><td>low</td><td>excellent</td><td>high</td><td>stable</td><td>stable</td><td>stable</td><td>10</td><td>A</td><td>61</td><td>0.0</td><td>Uncomfortable</td></tr><tr><td>62</td><td>mid</td><td>mid</td><td>good</td><td>mid</td><td>stable</td><td>stable</td><td>unstable</td><td>10</td><td>A</td><td>62</td><td>0.0</td><td>Uncomfortable</td></tr><tr><td>63</td><td>mid</td><td>low</td><td>excellent</td><td>mid</td><td>stable</td><td>stable</td><td>unstable</td><td>10</td><td>S</td><td>63</td><td>0.0</td><td>Uncomfortable</td></tr><tr><td>64</td><td>high</td><td>mid</td><td>excellent</td><td>mid</td><td>unstable</td><td>unstable</td><td>unstable</td><td>10</td><td>A</td><td>64</td><td>2.0</td><td>Uncomfortable</td></tr><tr><td>65</td><td>mid</td><td>mid</td><td>good</td><td>high</td><td>stable</td><td>stable</td><td>stable</td><td>10</td><td>S</td><td>65</td><td>0.0</td><td>Uncomfortable</td></tr><tr><td>66</td><td>mid</td><td>low</td><td>excellent</td><td>mid</td><td>unstable</td><td>stable</td><td>stable</td><td>10</td><td>A</td><td>66</td><td>0.0</td><td>Uncomfortable</td></tr><tr><td>67</td><td>mid</td><td>mid</td><td>excellent</td><td>mid</td><td>unstable</td><td>stable</td><td>stable</td><td>10</td><td>A</td><td>67</td><td>0.0</td><td>Uncomfortable</td></tr><tr><td>68</td><td>mid</td><td>mid</td><td>excellent</td><td>high</td><td>stable</td><td>stable</td><td>stable</td><td>10</td><td>A</td><td>68</td><td>0.0</td><td>Uncomfortable</td></tr><tr><td>69</td><td>mid</td><td>mid</td><td>excellent</td><td>low</td><td>stable</td><td>stable</td><td>stable</td><td>10</td><td>A</td><td>69</td><td>0.0</td><td>Uncomfortable</td></tr><tr><td>70</td><td>mid</td><td>low</td><td>excellent</td><td>mid</td><td>unstable</td><td>unstable</td><td>unstable</td><td>?</td><td>A</td><td>70</td><td>0.0</td><td>Unknown</td></tr><tr><td>71</td><td>low</td><td>low</td><td>excellent</td><td>mid</td><td>stable</td><td>stable</td><td>stable</td><td>10</td><td>A</td><td>71</td><td>1.0</td><td>Uncomfortable</td></tr><tr><td>72</td><td>mid</td><td>mid</td><td>excellent</td><td>mid</td><td>stable</td><td>stable</td><td>mod-stable</td><td>10</td><td>S</td><td>72</td><td>0.0</td><td>Uncomfortable</td></tr><tr><td>73</td><td>mid</td><td>mid</td><td>excellent</td><td>high</td><td>stable</td><td>stable</td><td>stable</td><td>10</td><td>A</td><td>73</td><td>0.0</td><td>Uncomfortable</td></tr><tr><td>74</td><td>mid</td><td>low</td><td>excellent</td><td>high</td><td>stable</td><td>stable</td><td>mod-stable</td><td>10</td><td>A</td><td>74</td><td>0.0</td><td>Uncomfortable</td></tr><tr><td>75</td><td>low</td><td>mid</td><td>good</td><td>mid</td><td>stable</td><td>stable</td><td>unstable</td><td>10</td><td>A</td><td>75</td><td>1.0</td><td>Uncomfortable</td></tr><tr><td>76</td><td>mid</td><td>mid</td><td>excellent</td><td>mid</td><td>stable</td><td>stable</td><td>mod-stable</td><td>10</td><td>A</td><td>76</td><td>0.0</td><td>Uncomfortable</td></tr><tr><td>77</td><td>mid</td><td>mid</td><td>excellent</td><td>mid</td><td>stable</td><td>stable</td><td>unstable</td><td>10</td><td>A</td><td>77</td><td>0.0</td><td>Uncomfortable</td></tr><tr><td>78</td><td>mid</td><td>mid</td><td>excellent</td><td>mid</td><td>unstable</td><td>unstable</td><td>stable</td><td>10</td><td>S</td><td>78</td><td>0.0</td><td>Uncomfortable</td></tr><tr><td>79</td><td>mid</td><td>mid</td><td>good</td><td>high</td><td>stable</td><td>stable</td><td>stable</td><td>10</td><td>A</td><td>79</td><td>0.0</td><td>Uncomfortable</td></tr><tr><td>80</td><td>mid</td><td>mid</td><td>excellent</td><td>mid</td><td>stable</td><td>stable</td><td>stable</td><td>15</td><td>A</td><td>80</td><td>0.0</td><td>Comfortable</td></tr><tr><td>81</td><td>mid</td><td>mid</td><td>excellent</td><td>mid</td><td>stable</td><td>stable</td><td>stable</td><td>10</td><td>S</td><td>81</td><td>0.0</td><td>Uncomfortable</td></tr><tr><td>82</td><td>mid</td><td>low</td><td>good</td><td>mid</td><td>stable</td><td>stable</td><td>unstable</td><td>10</td><td>I</td><td>82</td><td>0.0</td><td>Uncomfortable</td></tr><tr><td>83</td><td>high</td><td>mid</td><td>excellent</td><td>mid</td><td>unstable</td><td>stable</td><td>unstable</td><td>05</td><td>A</td><td>83</td><td>2.0</td><td>Very Uncomfortable</td></tr><tr><td>84</td><td>mid</td><td>mid</td><td>excellent</td><td>mid</td><td>stable</td><td>stable</td><td>unstable</td><td>10</td><td>A</td><td>84</td><td>0.0</td><td>Uncomfortable</td></tr><tr><td>85</td><td>mid</td><td>mid</td><td>excellent</td><td>mid</td><td>unstable</td><td>stable</td><td>stable</td><td>10</td><td>A</td><td>85</td><td>0.0</td><td>Uncomfortable</td></tr><tr><td>86</td><td>mid</td><td>mid</td><td>excellent</td><td>mid</td><td>unstable</td><td>stable</td><td>stable</td><td>15</td><td>S</td><td>86</td><td>0.0</td><td>Comfortable</td></tr><tr><td>87</td><td>mid</td><td>mid</td><td>good</td><td>mid</td><td>unstable</td><td>stable</td><td>stable</td><td>15</td><td>A</td><td>87</td><td>0.0</td><td>Comfortable</td></tr><tr><td>88</td><td>mid</td><td>mid</td><td>excellent</td><td>mid</td><td>unstable</td><td>stable</td><td>stable</td><td>10</td><td>A</td><td>88</td><td>0.0</td><td>Uncomfortable</td></tr><tr><td>89</td><td>mid</td><td>mid</td><td>good</td><td>mid</td><td>unstable</td><td>stable</td><td>stable</td><td>15</td><td>S</td><td>89</td><td>0.0</td><td>Comfortable</td></tr></tbody></table></div>"
      ]
     },
     "metadata": {
      "application/vnd.databricks.v1+output": {
       "addedWidgets": {},
       "aggData": [],
       "aggError": "",
       "aggOverflow": false,
       "aggSchema": [],
       "aggSeriesLimitReached": false,
       "aggType": "",
       "arguments": {},
       "columnCustomDisplayInfos": {},
       "data": [
        [
         0,
         "mid",
         "low",
         "excellent",
         "mid",
         "stable",
         "stable",
         "stable",
         "15",
         "A",
         0,
         0.0,
         "Comfortable"
        ],
        [
         1,
         "mid",
         "high",
         "excellent",
         "high",
         "stable",
         "stable",
         "stable",
         "10",
         "S",
         1,
         0.0,
         "Uncomfortable"
        ],
        [
         2,
         "high",
         "low",
         "excellent",
         "high",
         "stable",
         "stable",
         "mod-stable",
         "10",
         "A",
         2,
         2.0,
         "Uncomfortable"
        ],
        [
         3,
         "mid",
         "low",
         "good",
         "high",
         "stable",
         "unstable",
         "mod-stable",
         "15",
         "A",
         3,
         0.0,
         "Comfortable"
        ],
        [
         4,
         "mid",
         "mid",
         "excellent",
         "high",
         "stable",
         "stable",
         "stable",
         "10",
         "A",
         4,
         0.0,
         "Uncomfortable"
        ],
        [
         5,
         "high",
         "low",
         "good",
         "mid",
         "stable",
         "stable",
         "unstable",
         "15",
         "S",
         5,
         2.0,
         "Comfortable"
        ],
        [
         6,
         "mid",
         "low",
         "excellent",
         "high",
         "stable",
         "stable",
         "mod-stable",
         "05",
         "S",
         6,
         0.0,
         "Very Uncomfortable"
        ],
        [
         7,
         "high",
         "mid",
         "excellent",
         "mid",
         "unstable",
         "unstable",
         "stable",
         "10",
         "S",
         7,
         2.0,
         "Uncomfortable"
        ],
        [
         8,
         "mid",
         "high",
         "good",
         "mid",
         "stable",
         "stable",
         "stable",
         "10",
         "S",
         8,
         0.0,
         "Uncomfortable"
        ],
        [
         9,
         "mid",
         "low",
         "excellent",
         "mid",
         "unstable",
         "stable",
         "mod-stable",
         "10",
         "S",
         9,
         0.0,
         "Uncomfortable"
        ],
        [
         10,
         "mid",
         "mid",
         "good",
         "mid",
         "stable",
         "stable",
         "stable",
         "15",
         "A",
         10,
         0.0,
         "Comfortable"
        ],
        [
         11,
         "mid",
         "low",
         "good",
         "high",
         "stable",
         "stable",
         "mod-stable",
         "10",
         "A",
         11,
         0.0,
         "Uncomfortable"
        ],
        [
         12,
         "high",
         "high",
         "excellent",
         "high",
         "unstable",
         "stable",
         "unstable",
         "15",
         "A",
         12,
         2.0,
         "Comfortable"
        ],
        [
         13,
         "mid",
         "high",
         "good",
         "mid",
         "unstable",
         "stable",
         "mod-stable",
         "10",
         "A",
         13,
         0.0,
         "Uncomfortable"
        ],
        [
         14,
         "mid",
         "low",
         "good",
         "high",
         "unstable",
         "unstable",
         "stable",
         "15",
         "S",
         14,
         0.0,
         "Comfortable"
        ],
        [
         15,
         "high",
         "high",
         "excellent",
         "high",
         "unstable",
         "stable",
         "unstable",
         "10",
         "A",
         15,
         2.0,
         "Uncomfortable"
        ],
        [
         16,
         "low",
         "high",
         "good",
         "high",
         "unstable",
         "stable",
         "mod-stable",
         "15",
         "A",
         16,
         1.0,
         "Comfortable"
        ],
        [
         17,
         "mid",
         "low",
         "good",
         "high",
         "unstable",
         "stable",
         "stable",
         "10",
         "A",
         17,
         0.0,
         "Uncomfortable"
        ],
        [
         18,
         "mid",
         "high",
         "good",
         "mid",
         "unstable",
         "stable",
         "unstable",
         "15",
         "A",
         18,
         0.0,
         "Comfortable"
        ],
        [
         19,
         "mid",
         "mid",
         "good",
         "mid",
         "stable",
         "stable",
         "stable",
         "10",
         "A",
         19,
         0.0,
         "Uncomfortable"
        ],
        [
         20,
         "low",
         "high",
         "good",
         "mid",
         "unstable",
         "stable",
         "stable",
         "15",
         "A",
         20,
         1.0,
         "Comfortable"
        ],
        [
         21,
         "low",
         "mid",
         "excellent",
         "high",
         "unstable",
         "stable",
         "unstable",
         "10",
         "S",
         21,
         1.0,
         "Uncomfortable"
        ],
        [
         22,
         "mid",
         "mid",
         "good",
         "mid",
         "unstable",
         "stable",
         "unstable",
         "15",
         "A",
         22,
         0.0,
         "Comfortable"
        ],
        [
         23,
         "mid",
         "mid",
         "good",
         "mid",
         "unstable",
         "stable",
         "stable",
         "10",
         "A",
         23,
         0.0,
         "Uncomfortable"
        ],
        [
         24,
         "high",
         "high",
         "good",
         "mid",
         "stable",
         "stable",
         "mod-stable",
         "10",
         "A",
         24,
         2.0,
         "Uncomfortable"
        ],
        [
         25,
         "low",
         "mid",
         "good",
         "mid",
         "unstable",
         "stable",
         "stable",
         "10",
         "A",
         25,
         1.0,
         "Uncomfortable"
        ],
        [
         26,
         "high",
         "mid",
         "good",
         "low",
         "stable",
         "stable",
         "mod-stable",
         "10",
         "A",
         26,
         2.0,
         "Uncomfortable"
        ],
        [
         27,
         "low",
         "mid",
         "excellent",
         "high",
         "stable",
         "stable",
         "mod-stable",
         "10",
         "A",
         27,
         1.0,
         "Uncomfortable"
        ],
        [
         28,
         "mid",
         "mid",
         "excellent",
         "mid",
         "stable",
         "stable",
         "unstable",
         "15",
         "A",
         28,
         0.0,
         "Comfortable"
        ],
        [
         29,
         "mid",
         "mid",
         "good",
         "mid",
         "unstable",
         "stable",
         "unstable",
         "10",
         "S",
         29,
         0.0,
         "Uncomfortable"
        ],
        [
         30,
         "mid",
         "mid",
         "good",
         "high",
         "unstable",
         "stable",
         "stable",
         "10",
         "A",
         30,
         0.0,
         "Uncomfortable"
        ],
        [
         31,
         "low",
         "low",
         "good",
         "mid",
         "unstable",
         "stable",
         "unstable",
         "10",
         "A",
         31,
         1.0,
         "Uncomfortable"
        ],
        [
         32,
         "mid",
         "mid",
         "excellent",
         "high",
         "unstable",
         "stable",
         "mod-stable",
         "10",
         "A",
         32,
         0.0,
         "Uncomfortable"
        ],
        [
         33,
         "mid",
         "low",
         "good",
         "mid",
         "stable",
         "stable",
         "stable",
         "10",
         "A",
         33,
         0.0,
         "Uncomfortable"
        ],
        [
         34,
         "low",
         "mid",
         "excellent",
         "high",
         "stable",
         "stable",
         "mod-stable",
         "10",
         "A",
         34,
         1.0,
         "Uncomfortable"
        ],
        [
         35,
         "mid",
         "mid",
         "good",
         "mid",
         "stable",
         "stable",
         "stable",
         "10",
         "A",
         35,
         0.0,
         "Uncomfortable"
        ],
        [
         36,
         "low",
         "mid",
         "excellent",
         "mid",
         "stable",
         "stable",
         "stable",
         "10",
         "S",
         36,
         1.0,
         "Uncomfortable"
        ],
        [
         37,
         "low",
         "low",
         "good",
         "mid",
         "unstable",
         "stable",
         "unstable",
         "10",
         "S",
         37,
         1.0,
         "Uncomfortable"
        ],
        [
         38,
         "low",
         "low",
         "good",
         "mid",
         "stable",
         "stable",
         "stable",
         "07",
         "S",
         38,
         1.0,
         "Uncomfortable"
        ],
        [
         39,
         "mid",
         "mid",
         "good",
         "high",
         "unstable",
         "stable",
         "mod-stable",
         "10",
         "A",
         39,
         0.0,
         "Uncomfortable"
        ],
        [
         40,
         "low",
         "low",
         "good",
         "mid",
         "unstable",
         "stable",
         "stable",
         "10",
         "A",
         40,
         1.0,
         "Uncomfortable"
        ],
        [
         41,
         "low",
         "mid",
         "good",
         "mid",
         "stable",
         "stable",
         "stable",
         "15",
         "S",
         41,
         1.0,
         "Comfortable"
        ],
        [
         42,
         "high",
         "high",
         "good",
         "high",
         "unstable",
         "stable",
         "stable",
         "15",
         "S",
         42,
         2.0,
         "Comfortable"
        ],
        [
         43,
         "mid",
         "mid",
         "good",
         "mid",
         "stable",
         "stable",
         "stable",
         "10",
         "S",
         43,
         0.0,
         "Uncomfortable"
        ],
        [
         44,
         "low",
         "low",
         "excellent",
         "mid",
         "stable",
         "stable",
         "stable",
         "10",
         "A",
         44,
         1.0,
         "Uncomfortable"
        ],
        [
         45,
         "low",
         "mid",
         "good",
         "mid",
         "unstable",
         "stable",
         "stable",
         "10",
         "S",
         45,
         1.0,
         "Uncomfortable"
        ],
        [
         46,
         "low",
         "mid",
         "good",
         "high",
         "unstable",
         "stable",
         "stable",
         "?",
         "I",
         46,
         1.0,
         "Unknown"
        ],
        [
         47,
         "mid",
         "mid",
         "excellent",
         "mid",
         "unstable",
         "stable",
         "stable",
         "10",
         "A",
         47,
         0.0,
         "Uncomfortable"
        ],
        [
         48,
         "high",
         "high",
         "excellent",
         "high",
         "stable",
         "stable",
         "unstable",
         "?",
         "A",
         48,
         2.0,
         "Unknown"
        ],
        [
         49,
         "mid",
         "high",
         "good",
         "low",
         "unstable",
         "stable",
         "stable",
         "10",
         "A",
         49,
         0.0,
         "Uncomfortable"
        ],
        [
         50,
         "mid",
         "high",
         "good",
         "mid",
         "unstable",
         "mod-stable",
         "mod-stable",
         "10",
         "A",
         50,
         0.0,
         "Uncomfortable"
        ],
        [
         51,
         "low",
         "high",
         "excellent",
         "mid",
         "unstable",
         "stable",
         "stable",
         "10",
         "A",
         51,
         1.0,
         "Uncomfortable"
        ],
        [
         52,
         "mid",
         "low",
         "excellent",
         "high",
         "unstable",
         "stable",
         "unstable",
         "10",
         "A",
         52,
         0.0,
         "Uncomfortable"
        ],
        [
         53,
         "mid",
         "mid",
         "good",
         "mid",
         "unstable",
         "stable",
         "mod-stable",
         "10",
         "S",
         53,
         0.0,
         "Uncomfortable"
        ],
        [
         54,
         "high",
         "high",
         "excellent",
         "mid",
         "unstable",
         "stable",
         "mod-stable",
         "10",
         "A",
         54,
         2.0,
         "Uncomfortable"
        ],
        [
         55,
         "mid",
         "mid",
         "good",
         "mid",
         "unstable",
         "stable",
         "stable",
         "15",
         "A",
         55,
         0.0,
         "Comfortable"
        ],
        [
         56,
         "high",
         "mid",
         "good",
         "high",
         "stable",
         "stable",
         "unstable",
         "15",
         "A",
         56,
         2.0,
         "Comfortable"
        ],
        [
         57,
         "mid",
         "low",
         "good",
         "high",
         "unstable",
         "stable",
         "mod-stable",
         "10",
         "A",
         57,
         0.0,
         "Uncomfortable"
        ],
        [
         58,
         "low",
         "low",
         "good",
         "high",
         "stable",
         "stable",
         "stable",
         "10",
         "A",
         58,
         1.0,
         "Uncomfortable"
        ],
        [
         59,
         "mid",
         "high",
         "good",
         "mid",
         "stable",
         "stable",
         "mod-stable",
         "10",
         "A",
         59,
         0.0,
         "Uncomfortable"
        ],
        [
         60,
         "mid",
         "high",
         "good",
         "mid",
         "unstable",
         "stable",
         "unstable",
         "10",
         "A",
         60,
         0.0,
         "Uncomfortable"
        ],
        [
         61,
         "mid",
         "low",
         "excellent",
         "high",
         "stable",
         "stable",
         "stable",
         "10",
         "A",
         61,
         0.0,
         "Uncomfortable"
        ],
        [
         62,
         "mid",
         "mid",
         "good",
         "mid",
         "stable",
         "stable",
         "unstable",
         "10",
         "A",
         62,
         0.0,
         "Uncomfortable"
        ],
        [
         63,
         "mid",
         "low",
         "excellent",
         "mid",
         "stable",
         "stable",
         "unstable",
         "10",
         "S",
         63,
         0.0,
         "Uncomfortable"
        ],
        [
         64,
         "high",
         "mid",
         "excellent",
         "mid",
         "unstable",
         "unstable",
         "unstable",
         "10",
         "A",
         64,
         2.0,
         "Uncomfortable"
        ],
        [
         65,
         "mid",
         "mid",
         "good",
         "high",
         "stable",
         "stable",
         "stable",
         "10",
         "S",
         65,
         0.0,
         "Uncomfortable"
        ],
        [
         66,
         "mid",
         "low",
         "excellent",
         "mid",
         "unstable",
         "stable",
         "stable",
         "10",
         "A",
         66,
         0.0,
         "Uncomfortable"
        ],
        [
         67,
         "mid",
         "mid",
         "excellent",
         "mid",
         "unstable",
         "stable",
         "stable",
         "10",
         "A",
         67,
         0.0,
         "Uncomfortable"
        ],
        [
         68,
         "mid",
         "mid",
         "excellent",
         "high",
         "stable",
         "stable",
         "stable",
         "10",
         "A",
         68,
         0.0,
         "Uncomfortable"
        ],
        [
         69,
         "mid",
         "mid",
         "excellent",
         "low",
         "stable",
         "stable",
         "stable",
         "10",
         "A",
         69,
         0.0,
         "Uncomfortable"
        ],
        [
         70,
         "mid",
         "low",
         "excellent",
         "mid",
         "unstable",
         "unstable",
         "unstable",
         "?",
         "A",
         70,
         0.0,
         "Unknown"
        ],
        [
         71,
         "low",
         "low",
         "excellent",
         "mid",
         "stable",
         "stable",
         "stable",
         "10",
         "A",
         71,
         1.0,
         "Uncomfortable"
        ],
        [
         72,
         "mid",
         "mid",
         "excellent",
         "mid",
         "stable",
         "stable",
         "mod-stable",
         "10",
         "S",
         72,
         0.0,
         "Uncomfortable"
        ],
        [
         73,
         "mid",
         "mid",
         "excellent",
         "high",
         "stable",
         "stable",
         "stable",
         "10",
         "A",
         73,
         0.0,
         "Uncomfortable"
        ],
        [
         74,
         "mid",
         "low",
         "excellent",
         "high",
         "stable",
         "stable",
         "mod-stable",
         "10",
         "A",
         74,
         0.0,
         "Uncomfortable"
        ],
        [
         75,
         "low",
         "mid",
         "good",
         "mid",
         "stable",
         "stable",
         "unstable",
         "10",
         "A",
         75,
         1.0,
         "Uncomfortable"
        ],
        [
         76,
         "mid",
         "mid",
         "excellent",
         "mid",
         "stable",
         "stable",
         "mod-stable",
         "10",
         "A",
         76,
         0.0,
         "Uncomfortable"
        ],
        [
         77,
         "mid",
         "mid",
         "excellent",
         "mid",
         "stable",
         "stable",
         "unstable",
         "10",
         "A",
         77,
         0.0,
         "Uncomfortable"
        ],
        [
         78,
         "mid",
         "mid",
         "excellent",
         "mid",
         "unstable",
         "unstable",
         "stable",
         "10",
         "S",
         78,
         0.0,
         "Uncomfortable"
        ],
        [
         79,
         "mid",
         "mid",
         "good",
         "high",
         "stable",
         "stable",
         "stable",
         "10",
         "A",
         79,
         0.0,
         "Uncomfortable"
        ],
        [
         80,
         "mid",
         "mid",
         "excellent",
         "mid",
         "stable",
         "stable",
         "stable",
         "15",
         "A",
         80,
         0.0,
         "Comfortable"
        ],
        [
         81,
         "mid",
         "mid",
         "excellent",
         "mid",
         "stable",
         "stable",
         "stable",
         "10",
         "S",
         81,
         0.0,
         "Uncomfortable"
        ],
        [
         82,
         "mid",
         "low",
         "good",
         "mid",
         "stable",
         "stable",
         "unstable",
         "10",
         "I",
         82,
         0.0,
         "Uncomfortable"
        ],
        [
         83,
         "high",
         "mid",
         "excellent",
         "mid",
         "unstable",
         "stable",
         "unstable",
         "05",
         "A",
         83,
         2.0,
         "Very Uncomfortable"
        ],
        [
         84,
         "mid",
         "mid",
         "excellent",
         "mid",
         "stable",
         "stable",
         "unstable",
         "10",
         "A",
         84,
         0.0,
         "Uncomfortable"
        ],
        [
         85,
         "mid",
         "mid",
         "excellent",
         "mid",
         "unstable",
         "stable",
         "stable",
         "10",
         "A",
         85,
         0.0,
         "Uncomfortable"
        ],
        [
         86,
         "mid",
         "mid",
         "excellent",
         "mid",
         "unstable",
         "stable",
         "stable",
         "15",
         "S",
         86,
         0.0,
         "Comfortable"
        ],
        [
         87,
         "mid",
         "mid",
         "good",
         "mid",
         "unstable",
         "stable",
         "stable",
         "15",
         "A",
         87,
         0.0,
         "Comfortable"
        ],
        [
         88,
         "mid",
         "mid",
         "excellent",
         "mid",
         "unstable",
         "stable",
         "stable",
         "10",
         "A",
         88,
         0.0,
         "Uncomfortable"
        ],
        [
         89,
         "mid",
         "mid",
         "good",
         "mid",
         "unstable",
         "stable",
         "stable",
         "15",
         "S",
         89,
         0.0,
         "Comfortable"
        ]
       ],
       "datasetInfos": [],
       "dbfsResultPath": null,
       "isJsonSchema": true,
       "metadata": {},
       "overflow": false,
       "plotOptions": {
        "customPlotOptions": {},
        "displayType": "table",
        "pivotAggregation": null,
        "pivotColumns": null,
        "xColumns": null,
        "yColumns": null
       },
       "removedWidgets": [],
       "schema": [
        {
         "metadata": "{}",
         "name": "index",
         "type": "\"long\""
        },
        {
         "metadata": "{}",
         "name": "L_CORE",
         "type": "\"string\""
        },
        {
         "metadata": "{}",
         "name": "L_SURF",
         "type": "\"string\""
        },
        {
         "metadata": "{}",
         "name": "L_O2",
         "type": "\"string\""
        },
        {
         "metadata": "{}",
         "name": "L_BP",
         "type": "\"string\""
        },
        {
         "metadata": "{}",
         "name": "SURF_STBL",
         "type": "\"string\""
        },
        {
         "metadata": "{}",
         "name": "CORE_STBL",
         "type": "\"string\""
        },
        {
         "metadata": "{}",
         "name": "BP_STBL",
         "type": "\"string\""
        },
        {
         "metadata": "{}",
         "name": "COMFORT",
         "type": "\"string\""
        },
        {
         "metadata": "{}",
         "name": "discharge_decision",
         "type": "\"string\""
        },
        {
         "metadata": "{}",
         "name": "index",
         "type": "\"long\""
        },
        {
         "metadata": "{\"ml_attr\":{\"vals\":[\"mid\",\"low\",\"high\"],\"type\":\"nominal\",\"name\":\"L-CORE_index\"}}",
         "name": "L-CORE_index",
         "type": "\"double\""
        },
        {
         "metadata": "{}",
         "name": "COMFORT_Category",
         "type": "\"string\""
        }
       ],
       "type": "table"
      }
     },
     "output_type": "display_data"
    }
   ],
   "source": [
    "column_mapping = {\n",
    "    ('L-CORE', 'L_CORE'), \n",
    "    ('L-SURF', 'L_SURF'), \n",
    "    ('L-O2', 'L_O2'), \n",
    "    ('L-BP', 'L_BP'), \n",
    "    ('SURF-STBL', 'SURF_STBL'), \n",
    "    ('CORE-STBL', 'CORE_STBL'), \n",
    "    ('BP-STBL', 'BP_STBL'),\n",
    "    ('decision', 'discharge_decision')\n",
    "}\n",
    "\n",
    "for old_name, new_name in column_mapping:\n",
    "    df = df.withColumnRenamed(old_name, new_name)\n",
    "\n",
    "display(df)"
   ]
  },
  {
   "cell_type": "markdown",
   "metadata": {
    "application/vnd.databricks.v1+cell": {
     "cellMetadata": {},
     "inputWidgets": {},
     "nuid": "e658929c-dbc1-46d5-8f6d-59b9fdd34fd3",
     "showTitle": false,
     "tableResultSettingsMap": {},
     "title": ""
    }
   },
   "source": [
    "#### Train Model"
   ]
  },
  {
   "cell_type": "code",
   "execution_count": 0,
   "metadata": {
    "application/vnd.databricks.v1+cell": {
     "cellMetadata": {
      "byteLimit": 2048000,
      "rowLimit": 10000
     },
     "inputWidgets": {},
     "nuid": "58243800-00d0-4c14-9f14-03fd76cacf85",
     "showTitle": false,
     "tableResultSettingsMap": {},
     "title": ""
    }
   },
   "outputs": [],
   "source": [
    "feature_columns = [\"L_CORE\",\"L_SURF\",\"L_O2\",\"L_BP\",\"SURF_STBL\",\"CORE_STBL\",\"BP_STBL\",\"COMFORT\",\"discharge_decision\",\"COMFORT_Category\"]"
   ]
  },
  {
   "cell_type": "code",
   "execution_count": 0,
   "metadata": {
    "application/vnd.databricks.v1+cell": {
     "cellMetadata": {
      "byteLimit": 2048000,
      "rowLimit": 10000
     },
     "inputWidgets": {},
     "nuid": "3b2af6cf-6a9b-4706-a95a-ea11e3560619",
     "showTitle": false,
     "tableResultSettingsMap": {},
     "title": ""
    }
   },
   "outputs": [
    {
     "output_type": "display_data",
     "data": {
      "text/html": [
       "<style scoped>\n",
       "  .table-result-container {\n",
       "    max-height: 300px;\n",
       "    overflow: auto;\n",
       "  }\n",
       "  table, th, td {\n",
       "    border: 1px solid black;\n",
       "    border-collapse: collapse;\n",
       "  }\n",
       "  th, td {\n",
       "    padding: 5px;\n",
       "  }\n",
       "  th {\n",
       "    text-align: left;\n",
       "  }\n",
       "</style><div class='table-result-container'><table class='table-result'><thead style='background-color: white'><tr><th>index</th><th>L_CORE</th><th>L_SURF</th><th>L_O2</th><th>L_BP</th><th>SURF_STBL</th><th>CORE_STBL</th><th>BP_STBL</th><th>COMFORT</th><th>discharge_decision</th><th>index</th><th>L-CORE_index</th><th>COMFORT_Category</th><th>L_CORE_index</th><th>L_CORE_encoded</th><th>L_SURF_index</th><th>L_SURF_encoded</th><th>L_O2_index</th><th>L_O2_encoded</th><th>L_BP_index</th><th>L_BP_encoded</th><th>SURF_STBL_index</th><th>SURF_STBL_encoded</th><th>CORE_STBL_index</th><th>CORE_STBL_encoded</th><th>BP_STBL_index</th><th>BP_STBL_encoded</th><th>COMFORT_index</th><th>COMFORT_encoded</th><th>discharge_decision_index</th><th>discharge_decision_encoded</th><th>COMFORT_Category_index</th><th>COMFORT_Category_encoded</th><th>features</th></tr></thead><tbody><tr><td>0</td><td>mid</td><td>low</td><td>excellent</td><td>mid</td><td>stable</td><td>stable</td><td>stable</td><td>15</td><td>A</td><td>0</td><td>0.0</td><td>Comfortable</td><td>0.0</td><td>Map(vectorType -> sparse, length -> 2, indices -> List(0), values -> List(1.0))</td><td>1.0</td><td>Map(vectorType -> sparse, length -> 2, indices -> List(1), values -> List(1.0))</td><td>1.0</td><td>Map(vectorType -> sparse, length -> 1, indices -> List(), values -> List())</td><td>0.0</td><td>Map(vectorType -> sparse, length -> 2, indices -> List(0), values -> List(1.0))</td><td>0.0</td><td>Map(vectorType -> sparse, length -> 1, indices -> List(0), values -> List(1.0))</td><td>0.0</td><td>Map(vectorType -> sparse, length -> 2, indices -> List(0), values -> List(1.0))</td><td>0.0</td><td>Map(vectorType -> sparse, length -> 2, indices -> List(0), values -> List(1.0))</td><td>1.0</td><td>Map(vectorType -> sparse, length -> 4, indices -> List(1), values -> List(1.0))</td><td>0.0</td><td>Map(vectorType -> sparse, length -> 2, indices -> List(0), values -> List(1.0))</td><td>1.0</td><td>Map(vectorType -> sparse, length -> 3, indices -> List(1), values -> List(1.0))</td><td>Map(vectorType -> sparse, length -> 21, indices -> List(0, 3, 5, 7, 8, 10, 13, 16, 19), values -> List(1.0, 1.0, 1.0, 1.0, 1.0, 1.0, 1.0, 1.0, 1.0))</td></tr><tr><td>1</td><td>mid</td><td>high</td><td>excellent</td><td>high</td><td>stable</td><td>stable</td><td>stable</td><td>10</td><td>S</td><td>1</td><td>0.0</td><td>Uncomfortable</td><td>0.0</td><td>Map(vectorType -> sparse, length -> 2, indices -> List(0), values -> List(1.0))</td><td>2.0</td><td>Map(vectorType -> sparse, length -> 2, indices -> List(), values -> List())</td><td>1.0</td><td>Map(vectorType -> sparse, length -> 1, indices -> List(), values -> List())</td><td>1.0</td><td>Map(vectorType -> sparse, length -> 2, indices -> List(1), values -> List(1.0))</td><td>0.0</td><td>Map(vectorType -> sparse, length -> 1, indices -> List(0), values -> List(1.0))</td><td>0.0</td><td>Map(vectorType -> sparse, length -> 2, indices -> List(0), values -> List(1.0))</td><td>0.0</td><td>Map(vectorType -> sparse, length -> 2, indices -> List(0), values -> List(1.0))</td><td>0.0</td><td>Map(vectorType -> sparse, length -> 4, indices -> List(0), values -> List(1.0))</td><td>1.0</td><td>Map(vectorType -> sparse, length -> 2, indices -> List(1), values -> List(1.0))</td><td>0.0</td><td>Map(vectorType -> sparse, length -> 3, indices -> List(0), values -> List(1.0))</td><td>Map(vectorType -> sparse, length -> 21, indices -> List(0, 6, 7, 8, 10, 12, 17, 18), values -> List(1.0, 1.0, 1.0, 1.0, 1.0, 1.0, 1.0, 1.0))</td></tr><tr><td>2</td><td>high</td><td>low</td><td>excellent</td><td>high</td><td>stable</td><td>stable</td><td>mod-stable</td><td>10</td><td>A</td><td>2</td><td>2.0</td><td>Uncomfortable</td><td>2.0</td><td>Map(vectorType -> sparse, length -> 2, indices -> List(), values -> List())</td><td>1.0</td><td>Map(vectorType -> sparse, length -> 2, indices -> List(1), values -> List(1.0))</td><td>1.0</td><td>Map(vectorType -> sparse, length -> 1, indices -> List(), values -> List())</td><td>1.0</td><td>Map(vectorType -> sparse, length -> 2, indices -> List(1), values -> List(1.0))</td><td>0.0</td><td>Map(vectorType -> sparse, length -> 1, indices -> List(0), values -> List(1.0))</td><td>0.0</td><td>Map(vectorType -> sparse, length -> 2, indices -> List(0), values -> List(1.0))</td><td>2.0</td><td>Map(vectorType -> sparse, length -> 2, indices -> List(), values -> List())</td><td>0.0</td><td>Map(vectorType -> sparse, length -> 4, indices -> List(0), values -> List(1.0))</td><td>0.0</td><td>Map(vectorType -> sparse, length -> 2, indices -> List(0), values -> List(1.0))</td><td>0.0</td><td>Map(vectorType -> sparse, length -> 3, indices -> List(0), values -> List(1.0))</td><td>Map(vectorType -> sparse, length -> 21, indices -> List(3, 6, 7, 8, 12, 16, 18), values -> List(1.0, 1.0, 1.0, 1.0, 1.0, 1.0, 1.0))</td></tr><tr><td>3</td><td>mid</td><td>low</td><td>good</td><td>high</td><td>stable</td><td>unstable</td><td>mod-stable</td><td>15</td><td>A</td><td>3</td><td>0.0</td><td>Comfortable</td><td>0.0</td><td>Map(vectorType -> sparse, length -> 2, indices -> List(0), values -> List(1.0))</td><td>1.0</td><td>Map(vectorType -> sparse, length -> 2, indices -> List(1), values -> List(1.0))</td><td>0.0</td><td>Map(vectorType -> sparse, length -> 1, indices -> List(0), values -> List(1.0))</td><td>1.0</td><td>Map(vectorType -> sparse, length -> 2, indices -> List(1), values -> List(1.0))</td><td>0.0</td><td>Map(vectorType -> sparse, length -> 1, indices -> List(0), values -> List(1.0))</td><td>1.0</td><td>Map(vectorType -> sparse, length -> 2, indices -> List(1), values -> List(1.0))</td><td>2.0</td><td>Map(vectorType -> sparse, length -> 2, indices -> List(), values -> List())</td><td>1.0</td><td>Map(vectorType -> sparse, length -> 4, indices -> List(1), values -> List(1.0))</td><td>0.0</td><td>Map(vectorType -> sparse, length -> 2, indices -> List(0), values -> List(1.0))</td><td>1.0</td><td>Map(vectorType -> sparse, length -> 3, indices -> List(1), values -> List(1.0))</td><td>Map(vectorType -> sparse, length -> 21, indices -> List(0, 3, 4, 6, 7, 9, 13, 16, 19), values -> List(1.0, 1.0, 1.0, 1.0, 1.0, 1.0, 1.0, 1.0, 1.0))</td></tr><tr><td>4</td><td>mid</td><td>mid</td><td>excellent</td><td>high</td><td>stable</td><td>stable</td><td>stable</td><td>10</td><td>A</td><td>4</td><td>0.0</td><td>Uncomfortable</td><td>0.0</td><td>Map(vectorType -> sparse, length -> 2, indices -> List(0), values -> List(1.0))</td><td>0.0</td><td>Map(vectorType -> sparse, length -> 2, indices -> List(0), values -> List(1.0))</td><td>1.0</td><td>Map(vectorType -> sparse, length -> 1, indices -> List(), values -> List())</td><td>1.0</td><td>Map(vectorType -> sparse, length -> 2, indices -> List(1), values -> List(1.0))</td><td>0.0</td><td>Map(vectorType -> sparse, length -> 1, indices -> List(0), values -> List(1.0))</td><td>0.0</td><td>Map(vectorType -> sparse, length -> 2, indices -> List(0), values -> List(1.0))</td><td>0.0</td><td>Map(vectorType -> sparse, length -> 2, indices -> List(0), values -> List(1.0))</td><td>0.0</td><td>Map(vectorType -> sparse, length -> 4, indices -> List(0), values -> List(1.0))</td><td>0.0</td><td>Map(vectorType -> sparse, length -> 2, indices -> List(0), values -> List(1.0))</td><td>0.0</td><td>Map(vectorType -> sparse, length -> 3, indices -> List(0), values -> List(1.0))</td><td>Map(vectorType -> sparse, length -> 21, indices -> List(0, 2, 6, 7, 8, 10, 12, 16, 18), values -> List(1.0, 1.0, 1.0, 1.0, 1.0, 1.0, 1.0, 1.0, 1.0))</td></tr><tr><td>5</td><td>high</td><td>low</td><td>good</td><td>mid</td><td>stable</td><td>stable</td><td>unstable</td><td>15</td><td>S</td><td>5</td><td>2.0</td><td>Comfortable</td><td>2.0</td><td>Map(vectorType -> sparse, length -> 2, indices -> List(), values -> List())</td><td>1.0</td><td>Map(vectorType -> sparse, length -> 2, indices -> List(1), values -> List(1.0))</td><td>0.0</td><td>Map(vectorType -> sparse, length -> 1, indices -> List(0), values -> List(1.0))</td><td>0.0</td><td>Map(vectorType -> sparse, length -> 2, indices -> List(0), values -> List(1.0))</td><td>0.0</td><td>Map(vectorType -> sparse, length -> 1, indices -> List(0), values -> List(1.0))</td><td>0.0</td><td>Map(vectorType -> sparse, length -> 2, indices -> List(0), values -> List(1.0))</td><td>1.0</td><td>Map(vectorType -> sparse, length -> 2, indices -> List(1), values -> List(1.0))</td><td>1.0</td><td>Map(vectorType -> sparse, length -> 4, indices -> List(1), values -> List(1.0))</td><td>1.0</td><td>Map(vectorType -> sparse, length -> 2, indices -> List(1), values -> List(1.0))</td><td>1.0</td><td>Map(vectorType -> sparse, length -> 3, indices -> List(1), values -> List(1.0))</td><td>Map(vectorType -> sparse, length -> 21, indices -> List(3, 4, 5, 7, 8, 11, 13, 17, 19), values -> List(1.0, 1.0, 1.0, 1.0, 1.0, 1.0, 1.0, 1.0, 1.0))</td></tr><tr><td>6</td><td>mid</td><td>low</td><td>excellent</td><td>high</td><td>stable</td><td>stable</td><td>mod-stable</td><td>05</td><td>S</td><td>6</td><td>0.0</td><td>Very Uncomfortable</td><td>0.0</td><td>Map(vectorType -> sparse, length -> 2, indices -> List(0), values -> List(1.0))</td><td>1.0</td><td>Map(vectorType -> sparse, length -> 2, indices -> List(1), values -> List(1.0))</td><td>1.0</td><td>Map(vectorType -> sparse, length -> 1, indices -> List(), values -> List())</td><td>1.0</td><td>Map(vectorType -> sparse, length -> 2, indices -> List(1), values -> List(1.0))</td><td>0.0</td><td>Map(vectorType -> sparse, length -> 1, indices -> List(0), values -> List(1.0))</td><td>0.0</td><td>Map(vectorType -> sparse, length -> 2, indices -> List(0), values -> List(1.0))</td><td>2.0</td><td>Map(vectorType -> sparse, length -> 2, indices -> List(), values -> List())</td><td>3.0</td><td>Map(vectorType -> sparse, length -> 4, indices -> List(3), values -> List(1.0))</td><td>1.0</td><td>Map(vectorType -> sparse, length -> 2, indices -> List(1), values -> List(1.0))</td><td>3.0</td><td>Map(vectorType -> sparse, length -> 3, indices -> List(), values -> List())</td><td>Map(vectorType -> sparse, length -> 21, indices -> List(0, 3, 6, 7, 8, 15, 17), values -> List(1.0, 1.0, 1.0, 1.0, 1.0, 1.0, 1.0))</td></tr><tr><td>7</td><td>high</td><td>mid</td><td>excellent</td><td>mid</td><td>unstable</td><td>unstable</td><td>stable</td><td>10</td><td>S</td><td>7</td><td>2.0</td><td>Uncomfortable</td><td>2.0</td><td>Map(vectorType -> sparse, length -> 2, indices -> List(), values -> List())</td><td>0.0</td><td>Map(vectorType -> sparse, length -> 2, indices -> List(0), values -> List(1.0))</td><td>1.0</td><td>Map(vectorType -> sparse, length -> 1, indices -> List(), values -> List())</td><td>0.0</td><td>Map(vectorType -> sparse, length -> 2, indices -> List(0), values -> List(1.0))</td><td>1.0</td><td>Map(vectorType -> sparse, length -> 1, indices -> List(), values -> List())</td><td>1.0</td><td>Map(vectorType -> sparse, length -> 2, indices -> List(1), values -> List(1.0))</td><td>0.0</td><td>Map(vectorType -> sparse, length -> 2, indices -> List(0), values -> List(1.0))</td><td>0.0</td><td>Map(vectorType -> sparse, length -> 4, indices -> List(0), values -> List(1.0))</td><td>1.0</td><td>Map(vectorType -> sparse, length -> 2, indices -> List(1), values -> List(1.0))</td><td>0.0</td><td>Map(vectorType -> sparse, length -> 3, indices -> List(0), values -> List(1.0))</td><td>Map(vectorType -> sparse, length -> 21, indices -> List(2, 5, 9, 10, 12, 17, 18), values -> List(1.0, 1.0, 1.0, 1.0, 1.0, 1.0, 1.0))</td></tr><tr><td>8</td><td>mid</td><td>high</td><td>good</td><td>mid</td><td>stable</td><td>stable</td><td>stable</td><td>10</td><td>S</td><td>8</td><td>0.0</td><td>Uncomfortable</td><td>0.0</td><td>Map(vectorType -> sparse, length -> 2, indices -> List(0), values -> List(1.0))</td><td>2.0</td><td>Map(vectorType -> sparse, length -> 2, indices -> List(), values -> List())</td><td>0.0</td><td>Map(vectorType -> sparse, length -> 1, indices -> List(0), values -> List(1.0))</td><td>0.0</td><td>Map(vectorType -> sparse, length -> 2, indices -> List(0), values -> List(1.0))</td><td>0.0</td><td>Map(vectorType -> sparse, length -> 1, indices -> List(0), values -> List(1.0))</td><td>0.0</td><td>Map(vectorType -> sparse, length -> 2, indices -> List(0), values -> List(1.0))</td><td>0.0</td><td>Map(vectorType -> sparse, length -> 2, indices -> List(0), values -> List(1.0))</td><td>0.0</td><td>Map(vectorType -> sparse, length -> 4, indices -> List(0), values -> List(1.0))</td><td>1.0</td><td>Map(vectorType -> sparse, length -> 2, indices -> List(1), values -> List(1.0))</td><td>0.0</td><td>Map(vectorType -> sparse, length -> 3, indices -> List(0), values -> List(1.0))</td><td>Map(vectorType -> sparse, length -> 21, indices -> List(0, 4, 5, 7, 8, 10, 12, 17, 18), values -> List(1.0, 1.0, 1.0, 1.0, 1.0, 1.0, 1.0, 1.0, 1.0))</td></tr><tr><td>9</td><td>mid</td><td>low</td><td>excellent</td><td>mid</td><td>unstable</td><td>stable</td><td>mod-stable</td><td>10</td><td>S</td><td>9</td><td>0.0</td><td>Uncomfortable</td><td>0.0</td><td>Map(vectorType -> sparse, length -> 2, indices -> List(0), values -> List(1.0))</td><td>1.0</td><td>Map(vectorType -> sparse, length -> 2, indices -> List(1), values -> List(1.0))</td><td>1.0</td><td>Map(vectorType -> sparse, length -> 1, indices -> List(), values -> List())</td><td>0.0</td><td>Map(vectorType -> sparse, length -> 2, indices -> List(0), values -> List(1.0))</td><td>1.0</td><td>Map(vectorType -> sparse, length -> 1, indices -> List(), values -> List())</td><td>0.0</td><td>Map(vectorType -> sparse, length -> 2, indices -> List(0), values -> List(1.0))</td><td>2.0</td><td>Map(vectorType -> sparse, length -> 2, indices -> List(), values -> List())</td><td>0.0</td><td>Map(vectorType -> sparse, length -> 4, indices -> List(0), values -> List(1.0))</td><td>1.0</td><td>Map(vectorType -> sparse, length -> 2, indices -> List(1), values -> List(1.0))</td><td>0.0</td><td>Map(vectorType -> sparse, length -> 3, indices -> List(0), values -> List(1.0))</td><td>Map(vectorType -> sparse, length -> 21, indices -> List(0, 3, 5, 8, 12, 17, 18), values -> List(1.0, 1.0, 1.0, 1.0, 1.0, 1.0, 1.0))</td></tr><tr><td>10</td><td>mid</td><td>mid</td><td>good</td><td>mid</td><td>stable</td><td>stable</td><td>stable</td><td>15</td><td>A</td><td>10</td><td>0.0</td><td>Comfortable</td><td>0.0</td><td>Map(vectorType -> sparse, length -> 2, indices -> List(0), values -> List(1.0))</td><td>0.0</td><td>Map(vectorType -> sparse, length -> 2, indices -> List(0), values -> List(1.0))</td><td>0.0</td><td>Map(vectorType -> sparse, length -> 1, indices -> List(0), values -> List(1.0))</td><td>0.0</td><td>Map(vectorType -> sparse, length -> 2, indices -> List(0), values -> List(1.0))</td><td>0.0</td><td>Map(vectorType -> sparse, length -> 1, indices -> List(0), values -> List(1.0))</td><td>0.0</td><td>Map(vectorType -> sparse, length -> 2, indices -> List(0), values -> List(1.0))</td><td>0.0</td><td>Map(vectorType -> sparse, length -> 2, indices -> List(0), values -> List(1.0))</td><td>1.0</td><td>Map(vectorType -> sparse, length -> 4, indices -> List(1), values -> List(1.0))</td><td>0.0</td><td>Map(vectorType -> sparse, length -> 2, indices -> List(0), values -> List(1.0))</td><td>1.0</td><td>Map(vectorType -> sparse, length -> 3, indices -> List(1), values -> List(1.0))</td><td>Map(vectorType -> sparse, length -> 21, indices -> List(0, 2, 4, 5, 7, 8, 10, 13, 16, 19), values -> List(1.0, 1.0, 1.0, 1.0, 1.0, 1.0, 1.0, 1.0, 1.0, 1.0))</td></tr><tr><td>11</td><td>mid</td><td>low</td><td>good</td><td>high</td><td>stable</td><td>stable</td><td>mod-stable</td><td>10</td><td>A</td><td>11</td><td>0.0</td><td>Uncomfortable</td><td>0.0</td><td>Map(vectorType -> sparse, length -> 2, indices -> List(0), values -> List(1.0))</td><td>1.0</td><td>Map(vectorType -> sparse, length -> 2, indices -> List(1), values -> List(1.0))</td><td>0.0</td><td>Map(vectorType -> sparse, length -> 1, indices -> List(0), values -> List(1.0))</td><td>1.0</td><td>Map(vectorType -> sparse, length -> 2, indices -> List(1), values -> List(1.0))</td><td>0.0</td><td>Map(vectorType -> sparse, length -> 1, indices -> List(0), values -> List(1.0))</td><td>0.0</td><td>Map(vectorType -> sparse, length -> 2, indices -> List(0), values -> List(1.0))</td><td>2.0</td><td>Map(vectorType -> sparse, length -> 2, indices -> List(), values -> List())</td><td>0.0</td><td>Map(vectorType -> sparse, length -> 4, indices -> List(0), values -> List(1.0))</td><td>0.0</td><td>Map(vectorType -> sparse, length -> 2, indices -> List(0), values -> List(1.0))</td><td>0.0</td><td>Map(vectorType -> sparse, length -> 3, indices -> List(0), values -> List(1.0))</td><td>Map(vectorType -> sparse, length -> 21, indices -> List(0, 3, 4, 6, 7, 8, 12, 16, 18), values -> List(1.0, 1.0, 1.0, 1.0, 1.0, 1.0, 1.0, 1.0, 1.0))</td></tr><tr><td>12</td><td>high</td><td>high</td><td>excellent</td><td>high</td><td>unstable</td><td>stable</td><td>unstable</td><td>15</td><td>A</td><td>12</td><td>2.0</td><td>Comfortable</td><td>2.0</td><td>Map(vectorType -> sparse, length -> 2, indices -> List(), values -> List())</td><td>2.0</td><td>Map(vectorType -> sparse, length -> 2, indices -> List(), values -> List())</td><td>1.0</td><td>Map(vectorType -> sparse, length -> 1, indices -> List(), values -> List())</td><td>1.0</td><td>Map(vectorType -> sparse, length -> 2, indices -> List(1), values -> List(1.0))</td><td>1.0</td><td>Map(vectorType -> sparse, length -> 1, indices -> List(), values -> List())</td><td>0.0</td><td>Map(vectorType -> sparse, length -> 2, indices -> List(0), values -> List(1.0))</td><td>1.0</td><td>Map(vectorType -> sparse, length -> 2, indices -> List(1), values -> List(1.0))</td><td>1.0</td><td>Map(vectorType -> sparse, length -> 4, indices -> List(1), values -> List(1.0))</td><td>0.0</td><td>Map(vectorType -> sparse, length -> 2, indices -> List(0), values -> List(1.0))</td><td>1.0</td><td>Map(vectorType -> sparse, length -> 3, indices -> List(1), values -> List(1.0))</td><td>Map(vectorType -> sparse, length -> 21, indices -> List(6, 8, 11, 13, 16, 19), values -> List(1.0, 1.0, 1.0, 1.0, 1.0, 1.0))</td></tr><tr><td>13</td><td>mid</td><td>high</td><td>good</td><td>mid</td><td>unstable</td><td>stable</td><td>mod-stable</td><td>10</td><td>A</td><td>13</td><td>0.0</td><td>Uncomfortable</td><td>0.0</td><td>Map(vectorType -> sparse, length -> 2, indices -> List(0), values -> List(1.0))</td><td>2.0</td><td>Map(vectorType -> sparse, length -> 2, indices -> List(), values -> List())</td><td>0.0</td><td>Map(vectorType -> sparse, length -> 1, indices -> List(0), values -> List(1.0))</td><td>0.0</td><td>Map(vectorType -> sparse, length -> 2, indices -> List(0), values -> List(1.0))</td><td>1.0</td><td>Map(vectorType -> sparse, length -> 1, indices -> List(), values -> List())</td><td>0.0</td><td>Map(vectorType -> sparse, length -> 2, indices -> List(0), values -> List(1.0))</td><td>2.0</td><td>Map(vectorType -> sparse, length -> 2, indices -> List(), values -> List())</td><td>0.0</td><td>Map(vectorType -> sparse, length -> 4, indices -> List(0), values -> List(1.0))</td><td>0.0</td><td>Map(vectorType -> sparse, length -> 2, indices -> List(0), values -> List(1.0))</td><td>0.0</td><td>Map(vectorType -> sparse, length -> 3, indices -> List(0), values -> List(1.0))</td><td>Map(vectorType -> sparse, length -> 21, indices -> List(0, 4, 5, 8, 12, 16, 18), values -> List(1.0, 1.0, 1.0, 1.0, 1.0, 1.0, 1.0))</td></tr><tr><td>14</td><td>mid</td><td>low</td><td>good</td><td>high</td><td>unstable</td><td>unstable</td><td>stable</td><td>15</td><td>S</td><td>14</td><td>0.0</td><td>Comfortable</td><td>0.0</td><td>Map(vectorType -> sparse, length -> 2, indices -> List(0), values -> List(1.0))</td><td>1.0</td><td>Map(vectorType -> sparse, length -> 2, indices -> List(1), values -> List(1.0))</td><td>0.0</td><td>Map(vectorType -> sparse, length -> 1, indices -> List(0), values -> List(1.0))</td><td>1.0</td><td>Map(vectorType -> sparse, length -> 2, indices -> List(1), values -> List(1.0))</td><td>1.0</td><td>Map(vectorType -> sparse, length -> 1, indices -> List(), values -> List())</td><td>1.0</td><td>Map(vectorType -> sparse, length -> 2, indices -> List(1), values -> List(1.0))</td><td>0.0</td><td>Map(vectorType -> sparse, length -> 2, indices -> List(0), values -> List(1.0))</td><td>1.0</td><td>Map(vectorType -> sparse, length -> 4, indices -> List(1), values -> List(1.0))</td><td>1.0</td><td>Map(vectorType -> sparse, length -> 2, indices -> List(1), values -> List(1.0))</td><td>1.0</td><td>Map(vectorType -> sparse, length -> 3, indices -> List(1), values -> List(1.0))</td><td>Map(vectorType -> sparse, length -> 21, indices -> List(0, 3, 4, 6, 9, 10, 13, 17, 19), values -> List(1.0, 1.0, 1.0, 1.0, 1.0, 1.0, 1.0, 1.0, 1.0))</td></tr><tr><td>15</td><td>high</td><td>high</td><td>excellent</td><td>high</td><td>unstable</td><td>stable</td><td>unstable</td><td>10</td><td>A</td><td>15</td><td>2.0</td><td>Uncomfortable</td><td>2.0</td><td>Map(vectorType -> sparse, length -> 2, indices -> List(), values -> List())</td><td>2.0</td><td>Map(vectorType -> sparse, length -> 2, indices -> List(), values -> List())</td><td>1.0</td><td>Map(vectorType -> sparse, length -> 1, indices -> List(), values -> List())</td><td>1.0</td><td>Map(vectorType -> sparse, length -> 2, indices -> List(1), values -> List(1.0))</td><td>1.0</td><td>Map(vectorType -> sparse, length -> 1, indices -> List(), values -> List())</td><td>0.0</td><td>Map(vectorType -> sparse, length -> 2, indices -> List(0), values -> List(1.0))</td><td>1.0</td><td>Map(vectorType -> sparse, length -> 2, indices -> List(1), values -> List(1.0))</td><td>0.0</td><td>Map(vectorType -> sparse, length -> 4, indices -> List(0), values -> List(1.0))</td><td>0.0</td><td>Map(vectorType -> sparse, length -> 2, indices -> List(0), values -> List(1.0))</td><td>0.0</td><td>Map(vectorType -> sparse, length -> 3, indices -> List(0), values -> List(1.0))</td><td>Map(vectorType -> sparse, length -> 21, indices -> List(6, 8, 11, 12, 16, 18), values -> List(1.0, 1.0, 1.0, 1.0, 1.0, 1.0))</td></tr><tr><td>16</td><td>low</td><td>high</td><td>good</td><td>high</td><td>unstable</td><td>stable</td><td>mod-stable</td><td>15</td><td>A</td><td>16</td><td>1.0</td><td>Comfortable</td><td>1.0</td><td>Map(vectorType -> sparse, length -> 2, indices -> List(1), values -> List(1.0))</td><td>2.0</td><td>Map(vectorType -> sparse, length -> 2, indices -> List(), values -> List())</td><td>0.0</td><td>Map(vectorType -> sparse, length -> 1, indices -> List(0), values -> List(1.0))</td><td>1.0</td><td>Map(vectorType -> sparse, length -> 2, indices -> List(1), values -> List(1.0))</td><td>1.0</td><td>Map(vectorType -> sparse, length -> 1, indices -> List(), values -> List())</td><td>0.0</td><td>Map(vectorType -> sparse, length -> 2, indices -> List(0), values -> List(1.0))</td><td>2.0</td><td>Map(vectorType -> sparse, length -> 2, indices -> List(), values -> List())</td><td>1.0</td><td>Map(vectorType -> sparse, length -> 4, indices -> List(1), values -> List(1.0))</td><td>0.0</td><td>Map(vectorType -> sparse, length -> 2, indices -> List(0), values -> List(1.0))</td><td>1.0</td><td>Map(vectorType -> sparse, length -> 3, indices -> List(1), values -> List(1.0))</td><td>Map(vectorType -> sparse, length -> 21, indices -> List(1, 4, 6, 8, 13, 16, 19), values -> List(1.0, 1.0, 1.0, 1.0, 1.0, 1.0, 1.0))</td></tr><tr><td>17</td><td>mid</td><td>low</td><td>good</td><td>high</td><td>unstable</td><td>stable</td><td>stable</td><td>10</td><td>A</td><td>17</td><td>0.0</td><td>Uncomfortable</td><td>0.0</td><td>Map(vectorType -> sparse, length -> 2, indices -> List(0), values -> List(1.0))</td><td>1.0</td><td>Map(vectorType -> sparse, length -> 2, indices -> List(1), values -> List(1.0))</td><td>0.0</td><td>Map(vectorType -> sparse, length -> 1, indices -> List(0), values -> List(1.0))</td><td>1.0</td><td>Map(vectorType -> sparse, length -> 2, indices -> List(1), values -> List(1.0))</td><td>1.0</td><td>Map(vectorType -> sparse, length -> 1, indices -> List(), values -> List())</td><td>0.0</td><td>Map(vectorType -> sparse, length -> 2, indices -> List(0), values -> List(1.0))</td><td>0.0</td><td>Map(vectorType -> sparse, length -> 2, indices -> List(0), values -> List(1.0))</td><td>0.0</td><td>Map(vectorType -> sparse, length -> 4, indices -> List(0), values -> List(1.0))</td><td>0.0</td><td>Map(vectorType -> sparse, length -> 2, indices -> List(0), values -> List(1.0))</td><td>0.0</td><td>Map(vectorType -> sparse, length -> 3, indices -> List(0), values -> List(1.0))</td><td>Map(vectorType -> sparse, length -> 21, indices -> List(0, 3, 4, 6, 8, 10, 12, 16, 18), values -> List(1.0, 1.0, 1.0, 1.0, 1.0, 1.0, 1.0, 1.0, 1.0))</td></tr><tr><td>18</td><td>mid</td><td>high</td><td>good</td><td>mid</td><td>unstable</td><td>stable</td><td>unstable</td><td>15</td><td>A</td><td>18</td><td>0.0</td><td>Comfortable</td><td>0.0</td><td>Map(vectorType -> sparse, length -> 2, indices -> List(0), values -> List(1.0))</td><td>2.0</td><td>Map(vectorType -> sparse, length -> 2, indices -> List(), values -> List())</td><td>0.0</td><td>Map(vectorType -> sparse, length -> 1, indices -> List(0), values -> List(1.0))</td><td>0.0</td><td>Map(vectorType -> sparse, length -> 2, indices -> List(0), values -> List(1.0))</td><td>1.0</td><td>Map(vectorType -> sparse, length -> 1, indices -> List(), values -> List())</td><td>0.0</td><td>Map(vectorType -> sparse, length -> 2, indices -> List(0), values -> List(1.0))</td><td>1.0</td><td>Map(vectorType -> sparse, length -> 2, indices -> List(1), values -> List(1.0))</td><td>1.0</td><td>Map(vectorType -> sparse, length -> 4, indices -> List(1), values -> List(1.0))</td><td>0.0</td><td>Map(vectorType -> sparse, length -> 2, indices -> List(0), values -> List(1.0))</td><td>1.0</td><td>Map(vectorType -> sparse, length -> 3, indices -> List(1), values -> List(1.0))</td><td>Map(vectorType -> sparse, length -> 21, indices -> List(0, 4, 5, 8, 11, 13, 16, 19), values -> List(1.0, 1.0, 1.0, 1.0, 1.0, 1.0, 1.0, 1.0))</td></tr><tr><td>19</td><td>mid</td><td>mid</td><td>good</td><td>mid</td><td>stable</td><td>stable</td><td>stable</td><td>10</td><td>A</td><td>19</td><td>0.0</td><td>Uncomfortable</td><td>0.0</td><td>Map(vectorType -> sparse, length -> 2, indices -> List(0), values -> List(1.0))</td><td>0.0</td><td>Map(vectorType -> sparse, length -> 2, indices -> List(0), values -> List(1.0))</td><td>0.0</td><td>Map(vectorType -> sparse, length -> 1, indices -> List(0), values -> List(1.0))</td><td>0.0</td><td>Map(vectorType -> sparse, length -> 2, indices -> List(0), values -> List(1.0))</td><td>0.0</td><td>Map(vectorType -> sparse, length -> 1, indices -> List(0), values -> List(1.0))</td><td>0.0</td><td>Map(vectorType -> sparse, length -> 2, indices -> List(0), values -> List(1.0))</td><td>0.0</td><td>Map(vectorType -> sparse, length -> 2, indices -> List(0), values -> List(1.0))</td><td>0.0</td><td>Map(vectorType -> sparse, length -> 4, indices -> List(0), values -> List(1.0))</td><td>0.0</td><td>Map(vectorType -> sparse, length -> 2, indices -> List(0), values -> List(1.0))</td><td>0.0</td><td>Map(vectorType -> sparse, length -> 3, indices -> List(0), values -> List(1.0))</td><td>Map(vectorType -> sparse, length -> 21, indices -> List(0, 2, 4, 5, 7, 8, 10, 12, 16, 18), values -> List(1.0, 1.0, 1.0, 1.0, 1.0, 1.0, 1.0, 1.0, 1.0, 1.0))</td></tr><tr><td>20</td><td>low</td><td>high</td><td>good</td><td>mid</td><td>unstable</td><td>stable</td><td>stable</td><td>15</td><td>A</td><td>20</td><td>1.0</td><td>Comfortable</td><td>1.0</td><td>Map(vectorType -> sparse, length -> 2, indices -> List(1), values -> List(1.0))</td><td>2.0</td><td>Map(vectorType -> sparse, length -> 2, indices -> List(), values -> List())</td><td>0.0</td><td>Map(vectorType -> sparse, length -> 1, indices -> List(0), values -> List(1.0))</td><td>0.0</td><td>Map(vectorType -> sparse, length -> 2, indices -> List(0), values -> List(1.0))</td><td>1.0</td><td>Map(vectorType -> sparse, length -> 1, indices -> List(), values -> List())</td><td>0.0</td><td>Map(vectorType -> sparse, length -> 2, indices -> List(0), values -> List(1.0))</td><td>0.0</td><td>Map(vectorType -> sparse, length -> 2, indices -> List(0), values -> List(1.0))</td><td>1.0</td><td>Map(vectorType -> sparse, length -> 4, indices -> List(1), values -> List(1.0))</td><td>0.0</td><td>Map(vectorType -> sparse, length -> 2, indices -> List(0), values -> List(1.0))</td><td>1.0</td><td>Map(vectorType -> sparse, length -> 3, indices -> List(1), values -> List(1.0))</td><td>Map(vectorType -> sparse, length -> 21, indices -> List(1, 4, 5, 8, 10, 13, 16, 19), values -> List(1.0, 1.0, 1.0, 1.0, 1.0, 1.0, 1.0, 1.0))</td></tr><tr><td>21</td><td>low</td><td>mid</td><td>excellent</td><td>high</td><td>unstable</td><td>stable</td><td>unstable</td><td>10</td><td>S</td><td>21</td><td>1.0</td><td>Uncomfortable</td><td>1.0</td><td>Map(vectorType -> sparse, length -> 2, indices -> List(1), values -> List(1.0))</td><td>0.0</td><td>Map(vectorType -> sparse, length -> 2, indices -> List(0), values -> List(1.0))</td><td>1.0</td><td>Map(vectorType -> sparse, length -> 1, indices -> List(), values -> List())</td><td>1.0</td><td>Map(vectorType -> sparse, length -> 2, indices -> List(1), values -> List(1.0))</td><td>1.0</td><td>Map(vectorType -> sparse, length -> 1, indices -> List(), values -> List())</td><td>0.0</td><td>Map(vectorType -> sparse, length -> 2, indices -> List(0), values -> List(1.0))</td><td>1.0</td><td>Map(vectorType -> sparse, length -> 2, indices -> List(1), values -> List(1.0))</td><td>0.0</td><td>Map(vectorType -> sparse, length -> 4, indices -> List(0), values -> List(1.0))</td><td>1.0</td><td>Map(vectorType -> sparse, length -> 2, indices -> List(1), values -> List(1.0))</td><td>0.0</td><td>Map(vectorType -> sparse, length -> 3, indices -> List(0), values -> List(1.0))</td><td>Map(vectorType -> sparse, length -> 21, indices -> List(1, 2, 6, 8, 11, 12, 17, 18), values -> List(1.0, 1.0, 1.0, 1.0, 1.0, 1.0, 1.0, 1.0))</td></tr><tr><td>22</td><td>mid</td><td>mid</td><td>good</td><td>mid</td><td>unstable</td><td>stable</td><td>unstable</td><td>15</td><td>A</td><td>22</td><td>0.0</td><td>Comfortable</td><td>0.0</td><td>Map(vectorType -> sparse, length -> 2, indices -> List(0), values -> List(1.0))</td><td>0.0</td><td>Map(vectorType -> sparse, length -> 2, indices -> List(0), values -> List(1.0))</td><td>0.0</td><td>Map(vectorType -> sparse, length -> 1, indices -> List(0), values -> List(1.0))</td><td>0.0</td><td>Map(vectorType -> sparse, length -> 2, indices -> List(0), values -> List(1.0))</td><td>1.0</td><td>Map(vectorType -> sparse, length -> 1, indices -> List(), values -> List())</td><td>0.0</td><td>Map(vectorType -> sparse, length -> 2, indices -> List(0), values -> List(1.0))</td><td>1.0</td><td>Map(vectorType -> sparse, length -> 2, indices -> List(1), values -> List(1.0))</td><td>1.0</td><td>Map(vectorType -> sparse, length -> 4, indices -> List(1), values -> List(1.0))</td><td>0.0</td><td>Map(vectorType -> sparse, length -> 2, indices -> List(0), values -> List(1.0))</td><td>1.0</td><td>Map(vectorType -> sparse, length -> 3, indices -> List(1), values -> List(1.0))</td><td>Map(vectorType -> sparse, length -> 21, indices -> List(0, 2, 4, 5, 8, 11, 13, 16, 19), values -> List(1.0, 1.0, 1.0, 1.0, 1.0, 1.0, 1.0, 1.0, 1.0))</td></tr><tr><td>23</td><td>mid</td><td>mid</td><td>good</td><td>mid</td><td>unstable</td><td>stable</td><td>stable</td><td>10</td><td>A</td><td>23</td><td>0.0</td><td>Uncomfortable</td><td>0.0</td><td>Map(vectorType -> sparse, length -> 2, indices -> List(0), values -> List(1.0))</td><td>0.0</td><td>Map(vectorType -> sparse, length -> 2, indices -> List(0), values -> List(1.0))</td><td>0.0</td><td>Map(vectorType -> sparse, length -> 1, indices -> List(0), values -> List(1.0))</td><td>0.0</td><td>Map(vectorType -> sparse, length -> 2, indices -> List(0), values -> List(1.0))</td><td>1.0</td><td>Map(vectorType -> sparse, length -> 1, indices -> List(), values -> List())</td><td>0.0</td><td>Map(vectorType -> sparse, length -> 2, indices -> List(0), values -> List(1.0))</td><td>0.0</td><td>Map(vectorType -> sparse, length -> 2, indices -> List(0), values -> List(1.0))</td><td>0.0</td><td>Map(vectorType -> sparse, length -> 4, indices -> List(0), values -> List(1.0))</td><td>0.0</td><td>Map(vectorType -> sparse, length -> 2, indices -> List(0), values -> List(1.0))</td><td>0.0</td><td>Map(vectorType -> sparse, length -> 3, indices -> List(0), values -> List(1.0))</td><td>Map(vectorType -> sparse, length -> 21, indices -> List(0, 2, 4, 5, 8, 10, 12, 16, 18), values -> List(1.0, 1.0, 1.0, 1.0, 1.0, 1.0, 1.0, 1.0, 1.0))</td></tr><tr><td>24</td><td>high</td><td>high</td><td>good</td><td>mid</td><td>stable</td><td>stable</td><td>mod-stable</td><td>10</td><td>A</td><td>24</td><td>2.0</td><td>Uncomfortable</td><td>2.0</td><td>Map(vectorType -> sparse, length -> 2, indices -> List(), values -> List())</td><td>2.0</td><td>Map(vectorType -> sparse, length -> 2, indices -> List(), values -> List())</td><td>0.0</td><td>Map(vectorType -> sparse, length -> 1, indices -> List(0), values -> List(1.0))</td><td>0.0</td><td>Map(vectorType -> sparse, length -> 2, indices -> List(0), values -> List(1.0))</td><td>0.0</td><td>Map(vectorType -> sparse, length -> 1, indices -> List(0), values -> List(1.0))</td><td>0.0</td><td>Map(vectorType -> sparse, length -> 2, indices -> List(0), values -> List(1.0))</td><td>2.0</td><td>Map(vectorType -> sparse, length -> 2, indices -> List(), values -> List())</td><td>0.0</td><td>Map(vectorType -> sparse, length -> 4, indices -> List(0), values -> List(1.0))</td><td>0.0</td><td>Map(vectorType -> sparse, length -> 2, indices -> List(0), values -> List(1.0))</td><td>0.0</td><td>Map(vectorType -> sparse, length -> 3, indices -> List(0), values -> List(1.0))</td><td>Map(vectorType -> sparse, length -> 21, indices -> List(4, 5, 7, 8, 12, 16, 18), values -> List(1.0, 1.0, 1.0, 1.0, 1.0, 1.0, 1.0))</td></tr><tr><td>25</td><td>low</td><td>mid</td><td>good</td><td>mid</td><td>unstable</td><td>stable</td><td>stable</td><td>10</td><td>A</td><td>25</td><td>1.0</td><td>Uncomfortable</td><td>1.0</td><td>Map(vectorType -> sparse, length -> 2, indices -> List(1), values -> List(1.0))</td><td>0.0</td><td>Map(vectorType -> sparse, length -> 2, indices -> List(0), values -> List(1.0))</td><td>0.0</td><td>Map(vectorType -> sparse, length -> 1, indices -> List(0), values -> List(1.0))</td><td>0.0</td><td>Map(vectorType -> sparse, length -> 2, indices -> List(0), values -> List(1.0))</td><td>1.0</td><td>Map(vectorType -> sparse, length -> 1, indices -> List(), values -> List())</td><td>0.0</td><td>Map(vectorType -> sparse, length -> 2, indices -> List(0), values -> List(1.0))</td><td>0.0</td><td>Map(vectorType -> sparse, length -> 2, indices -> List(0), values -> List(1.0))</td><td>0.0</td><td>Map(vectorType -> sparse, length -> 4, indices -> List(0), values -> List(1.0))</td><td>0.0</td><td>Map(vectorType -> sparse, length -> 2, indices -> List(0), values -> List(1.0))</td><td>0.0</td><td>Map(vectorType -> sparse, length -> 3, indices -> List(0), values -> List(1.0))</td><td>Map(vectorType -> sparse, length -> 21, indices -> List(1, 2, 4, 5, 8, 10, 12, 16, 18), values -> List(1.0, 1.0, 1.0, 1.0, 1.0, 1.0, 1.0, 1.0, 1.0))</td></tr><tr><td>26</td><td>high</td><td>mid</td><td>good</td><td>low</td><td>stable</td><td>stable</td><td>mod-stable</td><td>10</td><td>A</td><td>26</td><td>2.0</td><td>Uncomfortable</td><td>2.0</td><td>Map(vectorType -> sparse, length -> 2, indices -> List(), values -> List())</td><td>0.0</td><td>Map(vectorType -> sparse, length -> 2, indices -> List(0), values -> List(1.0))</td><td>0.0</td><td>Map(vectorType -> sparse, length -> 1, indices -> List(0), values -> List(1.0))</td><td>2.0</td><td>Map(vectorType -> sparse, length -> 2, indices -> List(), values -> List())</td><td>0.0</td><td>Map(vectorType -> sparse, length -> 1, indices -> List(0), values -> List(1.0))</td><td>0.0</td><td>Map(vectorType -> sparse, length -> 2, indices -> List(0), values -> List(1.0))</td><td>2.0</td><td>Map(vectorType -> sparse, length -> 2, indices -> List(), values -> List())</td><td>0.0</td><td>Map(vectorType -> sparse, length -> 4, indices -> List(0), values -> List(1.0))</td><td>0.0</td><td>Map(vectorType -> sparse, length -> 2, indices -> List(0), values -> List(1.0))</td><td>0.0</td><td>Map(vectorType -> sparse, length -> 3, indices -> List(0), values -> List(1.0))</td><td>Map(vectorType -> sparse, length -> 21, indices -> List(2, 4, 7, 8, 12, 16, 18), values -> List(1.0, 1.0, 1.0, 1.0, 1.0, 1.0, 1.0))</td></tr><tr><td>27</td><td>low</td><td>mid</td><td>excellent</td><td>high</td><td>stable</td><td>stable</td><td>mod-stable</td><td>10</td><td>A</td><td>27</td><td>1.0</td><td>Uncomfortable</td><td>1.0</td><td>Map(vectorType -> sparse, length -> 2, indices -> List(1), values -> List(1.0))</td><td>0.0</td><td>Map(vectorType -> sparse, length -> 2, indices -> List(0), values -> List(1.0))</td><td>1.0</td><td>Map(vectorType -> sparse, length -> 1, indices -> List(), values -> List())</td><td>1.0</td><td>Map(vectorType -> sparse, length -> 2, indices -> List(1), values -> List(1.0))</td><td>0.0</td><td>Map(vectorType -> sparse, length -> 1, indices -> List(0), values -> List(1.0))</td><td>0.0</td><td>Map(vectorType -> sparse, length -> 2, indices -> List(0), values -> List(1.0))</td><td>2.0</td><td>Map(vectorType -> sparse, length -> 2, indices -> List(), values -> List())</td><td>0.0</td><td>Map(vectorType -> sparse, length -> 4, indices -> List(0), values -> List(1.0))</td><td>0.0</td><td>Map(vectorType -> sparse, length -> 2, indices -> List(0), values -> List(1.0))</td><td>0.0</td><td>Map(vectorType -> sparse, length -> 3, indices -> List(0), values -> List(1.0))</td><td>Map(vectorType -> sparse, length -> 21, indices -> List(1, 2, 6, 7, 8, 12, 16, 18), values -> List(1.0, 1.0, 1.0, 1.0, 1.0, 1.0, 1.0, 1.0))</td></tr><tr><td>28</td><td>mid</td><td>mid</td><td>excellent</td><td>mid</td><td>stable</td><td>stable</td><td>unstable</td><td>15</td><td>A</td><td>28</td><td>0.0</td><td>Comfortable</td><td>0.0</td><td>Map(vectorType -> sparse, length -> 2, indices -> List(0), values -> List(1.0))</td><td>0.0</td><td>Map(vectorType -> sparse, length -> 2, indices -> List(0), values -> List(1.0))</td><td>1.0</td><td>Map(vectorType -> sparse, length -> 1, indices -> List(), values -> List())</td><td>0.0</td><td>Map(vectorType -> sparse, length -> 2, indices -> List(0), values -> List(1.0))</td><td>0.0</td><td>Map(vectorType -> sparse, length -> 1, indices -> List(0), values -> List(1.0))</td><td>0.0</td><td>Map(vectorType -> sparse, length -> 2, indices -> List(0), values -> List(1.0))</td><td>1.0</td><td>Map(vectorType -> sparse, length -> 2, indices -> List(1), values -> List(1.0))</td><td>1.0</td><td>Map(vectorType -> sparse, length -> 4, indices -> List(1), values -> List(1.0))</td><td>0.0</td><td>Map(vectorType -> sparse, length -> 2, indices -> List(0), values -> List(1.0))</td><td>1.0</td><td>Map(vectorType -> sparse, length -> 3, indices -> List(1), values -> List(1.0))</td><td>Map(vectorType -> sparse, length -> 21, indices -> List(0, 2, 5, 7, 8, 11, 13, 16, 19), values -> List(1.0, 1.0, 1.0, 1.0, 1.0, 1.0, 1.0, 1.0, 1.0))</td></tr><tr><td>29</td><td>mid</td><td>mid</td><td>good</td><td>mid</td><td>unstable</td><td>stable</td><td>unstable</td><td>10</td><td>S</td><td>29</td><td>0.0</td><td>Uncomfortable</td><td>0.0</td><td>Map(vectorType -> sparse, length -> 2, indices -> List(0), values -> List(1.0))</td><td>0.0</td><td>Map(vectorType -> sparse, length -> 2, indices -> List(0), values -> List(1.0))</td><td>0.0</td><td>Map(vectorType -> sparse, length -> 1, indices -> List(0), values -> List(1.0))</td><td>0.0</td><td>Map(vectorType -> sparse, length -> 2, indices -> List(0), values -> List(1.0))</td><td>1.0</td><td>Map(vectorType -> sparse, length -> 1, indices -> List(), values -> List())</td><td>0.0</td><td>Map(vectorType -> sparse, length -> 2, indices -> List(0), values -> List(1.0))</td><td>1.0</td><td>Map(vectorType -> sparse, length -> 2, indices -> List(1), values -> List(1.0))</td><td>0.0</td><td>Map(vectorType -> sparse, length -> 4, indices -> List(0), values -> List(1.0))</td><td>1.0</td><td>Map(vectorType -> sparse, length -> 2, indices -> List(1), values -> List(1.0))</td><td>0.0</td><td>Map(vectorType -> sparse, length -> 3, indices -> List(0), values -> List(1.0))</td><td>Map(vectorType -> sparse, length -> 21, indices -> List(0, 2, 4, 5, 8, 11, 12, 17, 18), values -> List(1.0, 1.0, 1.0, 1.0, 1.0, 1.0, 1.0, 1.0, 1.0))</td></tr><tr><td>30</td><td>mid</td><td>mid</td><td>good</td><td>high</td><td>unstable</td><td>stable</td><td>stable</td><td>10</td><td>A</td><td>30</td><td>0.0</td><td>Uncomfortable</td><td>0.0</td><td>Map(vectorType -> sparse, length -> 2, indices -> List(0), values -> List(1.0))</td><td>0.0</td><td>Map(vectorType -> sparse, length -> 2, indices -> List(0), values -> List(1.0))</td><td>0.0</td><td>Map(vectorType -> sparse, length -> 1, indices -> List(0), values -> List(1.0))</td><td>1.0</td><td>Map(vectorType -> sparse, length -> 2, indices -> List(1), values -> List(1.0))</td><td>1.0</td><td>Map(vectorType -> sparse, length -> 1, indices -> List(), values -> List())</td><td>0.0</td><td>Map(vectorType -> sparse, length -> 2, indices -> List(0), values -> List(1.0))</td><td>0.0</td><td>Map(vectorType -> sparse, length -> 2, indices -> List(0), values -> List(1.0))</td><td>0.0</td><td>Map(vectorType -> sparse, length -> 4, indices -> List(0), values -> List(1.0))</td><td>0.0</td><td>Map(vectorType -> sparse, length -> 2, indices -> List(0), values -> List(1.0))</td><td>0.0</td><td>Map(vectorType -> sparse, length -> 3, indices -> List(0), values -> List(1.0))</td><td>Map(vectorType -> sparse, length -> 21, indices -> List(0, 2, 4, 6, 8, 10, 12, 16, 18), values -> List(1.0, 1.0, 1.0, 1.0, 1.0, 1.0, 1.0, 1.0, 1.0))</td></tr><tr><td>31</td><td>low</td><td>low</td><td>good</td><td>mid</td><td>unstable</td><td>stable</td><td>unstable</td><td>10</td><td>A</td><td>31</td><td>1.0</td><td>Uncomfortable</td><td>1.0</td><td>Map(vectorType -> sparse, length -> 2, indices -> List(1), values -> List(1.0))</td><td>1.0</td><td>Map(vectorType -> sparse, length -> 2, indices -> List(1), values -> List(1.0))</td><td>0.0</td><td>Map(vectorType -> sparse, length -> 1, indices -> List(0), values -> List(1.0))</td><td>0.0</td><td>Map(vectorType -> sparse, length -> 2, indices -> List(0), values -> List(1.0))</td><td>1.0</td><td>Map(vectorType -> sparse, length -> 1, indices -> List(), values -> List())</td><td>0.0</td><td>Map(vectorType -> sparse, length -> 2, indices -> List(0), values -> List(1.0))</td><td>1.0</td><td>Map(vectorType -> sparse, length -> 2, indices -> List(1), values -> List(1.0))</td><td>0.0</td><td>Map(vectorType -> sparse, length -> 4, indices -> List(0), values -> List(1.0))</td><td>0.0</td><td>Map(vectorType -> sparse, length -> 2, indices -> List(0), values -> List(1.0))</td><td>0.0</td><td>Map(vectorType -> sparse, length -> 3, indices -> List(0), values -> List(1.0))</td><td>Map(vectorType -> sparse, length -> 21, indices -> List(1, 3, 4, 5, 8, 11, 12, 16, 18), values -> List(1.0, 1.0, 1.0, 1.0, 1.0, 1.0, 1.0, 1.0, 1.0))</td></tr><tr><td>32</td><td>mid</td><td>mid</td><td>excellent</td><td>high</td><td>unstable</td><td>stable</td><td>mod-stable</td><td>10</td><td>A</td><td>32</td><td>0.0</td><td>Uncomfortable</td><td>0.0</td><td>Map(vectorType -> sparse, length -> 2, indices -> List(0), values -> List(1.0))</td><td>0.0</td><td>Map(vectorType -> sparse, length -> 2, indices -> List(0), values -> List(1.0))</td><td>1.0</td><td>Map(vectorType -> sparse, length -> 1, indices -> List(), values -> List())</td><td>1.0</td><td>Map(vectorType -> sparse, length -> 2, indices -> List(1), values -> List(1.0))</td><td>1.0</td><td>Map(vectorType -> sparse, length -> 1, indices -> List(), values -> List())</td><td>0.0</td><td>Map(vectorType -> sparse, length -> 2, indices -> List(0), values -> List(1.0))</td><td>2.0</td><td>Map(vectorType -> sparse, length -> 2, indices -> List(), values -> List())</td><td>0.0</td><td>Map(vectorType -> sparse, length -> 4, indices -> List(0), values -> List(1.0))</td><td>0.0</td><td>Map(vectorType -> sparse, length -> 2, indices -> List(0), values -> List(1.0))</td><td>0.0</td><td>Map(vectorType -> sparse, length -> 3, indices -> List(0), values -> List(1.0))</td><td>Map(vectorType -> sparse, length -> 21, indices -> List(0, 2, 6, 8, 12, 16, 18), values -> List(1.0, 1.0, 1.0, 1.0, 1.0, 1.0, 1.0))</td></tr><tr><td>33</td><td>mid</td><td>low</td><td>good</td><td>mid</td><td>stable</td><td>stable</td><td>stable</td><td>10</td><td>A</td><td>33</td><td>0.0</td><td>Uncomfortable</td><td>0.0</td><td>Map(vectorType -> sparse, length -> 2, indices -> List(0), values -> List(1.0))</td><td>1.0</td><td>Map(vectorType -> sparse, length -> 2, indices -> List(1), values -> List(1.0))</td><td>0.0</td><td>Map(vectorType -> sparse, length -> 1, indices -> List(0), values -> List(1.0))</td><td>0.0</td><td>Map(vectorType -> sparse, length -> 2, indices -> List(0), values -> List(1.0))</td><td>0.0</td><td>Map(vectorType -> sparse, length -> 1, indices -> List(0), values -> List(1.0))</td><td>0.0</td><td>Map(vectorType -> sparse, length -> 2, indices -> List(0), values -> List(1.0))</td><td>0.0</td><td>Map(vectorType -> sparse, length -> 2, indices -> List(0), values -> List(1.0))</td><td>0.0</td><td>Map(vectorType -> sparse, length -> 4, indices -> List(0), values -> List(1.0))</td><td>0.0</td><td>Map(vectorType -> sparse, length -> 2, indices -> List(0), values -> List(1.0))</td><td>0.0</td><td>Map(vectorType -> sparse, length -> 3, indices -> List(0), values -> List(1.0))</td><td>Map(vectorType -> sparse, length -> 21, indices -> List(0, 3, 4, 5, 7, 8, 10, 12, 16, 18), values -> List(1.0, 1.0, 1.0, 1.0, 1.0, 1.0, 1.0, 1.0, 1.0, 1.0))</td></tr><tr><td>34</td><td>low</td><td>mid</td><td>excellent</td><td>high</td><td>stable</td><td>stable</td><td>mod-stable</td><td>10</td><td>A</td><td>34</td><td>1.0</td><td>Uncomfortable</td><td>1.0</td><td>Map(vectorType -> sparse, length -> 2, indices -> List(1), values -> List(1.0))</td><td>0.0</td><td>Map(vectorType -> sparse, length -> 2, indices -> List(0), values -> List(1.0))</td><td>1.0</td><td>Map(vectorType -> sparse, length -> 1, indices -> List(), values -> List())</td><td>1.0</td><td>Map(vectorType -> sparse, length -> 2, indices -> List(1), values -> List(1.0))</td><td>0.0</td><td>Map(vectorType -> sparse, length -> 1, indices -> List(0), values -> List(1.0))</td><td>0.0</td><td>Map(vectorType -> sparse, length -> 2, indices -> List(0), values -> List(1.0))</td><td>2.0</td><td>Map(vectorType -> sparse, length -> 2, indices -> List(), values -> List())</td><td>0.0</td><td>Map(vectorType -> sparse, length -> 4, indices -> List(0), values -> List(1.0))</td><td>0.0</td><td>Map(vectorType -> sparse, length -> 2, indices -> List(0), values -> List(1.0))</td><td>0.0</td><td>Map(vectorType -> sparse, length -> 3, indices -> List(0), values -> List(1.0))</td><td>Map(vectorType -> sparse, length -> 21, indices -> List(1, 2, 6, 7, 8, 12, 16, 18), values -> List(1.0, 1.0, 1.0, 1.0, 1.0, 1.0, 1.0, 1.0))</td></tr><tr><td>35</td><td>mid</td><td>mid</td><td>good</td><td>mid</td><td>stable</td><td>stable</td><td>stable</td><td>10</td><td>A</td><td>35</td><td>0.0</td><td>Uncomfortable</td><td>0.0</td><td>Map(vectorType -> sparse, length -> 2, indices -> List(0), values -> List(1.0))</td><td>0.0</td><td>Map(vectorType -> sparse, length -> 2, indices -> List(0), values -> List(1.0))</td><td>0.0</td><td>Map(vectorType -> sparse, length -> 1, indices -> List(0), values -> List(1.0))</td><td>0.0</td><td>Map(vectorType -> sparse, length -> 2, indices -> List(0), values -> List(1.0))</td><td>0.0</td><td>Map(vectorType -> sparse, length -> 1, indices -> List(0), values -> List(1.0))</td><td>0.0</td><td>Map(vectorType -> sparse, length -> 2, indices -> List(0), values -> List(1.0))</td><td>0.0</td><td>Map(vectorType -> sparse, length -> 2, indices -> List(0), values -> List(1.0))</td><td>0.0</td><td>Map(vectorType -> sparse, length -> 4, indices -> List(0), values -> List(1.0))</td><td>0.0</td><td>Map(vectorType -> sparse, length -> 2, indices -> List(0), values -> List(1.0))</td><td>0.0</td><td>Map(vectorType -> sparse, length -> 3, indices -> List(0), values -> List(1.0))</td><td>Map(vectorType -> sparse, length -> 21, indices -> List(0, 2, 4, 5, 7, 8, 10, 12, 16, 18), values -> List(1.0, 1.0, 1.0, 1.0, 1.0, 1.0, 1.0, 1.0, 1.0, 1.0))</td></tr><tr><td>36</td><td>low</td><td>mid</td><td>excellent</td><td>mid</td><td>stable</td><td>stable</td><td>stable</td><td>10</td><td>S</td><td>36</td><td>1.0</td><td>Uncomfortable</td><td>1.0</td><td>Map(vectorType -> sparse, length -> 2, indices -> List(1), values -> List(1.0))</td><td>0.0</td><td>Map(vectorType -> sparse, length -> 2, indices -> List(0), values -> List(1.0))</td><td>1.0</td><td>Map(vectorType -> sparse, length -> 1, indices -> List(), values -> List())</td><td>0.0</td><td>Map(vectorType -> sparse, length -> 2, indices -> List(0), values -> List(1.0))</td><td>0.0</td><td>Map(vectorType -> sparse, length -> 1, indices -> List(0), values -> List(1.0))</td><td>0.0</td><td>Map(vectorType -> sparse, length -> 2, indices -> List(0), values -> List(1.0))</td><td>0.0</td><td>Map(vectorType -> sparse, length -> 2, indices -> List(0), values -> List(1.0))</td><td>0.0</td><td>Map(vectorType -> sparse, length -> 4, indices -> List(0), values -> List(1.0))</td><td>1.0</td><td>Map(vectorType -> sparse, length -> 2, indices -> List(1), values -> List(1.0))</td><td>0.0</td><td>Map(vectorType -> sparse, length -> 3, indices -> List(0), values -> List(1.0))</td><td>Map(vectorType -> sparse, length -> 21, indices -> List(1, 2, 5, 7, 8, 10, 12, 17, 18), values -> List(1.0, 1.0, 1.0, 1.0, 1.0, 1.0, 1.0, 1.0, 1.0))</td></tr><tr><td>37</td><td>low</td><td>low</td><td>good</td><td>mid</td><td>unstable</td><td>stable</td><td>unstable</td><td>10</td><td>S</td><td>37</td><td>1.0</td><td>Uncomfortable</td><td>1.0</td><td>Map(vectorType -> sparse, length -> 2, indices -> List(1), values -> List(1.0))</td><td>1.0</td><td>Map(vectorType -> sparse, length -> 2, indices -> List(1), values -> List(1.0))</td><td>0.0</td><td>Map(vectorType -> sparse, length -> 1, indices -> List(0), values -> List(1.0))</td><td>0.0</td><td>Map(vectorType -> sparse, length -> 2, indices -> List(0), values -> List(1.0))</td><td>1.0</td><td>Map(vectorType -> sparse, length -> 1, indices -> List(), values -> List())</td><td>0.0</td><td>Map(vectorType -> sparse, length -> 2, indices -> List(0), values -> List(1.0))</td><td>1.0</td><td>Map(vectorType -> sparse, length -> 2, indices -> List(1), values -> List(1.0))</td><td>0.0</td><td>Map(vectorType -> sparse, length -> 4, indices -> List(0), values -> List(1.0))</td><td>1.0</td><td>Map(vectorType -> sparse, length -> 2, indices -> List(1), values -> List(1.0))</td><td>0.0</td><td>Map(vectorType -> sparse, length -> 3, indices -> List(0), values -> List(1.0))</td><td>Map(vectorType -> sparse, length -> 21, indices -> List(1, 3, 4, 5, 8, 11, 12, 17, 18), values -> List(1.0, 1.0, 1.0, 1.0, 1.0, 1.0, 1.0, 1.0, 1.0))</td></tr><tr><td>38</td><td>low</td><td>low</td><td>good</td><td>mid</td><td>stable</td><td>stable</td><td>stable</td><td>07</td><td>S</td><td>38</td><td>1.0</td><td>Uncomfortable</td><td>1.0</td><td>Map(vectorType -> sparse, length -> 2, indices -> List(1), values -> List(1.0))</td><td>1.0</td><td>Map(vectorType -> sparse, length -> 2, indices -> List(1), values -> List(1.0))</td><td>0.0</td><td>Map(vectorType -> sparse, length -> 1, indices -> List(0), values -> List(1.0))</td><td>0.0</td><td>Map(vectorType -> sparse, length -> 2, indices -> List(0), values -> List(1.0))</td><td>0.0</td><td>Map(vectorType -> sparse, length -> 1, indices -> List(0), values -> List(1.0))</td><td>0.0</td><td>Map(vectorType -> sparse, length -> 2, indices -> List(0), values -> List(1.0))</td><td>0.0</td><td>Map(vectorType -> sparse, length -> 2, indices -> List(0), values -> List(1.0))</td><td>4.0</td><td>Map(vectorType -> sparse, length -> 4, indices -> List(), values -> List())</td><td>1.0</td><td>Map(vectorType -> sparse, length -> 2, indices -> List(1), values -> List(1.0))</td><td>0.0</td><td>Map(vectorType -> sparse, length -> 3, indices -> List(0), values -> List(1.0))</td><td>Map(vectorType -> sparse, length -> 21, indices -> List(1, 3, 4, 5, 7, 8, 10, 17, 18), values -> List(1.0, 1.0, 1.0, 1.0, 1.0, 1.0, 1.0, 1.0, 1.0))</td></tr><tr><td>39</td><td>mid</td><td>mid</td><td>good</td><td>high</td><td>unstable</td><td>stable</td><td>mod-stable</td><td>10</td><td>A</td><td>39</td><td>0.0</td><td>Uncomfortable</td><td>0.0</td><td>Map(vectorType -> sparse, length -> 2, indices -> List(0), values -> List(1.0))</td><td>0.0</td><td>Map(vectorType -> sparse, length -> 2, indices -> List(0), values -> List(1.0))</td><td>0.0</td><td>Map(vectorType -> sparse, length -> 1, indices -> List(0), values -> List(1.0))</td><td>1.0</td><td>Map(vectorType -> sparse, length -> 2, indices -> List(1), values -> List(1.0))</td><td>1.0</td><td>Map(vectorType -> sparse, length -> 1, indices -> List(), values -> List())</td><td>0.0</td><td>Map(vectorType -> sparse, length -> 2, indices -> List(0), values -> List(1.0))</td><td>2.0</td><td>Map(vectorType -> sparse, length -> 2, indices -> List(), values -> List())</td><td>0.0</td><td>Map(vectorType -> sparse, length -> 4, indices -> List(0), values -> List(1.0))</td><td>0.0</td><td>Map(vectorType -> sparse, length -> 2, indices -> List(0), values -> List(1.0))</td><td>0.0</td><td>Map(vectorType -> sparse, length -> 3, indices -> List(0), values -> List(1.0))</td><td>Map(vectorType -> sparse, length -> 21, indices -> List(0, 2, 4, 6, 8, 12, 16, 18), values -> List(1.0, 1.0, 1.0, 1.0, 1.0, 1.0, 1.0, 1.0))</td></tr><tr><td>40</td><td>low</td><td>low</td><td>good</td><td>mid</td><td>unstable</td><td>stable</td><td>stable</td><td>10</td><td>A</td><td>40</td><td>1.0</td><td>Uncomfortable</td><td>1.0</td><td>Map(vectorType -> sparse, length -> 2, indices -> List(1), values -> List(1.0))</td><td>1.0</td><td>Map(vectorType -> sparse, length -> 2, indices -> List(1), values -> List(1.0))</td><td>0.0</td><td>Map(vectorType -> sparse, length -> 1, indices -> List(0), values -> List(1.0))</td><td>0.0</td><td>Map(vectorType -> sparse, length -> 2, indices -> List(0), values -> List(1.0))</td><td>1.0</td><td>Map(vectorType -> sparse, length -> 1, indices -> List(), values -> List())</td><td>0.0</td><td>Map(vectorType -> sparse, length -> 2, indices -> List(0), values -> List(1.0))</td><td>0.0</td><td>Map(vectorType -> sparse, length -> 2, indices -> List(0), values -> List(1.0))</td><td>0.0</td><td>Map(vectorType -> sparse, length -> 4, indices -> List(0), values -> List(1.0))</td><td>0.0</td><td>Map(vectorType -> sparse, length -> 2, indices -> List(0), values -> List(1.0))</td><td>0.0</td><td>Map(vectorType -> sparse, length -> 3, indices -> List(0), values -> List(1.0))</td><td>Map(vectorType -> sparse, length -> 21, indices -> List(1, 3, 4, 5, 8, 10, 12, 16, 18), values -> List(1.0, 1.0, 1.0, 1.0, 1.0, 1.0, 1.0, 1.0, 1.0))</td></tr><tr><td>41</td><td>low</td><td>mid</td><td>good</td><td>mid</td><td>stable</td><td>stable</td><td>stable</td><td>15</td><td>S</td><td>41</td><td>1.0</td><td>Comfortable</td><td>1.0</td><td>Map(vectorType -> sparse, length -> 2, indices -> List(1), values -> List(1.0))</td><td>0.0</td><td>Map(vectorType -> sparse, length -> 2, indices -> List(0), values -> List(1.0))</td><td>0.0</td><td>Map(vectorType -> sparse, length -> 1, indices -> List(0), values -> List(1.0))</td><td>0.0</td><td>Map(vectorType -> sparse, length -> 2, indices -> List(0), values -> List(1.0))</td><td>0.0</td><td>Map(vectorType -> sparse, length -> 1, indices -> List(0), values -> List(1.0))</td><td>0.0</td><td>Map(vectorType -> sparse, length -> 2, indices -> List(0), values -> List(1.0))</td><td>0.0</td><td>Map(vectorType -> sparse, length -> 2, indices -> List(0), values -> List(1.0))</td><td>1.0</td><td>Map(vectorType -> sparse, length -> 4, indices -> List(1), values -> List(1.0))</td><td>1.0</td><td>Map(vectorType -> sparse, length -> 2, indices -> List(1), values -> List(1.0))</td><td>1.0</td><td>Map(vectorType -> sparse, length -> 3, indices -> List(1), values -> List(1.0))</td><td>Map(vectorType -> sparse, length -> 21, indices -> List(1, 2, 4, 5, 7, 8, 10, 13, 17, 19), values -> List(1.0, 1.0, 1.0, 1.0, 1.0, 1.0, 1.0, 1.0, 1.0, 1.0))</td></tr><tr><td>42</td><td>high</td><td>high</td><td>good</td><td>high</td><td>unstable</td><td>stable</td><td>stable</td><td>15</td><td>S</td><td>42</td><td>2.0</td><td>Comfortable</td><td>2.0</td><td>Map(vectorType -> sparse, length -> 2, indices -> List(), values -> List())</td><td>2.0</td><td>Map(vectorType -> sparse, length -> 2, indices -> List(), values -> List())</td><td>0.0</td><td>Map(vectorType -> sparse, length -> 1, indices -> List(0), values -> List(1.0))</td><td>1.0</td><td>Map(vectorType -> sparse, length -> 2, indices -> List(1), values -> List(1.0))</td><td>1.0</td><td>Map(vectorType -> sparse, length -> 1, indices -> List(), values -> List())</td><td>0.0</td><td>Map(vectorType -> sparse, length -> 2, indices -> List(0), values -> List(1.0))</td><td>0.0</td><td>Map(vectorType -> sparse, length -> 2, indices -> List(0), values -> List(1.0))</td><td>1.0</td><td>Map(vectorType -> sparse, length -> 4, indices -> List(1), values -> List(1.0))</td><td>1.0</td><td>Map(vectorType -> sparse, length -> 2, indices -> List(1), values -> List(1.0))</td><td>1.0</td><td>Map(vectorType -> sparse, length -> 3, indices -> List(1), values -> List(1.0))</td><td>Map(vectorType -> sparse, length -> 21, indices -> List(4, 6, 8, 10, 13, 17, 19), values -> List(1.0, 1.0, 1.0, 1.0, 1.0, 1.0, 1.0))</td></tr><tr><td>43</td><td>mid</td><td>mid</td><td>good</td><td>mid</td><td>stable</td><td>stable</td><td>stable</td><td>10</td><td>S</td><td>43</td><td>0.0</td><td>Uncomfortable</td><td>0.0</td><td>Map(vectorType -> sparse, length -> 2, indices -> List(0), values -> List(1.0))</td><td>0.0</td><td>Map(vectorType -> sparse, length -> 2, indices -> List(0), values -> List(1.0))</td><td>0.0</td><td>Map(vectorType -> sparse, length -> 1, indices -> List(0), values -> List(1.0))</td><td>0.0</td><td>Map(vectorType -> sparse, length -> 2, indices -> List(0), values -> List(1.0))</td><td>0.0</td><td>Map(vectorType -> sparse, length -> 1, indices -> List(0), values -> List(1.0))</td><td>0.0</td><td>Map(vectorType -> sparse, length -> 2, indices -> List(0), values -> List(1.0))</td><td>0.0</td><td>Map(vectorType -> sparse, length -> 2, indices -> List(0), values -> List(1.0))</td><td>0.0</td><td>Map(vectorType -> sparse, length -> 4, indices -> List(0), values -> List(1.0))</td><td>1.0</td><td>Map(vectorType -> sparse, length -> 2, indices -> List(1), values -> List(1.0))</td><td>0.0</td><td>Map(vectorType -> sparse, length -> 3, indices -> List(0), values -> List(1.0))</td><td>Map(vectorType -> sparse, length -> 21, indices -> List(0, 2, 4, 5, 7, 8, 10, 12, 17, 18), values -> List(1.0, 1.0, 1.0, 1.0, 1.0, 1.0, 1.0, 1.0, 1.0, 1.0))</td></tr><tr><td>44</td><td>low</td><td>low</td><td>excellent</td><td>mid</td><td>stable</td><td>stable</td><td>stable</td><td>10</td><td>A</td><td>44</td><td>1.0</td><td>Uncomfortable</td><td>1.0</td><td>Map(vectorType -> sparse, length -> 2, indices -> List(1), values -> List(1.0))</td><td>1.0</td><td>Map(vectorType -> sparse, length -> 2, indices -> List(1), values -> List(1.0))</td><td>1.0</td><td>Map(vectorType -> sparse, length -> 1, indices -> List(), values -> List())</td><td>0.0</td><td>Map(vectorType -> sparse, length -> 2, indices -> List(0), values -> List(1.0))</td><td>0.0</td><td>Map(vectorType -> sparse, length -> 1, indices -> List(0), values -> List(1.0))</td><td>0.0</td><td>Map(vectorType -> sparse, length -> 2, indices -> List(0), values -> List(1.0))</td><td>0.0</td><td>Map(vectorType -> sparse, length -> 2, indices -> List(0), values -> List(1.0))</td><td>0.0</td><td>Map(vectorType -> sparse, length -> 4, indices -> List(0), values -> List(1.0))</td><td>0.0</td><td>Map(vectorType -> sparse, length -> 2, indices -> List(0), values -> List(1.0))</td><td>0.0</td><td>Map(vectorType -> sparse, length -> 3, indices -> List(0), values -> List(1.0))</td><td>Map(vectorType -> sparse, length -> 21, indices -> List(1, 3, 5, 7, 8, 10, 12, 16, 18), values -> List(1.0, 1.0, 1.0, 1.0, 1.0, 1.0, 1.0, 1.0, 1.0))</td></tr><tr><td>45</td><td>low</td><td>mid</td><td>good</td><td>mid</td><td>unstable</td><td>stable</td><td>stable</td><td>10</td><td>S</td><td>45</td><td>1.0</td><td>Uncomfortable</td><td>1.0</td><td>Map(vectorType -> sparse, length -> 2, indices -> List(1), values -> List(1.0))</td><td>0.0</td><td>Map(vectorType -> sparse, length -> 2, indices -> List(0), values -> List(1.0))</td><td>0.0</td><td>Map(vectorType -> sparse, length -> 1, indices -> List(0), values -> List(1.0))</td><td>0.0</td><td>Map(vectorType -> sparse, length -> 2, indices -> List(0), values -> List(1.0))</td><td>1.0</td><td>Map(vectorType -> sparse, length -> 1, indices -> List(), values -> List())</td><td>0.0</td><td>Map(vectorType -> sparse, length -> 2, indices -> List(0), values -> List(1.0))</td><td>0.0</td><td>Map(vectorType -> sparse, length -> 2, indices -> List(0), values -> List(1.0))</td><td>0.0</td><td>Map(vectorType -> sparse, length -> 4, indices -> List(0), values -> List(1.0))</td><td>1.0</td><td>Map(vectorType -> sparse, length -> 2, indices -> List(1), values -> List(1.0))</td><td>0.0</td><td>Map(vectorType -> sparse, length -> 3, indices -> List(0), values -> List(1.0))</td><td>Map(vectorType -> sparse, length -> 21, indices -> List(1, 2, 4, 5, 8, 10, 12, 17, 18), values -> List(1.0, 1.0, 1.0, 1.0, 1.0, 1.0, 1.0, 1.0, 1.0))</td></tr><tr><td>46</td><td>low</td><td>mid</td><td>good</td><td>high</td><td>unstable</td><td>stable</td><td>stable</td><td>?</td><td>I</td><td>46</td><td>1.0</td><td>Unknown</td><td>1.0</td><td>Map(vectorType -> sparse, length -> 2, indices -> List(1), values -> List(1.0))</td><td>0.0</td><td>Map(vectorType -> sparse, length -> 2, indices -> List(0), values -> List(1.0))</td><td>0.0</td><td>Map(vectorType -> sparse, length -> 1, indices -> List(0), values -> List(1.0))</td><td>1.0</td><td>Map(vectorType -> sparse, length -> 2, indices -> List(1), values -> List(1.0))</td><td>1.0</td><td>Map(vectorType -> sparse, length -> 1, indices -> List(), values -> List())</td><td>0.0</td><td>Map(vectorType -> sparse, length -> 2, indices -> List(0), values -> List(1.0))</td><td>0.0</td><td>Map(vectorType -> sparse, length -> 2, indices -> List(0), values -> List(1.0))</td><td>2.0</td><td>Map(vectorType -> sparse, length -> 4, indices -> List(2), values -> List(1.0))</td><td>2.0</td><td>Map(vectorType -> sparse, length -> 2, indices -> List(), values -> List())</td><td>2.0</td><td>Map(vectorType -> sparse, length -> 3, indices -> List(2), values -> List(1.0))</td><td>Map(vectorType -> sparse, length -> 21, indices -> List(1, 2, 4, 6, 8, 10, 14, 20), values -> List(1.0, 1.0, 1.0, 1.0, 1.0, 1.0, 1.0, 1.0))</td></tr><tr><td>47</td><td>mid</td><td>mid</td><td>excellent</td><td>mid</td><td>unstable</td><td>stable</td><td>stable</td><td>10</td><td>A</td><td>47</td><td>0.0</td><td>Uncomfortable</td><td>0.0</td><td>Map(vectorType -> sparse, length -> 2, indices -> List(0), values -> List(1.0))</td><td>0.0</td><td>Map(vectorType -> sparse, length -> 2, indices -> List(0), values -> List(1.0))</td><td>1.0</td><td>Map(vectorType -> sparse, length -> 1, indices -> List(), values -> List())</td><td>0.0</td><td>Map(vectorType -> sparse, length -> 2, indices -> List(0), values -> List(1.0))</td><td>1.0</td><td>Map(vectorType -> sparse, length -> 1, indices -> List(), values -> List())</td><td>0.0</td><td>Map(vectorType -> sparse, length -> 2, indices -> List(0), values -> List(1.0))</td><td>0.0</td><td>Map(vectorType -> sparse, length -> 2, indices -> List(0), values -> List(1.0))</td><td>0.0</td><td>Map(vectorType -> sparse, length -> 4, indices -> List(0), values -> List(1.0))</td><td>0.0</td><td>Map(vectorType -> sparse, length -> 2, indices -> List(0), values -> List(1.0))</td><td>0.0</td><td>Map(vectorType -> sparse, length -> 3, indices -> List(0), values -> List(1.0))</td><td>Map(vectorType -> sparse, length -> 21, indices -> List(0, 2, 5, 8, 10, 12, 16, 18), values -> List(1.0, 1.0, 1.0, 1.0, 1.0, 1.0, 1.0, 1.0))</td></tr><tr><td>48</td><td>high</td><td>high</td><td>excellent</td><td>high</td><td>stable</td><td>stable</td><td>unstable</td><td>?</td><td>A</td><td>48</td><td>2.0</td><td>Unknown</td><td>2.0</td><td>Map(vectorType -> sparse, length -> 2, indices -> List(), values -> List())</td><td>2.0</td><td>Map(vectorType -> sparse, length -> 2, indices -> List(), values -> List())</td><td>1.0</td><td>Map(vectorType -> sparse, length -> 1, indices -> List(), values -> List())</td><td>1.0</td><td>Map(vectorType -> sparse, length -> 2, indices -> List(1), values -> List(1.0))</td><td>0.0</td><td>Map(vectorType -> sparse, length -> 1, indices -> List(0), values -> List(1.0))</td><td>0.0</td><td>Map(vectorType -> sparse, length -> 2, indices -> List(0), values -> List(1.0))</td><td>1.0</td><td>Map(vectorType -> sparse, length -> 2, indices -> List(1), values -> List(1.0))</td><td>2.0</td><td>Map(vectorType -> sparse, length -> 4, indices -> List(2), values -> List(1.0))</td><td>0.0</td><td>Map(vectorType -> sparse, length -> 2, indices -> List(0), values -> List(1.0))</td><td>2.0</td><td>Map(vectorType -> sparse, length -> 3, indices -> List(2), values -> List(1.0))</td><td>Map(vectorType -> sparse, length -> 21, indices -> List(6, 7, 8, 11, 14, 16, 20), values -> List(1.0, 1.0, 1.0, 1.0, 1.0, 1.0, 1.0))</td></tr><tr><td>49</td><td>mid</td><td>high</td><td>good</td><td>low</td><td>unstable</td><td>stable</td><td>stable</td><td>10</td><td>A</td><td>49</td><td>0.0</td><td>Uncomfortable</td><td>0.0</td><td>Map(vectorType -> sparse, length -> 2, indices -> List(0), values -> List(1.0))</td><td>2.0</td><td>Map(vectorType -> sparse, length -> 2, indices -> List(), values -> List())</td><td>0.0</td><td>Map(vectorType -> sparse, length -> 1, indices -> List(0), values -> List(1.0))</td><td>2.0</td><td>Map(vectorType -> sparse, length -> 2, indices -> List(), values -> List())</td><td>1.0</td><td>Map(vectorType -> sparse, length -> 1, indices -> List(), values -> List())</td><td>0.0</td><td>Map(vectorType -> sparse, length -> 2, indices -> List(0), values -> List(1.0))</td><td>0.0</td><td>Map(vectorType -> sparse, length -> 2, indices -> List(0), values -> List(1.0))</td><td>0.0</td><td>Map(vectorType -> sparse, length -> 4, indices -> List(0), values -> List(1.0))</td><td>0.0</td><td>Map(vectorType -> sparse, length -> 2, indices -> List(0), values -> List(1.0))</td><td>0.0</td><td>Map(vectorType -> sparse, length -> 3, indices -> List(0), values -> List(1.0))</td><td>Map(vectorType -> sparse, length -> 21, indices -> List(0, 4, 8, 10, 12, 16, 18), values -> List(1.0, 1.0, 1.0, 1.0, 1.0, 1.0, 1.0))</td></tr><tr><td>50</td><td>mid</td><td>high</td><td>good</td><td>mid</td><td>unstable</td><td>mod-stable</td><td>mod-stable</td><td>10</td><td>A</td><td>50</td><td>0.0</td><td>Uncomfortable</td><td>0.0</td><td>Map(vectorType -> sparse, length -> 2, indices -> List(0), values -> List(1.0))</td><td>2.0</td><td>Map(vectorType -> sparse, length -> 2, indices -> List(), values -> List())</td><td>0.0</td><td>Map(vectorType -> sparse, length -> 1, indices -> List(0), values -> List(1.0))</td><td>0.0</td><td>Map(vectorType -> sparse, length -> 2, indices -> List(0), values -> List(1.0))</td><td>1.0</td><td>Map(vectorType -> sparse, length -> 1, indices -> List(), values -> List())</td><td>2.0</td><td>Map(vectorType -> sparse, length -> 2, indices -> List(), values -> List())</td><td>2.0</td><td>Map(vectorType -> sparse, length -> 2, indices -> List(), values -> List())</td><td>0.0</td><td>Map(vectorType -> sparse, length -> 4, indices -> List(0), values -> List(1.0))</td><td>0.0</td><td>Map(vectorType -> sparse, length -> 2, indices -> List(0), values -> List(1.0))</td><td>0.0</td><td>Map(vectorType -> sparse, length -> 3, indices -> List(0), values -> List(1.0))</td><td>Map(vectorType -> sparse, length -> 21, indices -> List(0, 4, 5, 12, 16, 18), values -> List(1.0, 1.0, 1.0, 1.0, 1.0, 1.0))</td></tr><tr><td>51</td><td>low</td><td>high</td><td>excellent</td><td>mid</td><td>unstable</td><td>stable</td><td>stable</td><td>10</td><td>A</td><td>51</td><td>1.0</td><td>Uncomfortable</td><td>1.0</td><td>Map(vectorType -> sparse, length -> 2, indices -> List(1), values -> List(1.0))</td><td>2.0</td><td>Map(vectorType -> sparse, length -> 2, indices -> List(), values -> List())</td><td>1.0</td><td>Map(vectorType -> sparse, length -> 1, indices -> List(), values -> List())</td><td>0.0</td><td>Map(vectorType -> sparse, length -> 2, indices -> List(0), values -> List(1.0))</td><td>1.0</td><td>Map(vectorType -> sparse, length -> 1, indices -> List(), values -> List())</td><td>0.0</td><td>Map(vectorType -> sparse, length -> 2, indices -> List(0), values -> List(1.0))</td><td>0.0</td><td>Map(vectorType -> sparse, length -> 2, indices -> List(0), values -> List(1.0))</td><td>0.0</td><td>Map(vectorType -> sparse, length -> 4, indices -> List(0), values -> List(1.0))</td><td>0.0</td><td>Map(vectorType -> sparse, length -> 2, indices -> List(0), values -> List(1.0))</td><td>0.0</td><td>Map(vectorType -> sparse, length -> 3, indices -> List(0), values -> List(1.0))</td><td>Map(vectorType -> sparse, length -> 21, indices -> List(1, 5, 8, 10, 12, 16, 18), values -> List(1.0, 1.0, 1.0, 1.0, 1.0, 1.0, 1.0))</td></tr><tr><td>52</td><td>mid</td><td>low</td><td>excellent</td><td>high</td><td>unstable</td><td>stable</td><td>unstable</td><td>10</td><td>A</td><td>52</td><td>0.0</td><td>Uncomfortable</td><td>0.0</td><td>Map(vectorType -> sparse, length -> 2, indices -> List(0), values -> List(1.0))</td><td>1.0</td><td>Map(vectorType -> sparse, length -> 2, indices -> List(1), values -> List(1.0))</td><td>1.0</td><td>Map(vectorType -> sparse, length -> 1, indices -> List(), values -> List())</td><td>1.0</td><td>Map(vectorType -> sparse, length -> 2, indices -> List(1), values -> List(1.0))</td><td>1.0</td><td>Map(vectorType -> sparse, length -> 1, indices -> List(), values -> List())</td><td>0.0</td><td>Map(vectorType -> sparse, length -> 2, indices -> List(0), values -> List(1.0))</td><td>1.0</td><td>Map(vectorType -> sparse, length -> 2, indices -> List(1), values -> List(1.0))</td><td>0.0</td><td>Map(vectorType -> sparse, length -> 4, indices -> List(0), values -> List(1.0))</td><td>0.0</td><td>Map(vectorType -> sparse, length -> 2, indices -> List(0), values -> List(1.0))</td><td>0.0</td><td>Map(vectorType -> sparse, length -> 3, indices -> List(0), values -> List(1.0))</td><td>Map(vectorType -> sparse, length -> 21, indices -> List(0, 3, 6, 8, 11, 12, 16, 18), values -> List(1.0, 1.0, 1.0, 1.0, 1.0, 1.0, 1.0, 1.0))</td></tr><tr><td>53</td><td>mid</td><td>mid</td><td>good</td><td>mid</td><td>unstable</td><td>stable</td><td>mod-stable</td><td>10</td><td>S</td><td>53</td><td>0.0</td><td>Uncomfortable</td><td>0.0</td><td>Map(vectorType -> sparse, length -> 2, indices -> List(0), values -> List(1.0))</td><td>0.0</td><td>Map(vectorType -> sparse, length -> 2, indices -> List(0), values -> List(1.0))</td><td>0.0</td><td>Map(vectorType -> sparse, length -> 1, indices -> List(0), values -> List(1.0))</td><td>0.0</td><td>Map(vectorType -> sparse, length -> 2, indices -> List(0), values -> List(1.0))</td><td>1.0</td><td>Map(vectorType -> sparse, length -> 1, indices -> List(), values -> List())</td><td>0.0</td><td>Map(vectorType -> sparse, length -> 2, indices -> List(0), values -> List(1.0))</td><td>2.0</td><td>Map(vectorType -> sparse, length -> 2, indices -> List(), values -> List())</td><td>0.0</td><td>Map(vectorType -> sparse, length -> 4, indices -> List(0), values -> List(1.0))</td><td>1.0</td><td>Map(vectorType -> sparse, length -> 2, indices -> List(1), values -> List(1.0))</td><td>0.0</td><td>Map(vectorType -> sparse, length -> 3, indices -> List(0), values -> List(1.0))</td><td>Map(vectorType -> sparse, length -> 21, indices -> List(0, 2, 4, 5, 8, 12, 17, 18), values -> List(1.0, 1.0, 1.0, 1.0, 1.0, 1.0, 1.0, 1.0))</td></tr><tr><td>54</td><td>high</td><td>high</td><td>excellent</td><td>mid</td><td>unstable</td><td>stable</td><td>mod-stable</td><td>10</td><td>A</td><td>54</td><td>2.0</td><td>Uncomfortable</td><td>2.0</td><td>Map(vectorType -> sparse, length -> 2, indices -> List(), values -> List())</td><td>2.0</td><td>Map(vectorType -> sparse, length -> 2, indices -> List(), values -> List())</td><td>1.0</td><td>Map(vectorType -> sparse, length -> 1, indices -> List(), values -> List())</td><td>0.0</td><td>Map(vectorType -> sparse, length -> 2, indices -> List(0), values -> List(1.0))</td><td>1.0</td><td>Map(vectorType -> sparse, length -> 1, indices -> List(), values -> List())</td><td>0.0</td><td>Map(vectorType -> sparse, length -> 2, indices -> List(0), values -> List(1.0))</td><td>2.0</td><td>Map(vectorType -> sparse, length -> 2, indices -> List(), values -> List())</td><td>0.0</td><td>Map(vectorType -> sparse, length -> 4, indices -> List(0), values -> List(1.0))</td><td>0.0</td><td>Map(vectorType -> sparse, length -> 2, indices -> List(0), values -> List(1.0))</td><td>0.0</td><td>Map(vectorType -> sparse, length -> 3, indices -> List(0), values -> List(1.0))</td><td>Map(vectorType -> sparse, length -> 21, indices -> List(5, 8, 12, 16, 18), values -> List(1.0, 1.0, 1.0, 1.0, 1.0))</td></tr><tr><td>55</td><td>mid</td><td>mid</td><td>good</td><td>mid</td><td>unstable</td><td>stable</td><td>stable</td><td>15</td><td>A</td><td>55</td><td>0.0</td><td>Comfortable</td><td>0.0</td><td>Map(vectorType -> sparse, length -> 2, indices -> List(0), values -> List(1.0))</td><td>0.0</td><td>Map(vectorType -> sparse, length -> 2, indices -> List(0), values -> List(1.0))</td><td>0.0</td><td>Map(vectorType -> sparse, length -> 1, indices -> List(0), values -> List(1.0))</td><td>0.0</td><td>Map(vectorType -> sparse, length -> 2, indices -> List(0), values -> List(1.0))</td><td>1.0</td><td>Map(vectorType -> sparse, length -> 1, indices -> List(), values -> List())</td><td>0.0</td><td>Map(vectorType -> sparse, length -> 2, indices -> List(0), values -> List(1.0))</td><td>0.0</td><td>Map(vectorType -> sparse, length -> 2, indices -> List(0), values -> List(1.0))</td><td>1.0</td><td>Map(vectorType -> sparse, length -> 4, indices -> List(1), values -> List(1.0))</td><td>0.0</td><td>Map(vectorType -> sparse, length -> 2, indices -> List(0), values -> List(1.0))</td><td>1.0</td><td>Map(vectorType -> sparse, length -> 3, indices -> List(1), values -> List(1.0))</td><td>Map(vectorType -> sparse, length -> 21, indices -> List(0, 2, 4, 5, 8, 10, 13, 16, 19), values -> List(1.0, 1.0, 1.0, 1.0, 1.0, 1.0, 1.0, 1.0, 1.0))</td></tr><tr><td>56</td><td>high</td><td>mid</td><td>good</td><td>high</td><td>stable</td><td>stable</td><td>unstable</td><td>15</td><td>A</td><td>56</td><td>2.0</td><td>Comfortable</td><td>2.0</td><td>Map(vectorType -> sparse, length -> 2, indices -> List(), values -> List())</td><td>0.0</td><td>Map(vectorType -> sparse, length -> 2, indices -> List(0), values -> List(1.0))</td><td>0.0</td><td>Map(vectorType -> sparse, length -> 1, indices -> List(0), values -> List(1.0))</td><td>1.0</td><td>Map(vectorType -> sparse, length -> 2, indices -> List(1), values -> List(1.0))</td><td>0.0</td><td>Map(vectorType -> sparse, length -> 1, indices -> List(0), values -> List(1.0))</td><td>0.0</td><td>Map(vectorType -> sparse, length -> 2, indices -> List(0), values -> List(1.0))</td><td>1.0</td><td>Map(vectorType -> sparse, length -> 2, indices -> List(1), values -> List(1.0))</td><td>1.0</td><td>Map(vectorType -> sparse, length -> 4, indices -> List(1), values -> List(1.0))</td><td>0.0</td><td>Map(vectorType -> sparse, length -> 2, indices -> List(0), values -> List(1.0))</td><td>1.0</td><td>Map(vectorType -> sparse, length -> 3, indices -> List(1), values -> List(1.0))</td><td>Map(vectorType -> sparse, length -> 21, indices -> List(2, 4, 6, 7, 8, 11, 13, 16, 19), values -> List(1.0, 1.0, 1.0, 1.0, 1.0, 1.0, 1.0, 1.0, 1.0))</td></tr><tr><td>57</td><td>mid</td><td>low</td><td>good</td><td>high</td><td>unstable</td><td>stable</td><td>mod-stable</td><td>10</td><td>A</td><td>57</td><td>0.0</td><td>Uncomfortable</td><td>0.0</td><td>Map(vectorType -> sparse, length -> 2, indices -> List(0), values -> List(1.0))</td><td>1.0</td><td>Map(vectorType -> sparse, length -> 2, indices -> List(1), values -> List(1.0))</td><td>0.0</td><td>Map(vectorType -> sparse, length -> 1, indices -> List(0), values -> List(1.0))</td><td>1.0</td><td>Map(vectorType -> sparse, length -> 2, indices -> List(1), values -> List(1.0))</td><td>1.0</td><td>Map(vectorType -> sparse, length -> 1, indices -> List(), values -> List())</td><td>0.0</td><td>Map(vectorType -> sparse, length -> 2, indices -> List(0), values -> List(1.0))</td><td>2.0</td><td>Map(vectorType -> sparse, length -> 2, indices -> List(), values -> List())</td><td>0.0</td><td>Map(vectorType -> sparse, length -> 4, indices -> List(0), values -> List(1.0))</td><td>0.0</td><td>Map(vectorType -> sparse, length -> 2, indices -> List(0), values -> List(1.0))</td><td>0.0</td><td>Map(vectorType -> sparse, length -> 3, indices -> List(0), values -> List(1.0))</td><td>Map(vectorType -> sparse, length -> 21, indices -> List(0, 3, 4, 6, 8, 12, 16, 18), values -> List(1.0, 1.0, 1.0, 1.0, 1.0, 1.0, 1.0, 1.0))</td></tr><tr><td>58</td><td>low</td><td>low</td><td>good</td><td>high</td><td>stable</td><td>stable</td><td>stable</td><td>10</td><td>A</td><td>58</td><td>1.0</td><td>Uncomfortable</td><td>1.0</td><td>Map(vectorType -> sparse, length -> 2, indices -> List(1), values -> List(1.0))</td><td>1.0</td><td>Map(vectorType -> sparse, length -> 2, indices -> List(1), values -> List(1.0))</td><td>0.0</td><td>Map(vectorType -> sparse, length -> 1, indices -> List(0), values -> List(1.0))</td><td>1.0</td><td>Map(vectorType -> sparse, length -> 2, indices -> List(1), values -> List(1.0))</td><td>0.0</td><td>Map(vectorType -> sparse, length -> 1, indices -> List(0), values -> List(1.0))</td><td>0.0</td><td>Map(vectorType -> sparse, length -> 2, indices -> List(0), values -> List(1.0))</td><td>0.0</td><td>Map(vectorType -> sparse, length -> 2, indices -> List(0), values -> List(1.0))</td><td>0.0</td><td>Map(vectorType -> sparse, length -> 4, indices -> List(0), values -> List(1.0))</td><td>0.0</td><td>Map(vectorType -> sparse, length -> 2, indices -> List(0), values -> List(1.0))</td><td>0.0</td><td>Map(vectorType -> sparse, length -> 3, indices -> List(0), values -> List(1.0))</td><td>Map(vectorType -> sparse, length -> 21, indices -> List(1, 3, 4, 6, 7, 8, 10, 12, 16, 18), values -> List(1.0, 1.0, 1.0, 1.0, 1.0, 1.0, 1.0, 1.0, 1.0, 1.0))</td></tr><tr><td>59</td><td>mid</td><td>high</td><td>good</td><td>mid</td><td>stable</td><td>stable</td><td>mod-stable</td><td>10</td><td>A</td><td>59</td><td>0.0</td><td>Uncomfortable</td><td>0.0</td><td>Map(vectorType -> sparse, length -> 2, indices -> List(0), values -> List(1.0))</td><td>2.0</td><td>Map(vectorType -> sparse, length -> 2, indices -> List(), values -> List())</td><td>0.0</td><td>Map(vectorType -> sparse, length -> 1, indices -> List(0), values -> List(1.0))</td><td>0.0</td><td>Map(vectorType -> sparse, length -> 2, indices -> List(0), values -> List(1.0))</td><td>0.0</td><td>Map(vectorType -> sparse, length -> 1, indices -> List(0), values -> List(1.0))</td><td>0.0</td><td>Map(vectorType -> sparse, length -> 2, indices -> List(0), values -> List(1.0))</td><td>2.0</td><td>Map(vectorType -> sparse, length -> 2, indices -> List(), values -> List())</td><td>0.0</td><td>Map(vectorType -> sparse, length -> 4, indices -> List(0), values -> List(1.0))</td><td>0.0</td><td>Map(vectorType -> sparse, length -> 2, indices -> List(0), values -> List(1.0))</td><td>0.0</td><td>Map(vectorType -> sparse, length -> 3, indices -> List(0), values -> List(1.0))</td><td>Map(vectorType -> sparse, length -> 21, indices -> List(0, 4, 5, 7, 8, 12, 16, 18), values -> List(1.0, 1.0, 1.0, 1.0, 1.0, 1.0, 1.0, 1.0))</td></tr><tr><td>60</td><td>mid</td><td>high</td><td>good</td><td>mid</td><td>unstable</td><td>stable</td><td>unstable</td><td>10</td><td>A</td><td>60</td><td>0.0</td><td>Uncomfortable</td><td>0.0</td><td>Map(vectorType -> sparse, length -> 2, indices -> List(0), values -> List(1.0))</td><td>2.0</td><td>Map(vectorType -> sparse, length -> 2, indices -> List(), values -> List())</td><td>0.0</td><td>Map(vectorType -> sparse, length -> 1, indices -> List(0), values -> List(1.0))</td><td>0.0</td><td>Map(vectorType -> sparse, length -> 2, indices -> List(0), values -> List(1.0))</td><td>1.0</td><td>Map(vectorType -> sparse, length -> 1, indices -> List(), values -> List())</td><td>0.0</td><td>Map(vectorType -> sparse, length -> 2, indices -> List(0), values -> List(1.0))</td><td>1.0</td><td>Map(vectorType -> sparse, length -> 2, indices -> List(1), values -> List(1.0))</td><td>0.0</td><td>Map(vectorType -> sparse, length -> 4, indices -> List(0), values -> List(1.0))</td><td>0.0</td><td>Map(vectorType -> sparse, length -> 2, indices -> List(0), values -> List(1.0))</td><td>0.0</td><td>Map(vectorType -> sparse, length -> 3, indices -> List(0), values -> List(1.0))</td><td>Map(vectorType -> sparse, length -> 21, indices -> List(0, 4, 5, 8, 11, 12, 16, 18), values -> List(1.0, 1.0, 1.0, 1.0, 1.0, 1.0, 1.0, 1.0))</td></tr><tr><td>61</td><td>mid</td><td>low</td><td>excellent</td><td>high</td><td>stable</td><td>stable</td><td>stable</td><td>10</td><td>A</td><td>61</td><td>0.0</td><td>Uncomfortable</td><td>0.0</td><td>Map(vectorType -> sparse, length -> 2, indices -> List(0), values -> List(1.0))</td><td>1.0</td><td>Map(vectorType -> sparse, length -> 2, indices -> List(1), values -> List(1.0))</td><td>1.0</td><td>Map(vectorType -> sparse, length -> 1, indices -> List(), values -> List())</td><td>1.0</td><td>Map(vectorType -> sparse, length -> 2, indices -> List(1), values -> List(1.0))</td><td>0.0</td><td>Map(vectorType -> sparse, length -> 1, indices -> List(0), values -> List(1.0))</td><td>0.0</td><td>Map(vectorType -> sparse, length -> 2, indices -> List(0), values -> List(1.0))</td><td>0.0</td><td>Map(vectorType -> sparse, length -> 2, indices -> List(0), values -> List(1.0))</td><td>0.0</td><td>Map(vectorType -> sparse, length -> 4, indices -> List(0), values -> List(1.0))</td><td>0.0</td><td>Map(vectorType -> sparse, length -> 2, indices -> List(0), values -> List(1.0))</td><td>0.0</td><td>Map(vectorType -> sparse, length -> 3, indices -> List(0), values -> List(1.0))</td><td>Map(vectorType -> sparse, length -> 21, indices -> List(0, 3, 6, 7, 8, 10, 12, 16, 18), values -> List(1.0, 1.0, 1.0, 1.0, 1.0, 1.0, 1.0, 1.0, 1.0))</td></tr><tr><td>62</td><td>mid</td><td>mid</td><td>good</td><td>mid</td><td>stable</td><td>stable</td><td>unstable</td><td>10</td><td>A</td><td>62</td><td>0.0</td><td>Uncomfortable</td><td>0.0</td><td>Map(vectorType -> sparse, length -> 2, indices -> List(0), values -> List(1.0))</td><td>0.0</td><td>Map(vectorType -> sparse, length -> 2, indices -> List(0), values -> List(1.0))</td><td>0.0</td><td>Map(vectorType -> sparse, length -> 1, indices -> List(0), values -> List(1.0))</td><td>0.0</td><td>Map(vectorType -> sparse, length -> 2, indices -> List(0), values -> List(1.0))</td><td>0.0</td><td>Map(vectorType -> sparse, length -> 1, indices -> List(0), values -> List(1.0))</td><td>0.0</td><td>Map(vectorType -> sparse, length -> 2, indices -> List(0), values -> List(1.0))</td><td>1.0</td><td>Map(vectorType -> sparse, length -> 2, indices -> List(1), values -> List(1.0))</td><td>0.0</td><td>Map(vectorType -> sparse, length -> 4, indices -> List(0), values -> List(1.0))</td><td>0.0</td><td>Map(vectorType -> sparse, length -> 2, indices -> List(0), values -> List(1.0))</td><td>0.0</td><td>Map(vectorType -> sparse, length -> 3, indices -> List(0), values -> List(1.0))</td><td>Map(vectorType -> sparse, length -> 21, indices -> List(0, 2, 4, 5, 7, 8, 11, 12, 16, 18), values -> List(1.0, 1.0, 1.0, 1.0, 1.0, 1.0, 1.0, 1.0, 1.0, 1.0))</td></tr><tr><td>63</td><td>mid</td><td>low</td><td>excellent</td><td>mid</td><td>stable</td><td>stable</td><td>unstable</td><td>10</td><td>S</td><td>63</td><td>0.0</td><td>Uncomfortable</td><td>0.0</td><td>Map(vectorType -> sparse, length -> 2, indices -> List(0), values -> List(1.0))</td><td>1.0</td><td>Map(vectorType -> sparse, length -> 2, indices -> List(1), values -> List(1.0))</td><td>1.0</td><td>Map(vectorType -> sparse, length -> 1, indices -> List(), values -> List())</td><td>0.0</td><td>Map(vectorType -> sparse, length -> 2, indices -> List(0), values -> List(1.0))</td><td>0.0</td><td>Map(vectorType -> sparse, length -> 1, indices -> List(0), values -> List(1.0))</td><td>0.0</td><td>Map(vectorType -> sparse, length -> 2, indices -> List(0), values -> List(1.0))</td><td>1.0</td><td>Map(vectorType -> sparse, length -> 2, indices -> List(1), values -> List(1.0))</td><td>0.0</td><td>Map(vectorType -> sparse, length -> 4, indices -> List(0), values -> List(1.0))</td><td>1.0</td><td>Map(vectorType -> sparse, length -> 2, indices -> List(1), values -> List(1.0))</td><td>0.0</td><td>Map(vectorType -> sparse, length -> 3, indices -> List(0), values -> List(1.0))</td><td>Map(vectorType -> sparse, length -> 21, indices -> List(0, 3, 5, 7, 8, 11, 12, 17, 18), values -> List(1.0, 1.0, 1.0, 1.0, 1.0, 1.0, 1.0, 1.0, 1.0))</td></tr><tr><td>64</td><td>high</td><td>mid</td><td>excellent</td><td>mid</td><td>unstable</td><td>unstable</td><td>unstable</td><td>10</td><td>A</td><td>64</td><td>2.0</td><td>Uncomfortable</td><td>2.0</td><td>Map(vectorType -> sparse, length -> 2, indices -> List(), values -> List())</td><td>0.0</td><td>Map(vectorType -> sparse, length -> 2, indices -> List(0), values -> List(1.0))</td><td>1.0</td><td>Map(vectorType -> sparse, length -> 1, indices -> List(), values -> List())</td><td>0.0</td><td>Map(vectorType -> sparse, length -> 2, indices -> List(0), values -> List(1.0))</td><td>1.0</td><td>Map(vectorType -> sparse, length -> 1, indices -> List(), values -> List())</td><td>1.0</td><td>Map(vectorType -> sparse, length -> 2, indices -> List(1), values -> List(1.0))</td><td>1.0</td><td>Map(vectorType -> sparse, length -> 2, indices -> List(1), values -> List(1.0))</td><td>0.0</td><td>Map(vectorType -> sparse, length -> 4, indices -> List(0), values -> List(1.0))</td><td>0.0</td><td>Map(vectorType -> sparse, length -> 2, indices -> List(0), values -> List(1.0))</td><td>0.0</td><td>Map(vectorType -> sparse, length -> 3, indices -> List(0), values -> List(1.0))</td><td>Map(vectorType -> sparse, length -> 21, indices -> List(2, 5, 9, 11, 12, 16, 18), values -> List(1.0, 1.0, 1.0, 1.0, 1.0, 1.0, 1.0))</td></tr><tr><td>65</td><td>mid</td><td>mid</td><td>good</td><td>high</td><td>stable</td><td>stable</td><td>stable</td><td>10</td><td>S</td><td>65</td><td>0.0</td><td>Uncomfortable</td><td>0.0</td><td>Map(vectorType -> sparse, length -> 2, indices -> List(0), values -> List(1.0))</td><td>0.0</td><td>Map(vectorType -> sparse, length -> 2, indices -> List(0), values -> List(1.0))</td><td>0.0</td><td>Map(vectorType -> sparse, length -> 1, indices -> List(0), values -> List(1.0))</td><td>1.0</td><td>Map(vectorType -> sparse, length -> 2, indices -> List(1), values -> List(1.0))</td><td>0.0</td><td>Map(vectorType -> sparse, length -> 1, indices -> List(0), values -> List(1.0))</td><td>0.0</td><td>Map(vectorType -> sparse, length -> 2, indices -> List(0), values -> List(1.0))</td><td>0.0</td><td>Map(vectorType -> sparse, length -> 2, indices -> List(0), values -> List(1.0))</td><td>0.0</td><td>Map(vectorType -> sparse, length -> 4, indices -> List(0), values -> List(1.0))</td><td>1.0</td><td>Map(vectorType -> sparse, length -> 2, indices -> List(1), values -> List(1.0))</td><td>0.0</td><td>Map(vectorType -> sparse, length -> 3, indices -> List(0), values -> List(1.0))</td><td>Map(vectorType -> sparse, length -> 21, indices -> List(0, 2, 4, 6, 7, 8, 10, 12, 17, 18), values -> List(1.0, 1.0, 1.0, 1.0, 1.0, 1.0, 1.0, 1.0, 1.0, 1.0))</td></tr><tr><td>66</td><td>mid</td><td>low</td><td>excellent</td><td>mid</td><td>unstable</td><td>stable</td><td>stable</td><td>10</td><td>A</td><td>66</td><td>0.0</td><td>Uncomfortable</td><td>0.0</td><td>Map(vectorType -> sparse, length -> 2, indices -> List(0), values -> List(1.0))</td><td>1.0</td><td>Map(vectorType -> sparse, length -> 2, indices -> List(1), values -> List(1.0))</td><td>1.0</td><td>Map(vectorType -> sparse, length -> 1, indices -> List(), values -> List())</td><td>0.0</td><td>Map(vectorType -> sparse, length -> 2, indices -> List(0), values -> List(1.0))</td><td>1.0</td><td>Map(vectorType -> sparse, length -> 1, indices -> List(), values -> List())</td><td>0.0</td><td>Map(vectorType -> sparse, length -> 2, indices -> List(0), values -> List(1.0))</td><td>0.0</td><td>Map(vectorType -> sparse, length -> 2, indices -> List(0), values -> List(1.0))</td><td>0.0</td><td>Map(vectorType -> sparse, length -> 4, indices -> List(0), values -> List(1.0))</td><td>0.0</td><td>Map(vectorType -> sparse, length -> 2, indices -> List(0), values -> List(1.0))</td><td>0.0</td><td>Map(vectorType -> sparse, length -> 3, indices -> List(0), values -> List(1.0))</td><td>Map(vectorType -> sparse, length -> 21, indices -> List(0, 3, 5, 8, 10, 12, 16, 18), values -> List(1.0, 1.0, 1.0, 1.0, 1.0, 1.0, 1.0, 1.0))</td></tr><tr><td>67</td><td>mid</td><td>mid</td><td>excellent</td><td>mid</td><td>unstable</td><td>stable</td><td>stable</td><td>10</td><td>A</td><td>67</td><td>0.0</td><td>Uncomfortable</td><td>0.0</td><td>Map(vectorType -> sparse, length -> 2, indices -> List(0), values -> List(1.0))</td><td>0.0</td><td>Map(vectorType -> sparse, length -> 2, indices -> List(0), values -> List(1.0))</td><td>1.0</td><td>Map(vectorType -> sparse, length -> 1, indices -> List(), values -> List())</td><td>0.0</td><td>Map(vectorType -> sparse, length -> 2, indices -> List(0), values -> List(1.0))</td><td>1.0</td><td>Map(vectorType -> sparse, length -> 1, indices -> List(), values -> List())</td><td>0.0</td><td>Map(vectorType -> sparse, length -> 2, indices -> List(0), values -> List(1.0))</td><td>0.0</td><td>Map(vectorType -> sparse, length -> 2, indices -> List(0), values -> List(1.0))</td><td>0.0</td><td>Map(vectorType -> sparse, length -> 4, indices -> List(0), values -> List(1.0))</td><td>0.0</td><td>Map(vectorType -> sparse, length -> 2, indices -> List(0), values -> List(1.0))</td><td>0.0</td><td>Map(vectorType -> sparse, length -> 3, indices -> List(0), values -> List(1.0))</td><td>Map(vectorType -> sparse, length -> 21, indices -> List(0, 2, 5, 8, 10, 12, 16, 18), values -> List(1.0, 1.0, 1.0, 1.0, 1.0, 1.0, 1.0, 1.0))</td></tr><tr><td>68</td><td>mid</td><td>mid</td><td>excellent</td><td>high</td><td>stable</td><td>stable</td><td>stable</td><td>10</td><td>A</td><td>68</td><td>0.0</td><td>Uncomfortable</td><td>0.0</td><td>Map(vectorType -> sparse, length -> 2, indices -> List(0), values -> List(1.0))</td><td>0.0</td><td>Map(vectorType -> sparse, length -> 2, indices -> List(0), values -> List(1.0))</td><td>1.0</td><td>Map(vectorType -> sparse, length -> 1, indices -> List(), values -> List())</td><td>1.0</td><td>Map(vectorType -> sparse, length -> 2, indices -> List(1), values -> List(1.0))</td><td>0.0</td><td>Map(vectorType -> sparse, length -> 1, indices -> List(0), values -> List(1.0))</td><td>0.0</td><td>Map(vectorType -> sparse, length -> 2, indices -> List(0), values -> List(1.0))</td><td>0.0</td><td>Map(vectorType -> sparse, length -> 2, indices -> List(0), values -> List(1.0))</td><td>0.0</td><td>Map(vectorType -> sparse, length -> 4, indices -> List(0), values -> List(1.0))</td><td>0.0</td><td>Map(vectorType -> sparse, length -> 2, indices -> List(0), values -> List(1.0))</td><td>0.0</td><td>Map(vectorType -> sparse, length -> 3, indices -> List(0), values -> List(1.0))</td><td>Map(vectorType -> sparse, length -> 21, indices -> List(0, 2, 6, 7, 8, 10, 12, 16, 18), values -> List(1.0, 1.0, 1.0, 1.0, 1.0, 1.0, 1.0, 1.0, 1.0))</td></tr><tr><td>69</td><td>mid</td><td>mid</td><td>excellent</td><td>low</td><td>stable</td><td>stable</td><td>stable</td><td>10</td><td>A</td><td>69</td><td>0.0</td><td>Uncomfortable</td><td>0.0</td><td>Map(vectorType -> sparse, length -> 2, indices -> List(0), values -> List(1.0))</td><td>0.0</td><td>Map(vectorType -> sparse, length -> 2, indices -> List(0), values -> List(1.0))</td><td>1.0</td><td>Map(vectorType -> sparse, length -> 1, indices -> List(), values -> List())</td><td>2.0</td><td>Map(vectorType -> sparse, length -> 2, indices -> List(), values -> List())</td><td>0.0</td><td>Map(vectorType -> sparse, length -> 1, indices -> List(0), values -> List(1.0))</td><td>0.0</td><td>Map(vectorType -> sparse, length -> 2, indices -> List(0), values -> List(1.0))</td><td>0.0</td><td>Map(vectorType -> sparse, length -> 2, indices -> List(0), values -> List(1.0))</td><td>0.0</td><td>Map(vectorType -> sparse, length -> 4, indices -> List(0), values -> List(1.0))</td><td>0.0</td><td>Map(vectorType -> sparse, length -> 2, indices -> List(0), values -> List(1.0))</td><td>0.0</td><td>Map(vectorType -> sparse, length -> 3, indices -> List(0), values -> List(1.0))</td><td>Map(vectorType -> sparse, length -> 21, indices -> List(0, 2, 7, 8, 10, 12, 16, 18), values -> List(1.0, 1.0, 1.0, 1.0, 1.0, 1.0, 1.0, 1.0))</td></tr><tr><td>70</td><td>mid</td><td>low</td><td>excellent</td><td>mid</td><td>unstable</td><td>unstable</td><td>unstable</td><td>?</td><td>A</td><td>70</td><td>0.0</td><td>Unknown</td><td>0.0</td><td>Map(vectorType -> sparse, length -> 2, indices -> List(0), values -> List(1.0))</td><td>1.0</td><td>Map(vectorType -> sparse, length -> 2, indices -> List(1), values -> List(1.0))</td><td>1.0</td><td>Map(vectorType -> sparse, length -> 1, indices -> List(), values -> List())</td><td>0.0</td><td>Map(vectorType -> sparse, length -> 2, indices -> List(0), values -> List(1.0))</td><td>1.0</td><td>Map(vectorType -> sparse, length -> 1, indices -> List(), values -> List())</td><td>1.0</td><td>Map(vectorType -> sparse, length -> 2, indices -> List(1), values -> List(1.0))</td><td>1.0</td><td>Map(vectorType -> sparse, length -> 2, indices -> List(1), values -> List(1.0))</td><td>2.0</td><td>Map(vectorType -> sparse, length -> 4, indices -> List(2), values -> List(1.0))</td><td>0.0</td><td>Map(vectorType -> sparse, length -> 2, indices -> List(0), values -> List(1.0))</td><td>2.0</td><td>Map(vectorType -> sparse, length -> 3, indices -> List(2), values -> List(1.0))</td><td>Map(vectorType -> sparse, length -> 21, indices -> List(0, 3, 5, 9, 11, 14, 16, 20), values -> List(1.0, 1.0, 1.0, 1.0, 1.0, 1.0, 1.0, 1.0))</td></tr><tr><td>71</td><td>low</td><td>low</td><td>excellent</td><td>mid</td><td>stable</td><td>stable</td><td>stable</td><td>10</td><td>A</td><td>71</td><td>1.0</td><td>Uncomfortable</td><td>1.0</td><td>Map(vectorType -> sparse, length -> 2, indices -> List(1), values -> List(1.0))</td><td>1.0</td><td>Map(vectorType -> sparse, length -> 2, indices -> List(1), values -> List(1.0))</td><td>1.0</td><td>Map(vectorType -> sparse, length -> 1, indices -> List(), values -> List())</td><td>0.0</td><td>Map(vectorType -> sparse, length -> 2, indices -> List(0), values -> List(1.0))</td><td>0.0</td><td>Map(vectorType -> sparse, length -> 1, indices -> List(0), values -> List(1.0))</td><td>0.0</td><td>Map(vectorType -> sparse, length -> 2, indices -> List(0), values -> List(1.0))</td><td>0.0</td><td>Map(vectorType -> sparse, length -> 2, indices -> List(0), values -> List(1.0))</td><td>0.0</td><td>Map(vectorType -> sparse, length -> 4, indices -> List(0), values -> List(1.0))</td><td>0.0</td><td>Map(vectorType -> sparse, length -> 2, indices -> List(0), values -> List(1.0))</td><td>0.0</td><td>Map(vectorType -> sparse, length -> 3, indices -> List(0), values -> List(1.0))</td><td>Map(vectorType -> sparse, length -> 21, indices -> List(1, 3, 5, 7, 8, 10, 12, 16, 18), values -> List(1.0, 1.0, 1.0, 1.0, 1.0, 1.0, 1.0, 1.0, 1.0))</td></tr><tr><td>72</td><td>mid</td><td>mid</td><td>excellent</td><td>mid</td><td>stable</td><td>stable</td><td>mod-stable</td><td>10</td><td>S</td><td>72</td><td>0.0</td><td>Uncomfortable</td><td>0.0</td><td>Map(vectorType -> sparse, length -> 2, indices -> List(0), values -> List(1.0))</td><td>0.0</td><td>Map(vectorType -> sparse, length -> 2, indices -> List(0), values -> List(1.0))</td><td>1.0</td><td>Map(vectorType -> sparse, length -> 1, indices -> List(), values -> List())</td><td>0.0</td><td>Map(vectorType -> sparse, length -> 2, indices -> List(0), values -> List(1.0))</td><td>0.0</td><td>Map(vectorType -> sparse, length -> 1, indices -> List(0), values -> List(1.0))</td><td>0.0</td><td>Map(vectorType -> sparse, length -> 2, indices -> List(0), values -> List(1.0))</td><td>2.0</td><td>Map(vectorType -> sparse, length -> 2, indices -> List(), values -> List())</td><td>0.0</td><td>Map(vectorType -> sparse, length -> 4, indices -> List(0), values -> List(1.0))</td><td>1.0</td><td>Map(vectorType -> sparse, length -> 2, indices -> List(1), values -> List(1.0))</td><td>0.0</td><td>Map(vectorType -> sparse, length -> 3, indices -> List(0), values -> List(1.0))</td><td>Map(vectorType -> sparse, length -> 21, indices -> List(0, 2, 5, 7, 8, 12, 17, 18), values -> List(1.0, 1.0, 1.0, 1.0, 1.0, 1.0, 1.0, 1.0))</td></tr><tr><td>73</td><td>mid</td><td>mid</td><td>excellent</td><td>high</td><td>stable</td><td>stable</td><td>stable</td><td>10</td><td>A</td><td>73</td><td>0.0</td><td>Uncomfortable</td><td>0.0</td><td>Map(vectorType -> sparse, length -> 2, indices -> List(0), values -> List(1.0))</td><td>0.0</td><td>Map(vectorType -> sparse, length -> 2, indices -> List(0), values -> List(1.0))</td><td>1.0</td><td>Map(vectorType -> sparse, length -> 1, indices -> List(), values -> List())</td><td>1.0</td><td>Map(vectorType -> sparse, length -> 2, indices -> List(1), values -> List(1.0))</td><td>0.0</td><td>Map(vectorType -> sparse, length -> 1, indices -> List(0), values -> List(1.0))</td><td>0.0</td><td>Map(vectorType -> sparse, length -> 2, indices -> List(0), values -> List(1.0))</td><td>0.0</td><td>Map(vectorType -> sparse, length -> 2, indices -> List(0), values -> List(1.0))</td><td>0.0</td><td>Map(vectorType -> sparse, length -> 4, indices -> List(0), values -> List(1.0))</td><td>0.0</td><td>Map(vectorType -> sparse, length -> 2, indices -> List(0), values -> List(1.0))</td><td>0.0</td><td>Map(vectorType -> sparse, length -> 3, indices -> List(0), values -> List(1.0))</td><td>Map(vectorType -> sparse, length -> 21, indices -> List(0, 2, 6, 7, 8, 10, 12, 16, 18), values -> List(1.0, 1.0, 1.0, 1.0, 1.0, 1.0, 1.0, 1.0, 1.0))</td></tr><tr><td>74</td><td>mid</td><td>low</td><td>excellent</td><td>high</td><td>stable</td><td>stable</td><td>mod-stable</td><td>10</td><td>A</td><td>74</td><td>0.0</td><td>Uncomfortable</td><td>0.0</td><td>Map(vectorType -> sparse, length -> 2, indices -> List(0), values -> List(1.0))</td><td>1.0</td><td>Map(vectorType -> sparse, length -> 2, indices -> List(1), values -> List(1.0))</td><td>1.0</td><td>Map(vectorType -> sparse, length -> 1, indices -> List(), values -> List())</td><td>1.0</td><td>Map(vectorType -> sparse, length -> 2, indices -> List(1), values -> List(1.0))</td><td>0.0</td><td>Map(vectorType -> sparse, length -> 1, indices -> List(0), values -> List(1.0))</td><td>0.0</td><td>Map(vectorType -> sparse, length -> 2, indices -> List(0), values -> List(1.0))</td><td>2.0</td><td>Map(vectorType -> sparse, length -> 2, indices -> List(), values -> List())</td><td>0.0</td><td>Map(vectorType -> sparse, length -> 4, indices -> List(0), values -> List(1.0))</td><td>0.0</td><td>Map(vectorType -> sparse, length -> 2, indices -> List(0), values -> List(1.0))</td><td>0.0</td><td>Map(vectorType -> sparse, length -> 3, indices -> List(0), values -> List(1.0))</td><td>Map(vectorType -> sparse, length -> 21, indices -> List(0, 3, 6, 7, 8, 12, 16, 18), values -> List(1.0, 1.0, 1.0, 1.0, 1.0, 1.0, 1.0, 1.0))</td></tr><tr><td>75</td><td>low</td><td>mid</td><td>good</td><td>mid</td><td>stable</td><td>stable</td><td>unstable</td><td>10</td><td>A</td><td>75</td><td>1.0</td><td>Uncomfortable</td><td>1.0</td><td>Map(vectorType -> sparse, length -> 2, indices -> List(1), values -> List(1.0))</td><td>0.0</td><td>Map(vectorType -> sparse, length -> 2, indices -> List(0), values -> List(1.0))</td><td>0.0</td><td>Map(vectorType -> sparse, length -> 1, indices -> List(0), values -> List(1.0))</td><td>0.0</td><td>Map(vectorType -> sparse, length -> 2, indices -> List(0), values -> List(1.0))</td><td>0.0</td><td>Map(vectorType -> sparse, length -> 1, indices -> List(0), values -> List(1.0))</td><td>0.0</td><td>Map(vectorType -> sparse, length -> 2, indices -> List(0), values -> List(1.0))</td><td>1.0</td><td>Map(vectorType -> sparse, length -> 2, indices -> List(1), values -> List(1.0))</td><td>0.0</td><td>Map(vectorType -> sparse, length -> 4, indices -> List(0), values -> List(1.0))</td><td>0.0</td><td>Map(vectorType -> sparse, length -> 2, indices -> List(0), values -> List(1.0))</td><td>0.0</td><td>Map(vectorType -> sparse, length -> 3, indices -> List(0), values -> List(1.0))</td><td>Map(vectorType -> sparse, length -> 21, indices -> List(1, 2, 4, 5, 7, 8, 11, 12, 16, 18), values -> List(1.0, 1.0, 1.0, 1.0, 1.0, 1.0, 1.0, 1.0, 1.0, 1.0))</td></tr><tr><td>76</td><td>mid</td><td>mid</td><td>excellent</td><td>mid</td><td>stable</td><td>stable</td><td>mod-stable</td><td>10</td><td>A</td><td>76</td><td>0.0</td><td>Uncomfortable</td><td>0.0</td><td>Map(vectorType -> sparse, length -> 2, indices -> List(0), values -> List(1.0))</td><td>0.0</td><td>Map(vectorType -> sparse, length -> 2, indices -> List(0), values -> List(1.0))</td><td>1.0</td><td>Map(vectorType -> sparse, length -> 1, indices -> List(), values -> List())</td><td>0.0</td><td>Map(vectorType -> sparse, length -> 2, indices -> List(0), values -> List(1.0))</td><td>0.0</td><td>Map(vectorType -> sparse, length -> 1, indices -> List(0), values -> List(1.0))</td><td>0.0</td><td>Map(vectorType -> sparse, length -> 2, indices -> List(0), values -> List(1.0))</td><td>2.0</td><td>Map(vectorType -> sparse, length -> 2, indices -> List(), values -> List())</td><td>0.0</td><td>Map(vectorType -> sparse, length -> 4, indices -> List(0), values -> List(1.0))</td><td>0.0</td><td>Map(vectorType -> sparse, length -> 2, indices -> List(0), values -> List(1.0))</td><td>0.0</td><td>Map(vectorType -> sparse, length -> 3, indices -> List(0), values -> List(1.0))</td><td>Map(vectorType -> sparse, length -> 21, indices -> List(0, 2, 5, 7, 8, 12, 16, 18), values -> List(1.0, 1.0, 1.0, 1.0, 1.0, 1.0, 1.0, 1.0))</td></tr><tr><td>77</td><td>mid</td><td>mid</td><td>excellent</td><td>mid</td><td>stable</td><td>stable</td><td>unstable</td><td>10</td><td>A</td><td>77</td><td>0.0</td><td>Uncomfortable</td><td>0.0</td><td>Map(vectorType -> sparse, length -> 2, indices -> List(0), values -> List(1.0))</td><td>0.0</td><td>Map(vectorType -> sparse, length -> 2, indices -> List(0), values -> List(1.0))</td><td>1.0</td><td>Map(vectorType -> sparse, length -> 1, indices -> List(), values -> List())</td><td>0.0</td><td>Map(vectorType -> sparse, length -> 2, indices -> List(0), values -> List(1.0))</td><td>0.0</td><td>Map(vectorType -> sparse, length -> 1, indices -> List(0), values -> List(1.0))</td><td>0.0</td><td>Map(vectorType -> sparse, length -> 2, indices -> List(0), values -> List(1.0))</td><td>1.0</td><td>Map(vectorType -> sparse, length -> 2, indices -> List(1), values -> List(1.0))</td><td>0.0</td><td>Map(vectorType -> sparse, length -> 4, indices -> List(0), values -> List(1.0))</td><td>0.0</td><td>Map(vectorType -> sparse, length -> 2, indices -> List(0), values -> List(1.0))</td><td>0.0</td><td>Map(vectorType -> sparse, length -> 3, indices -> List(0), values -> List(1.0))</td><td>Map(vectorType -> sparse, length -> 21, indices -> List(0, 2, 5, 7, 8, 11, 12, 16, 18), values -> List(1.0, 1.0, 1.0, 1.0, 1.0, 1.0, 1.0, 1.0, 1.0))</td></tr><tr><td>78</td><td>mid</td><td>mid</td><td>excellent</td><td>mid</td><td>unstable</td><td>unstable</td><td>stable</td><td>10</td><td>S</td><td>78</td><td>0.0</td><td>Uncomfortable</td><td>0.0</td><td>Map(vectorType -> sparse, length -> 2, indices -> List(0), values -> List(1.0))</td><td>0.0</td><td>Map(vectorType -> sparse, length -> 2, indices -> List(0), values -> List(1.0))</td><td>1.0</td><td>Map(vectorType -> sparse, length -> 1, indices -> List(), values -> List())</td><td>0.0</td><td>Map(vectorType -> sparse, length -> 2, indices -> List(0), values -> List(1.0))</td><td>1.0</td><td>Map(vectorType -> sparse, length -> 1, indices -> List(), values -> List())</td><td>1.0</td><td>Map(vectorType -> sparse, length -> 2, indices -> List(1), values -> List(1.0))</td><td>0.0</td><td>Map(vectorType -> sparse, length -> 2, indices -> List(0), values -> List(1.0))</td><td>0.0</td><td>Map(vectorType -> sparse, length -> 4, indices -> List(0), values -> List(1.0))</td><td>1.0</td><td>Map(vectorType -> sparse, length -> 2, indices -> List(1), values -> List(1.0))</td><td>0.0</td><td>Map(vectorType -> sparse, length -> 3, indices -> List(0), values -> List(1.0))</td><td>Map(vectorType -> sparse, length -> 21, indices -> List(0, 2, 5, 9, 10, 12, 17, 18), values -> List(1.0, 1.0, 1.0, 1.0, 1.0, 1.0, 1.0, 1.0))</td></tr><tr><td>79</td><td>mid</td><td>mid</td><td>good</td><td>high</td><td>stable</td><td>stable</td><td>stable</td><td>10</td><td>A</td><td>79</td><td>0.0</td><td>Uncomfortable</td><td>0.0</td><td>Map(vectorType -> sparse, length -> 2, indices -> List(0), values -> List(1.0))</td><td>0.0</td><td>Map(vectorType -> sparse, length -> 2, indices -> List(0), values -> List(1.0))</td><td>0.0</td><td>Map(vectorType -> sparse, length -> 1, indices -> List(0), values -> List(1.0))</td><td>1.0</td><td>Map(vectorType -> sparse, length -> 2, indices -> List(1), values -> List(1.0))</td><td>0.0</td><td>Map(vectorType -> sparse, length -> 1, indices -> List(0), values -> List(1.0))</td><td>0.0</td><td>Map(vectorType -> sparse, length -> 2, indices -> List(0), values -> List(1.0))</td><td>0.0</td><td>Map(vectorType -> sparse, length -> 2, indices -> List(0), values -> List(1.0))</td><td>0.0</td><td>Map(vectorType -> sparse, length -> 4, indices -> List(0), values -> List(1.0))</td><td>0.0</td><td>Map(vectorType -> sparse, length -> 2, indices -> List(0), values -> List(1.0))</td><td>0.0</td><td>Map(vectorType -> sparse, length -> 3, indices -> List(0), values -> List(1.0))</td><td>Map(vectorType -> sparse, length -> 21, indices -> List(0, 2, 4, 6, 7, 8, 10, 12, 16, 18), values -> List(1.0, 1.0, 1.0, 1.0, 1.0, 1.0, 1.0, 1.0, 1.0, 1.0))</td></tr><tr><td>80</td><td>mid</td><td>mid</td><td>excellent</td><td>mid</td><td>stable</td><td>stable</td><td>stable</td><td>15</td><td>A</td><td>80</td><td>0.0</td><td>Comfortable</td><td>0.0</td><td>Map(vectorType -> sparse, length -> 2, indices -> List(0), values -> List(1.0))</td><td>0.0</td><td>Map(vectorType -> sparse, length -> 2, indices -> List(0), values -> List(1.0))</td><td>1.0</td><td>Map(vectorType -> sparse, length -> 1, indices -> List(), values -> List())</td><td>0.0</td><td>Map(vectorType -> sparse, length -> 2, indices -> List(0), values -> List(1.0))</td><td>0.0</td><td>Map(vectorType -> sparse, length -> 1, indices -> List(0), values -> List(1.0))</td><td>0.0</td><td>Map(vectorType -> sparse, length -> 2, indices -> List(0), values -> List(1.0))</td><td>0.0</td><td>Map(vectorType -> sparse, length -> 2, indices -> List(0), values -> List(1.0))</td><td>1.0</td><td>Map(vectorType -> sparse, length -> 4, indices -> List(1), values -> List(1.0))</td><td>0.0</td><td>Map(vectorType -> sparse, length -> 2, indices -> List(0), values -> List(1.0))</td><td>1.0</td><td>Map(vectorType -> sparse, length -> 3, indices -> List(1), values -> List(1.0))</td><td>Map(vectorType -> sparse, length -> 21, indices -> List(0, 2, 5, 7, 8, 10, 13, 16, 19), values -> List(1.0, 1.0, 1.0, 1.0, 1.0, 1.0, 1.0, 1.0, 1.0))</td></tr><tr><td>81</td><td>mid</td><td>mid</td><td>excellent</td><td>mid</td><td>stable</td><td>stable</td><td>stable</td><td>10</td><td>S</td><td>81</td><td>0.0</td><td>Uncomfortable</td><td>0.0</td><td>Map(vectorType -> sparse, length -> 2, indices -> List(0), values -> List(1.0))</td><td>0.0</td><td>Map(vectorType -> sparse, length -> 2, indices -> List(0), values -> List(1.0))</td><td>1.0</td><td>Map(vectorType -> sparse, length -> 1, indices -> List(), values -> List())</td><td>0.0</td><td>Map(vectorType -> sparse, length -> 2, indices -> List(0), values -> List(1.0))</td><td>0.0</td><td>Map(vectorType -> sparse, length -> 1, indices -> List(0), values -> List(1.0))</td><td>0.0</td><td>Map(vectorType -> sparse, length -> 2, indices -> List(0), values -> List(1.0))</td><td>0.0</td><td>Map(vectorType -> sparse, length -> 2, indices -> List(0), values -> List(1.0))</td><td>0.0</td><td>Map(vectorType -> sparse, length -> 4, indices -> List(0), values -> List(1.0))</td><td>1.0</td><td>Map(vectorType -> sparse, length -> 2, indices -> List(1), values -> List(1.0))</td><td>0.0</td><td>Map(vectorType -> sparse, length -> 3, indices -> List(0), values -> List(1.0))</td><td>Map(vectorType -> sparse, length -> 21, indices -> List(0, 2, 5, 7, 8, 10, 12, 17, 18), values -> List(1.0, 1.0, 1.0, 1.0, 1.0, 1.0, 1.0, 1.0, 1.0))</td></tr><tr><td>82</td><td>mid</td><td>low</td><td>good</td><td>mid</td><td>stable</td><td>stable</td><td>unstable</td><td>10</td><td>I</td><td>82</td><td>0.0</td><td>Uncomfortable</td><td>0.0</td><td>Map(vectorType -> sparse, length -> 2, indices -> List(0), values -> List(1.0))</td><td>1.0</td><td>Map(vectorType -> sparse, length -> 2, indices -> List(1), values -> List(1.0))</td><td>0.0</td><td>Map(vectorType -> sparse, length -> 1, indices -> List(0), values -> List(1.0))</td><td>0.0</td><td>Map(vectorType -> sparse, length -> 2, indices -> List(0), values -> List(1.0))</td><td>0.0</td><td>Map(vectorType -> sparse, length -> 1, indices -> List(0), values -> List(1.0))</td><td>0.0</td><td>Map(vectorType -> sparse, length -> 2, indices -> List(0), values -> List(1.0))</td><td>1.0</td><td>Map(vectorType -> sparse, length -> 2, indices -> List(1), values -> List(1.0))</td><td>0.0</td><td>Map(vectorType -> sparse, length -> 4, indices -> List(0), values -> List(1.0))</td><td>2.0</td><td>Map(vectorType -> sparse, length -> 2, indices -> List(), values -> List())</td><td>0.0</td><td>Map(vectorType -> sparse, length -> 3, indices -> List(0), values -> List(1.0))</td><td>Map(vectorType -> sparse, length -> 21, indices -> List(0, 3, 4, 5, 7, 8, 11, 12, 18), values -> List(1.0, 1.0, 1.0, 1.0, 1.0, 1.0, 1.0, 1.0, 1.0))</td></tr><tr><td>83</td><td>high</td><td>mid</td><td>excellent</td><td>mid</td><td>unstable</td><td>stable</td><td>unstable</td><td>05</td><td>A</td><td>83</td><td>2.0</td><td>Very Uncomfortable</td><td>2.0</td><td>Map(vectorType -> sparse, length -> 2, indices -> List(), values -> List())</td><td>0.0</td><td>Map(vectorType -> sparse, length -> 2, indices -> List(0), values -> List(1.0))</td><td>1.0</td><td>Map(vectorType -> sparse, length -> 1, indices -> List(), values -> List())</td><td>0.0</td><td>Map(vectorType -> sparse, length -> 2, indices -> List(0), values -> List(1.0))</td><td>1.0</td><td>Map(vectorType -> sparse, length -> 1, indices -> List(), values -> List())</td><td>0.0</td><td>Map(vectorType -> sparse, length -> 2, indices -> List(0), values -> List(1.0))</td><td>1.0</td><td>Map(vectorType -> sparse, length -> 2, indices -> List(1), values -> List(1.0))</td><td>3.0</td><td>Map(vectorType -> sparse, length -> 4, indices -> List(3), values -> List(1.0))</td><td>0.0</td><td>Map(vectorType -> sparse, length -> 2, indices -> List(0), values -> List(1.0))</td><td>3.0</td><td>Map(vectorType -> sparse, length -> 3, indices -> List(), values -> List())</td><td>Map(vectorType -> sparse, length -> 21, indices -> List(2, 5, 8, 11, 15, 16), values -> List(1.0, 1.0, 1.0, 1.0, 1.0, 1.0))</td></tr><tr><td>84</td><td>mid</td><td>mid</td><td>excellent</td><td>mid</td><td>stable</td><td>stable</td><td>unstable</td><td>10</td><td>A</td><td>84</td><td>0.0</td><td>Uncomfortable</td><td>0.0</td><td>Map(vectorType -> sparse, length -> 2, indices -> List(0), values -> List(1.0))</td><td>0.0</td><td>Map(vectorType -> sparse, length -> 2, indices -> List(0), values -> List(1.0))</td><td>1.0</td><td>Map(vectorType -> sparse, length -> 1, indices -> List(), values -> List())</td><td>0.0</td><td>Map(vectorType -> sparse, length -> 2, indices -> List(0), values -> List(1.0))</td><td>0.0</td><td>Map(vectorType -> sparse, length -> 1, indices -> List(0), values -> List(1.0))</td><td>0.0</td><td>Map(vectorType -> sparse, length -> 2, indices -> List(0), values -> List(1.0))</td><td>1.0</td><td>Map(vectorType -> sparse, length -> 2, indices -> List(1), values -> List(1.0))</td><td>0.0</td><td>Map(vectorType -> sparse, length -> 4, indices -> List(0), values -> List(1.0))</td><td>0.0</td><td>Map(vectorType -> sparse, length -> 2, indices -> List(0), values -> List(1.0))</td><td>0.0</td><td>Map(vectorType -> sparse, length -> 3, indices -> List(0), values -> List(1.0))</td><td>Map(vectorType -> sparse, length -> 21, indices -> List(0, 2, 5, 7, 8, 11, 12, 16, 18), values -> List(1.0, 1.0, 1.0, 1.0, 1.0, 1.0, 1.0, 1.0, 1.0))</td></tr><tr><td>85</td><td>mid</td><td>mid</td><td>excellent</td><td>mid</td><td>unstable</td><td>stable</td><td>stable</td><td>10</td><td>A</td><td>85</td><td>0.0</td><td>Uncomfortable</td><td>0.0</td><td>Map(vectorType -> sparse, length -> 2, indices -> List(0), values -> List(1.0))</td><td>0.0</td><td>Map(vectorType -> sparse, length -> 2, indices -> List(0), values -> List(1.0))</td><td>1.0</td><td>Map(vectorType -> sparse, length -> 1, indices -> List(), values -> List())</td><td>0.0</td><td>Map(vectorType -> sparse, length -> 2, indices -> List(0), values -> List(1.0))</td><td>1.0</td><td>Map(vectorType -> sparse, length -> 1, indices -> List(), values -> List())</td><td>0.0</td><td>Map(vectorType -> sparse, length -> 2, indices -> List(0), values -> List(1.0))</td><td>0.0</td><td>Map(vectorType -> sparse, length -> 2, indices -> List(0), values -> List(1.0))</td><td>0.0</td><td>Map(vectorType -> sparse, length -> 4, indices -> List(0), values -> List(1.0))</td><td>0.0</td><td>Map(vectorType -> sparse, length -> 2, indices -> List(0), values -> List(1.0))</td><td>0.0</td><td>Map(vectorType -> sparse, length -> 3, indices -> List(0), values -> List(1.0))</td><td>Map(vectorType -> sparse, length -> 21, indices -> List(0, 2, 5, 8, 10, 12, 16, 18), values -> List(1.0, 1.0, 1.0, 1.0, 1.0, 1.0, 1.0, 1.0))</td></tr><tr><td>86</td><td>mid</td><td>mid</td><td>excellent</td><td>mid</td><td>unstable</td><td>stable</td><td>stable</td><td>15</td><td>S</td><td>86</td><td>0.0</td><td>Comfortable</td><td>0.0</td><td>Map(vectorType -> sparse, length -> 2, indices -> List(0), values -> List(1.0))</td><td>0.0</td><td>Map(vectorType -> sparse, length -> 2, indices -> List(0), values -> List(1.0))</td><td>1.0</td><td>Map(vectorType -> sparse, length -> 1, indices -> List(), values -> List())</td><td>0.0</td><td>Map(vectorType -> sparse, length -> 2, indices -> List(0), values -> List(1.0))</td><td>1.0</td><td>Map(vectorType -> sparse, length -> 1, indices -> List(), values -> List())</td><td>0.0</td><td>Map(vectorType -> sparse, length -> 2, indices -> List(0), values -> List(1.0))</td><td>0.0</td><td>Map(vectorType -> sparse, length -> 2, indices -> List(0), values -> List(1.0))</td><td>1.0</td><td>Map(vectorType -> sparse, length -> 4, indices -> List(1), values -> List(1.0))</td><td>1.0</td><td>Map(vectorType -> sparse, length -> 2, indices -> List(1), values -> List(1.0))</td><td>1.0</td><td>Map(vectorType -> sparse, length -> 3, indices -> List(1), values -> List(1.0))</td><td>Map(vectorType -> sparse, length -> 21, indices -> List(0, 2, 5, 8, 10, 13, 17, 19), values -> List(1.0, 1.0, 1.0, 1.0, 1.0, 1.0, 1.0, 1.0))</td></tr><tr><td>87</td><td>mid</td><td>mid</td><td>good</td><td>mid</td><td>unstable</td><td>stable</td><td>stable</td><td>15</td><td>A</td><td>87</td><td>0.0</td><td>Comfortable</td><td>0.0</td><td>Map(vectorType -> sparse, length -> 2, indices -> List(0), values -> List(1.0))</td><td>0.0</td><td>Map(vectorType -> sparse, length -> 2, indices -> List(0), values -> List(1.0))</td><td>0.0</td><td>Map(vectorType -> sparse, length -> 1, indices -> List(0), values -> List(1.0))</td><td>0.0</td><td>Map(vectorType -> sparse, length -> 2, indices -> List(0), values -> List(1.0))</td><td>1.0</td><td>Map(vectorType -> sparse, length -> 1, indices -> List(), values -> List())</td><td>0.0</td><td>Map(vectorType -> sparse, length -> 2, indices -> List(0), values -> List(1.0))</td><td>0.0</td><td>Map(vectorType -> sparse, length -> 2, indices -> List(0), values -> List(1.0))</td><td>1.0</td><td>Map(vectorType -> sparse, length -> 4, indices -> List(1), values -> List(1.0))</td><td>0.0</td><td>Map(vectorType -> sparse, length -> 2, indices -> List(0), values -> List(1.0))</td><td>1.0</td><td>Map(vectorType -> sparse, length -> 3, indices -> List(1), values -> List(1.0))</td><td>Map(vectorType -> sparse, length -> 21, indices -> List(0, 2, 4, 5, 8, 10, 13, 16, 19), values -> List(1.0, 1.0, 1.0, 1.0, 1.0, 1.0, 1.0, 1.0, 1.0))</td></tr><tr><td>88</td><td>mid</td><td>mid</td><td>excellent</td><td>mid</td><td>unstable</td><td>stable</td><td>stable</td><td>10</td><td>A</td><td>88</td><td>0.0</td><td>Uncomfortable</td><td>0.0</td><td>Map(vectorType -> sparse, length -> 2, indices -> List(0), values -> List(1.0))</td><td>0.0</td><td>Map(vectorType -> sparse, length -> 2, indices -> List(0), values -> List(1.0))</td><td>1.0</td><td>Map(vectorType -> sparse, length -> 1, indices -> List(), values -> List())</td><td>0.0</td><td>Map(vectorType -> sparse, length -> 2, indices -> List(0), values -> List(1.0))</td><td>1.0</td><td>Map(vectorType -> sparse, length -> 1, indices -> List(), values -> List())</td><td>0.0</td><td>Map(vectorType -> sparse, length -> 2, indices -> List(0), values -> List(1.0))</td><td>0.0</td><td>Map(vectorType -> sparse, length -> 2, indices -> List(0), values -> List(1.0))</td><td>0.0</td><td>Map(vectorType -> sparse, length -> 4, indices -> List(0), values -> List(1.0))</td><td>0.0</td><td>Map(vectorType -> sparse, length -> 2, indices -> List(0), values -> List(1.0))</td><td>0.0</td><td>Map(vectorType -> sparse, length -> 3, indices -> List(0), values -> List(1.0))</td><td>Map(vectorType -> sparse, length -> 21, indices -> List(0, 2, 5, 8, 10, 12, 16, 18), values -> List(1.0, 1.0, 1.0, 1.0, 1.0, 1.0, 1.0, 1.0))</td></tr><tr><td>89</td><td>mid</td><td>mid</td><td>good</td><td>mid</td><td>unstable</td><td>stable</td><td>stable</td><td>15</td><td>S</td><td>89</td><td>0.0</td><td>Comfortable</td><td>0.0</td><td>Map(vectorType -> sparse, length -> 2, indices -> List(0), values -> List(1.0))</td><td>0.0</td><td>Map(vectorType -> sparse, length -> 2, indices -> List(0), values -> List(1.0))</td><td>0.0</td><td>Map(vectorType -> sparse, length -> 1, indices -> List(0), values -> List(1.0))</td><td>0.0</td><td>Map(vectorType -> sparse, length -> 2, indices -> List(0), values -> List(1.0))</td><td>1.0</td><td>Map(vectorType -> sparse, length -> 1, indices -> List(), values -> List())</td><td>0.0</td><td>Map(vectorType -> sparse, length -> 2, indices -> List(0), values -> List(1.0))</td><td>0.0</td><td>Map(vectorType -> sparse, length -> 2, indices -> List(0), values -> List(1.0))</td><td>1.0</td><td>Map(vectorType -> sparse, length -> 4, indices -> List(1), values -> List(1.0))</td><td>1.0</td><td>Map(vectorType -> sparse, length -> 2, indices -> List(1), values -> List(1.0))</td><td>1.0</td><td>Map(vectorType -> sparse, length -> 3, indices -> List(1), values -> List(1.0))</td><td>Map(vectorType -> sparse, length -> 21, indices -> List(0, 2, 4, 5, 8, 10, 13, 17, 19), values -> List(1.0, 1.0, 1.0, 1.0, 1.0, 1.0, 1.0, 1.0, 1.0))</td></tr></tbody></table></div>"
      ]
     },
     "metadata": {
      "application/vnd.databricks.v1+output": {
       "addedWidgets": {},
       "aggData": [],
       "aggError": "",
       "aggOverflow": false,
       "aggSchema": [],
       "aggSeriesLimitReached": false,
       "aggType": "",
       "arguments": {},
       "columnCustomDisplayInfos": {},
       "data": [
        [
         0,
         "mid",
         "low",
         "excellent",
         "mid",
         "stable",
         "stable",
         "stable",
         "15",
         "A",
         0,
         0.0,
         "Comfortable",
         0.0,
         {
          "indices": [
           0
          ],
          "length": 2,
          "values": [
           1.0
          ],
          "vectorType": "sparse"
         },
         1.0,
         {
          "indices": [
           1
          ],
          "length": 2,
          "values": [
           1.0
          ],
          "vectorType": "sparse"
         },
         1.0,
         {
          "indices": [],
          "length": 1,
          "values": [],
          "vectorType": "sparse"
         },
         0.0,
         {
          "indices": [
           0
          ],
          "length": 2,
          "values": [
           1.0
          ],
          "vectorType": "sparse"
         },
         0.0,
         {
          "indices": [
           0
          ],
          "length": 1,
          "values": [
           1.0
          ],
          "vectorType": "sparse"
         },
         0.0,
         {
          "indices": [
           0
          ],
          "length": 2,
          "values": [
           1.0
          ],
          "vectorType": "sparse"
         },
         0.0,
         {
          "indices": [
           0
          ],
          "length": 2,
          "values": [
           1.0
          ],
          "vectorType": "sparse"
         },
         1.0,
         {
          "indices": [
           1
          ],
          "length": 4,
          "values": [
           1.0
          ],
          "vectorType": "sparse"
         },
         0.0,
         {
          "indices": [
           0
          ],
          "length": 2,
          "values": [
           1.0
          ],
          "vectorType": "sparse"
         },
         1.0,
         {
          "indices": [
           1
          ],
          "length": 3,
          "values": [
           1.0
          ],
          "vectorType": "sparse"
         },
         {
          "indices": [
           0,
           3,
           5,
           7,
           8,
           10,
           13,
           16,
           19
          ],
          "length": 21,
          "values": [
           1.0,
           1.0,
           1.0,
           1.0,
           1.0,
           1.0,
           1.0,
           1.0,
           1.0
          ],
          "vectorType": "sparse"
         }
        ],
        [
         1,
         "mid",
         "high",
         "excellent",
         "high",
         "stable",
         "stable",
         "stable",
         "10",
         "S",
         1,
         0.0,
         "Uncomfortable",
         0.0,
         {
          "indices": [
           0
          ],
          "length": 2,
          "values": [
           1.0
          ],
          "vectorType": "sparse"
         },
         2.0,
         {
          "indices": [],
          "length": 2,
          "values": [],
          "vectorType": "sparse"
         },
         1.0,
         {
          "indices": [],
          "length": 1,
          "values": [],
          "vectorType": "sparse"
         },
         1.0,
         {
          "indices": [
           1
          ],
          "length": 2,
          "values": [
           1.0
          ],
          "vectorType": "sparse"
         },
         0.0,
         {
          "indices": [
           0
          ],
          "length": 1,
          "values": [
           1.0
          ],
          "vectorType": "sparse"
         },
         0.0,
         {
          "indices": [
           0
          ],
          "length": 2,
          "values": [
           1.0
          ],
          "vectorType": "sparse"
         },
         0.0,
         {
          "indices": [
           0
          ],
          "length": 2,
          "values": [
           1.0
          ],
          "vectorType": "sparse"
         },
         0.0,
         {
          "indices": [
           0
          ],
          "length": 4,
          "values": [
           1.0
          ],
          "vectorType": "sparse"
         },
         1.0,
         {
          "indices": [
           1
          ],
          "length": 2,
          "values": [
           1.0
          ],
          "vectorType": "sparse"
         },
         0.0,
         {
          "indices": [
           0
          ],
          "length": 3,
          "values": [
           1.0
          ],
          "vectorType": "sparse"
         },
         {
          "indices": [
           0,
           6,
           7,
           8,
           10,
           12,
           17,
           18
          ],
          "length": 21,
          "values": [
           1.0,
           1.0,
           1.0,
           1.0,
           1.0,
           1.0,
           1.0,
           1.0
          ],
          "vectorType": "sparse"
         }
        ],
        [
         2,
         "high",
         "low",
         "excellent",
         "high",
         "stable",
         "stable",
         "mod-stable",
         "10",
         "A",
         2,
         2.0,
         "Uncomfortable",
         2.0,
         {
          "indices": [],
          "length": 2,
          "values": [],
          "vectorType": "sparse"
         },
         1.0,
         {
          "indices": [
           1
          ],
          "length": 2,
          "values": [
           1.0
          ],
          "vectorType": "sparse"
         },
         1.0,
         {
          "indices": [],
          "length": 1,
          "values": [],
          "vectorType": "sparse"
         },
         1.0,
         {
          "indices": [
           1
          ],
          "length": 2,
          "values": [
           1.0
          ],
          "vectorType": "sparse"
         },
         0.0,
         {
          "indices": [
           0
          ],
          "length": 1,
          "values": [
           1.0
          ],
          "vectorType": "sparse"
         },
         0.0,
         {
          "indices": [
           0
          ],
          "length": 2,
          "values": [
           1.0
          ],
          "vectorType": "sparse"
         },
         2.0,
         {
          "indices": [],
          "length": 2,
          "values": [],
          "vectorType": "sparse"
         },
         0.0,
         {
          "indices": [
           0
          ],
          "length": 4,
          "values": [
           1.0
          ],
          "vectorType": "sparse"
         },
         0.0,
         {
          "indices": [
           0
          ],
          "length": 2,
          "values": [
           1.0
          ],
          "vectorType": "sparse"
         },
         0.0,
         {
          "indices": [
           0
          ],
          "length": 3,
          "values": [
           1.0
          ],
          "vectorType": "sparse"
         },
         {
          "indices": [
           3,
           6,
           7,
           8,
           12,
           16,
           18
          ],
          "length": 21,
          "values": [
           1.0,
           1.0,
           1.0,
           1.0,
           1.0,
           1.0,
           1.0
          ],
          "vectorType": "sparse"
         }
        ],
        [
         3,
         "mid",
         "low",
         "good",
         "high",
         "stable",
         "unstable",
         "mod-stable",
         "15",
         "A",
         3,
         0.0,
         "Comfortable",
         0.0,
         {
          "indices": [
           0
          ],
          "length": 2,
          "values": [
           1.0
          ],
          "vectorType": "sparse"
         },
         1.0,
         {
          "indices": [
           1
          ],
          "length": 2,
          "values": [
           1.0
          ],
          "vectorType": "sparse"
         },
         0.0,
         {
          "indices": [
           0
          ],
          "length": 1,
          "values": [
           1.0
          ],
          "vectorType": "sparse"
         },
         1.0,
         {
          "indices": [
           1
          ],
          "length": 2,
          "values": [
           1.0
          ],
          "vectorType": "sparse"
         },
         0.0,
         {
          "indices": [
           0
          ],
          "length": 1,
          "values": [
           1.0
          ],
          "vectorType": "sparse"
         },
         1.0,
         {
          "indices": [
           1
          ],
          "length": 2,
          "values": [
           1.0
          ],
          "vectorType": "sparse"
         },
         2.0,
         {
          "indices": [],
          "length": 2,
          "values": [],
          "vectorType": "sparse"
         },
         1.0,
         {
          "indices": [
           1
          ],
          "length": 4,
          "values": [
           1.0
          ],
          "vectorType": "sparse"
         },
         0.0,
         {
          "indices": [
           0
          ],
          "length": 2,
          "values": [
           1.0
          ],
          "vectorType": "sparse"
         },
         1.0,
         {
          "indices": [
           1
          ],
          "length": 3,
          "values": [
           1.0
          ],
          "vectorType": "sparse"
         },
         {
          "indices": [
           0,
           3,
           4,
           6,
           7,
           9,
           13,
           16,
           19
          ],
          "length": 21,
          "values": [
           1.0,
           1.0,
           1.0,
           1.0,
           1.0,
           1.0,
           1.0,
           1.0,
           1.0
          ],
          "vectorType": "sparse"
         }
        ],
        [
         4,
         "mid",
         "mid",
         "excellent",
         "high",
         "stable",
         "stable",
         "stable",
         "10",
         "A",
         4,
         0.0,
         "Uncomfortable",
         0.0,
         {
          "indices": [
           0
          ],
          "length": 2,
          "values": [
           1.0
          ],
          "vectorType": "sparse"
         },
         0.0,
         {
          "indices": [
           0
          ],
          "length": 2,
          "values": [
           1.0
          ],
          "vectorType": "sparse"
         },
         1.0,
         {
          "indices": [],
          "length": 1,
          "values": [],
          "vectorType": "sparse"
         },
         1.0,
         {
          "indices": [
           1
          ],
          "length": 2,
          "values": [
           1.0
          ],
          "vectorType": "sparse"
         },
         0.0,
         {
          "indices": [
           0
          ],
          "length": 1,
          "values": [
           1.0
          ],
          "vectorType": "sparse"
         },
         0.0,
         {
          "indices": [
           0
          ],
          "length": 2,
          "values": [
           1.0
          ],
          "vectorType": "sparse"
         },
         0.0,
         {
          "indices": [
           0
          ],
          "length": 2,
          "values": [
           1.0
          ],
          "vectorType": "sparse"
         },
         0.0,
         {
          "indices": [
           0
          ],
          "length": 4,
          "values": [
           1.0
          ],
          "vectorType": "sparse"
         },
         0.0,
         {
          "indices": [
           0
          ],
          "length": 2,
          "values": [
           1.0
          ],
          "vectorType": "sparse"
         },
         0.0,
         {
          "indices": [
           0
          ],
          "length": 3,
          "values": [
           1.0
          ],
          "vectorType": "sparse"
         },
         {
          "indices": [
           0,
           2,
           6,
           7,
           8,
           10,
           12,
           16,
           18
          ],
          "length": 21,
          "values": [
           1.0,
           1.0,
           1.0,
           1.0,
           1.0,
           1.0,
           1.0,
           1.0,
           1.0
          ],
          "vectorType": "sparse"
         }
        ],
        [
         5,
         "high",
         "low",
         "good",
         "mid",
         "stable",
         "stable",
         "unstable",
         "15",
         "S",
         5,
         2.0,
         "Comfortable",
         2.0,
         {
          "indices": [],
          "length": 2,
          "values": [],
          "vectorType": "sparse"
         },
         1.0,
         {
          "indices": [
           1
          ],
          "length": 2,
          "values": [
           1.0
          ],
          "vectorType": "sparse"
         },
         0.0,
         {
          "indices": [
           0
          ],
          "length": 1,
          "values": [
           1.0
          ],
          "vectorType": "sparse"
         },
         0.0,
         {
          "indices": [
           0
          ],
          "length": 2,
          "values": [
           1.0
          ],
          "vectorType": "sparse"
         },
         0.0,
         {
          "indices": [
           0
          ],
          "length": 1,
          "values": [
           1.0
          ],
          "vectorType": "sparse"
         },
         0.0,
         {
          "indices": [
           0
          ],
          "length": 2,
          "values": [
           1.0
          ],
          "vectorType": "sparse"
         },
         1.0,
         {
          "indices": [
           1
          ],
          "length": 2,
          "values": [
           1.0
          ],
          "vectorType": "sparse"
         },
         1.0,
         {
          "indices": [
           1
          ],
          "length": 4,
          "values": [
           1.0
          ],
          "vectorType": "sparse"
         },
         1.0,
         {
          "indices": [
           1
          ],
          "length": 2,
          "values": [
           1.0
          ],
          "vectorType": "sparse"
         },
         1.0,
         {
          "indices": [
           1
          ],
          "length": 3,
          "values": [
           1.0
          ],
          "vectorType": "sparse"
         },
         {
          "indices": [
           3,
           4,
           5,
           7,
           8,
           11,
           13,
           17,
           19
          ],
          "length": 21,
          "values": [
           1.0,
           1.0,
           1.0,
           1.0,
           1.0,
           1.0,
           1.0,
           1.0,
           1.0
          ],
          "vectorType": "sparse"
         }
        ],
        [
         6,
         "mid",
         "low",
         "excellent",
         "high",
         "stable",
         "stable",
         "mod-stable",
         "05",
         "S",
         6,
         0.0,
         "Very Uncomfortable",
         0.0,
         {
          "indices": [
           0
          ],
          "length": 2,
          "values": [
           1.0
          ],
          "vectorType": "sparse"
         },
         1.0,
         {
          "indices": [
           1
          ],
          "length": 2,
          "values": [
           1.0
          ],
          "vectorType": "sparse"
         },
         1.0,
         {
          "indices": [],
          "length": 1,
          "values": [],
          "vectorType": "sparse"
         },
         1.0,
         {
          "indices": [
           1
          ],
          "length": 2,
          "values": [
           1.0
          ],
          "vectorType": "sparse"
         },
         0.0,
         {
          "indices": [
           0
          ],
          "length": 1,
          "values": [
           1.0
          ],
          "vectorType": "sparse"
         },
         0.0,
         {
          "indices": [
           0
          ],
          "length": 2,
          "values": [
           1.0
          ],
          "vectorType": "sparse"
         },
         2.0,
         {
          "indices": [],
          "length": 2,
          "values": [],
          "vectorType": "sparse"
         },
         3.0,
         {
          "indices": [
           3
          ],
          "length": 4,
          "values": [
           1.0
          ],
          "vectorType": "sparse"
         },
         1.0,
         {
          "indices": [
           1
          ],
          "length": 2,
          "values": [
           1.0
          ],
          "vectorType": "sparse"
         },
         3.0,
         {
          "indices": [],
          "length": 3,
          "values": [],
          "vectorType": "sparse"
         },
         {
          "indices": [
           0,
           3,
           6,
           7,
           8,
           15,
           17
          ],
          "length": 21,
          "values": [
           1.0,
           1.0,
           1.0,
           1.0,
           1.0,
           1.0,
           1.0
          ],
          "vectorType": "sparse"
         }
        ],
        [
         7,
         "high",
         "mid",
         "excellent",
         "mid",
         "unstable",
         "unstable",
         "stable",
         "10",
         "S",
         7,
         2.0,
         "Uncomfortable",
         2.0,
         {
          "indices": [],
          "length": 2,
          "values": [],
          "vectorType": "sparse"
         },
         0.0,
         {
          "indices": [
           0
          ],
          "length": 2,
          "values": [
           1.0
          ],
          "vectorType": "sparse"
         },
         1.0,
         {
          "indices": [],
          "length": 1,
          "values": [],
          "vectorType": "sparse"
         },
         0.0,
         {
          "indices": [
           0
          ],
          "length": 2,
          "values": [
           1.0
          ],
          "vectorType": "sparse"
         },
         1.0,
         {
          "indices": [],
          "length": 1,
          "values": [],
          "vectorType": "sparse"
         },
         1.0,
         {
          "indices": [
           1
          ],
          "length": 2,
          "values": [
           1.0
          ],
          "vectorType": "sparse"
         },
         0.0,
         {
          "indices": [
           0
          ],
          "length": 2,
          "values": [
           1.0
          ],
          "vectorType": "sparse"
         },
         0.0,
         {
          "indices": [
           0
          ],
          "length": 4,
          "values": [
           1.0
          ],
          "vectorType": "sparse"
         },
         1.0,
         {
          "indices": [
           1
          ],
          "length": 2,
          "values": [
           1.0
          ],
          "vectorType": "sparse"
         },
         0.0,
         {
          "indices": [
           0
          ],
          "length": 3,
          "values": [
           1.0
          ],
          "vectorType": "sparse"
         },
         {
          "indices": [
           2,
           5,
           9,
           10,
           12,
           17,
           18
          ],
          "length": 21,
          "values": [
           1.0,
           1.0,
           1.0,
           1.0,
           1.0,
           1.0,
           1.0
          ],
          "vectorType": "sparse"
         }
        ],
        [
         8,
         "mid",
         "high",
         "good",
         "mid",
         "stable",
         "stable",
         "stable",
         "10",
         "S",
         8,
         0.0,
         "Uncomfortable",
         0.0,
         {
          "indices": [
           0
          ],
          "length": 2,
          "values": [
           1.0
          ],
          "vectorType": "sparse"
         },
         2.0,
         {
          "indices": [],
          "length": 2,
          "values": [],
          "vectorType": "sparse"
         },
         0.0,
         {
          "indices": [
           0
          ],
          "length": 1,
          "values": [
           1.0
          ],
          "vectorType": "sparse"
         },
         0.0,
         {
          "indices": [
           0
          ],
          "length": 2,
          "values": [
           1.0
          ],
          "vectorType": "sparse"
         },
         0.0,
         {
          "indices": [
           0
          ],
          "length": 1,
          "values": [
           1.0
          ],
          "vectorType": "sparse"
         },
         0.0,
         {
          "indices": [
           0
          ],
          "length": 2,
          "values": [
           1.0
          ],
          "vectorType": "sparse"
         },
         0.0,
         {
          "indices": [
           0
          ],
          "length": 2,
          "values": [
           1.0
          ],
          "vectorType": "sparse"
         },
         0.0,
         {
          "indices": [
           0
          ],
          "length": 4,
          "values": [
           1.0
          ],
          "vectorType": "sparse"
         },
         1.0,
         {
          "indices": [
           1
          ],
          "length": 2,
          "values": [
           1.0
          ],
          "vectorType": "sparse"
         },
         0.0,
         {
          "indices": [
           0
          ],
          "length": 3,
          "values": [
           1.0
          ],
          "vectorType": "sparse"
         },
         {
          "indices": [
           0,
           4,
           5,
           7,
           8,
           10,
           12,
           17,
           18
          ],
          "length": 21,
          "values": [
           1.0,
           1.0,
           1.0,
           1.0,
           1.0,
           1.0,
           1.0,
           1.0,
           1.0
          ],
          "vectorType": "sparse"
         }
        ],
        [
         9,
         "mid",
         "low",
         "excellent",
         "mid",
         "unstable",
         "stable",
         "mod-stable",
         "10",
         "S",
         9,
         0.0,
         "Uncomfortable",
         0.0,
         {
          "indices": [
           0
          ],
          "length": 2,
          "values": [
           1.0
          ],
          "vectorType": "sparse"
         },
         1.0,
         {
          "indices": [
           1
          ],
          "length": 2,
          "values": [
           1.0
          ],
          "vectorType": "sparse"
         },
         1.0,
         {
          "indices": [],
          "length": 1,
          "values": [],
          "vectorType": "sparse"
         },
         0.0,
         {
          "indices": [
           0
          ],
          "length": 2,
          "values": [
           1.0
          ],
          "vectorType": "sparse"
         },
         1.0,
         {
          "indices": [],
          "length": 1,
          "values": [],
          "vectorType": "sparse"
         },
         0.0,
         {
          "indices": [
           0
          ],
          "length": 2,
          "values": [
           1.0
          ],
          "vectorType": "sparse"
         },
         2.0,
         {
          "indices": [],
          "length": 2,
          "values": [],
          "vectorType": "sparse"
         },
         0.0,
         {
          "indices": [
           0
          ],
          "length": 4,
          "values": [
           1.0
          ],
          "vectorType": "sparse"
         },
         1.0,
         {
          "indices": [
           1
          ],
          "length": 2,
          "values": [
           1.0
          ],
          "vectorType": "sparse"
         },
         0.0,
         {
          "indices": [
           0
          ],
          "length": 3,
          "values": [
           1.0
          ],
          "vectorType": "sparse"
         },
         {
          "indices": [
           0,
           3,
           5,
           8,
           12,
           17,
           18
          ],
          "length": 21,
          "values": [
           1.0,
           1.0,
           1.0,
           1.0,
           1.0,
           1.0,
           1.0
          ],
          "vectorType": "sparse"
         }
        ],
        [
         10,
         "mid",
         "mid",
         "good",
         "mid",
         "stable",
         "stable",
         "stable",
         "15",
         "A",
         10,
         0.0,
         "Comfortable",
         0.0,
         {
          "indices": [
           0
          ],
          "length": 2,
          "values": [
           1.0
          ],
          "vectorType": "sparse"
         },
         0.0,
         {
          "indices": [
           0
          ],
          "length": 2,
          "values": [
           1.0
          ],
          "vectorType": "sparse"
         },
         0.0,
         {
          "indices": [
           0
          ],
          "length": 1,
          "values": [
           1.0
          ],
          "vectorType": "sparse"
         },
         0.0,
         {
          "indices": [
           0
          ],
          "length": 2,
          "values": [
           1.0
          ],
          "vectorType": "sparse"
         },
         0.0,
         {
          "indices": [
           0
          ],
          "length": 1,
          "values": [
           1.0
          ],
          "vectorType": "sparse"
         },
         0.0,
         {
          "indices": [
           0
          ],
          "length": 2,
          "values": [
           1.0
          ],
          "vectorType": "sparse"
         },
         0.0,
         {
          "indices": [
           0
          ],
          "length": 2,
          "values": [
           1.0
          ],
          "vectorType": "sparse"
         },
         1.0,
         {
          "indices": [
           1
          ],
          "length": 4,
          "values": [
           1.0
          ],
          "vectorType": "sparse"
         },
         0.0,
         {
          "indices": [
           0
          ],
          "length": 2,
          "values": [
           1.0
          ],
          "vectorType": "sparse"
         },
         1.0,
         {
          "indices": [
           1
          ],
          "length": 3,
          "values": [
           1.0
          ],
          "vectorType": "sparse"
         },
         {
          "indices": [
           0,
           2,
           4,
           5,
           7,
           8,
           10,
           13,
           16,
           19
          ],
          "length": 21,
          "values": [
           1.0,
           1.0,
           1.0,
           1.0,
           1.0,
           1.0,
           1.0,
           1.0,
           1.0,
           1.0
          ],
          "vectorType": "sparse"
         }
        ],
        [
         11,
         "mid",
         "low",
         "good",
         "high",
         "stable",
         "stable",
         "mod-stable",
         "10",
         "A",
         11,
         0.0,
         "Uncomfortable",
         0.0,
         {
          "indices": [
           0
          ],
          "length": 2,
          "values": [
           1.0
          ],
          "vectorType": "sparse"
         },
         1.0,
         {
          "indices": [
           1
          ],
          "length": 2,
          "values": [
           1.0
          ],
          "vectorType": "sparse"
         },
         0.0,
         {
          "indices": [
           0
          ],
          "length": 1,
          "values": [
           1.0
          ],
          "vectorType": "sparse"
         },
         1.0,
         {
          "indices": [
           1
          ],
          "length": 2,
          "values": [
           1.0
          ],
          "vectorType": "sparse"
         },
         0.0,
         {
          "indices": [
           0
          ],
          "length": 1,
          "values": [
           1.0
          ],
          "vectorType": "sparse"
         },
         0.0,
         {
          "indices": [
           0
          ],
          "length": 2,
          "values": [
           1.0
          ],
          "vectorType": "sparse"
         },
         2.0,
         {
          "indices": [],
          "length": 2,
          "values": [],
          "vectorType": "sparse"
         },
         0.0,
         {
          "indices": [
           0
          ],
          "length": 4,
          "values": [
           1.0
          ],
          "vectorType": "sparse"
         },
         0.0,
         {
          "indices": [
           0
          ],
          "length": 2,
          "values": [
           1.0
          ],
          "vectorType": "sparse"
         },
         0.0,
         {
          "indices": [
           0
          ],
          "length": 3,
          "values": [
           1.0
          ],
          "vectorType": "sparse"
         },
         {
          "indices": [
           0,
           3,
           4,
           6,
           7,
           8,
           12,
           16,
           18
          ],
          "length": 21,
          "values": [
           1.0,
           1.0,
           1.0,
           1.0,
           1.0,
           1.0,
           1.0,
           1.0,
           1.0
          ],
          "vectorType": "sparse"
         }
        ],
        [
         12,
         "high",
         "high",
         "excellent",
         "high",
         "unstable",
         "stable",
         "unstable",
         "15",
         "A",
         12,
         2.0,
         "Comfortable",
         2.0,
         {
          "indices": [],
          "length": 2,
          "values": [],
          "vectorType": "sparse"
         },
         2.0,
         {
          "indices": [],
          "length": 2,
          "values": [],
          "vectorType": "sparse"
         },
         1.0,
         {
          "indices": [],
          "length": 1,
          "values": [],
          "vectorType": "sparse"
         },
         1.0,
         {
          "indices": [
           1
          ],
          "length": 2,
          "values": [
           1.0
          ],
          "vectorType": "sparse"
         },
         1.0,
         {
          "indices": [],
          "length": 1,
          "values": [],
          "vectorType": "sparse"
         },
         0.0,
         {
          "indices": [
           0
          ],
          "length": 2,
          "values": [
           1.0
          ],
          "vectorType": "sparse"
         },
         1.0,
         {
          "indices": [
           1
          ],
          "length": 2,
          "values": [
           1.0
          ],
          "vectorType": "sparse"
         },
         1.0,
         {
          "indices": [
           1
          ],
          "length": 4,
          "values": [
           1.0
          ],
          "vectorType": "sparse"
         },
         0.0,
         {
          "indices": [
           0
          ],
          "length": 2,
          "values": [
           1.0
          ],
          "vectorType": "sparse"
         },
         1.0,
         {
          "indices": [
           1
          ],
          "length": 3,
          "values": [
           1.0
          ],
          "vectorType": "sparse"
         },
         {
          "indices": [
           6,
           8,
           11,
           13,
           16,
           19
          ],
          "length": 21,
          "values": [
           1.0,
           1.0,
           1.0,
           1.0,
           1.0,
           1.0
          ],
          "vectorType": "sparse"
         }
        ],
        [
         13,
         "mid",
         "high",
         "good",
         "mid",
         "unstable",
         "stable",
         "mod-stable",
         "10",
         "A",
         13,
         0.0,
         "Uncomfortable",
         0.0,
         {
          "indices": [
           0
          ],
          "length": 2,
          "values": [
           1.0
          ],
          "vectorType": "sparse"
         },
         2.0,
         {
          "indices": [],
          "length": 2,
          "values": [],
          "vectorType": "sparse"
         },
         0.0,
         {
          "indices": [
           0
          ],
          "length": 1,
          "values": [
           1.0
          ],
          "vectorType": "sparse"
         },
         0.0,
         {
          "indices": [
           0
          ],
          "length": 2,
          "values": [
           1.0
          ],
          "vectorType": "sparse"
         },
         1.0,
         {
          "indices": [],
          "length": 1,
          "values": [],
          "vectorType": "sparse"
         },
         0.0,
         {
          "indices": [
           0
          ],
          "length": 2,
          "values": [
           1.0
          ],
          "vectorType": "sparse"
         },
         2.0,
         {
          "indices": [],
          "length": 2,
          "values": [],
          "vectorType": "sparse"
         },
         0.0,
         {
          "indices": [
           0
          ],
          "length": 4,
          "values": [
           1.0
          ],
          "vectorType": "sparse"
         },
         0.0,
         {
          "indices": [
           0
          ],
          "length": 2,
          "values": [
           1.0
          ],
          "vectorType": "sparse"
         },
         0.0,
         {
          "indices": [
           0
          ],
          "length": 3,
          "values": [
           1.0
          ],
          "vectorType": "sparse"
         },
         {
          "indices": [
           0,
           4,
           5,
           8,
           12,
           16,
           18
          ],
          "length": 21,
          "values": [
           1.0,
           1.0,
           1.0,
           1.0,
           1.0,
           1.0,
           1.0
          ],
          "vectorType": "sparse"
         }
        ],
        [
         14,
         "mid",
         "low",
         "good",
         "high",
         "unstable",
         "unstable",
         "stable",
         "15",
         "S",
         14,
         0.0,
         "Comfortable",
         0.0,
         {
          "indices": [
           0
          ],
          "length": 2,
          "values": [
           1.0
          ],
          "vectorType": "sparse"
         },
         1.0,
         {
          "indices": [
           1
          ],
          "length": 2,
          "values": [
           1.0
          ],
          "vectorType": "sparse"
         },
         0.0,
         {
          "indices": [
           0
          ],
          "length": 1,
          "values": [
           1.0
          ],
          "vectorType": "sparse"
         },
         1.0,
         {
          "indices": [
           1
          ],
          "length": 2,
          "values": [
           1.0
          ],
          "vectorType": "sparse"
         },
         1.0,
         {
          "indices": [],
          "length": 1,
          "values": [],
          "vectorType": "sparse"
         },
         1.0,
         {
          "indices": [
           1
          ],
          "length": 2,
          "values": [
           1.0
          ],
          "vectorType": "sparse"
         },
         0.0,
         {
          "indices": [
           0
          ],
          "length": 2,
          "values": [
           1.0
          ],
          "vectorType": "sparse"
         },
         1.0,
         {
          "indices": [
           1
          ],
          "length": 4,
          "values": [
           1.0
          ],
          "vectorType": "sparse"
         },
         1.0,
         {
          "indices": [
           1
          ],
          "length": 2,
          "values": [
           1.0
          ],
          "vectorType": "sparse"
         },
         1.0,
         {
          "indices": [
           1
          ],
          "length": 3,
          "values": [
           1.0
          ],
          "vectorType": "sparse"
         },
         {
          "indices": [
           0,
           3,
           4,
           6,
           9,
           10,
           13,
           17,
           19
          ],
          "length": 21,
          "values": [
           1.0,
           1.0,
           1.0,
           1.0,
           1.0,
           1.0,
           1.0,
           1.0,
           1.0
          ],
          "vectorType": "sparse"
         }
        ],
        [
         15,
         "high",
         "high",
         "excellent",
         "high",
         "unstable",
         "stable",
         "unstable",
         "10",
         "A",
         15,
         2.0,
         "Uncomfortable",
         2.0,
         {
          "indices": [],
          "length": 2,
          "values": [],
          "vectorType": "sparse"
         },
         2.0,
         {
          "indices": [],
          "length": 2,
          "values": [],
          "vectorType": "sparse"
         },
         1.0,
         {
          "indices": [],
          "length": 1,
          "values": [],
          "vectorType": "sparse"
         },
         1.0,
         {
          "indices": [
           1
          ],
          "length": 2,
          "values": [
           1.0
          ],
          "vectorType": "sparse"
         },
         1.0,
         {
          "indices": [],
          "length": 1,
          "values": [],
          "vectorType": "sparse"
         },
         0.0,
         {
          "indices": [
           0
          ],
          "length": 2,
          "values": [
           1.0
          ],
          "vectorType": "sparse"
         },
         1.0,
         {
          "indices": [
           1
          ],
          "length": 2,
          "values": [
           1.0
          ],
          "vectorType": "sparse"
         },
         0.0,
         {
          "indices": [
           0
          ],
          "length": 4,
          "values": [
           1.0
          ],
          "vectorType": "sparse"
         },
         0.0,
         {
          "indices": [
           0
          ],
          "length": 2,
          "values": [
           1.0
          ],
          "vectorType": "sparse"
         },
         0.0,
         {
          "indices": [
           0
          ],
          "length": 3,
          "values": [
           1.0
          ],
          "vectorType": "sparse"
         },
         {
          "indices": [
           6,
           8,
           11,
           12,
           16,
           18
          ],
          "length": 21,
          "values": [
           1.0,
           1.0,
           1.0,
           1.0,
           1.0,
           1.0
          ],
          "vectorType": "sparse"
         }
        ],
        [
         16,
         "low",
         "high",
         "good",
         "high",
         "unstable",
         "stable",
         "mod-stable",
         "15",
         "A",
         16,
         1.0,
         "Comfortable",
         1.0,
         {
          "indices": [
           1
          ],
          "length": 2,
          "values": [
           1.0
          ],
          "vectorType": "sparse"
         },
         2.0,
         {
          "indices": [],
          "length": 2,
          "values": [],
          "vectorType": "sparse"
         },
         0.0,
         {
          "indices": [
           0
          ],
          "length": 1,
          "values": [
           1.0
          ],
          "vectorType": "sparse"
         },
         1.0,
         {
          "indices": [
           1
          ],
          "length": 2,
          "values": [
           1.0
          ],
          "vectorType": "sparse"
         },
         1.0,
         {
          "indices": [],
          "length": 1,
          "values": [],
          "vectorType": "sparse"
         },
         0.0,
         {
          "indices": [
           0
          ],
          "length": 2,
          "values": [
           1.0
          ],
          "vectorType": "sparse"
         },
         2.0,
         {
          "indices": [],
          "length": 2,
          "values": [],
          "vectorType": "sparse"
         },
         1.0,
         {
          "indices": [
           1
          ],
          "length": 4,
          "values": [
           1.0
          ],
          "vectorType": "sparse"
         },
         0.0,
         {
          "indices": [
           0
          ],
          "length": 2,
          "values": [
           1.0
          ],
          "vectorType": "sparse"
         },
         1.0,
         {
          "indices": [
           1
          ],
          "length": 3,
          "values": [
           1.0
          ],
          "vectorType": "sparse"
         },
         {
          "indices": [
           1,
           4,
           6,
           8,
           13,
           16,
           19
          ],
          "length": 21,
          "values": [
           1.0,
           1.0,
           1.0,
           1.0,
           1.0,
           1.0,
           1.0
          ],
          "vectorType": "sparse"
         }
        ],
        [
         17,
         "mid",
         "low",
         "good",
         "high",
         "unstable",
         "stable",
         "stable",
         "10",
         "A",
         17,
         0.0,
         "Uncomfortable",
         0.0,
         {
          "indices": [
           0
          ],
          "length": 2,
          "values": [
           1.0
          ],
          "vectorType": "sparse"
         },
         1.0,
         {
          "indices": [
           1
          ],
          "length": 2,
          "values": [
           1.0
          ],
          "vectorType": "sparse"
         },
         0.0,
         {
          "indices": [
           0
          ],
          "length": 1,
          "values": [
           1.0
          ],
          "vectorType": "sparse"
         },
         1.0,
         {
          "indices": [
           1
          ],
          "length": 2,
          "values": [
           1.0
          ],
          "vectorType": "sparse"
         },
         1.0,
         {
          "indices": [],
          "length": 1,
          "values": [],
          "vectorType": "sparse"
         },
         0.0,
         {
          "indices": [
           0
          ],
          "length": 2,
          "values": [
           1.0
          ],
          "vectorType": "sparse"
         },
         0.0,
         {
          "indices": [
           0
          ],
          "length": 2,
          "values": [
           1.0
          ],
          "vectorType": "sparse"
         },
         0.0,
         {
          "indices": [
           0
          ],
          "length": 4,
          "values": [
           1.0
          ],
          "vectorType": "sparse"
         },
         0.0,
         {
          "indices": [
           0
          ],
          "length": 2,
          "values": [
           1.0
          ],
          "vectorType": "sparse"
         },
         0.0,
         {
          "indices": [
           0
          ],
          "length": 3,
          "values": [
           1.0
          ],
          "vectorType": "sparse"
         },
         {
          "indices": [
           0,
           3,
           4,
           6,
           8,
           10,
           12,
           16,
           18
          ],
          "length": 21,
          "values": [
           1.0,
           1.0,
           1.0,
           1.0,
           1.0,
           1.0,
           1.0,
           1.0,
           1.0
          ],
          "vectorType": "sparse"
         }
        ],
        [
         18,
         "mid",
         "high",
         "good",
         "mid",
         "unstable",
         "stable",
         "unstable",
         "15",
         "A",
         18,
         0.0,
         "Comfortable",
         0.0,
         {
          "indices": [
           0
          ],
          "length": 2,
          "values": [
           1.0
          ],
          "vectorType": "sparse"
         },
         2.0,
         {
          "indices": [],
          "length": 2,
          "values": [],
          "vectorType": "sparse"
         },
         0.0,
         {
          "indices": [
           0
          ],
          "length": 1,
          "values": [
           1.0
          ],
          "vectorType": "sparse"
         },
         0.0,
         {
          "indices": [
           0
          ],
          "length": 2,
          "values": [
           1.0
          ],
          "vectorType": "sparse"
         },
         1.0,
         {
          "indices": [],
          "length": 1,
          "values": [],
          "vectorType": "sparse"
         },
         0.0,
         {
          "indices": [
           0
          ],
          "length": 2,
          "values": [
           1.0
          ],
          "vectorType": "sparse"
         },
         1.0,
         {
          "indices": [
           1
          ],
          "length": 2,
          "values": [
           1.0
          ],
          "vectorType": "sparse"
         },
         1.0,
         {
          "indices": [
           1
          ],
          "length": 4,
          "values": [
           1.0
          ],
          "vectorType": "sparse"
         },
         0.0,
         {
          "indices": [
           0
          ],
          "length": 2,
          "values": [
           1.0
          ],
          "vectorType": "sparse"
         },
         1.0,
         {
          "indices": [
           1
          ],
          "length": 3,
          "values": [
           1.0
          ],
          "vectorType": "sparse"
         },
         {
          "indices": [
           0,
           4,
           5,
           8,
           11,
           13,
           16,
           19
          ],
          "length": 21,
          "values": [
           1.0,
           1.0,
           1.0,
           1.0,
           1.0,
           1.0,
           1.0,
           1.0
          ],
          "vectorType": "sparse"
         }
        ],
        [
         19,
         "mid",
         "mid",
         "good",
         "mid",
         "stable",
         "stable",
         "stable",
         "10",
         "A",
         19,
         0.0,
         "Uncomfortable",
         0.0,
         {
          "indices": [
           0
          ],
          "length": 2,
          "values": [
           1.0
          ],
          "vectorType": "sparse"
         },
         0.0,
         {
          "indices": [
           0
          ],
          "length": 2,
          "values": [
           1.0
          ],
          "vectorType": "sparse"
         },
         0.0,
         {
          "indices": [
           0
          ],
          "length": 1,
          "values": [
           1.0
          ],
          "vectorType": "sparse"
         },
         0.0,
         {
          "indices": [
           0
          ],
          "length": 2,
          "values": [
           1.0
          ],
          "vectorType": "sparse"
         },
         0.0,
         {
          "indices": [
           0
          ],
          "length": 1,
          "values": [
           1.0
          ],
          "vectorType": "sparse"
         },
         0.0,
         {
          "indices": [
           0
          ],
          "length": 2,
          "values": [
           1.0
          ],
          "vectorType": "sparse"
         },
         0.0,
         {
          "indices": [
           0
          ],
          "length": 2,
          "values": [
           1.0
          ],
          "vectorType": "sparse"
         },
         0.0,
         {
          "indices": [
           0
          ],
          "length": 4,
          "values": [
           1.0
          ],
          "vectorType": "sparse"
         },
         0.0,
         {
          "indices": [
           0
          ],
          "length": 2,
          "values": [
           1.0
          ],
          "vectorType": "sparse"
         },
         0.0,
         {
          "indices": [
           0
          ],
          "length": 3,
          "values": [
           1.0
          ],
          "vectorType": "sparse"
         },
         {
          "indices": [
           0,
           2,
           4,
           5,
           7,
           8,
           10,
           12,
           16,
           18
          ],
          "length": 21,
          "values": [
           1.0,
           1.0,
           1.0,
           1.0,
           1.0,
           1.0,
           1.0,
           1.0,
           1.0,
           1.0
          ],
          "vectorType": "sparse"
         }
        ],
        [
         20,
         "low",
         "high",
         "good",
         "mid",
         "unstable",
         "stable",
         "stable",
         "15",
         "A",
         20,
         1.0,
         "Comfortable",
         1.0,
         {
          "indices": [
           1
          ],
          "length": 2,
          "values": [
           1.0
          ],
          "vectorType": "sparse"
         },
         2.0,
         {
          "indices": [],
          "length": 2,
          "values": [],
          "vectorType": "sparse"
         },
         0.0,
         {
          "indices": [
           0
          ],
          "length": 1,
          "values": [
           1.0
          ],
          "vectorType": "sparse"
         },
         0.0,
         {
          "indices": [
           0
          ],
          "length": 2,
          "values": [
           1.0
          ],
          "vectorType": "sparse"
         },
         1.0,
         {
          "indices": [],
          "length": 1,
          "values": [],
          "vectorType": "sparse"
         },
         0.0,
         {
          "indices": [
           0
          ],
          "length": 2,
          "values": [
           1.0
          ],
          "vectorType": "sparse"
         },
         0.0,
         {
          "indices": [
           0
          ],
          "length": 2,
          "values": [
           1.0
          ],
          "vectorType": "sparse"
         },
         1.0,
         {
          "indices": [
           1
          ],
          "length": 4,
          "values": [
           1.0
          ],
          "vectorType": "sparse"
         },
         0.0,
         {
          "indices": [
           0
          ],
          "length": 2,
          "values": [
           1.0
          ],
          "vectorType": "sparse"
         },
         1.0,
         {
          "indices": [
           1
          ],
          "length": 3,
          "values": [
           1.0
          ],
          "vectorType": "sparse"
         },
         {
          "indices": [
           1,
           4,
           5,
           8,
           10,
           13,
           16,
           19
          ],
          "length": 21,
          "values": [
           1.0,
           1.0,
           1.0,
           1.0,
           1.0,
           1.0,
           1.0,
           1.0
          ],
          "vectorType": "sparse"
         }
        ],
        [
         21,
         "low",
         "mid",
         "excellent",
         "high",
         "unstable",
         "stable",
         "unstable",
         "10",
         "S",
         21,
         1.0,
         "Uncomfortable",
         1.0,
         {
          "indices": [
           1
          ],
          "length": 2,
          "values": [
           1.0
          ],
          "vectorType": "sparse"
         },
         0.0,
         {
          "indices": [
           0
          ],
          "length": 2,
          "values": [
           1.0
          ],
          "vectorType": "sparse"
         },
         1.0,
         {
          "indices": [],
          "length": 1,
          "values": [],
          "vectorType": "sparse"
         },
         1.0,
         {
          "indices": [
           1
          ],
          "length": 2,
          "values": [
           1.0
          ],
          "vectorType": "sparse"
         },
         1.0,
         {
          "indices": [],
          "length": 1,
          "values": [],
          "vectorType": "sparse"
         },
         0.0,
         {
          "indices": [
           0
          ],
          "length": 2,
          "values": [
           1.0
          ],
          "vectorType": "sparse"
         },
         1.0,
         {
          "indices": [
           1
          ],
          "length": 2,
          "values": [
           1.0
          ],
          "vectorType": "sparse"
         },
         0.0,
         {
          "indices": [
           0
          ],
          "length": 4,
          "values": [
           1.0
          ],
          "vectorType": "sparse"
         },
         1.0,
         {
          "indices": [
           1
          ],
          "length": 2,
          "values": [
           1.0
          ],
          "vectorType": "sparse"
         },
         0.0,
         {
          "indices": [
           0
          ],
          "length": 3,
          "values": [
           1.0
          ],
          "vectorType": "sparse"
         },
         {
          "indices": [
           1,
           2,
           6,
           8,
           11,
           12,
           17,
           18
          ],
          "length": 21,
          "values": [
           1.0,
           1.0,
           1.0,
           1.0,
           1.0,
           1.0,
           1.0,
           1.0
          ],
          "vectorType": "sparse"
         }
        ],
        [
         22,
         "mid",
         "mid",
         "good",
         "mid",
         "unstable",
         "stable",
         "unstable",
         "15",
         "A",
         22,
         0.0,
         "Comfortable",
         0.0,
         {
          "indices": [
           0
          ],
          "length": 2,
          "values": [
           1.0
          ],
          "vectorType": "sparse"
         },
         0.0,
         {
          "indices": [
           0
          ],
          "length": 2,
          "values": [
           1.0
          ],
          "vectorType": "sparse"
         },
         0.0,
         {
          "indices": [
           0
          ],
          "length": 1,
          "values": [
           1.0
          ],
          "vectorType": "sparse"
         },
         0.0,
         {
          "indices": [
           0
          ],
          "length": 2,
          "values": [
           1.0
          ],
          "vectorType": "sparse"
         },
         1.0,
         {
          "indices": [],
          "length": 1,
          "values": [],
          "vectorType": "sparse"
         },
         0.0,
         {
          "indices": [
           0
          ],
          "length": 2,
          "values": [
           1.0
          ],
          "vectorType": "sparse"
         },
         1.0,
         {
          "indices": [
           1
          ],
          "length": 2,
          "values": [
           1.0
          ],
          "vectorType": "sparse"
         },
         1.0,
         {
          "indices": [
           1
          ],
          "length": 4,
          "values": [
           1.0
          ],
          "vectorType": "sparse"
         },
         0.0,
         {
          "indices": [
           0
          ],
          "length": 2,
          "values": [
           1.0
          ],
          "vectorType": "sparse"
         },
         1.0,
         {
          "indices": [
           1
          ],
          "length": 3,
          "values": [
           1.0
          ],
          "vectorType": "sparse"
         },
         {
          "indices": [
           0,
           2,
           4,
           5,
           8,
           11,
           13,
           16,
           19
          ],
          "length": 21,
          "values": [
           1.0,
           1.0,
           1.0,
           1.0,
           1.0,
           1.0,
           1.0,
           1.0,
           1.0
          ],
          "vectorType": "sparse"
         }
        ],
        [
         23,
         "mid",
         "mid",
         "good",
         "mid",
         "unstable",
         "stable",
         "stable",
         "10",
         "A",
         23,
         0.0,
         "Uncomfortable",
         0.0,
         {
          "indices": [
           0
          ],
          "length": 2,
          "values": [
           1.0
          ],
          "vectorType": "sparse"
         },
         0.0,
         {
          "indices": [
           0
          ],
          "length": 2,
          "values": [
           1.0
          ],
          "vectorType": "sparse"
         },
         0.0,
         {
          "indices": [
           0
          ],
          "length": 1,
          "values": [
           1.0
          ],
          "vectorType": "sparse"
         },
         0.0,
         {
          "indices": [
           0
          ],
          "length": 2,
          "values": [
           1.0
          ],
          "vectorType": "sparse"
         },
         1.0,
         {
          "indices": [],
          "length": 1,
          "values": [],
          "vectorType": "sparse"
         },
         0.0,
         {
          "indices": [
           0
          ],
          "length": 2,
          "values": [
           1.0
          ],
          "vectorType": "sparse"
         },
         0.0,
         {
          "indices": [
           0
          ],
          "length": 2,
          "values": [
           1.0
          ],
          "vectorType": "sparse"
         },
         0.0,
         {
          "indices": [
           0
          ],
          "length": 4,
          "values": [
           1.0
          ],
          "vectorType": "sparse"
         },
         0.0,
         {
          "indices": [
           0
          ],
          "length": 2,
          "values": [
           1.0
          ],
          "vectorType": "sparse"
         },
         0.0,
         {
          "indices": [
           0
          ],
          "length": 3,
          "values": [
           1.0
          ],
          "vectorType": "sparse"
         },
         {
          "indices": [
           0,
           2,
           4,
           5,
           8,
           10,
           12,
           16,
           18
          ],
          "length": 21,
          "values": [
           1.0,
           1.0,
           1.0,
           1.0,
           1.0,
           1.0,
           1.0,
           1.0,
           1.0
          ],
          "vectorType": "sparse"
         }
        ],
        [
         24,
         "high",
         "high",
         "good",
         "mid",
         "stable",
         "stable",
         "mod-stable",
         "10",
         "A",
         24,
         2.0,
         "Uncomfortable",
         2.0,
         {
          "indices": [],
          "length": 2,
          "values": [],
          "vectorType": "sparse"
         },
         2.0,
         {
          "indices": [],
          "length": 2,
          "values": [],
          "vectorType": "sparse"
         },
         0.0,
         {
          "indices": [
           0
          ],
          "length": 1,
          "values": [
           1.0
          ],
          "vectorType": "sparse"
         },
         0.0,
         {
          "indices": [
           0
          ],
          "length": 2,
          "values": [
           1.0
          ],
          "vectorType": "sparse"
         },
         0.0,
         {
          "indices": [
           0
          ],
          "length": 1,
          "values": [
           1.0
          ],
          "vectorType": "sparse"
         },
         0.0,
         {
          "indices": [
           0
          ],
          "length": 2,
          "values": [
           1.0
          ],
          "vectorType": "sparse"
         },
         2.0,
         {
          "indices": [],
          "length": 2,
          "values": [],
          "vectorType": "sparse"
         },
         0.0,
         {
          "indices": [
           0
          ],
          "length": 4,
          "values": [
           1.0
          ],
          "vectorType": "sparse"
         },
         0.0,
         {
          "indices": [
           0
          ],
          "length": 2,
          "values": [
           1.0
          ],
          "vectorType": "sparse"
         },
         0.0,
         {
          "indices": [
           0
          ],
          "length": 3,
          "values": [
           1.0
          ],
          "vectorType": "sparse"
         },
         {
          "indices": [
           4,
           5,
           7,
           8,
           12,
           16,
           18
          ],
          "length": 21,
          "values": [
           1.0,
           1.0,
           1.0,
           1.0,
           1.0,
           1.0,
           1.0
          ],
          "vectorType": "sparse"
         }
        ],
        [
         25,
         "low",
         "mid",
         "good",
         "mid",
         "unstable",
         "stable",
         "stable",
         "10",
         "A",
         25,
         1.0,
         "Uncomfortable",
         1.0,
         {
          "indices": [
           1
          ],
          "length": 2,
          "values": [
           1.0
          ],
          "vectorType": "sparse"
         },
         0.0,
         {
          "indices": [
           0
          ],
          "length": 2,
          "values": [
           1.0
          ],
          "vectorType": "sparse"
         },
         0.0,
         {
          "indices": [
           0
          ],
          "length": 1,
          "values": [
           1.0
          ],
          "vectorType": "sparse"
         },
         0.0,
         {
          "indices": [
           0
          ],
          "length": 2,
          "values": [
           1.0
          ],
          "vectorType": "sparse"
         },
         1.0,
         {
          "indices": [],
          "length": 1,
          "values": [],
          "vectorType": "sparse"
         },
         0.0,
         {
          "indices": [
           0
          ],
          "length": 2,
          "values": [
           1.0
          ],
          "vectorType": "sparse"
         },
         0.0,
         {
          "indices": [
           0
          ],
          "length": 2,
          "values": [
           1.0
          ],
          "vectorType": "sparse"
         },
         0.0,
         {
          "indices": [
           0
          ],
          "length": 4,
          "values": [
           1.0
          ],
          "vectorType": "sparse"
         },
         0.0,
         {
          "indices": [
           0
          ],
          "length": 2,
          "values": [
           1.0
          ],
          "vectorType": "sparse"
         },
         0.0,
         {
          "indices": [
           0
          ],
          "length": 3,
          "values": [
           1.0
          ],
          "vectorType": "sparse"
         },
         {
          "indices": [
           1,
           2,
           4,
           5,
           8,
           10,
           12,
           16,
           18
          ],
          "length": 21,
          "values": [
           1.0,
           1.0,
           1.0,
           1.0,
           1.0,
           1.0,
           1.0,
           1.0,
           1.0
          ],
          "vectorType": "sparse"
         }
        ],
        [
         26,
         "high",
         "mid",
         "good",
         "low",
         "stable",
         "stable",
         "mod-stable",
         "10",
         "A",
         26,
         2.0,
         "Uncomfortable",
         2.0,
         {
          "indices": [],
          "length": 2,
          "values": [],
          "vectorType": "sparse"
         },
         0.0,
         {
          "indices": [
           0
          ],
          "length": 2,
          "values": [
           1.0
          ],
          "vectorType": "sparse"
         },
         0.0,
         {
          "indices": [
           0
          ],
          "length": 1,
          "values": [
           1.0
          ],
          "vectorType": "sparse"
         },
         2.0,
         {
          "indices": [],
          "length": 2,
          "values": [],
          "vectorType": "sparse"
         },
         0.0,
         {
          "indices": [
           0
          ],
          "length": 1,
          "values": [
           1.0
          ],
          "vectorType": "sparse"
         },
         0.0,
         {
          "indices": [
           0
          ],
          "length": 2,
          "values": [
           1.0
          ],
          "vectorType": "sparse"
         },
         2.0,
         {
          "indices": [],
          "length": 2,
          "values": [],
          "vectorType": "sparse"
         },
         0.0,
         {
          "indices": [
           0
          ],
          "length": 4,
          "values": [
           1.0
          ],
          "vectorType": "sparse"
         },
         0.0,
         {
          "indices": [
           0
          ],
          "length": 2,
          "values": [
           1.0
          ],
          "vectorType": "sparse"
         },
         0.0,
         {
          "indices": [
           0
          ],
          "length": 3,
          "values": [
           1.0
          ],
          "vectorType": "sparse"
         },
         {
          "indices": [
           2,
           4,
           7,
           8,
           12,
           16,
           18
          ],
          "length": 21,
          "values": [
           1.0,
           1.0,
           1.0,
           1.0,
           1.0,
           1.0,
           1.0
          ],
          "vectorType": "sparse"
         }
        ],
        [
         27,
         "low",
         "mid",
         "excellent",
         "high",
         "stable",
         "stable",
         "mod-stable",
         "10",
         "A",
         27,
         1.0,
         "Uncomfortable",
         1.0,
         {
          "indices": [
           1
          ],
          "length": 2,
          "values": [
           1.0
          ],
          "vectorType": "sparse"
         },
         0.0,
         {
          "indices": [
           0
          ],
          "length": 2,
          "values": [
           1.0
          ],
          "vectorType": "sparse"
         },
         1.0,
         {
          "indices": [],
          "length": 1,
          "values": [],
          "vectorType": "sparse"
         },
         1.0,
         {
          "indices": [
           1
          ],
          "length": 2,
          "values": [
           1.0
          ],
          "vectorType": "sparse"
         },
         0.0,
         {
          "indices": [
           0
          ],
          "length": 1,
          "values": [
           1.0
          ],
          "vectorType": "sparse"
         },
         0.0,
         {
          "indices": [
           0
          ],
          "length": 2,
          "values": [
           1.0
          ],
          "vectorType": "sparse"
         },
         2.0,
         {
          "indices": [],
          "length": 2,
          "values": [],
          "vectorType": "sparse"
         },
         0.0,
         {
          "indices": [
           0
          ],
          "length": 4,
          "values": [
           1.0
          ],
          "vectorType": "sparse"
         },
         0.0,
         {
          "indices": [
           0
          ],
          "length": 2,
          "values": [
           1.0
          ],
          "vectorType": "sparse"
         },
         0.0,
         {
          "indices": [
           0
          ],
          "length": 3,
          "values": [
           1.0
          ],
          "vectorType": "sparse"
         },
         {
          "indices": [
           1,
           2,
           6,
           7,
           8,
           12,
           16,
           18
          ],
          "length": 21,
          "values": [
           1.0,
           1.0,
           1.0,
           1.0,
           1.0,
           1.0,
           1.0,
           1.0
          ],
          "vectorType": "sparse"
         }
        ],
        [
         28,
         "mid",
         "mid",
         "excellent",
         "mid",
         "stable",
         "stable",
         "unstable",
         "15",
         "A",
         28,
         0.0,
         "Comfortable",
         0.0,
         {
          "indices": [
           0
          ],
          "length": 2,
          "values": [
           1.0
          ],
          "vectorType": "sparse"
         },
         0.0,
         {
          "indices": [
           0
          ],
          "length": 2,
          "values": [
           1.0
          ],
          "vectorType": "sparse"
         },
         1.0,
         {
          "indices": [],
          "length": 1,
          "values": [],
          "vectorType": "sparse"
         },
         0.0,
         {
          "indices": [
           0
          ],
          "length": 2,
          "values": [
           1.0
          ],
          "vectorType": "sparse"
         },
         0.0,
         {
          "indices": [
           0
          ],
          "length": 1,
          "values": [
           1.0
          ],
          "vectorType": "sparse"
         },
         0.0,
         {
          "indices": [
           0
          ],
          "length": 2,
          "values": [
           1.0
          ],
          "vectorType": "sparse"
         },
         1.0,
         {
          "indices": [
           1
          ],
          "length": 2,
          "values": [
           1.0
          ],
          "vectorType": "sparse"
         },
         1.0,
         {
          "indices": [
           1
          ],
          "length": 4,
          "values": [
           1.0
          ],
          "vectorType": "sparse"
         },
         0.0,
         {
          "indices": [
           0
          ],
          "length": 2,
          "values": [
           1.0
          ],
          "vectorType": "sparse"
         },
         1.0,
         {
          "indices": [
           1
          ],
          "length": 3,
          "values": [
           1.0
          ],
          "vectorType": "sparse"
         },
         {
          "indices": [
           0,
           2,
           5,
           7,
           8,
           11,
           13,
           16,
           19
          ],
          "length": 21,
          "values": [
           1.0,
           1.0,
           1.0,
           1.0,
           1.0,
           1.0,
           1.0,
           1.0,
           1.0
          ],
          "vectorType": "sparse"
         }
        ],
        [
         29,
         "mid",
         "mid",
         "good",
         "mid",
         "unstable",
         "stable",
         "unstable",
         "10",
         "S",
         29,
         0.0,
         "Uncomfortable",
         0.0,
         {
          "indices": [
           0
          ],
          "length": 2,
          "values": [
           1.0
          ],
          "vectorType": "sparse"
         },
         0.0,
         {
          "indices": [
           0
          ],
          "length": 2,
          "values": [
           1.0
          ],
          "vectorType": "sparse"
         },
         0.0,
         {
          "indices": [
           0
          ],
          "length": 1,
          "values": [
           1.0
          ],
          "vectorType": "sparse"
         },
         0.0,
         {
          "indices": [
           0
          ],
          "length": 2,
          "values": [
           1.0
          ],
          "vectorType": "sparse"
         },
         1.0,
         {
          "indices": [],
          "length": 1,
          "values": [],
          "vectorType": "sparse"
         },
         0.0,
         {
          "indices": [
           0
          ],
          "length": 2,
          "values": [
           1.0
          ],
          "vectorType": "sparse"
         },
         1.0,
         {
          "indices": [
           1
          ],
          "length": 2,
          "values": [
           1.0
          ],
          "vectorType": "sparse"
         },
         0.0,
         {
          "indices": [
           0
          ],
          "length": 4,
          "values": [
           1.0
          ],
          "vectorType": "sparse"
         },
         1.0,
         {
          "indices": [
           1
          ],
          "length": 2,
          "values": [
           1.0
          ],
          "vectorType": "sparse"
         },
         0.0,
         {
          "indices": [
           0
          ],
          "length": 3,
          "values": [
           1.0
          ],
          "vectorType": "sparse"
         },
         {
          "indices": [
           0,
           2,
           4,
           5,
           8,
           11,
           12,
           17,
           18
          ],
          "length": 21,
          "values": [
           1.0,
           1.0,
           1.0,
           1.0,
           1.0,
           1.0,
           1.0,
           1.0,
           1.0
          ],
          "vectorType": "sparse"
         }
        ],
        [
         30,
         "mid",
         "mid",
         "good",
         "high",
         "unstable",
         "stable",
         "stable",
         "10",
         "A",
         30,
         0.0,
         "Uncomfortable",
         0.0,
         {
          "indices": [
           0
          ],
          "length": 2,
          "values": [
           1.0
          ],
          "vectorType": "sparse"
         },
         0.0,
         {
          "indices": [
           0
          ],
          "length": 2,
          "values": [
           1.0
          ],
          "vectorType": "sparse"
         },
         0.0,
         {
          "indices": [
           0
          ],
          "length": 1,
          "values": [
           1.0
          ],
          "vectorType": "sparse"
         },
         1.0,
         {
          "indices": [
           1
          ],
          "length": 2,
          "values": [
           1.0
          ],
          "vectorType": "sparse"
         },
         1.0,
         {
          "indices": [],
          "length": 1,
          "values": [],
          "vectorType": "sparse"
         },
         0.0,
         {
          "indices": [
           0
          ],
          "length": 2,
          "values": [
           1.0
          ],
          "vectorType": "sparse"
         },
         0.0,
         {
          "indices": [
           0
          ],
          "length": 2,
          "values": [
           1.0
          ],
          "vectorType": "sparse"
         },
         0.0,
         {
          "indices": [
           0
          ],
          "length": 4,
          "values": [
           1.0
          ],
          "vectorType": "sparse"
         },
         0.0,
         {
          "indices": [
           0
          ],
          "length": 2,
          "values": [
           1.0
          ],
          "vectorType": "sparse"
         },
         0.0,
         {
          "indices": [
           0
          ],
          "length": 3,
          "values": [
           1.0
          ],
          "vectorType": "sparse"
         },
         {
          "indices": [
           0,
           2,
           4,
           6,
           8,
           10,
           12,
           16,
           18
          ],
          "length": 21,
          "values": [
           1.0,
           1.0,
           1.0,
           1.0,
           1.0,
           1.0,
           1.0,
           1.0,
           1.0
          ],
          "vectorType": "sparse"
         }
        ],
        [
         31,
         "low",
         "low",
         "good",
         "mid",
         "unstable",
         "stable",
         "unstable",
         "10",
         "A",
         31,
         1.0,
         "Uncomfortable",
         1.0,
         {
          "indices": [
           1
          ],
          "length": 2,
          "values": [
           1.0
          ],
          "vectorType": "sparse"
         },
         1.0,
         {
          "indices": [
           1
          ],
          "length": 2,
          "values": [
           1.0
          ],
          "vectorType": "sparse"
         },
         0.0,
         {
          "indices": [
           0
          ],
          "length": 1,
          "values": [
           1.0
          ],
          "vectorType": "sparse"
         },
         0.0,
         {
          "indices": [
           0
          ],
          "length": 2,
          "values": [
           1.0
          ],
          "vectorType": "sparse"
         },
         1.0,
         {
          "indices": [],
          "length": 1,
          "values": [],
          "vectorType": "sparse"
         },
         0.0,
         {
          "indices": [
           0
          ],
          "length": 2,
          "values": [
           1.0
          ],
          "vectorType": "sparse"
         },
         1.0,
         {
          "indices": [
           1
          ],
          "length": 2,
          "values": [
           1.0
          ],
          "vectorType": "sparse"
         },
         0.0,
         {
          "indices": [
           0
          ],
          "length": 4,
          "values": [
           1.0
          ],
          "vectorType": "sparse"
         },
         0.0,
         {
          "indices": [
           0
          ],
          "length": 2,
          "values": [
           1.0
          ],
          "vectorType": "sparse"
         },
         0.0,
         {
          "indices": [
           0
          ],
          "length": 3,
          "values": [
           1.0
          ],
          "vectorType": "sparse"
         },
         {
          "indices": [
           1,
           3,
           4,
           5,
           8,
           11,
           12,
           16,
           18
          ],
          "length": 21,
          "values": [
           1.0,
           1.0,
           1.0,
           1.0,
           1.0,
           1.0,
           1.0,
           1.0,
           1.0
          ],
          "vectorType": "sparse"
         }
        ],
        [
         32,
         "mid",
         "mid",
         "excellent",
         "high",
         "unstable",
         "stable",
         "mod-stable",
         "10",
         "A",
         32,
         0.0,
         "Uncomfortable",
         0.0,
         {
          "indices": [
           0
          ],
          "length": 2,
          "values": [
           1.0
          ],
          "vectorType": "sparse"
         },
         0.0,
         {
          "indices": [
           0
          ],
          "length": 2,
          "values": [
           1.0
          ],
          "vectorType": "sparse"
         },
         1.0,
         {
          "indices": [],
          "length": 1,
          "values": [],
          "vectorType": "sparse"
         },
         1.0,
         {
          "indices": [
           1
          ],
          "length": 2,
          "values": [
           1.0
          ],
          "vectorType": "sparse"
         },
         1.0,
         {
          "indices": [],
          "length": 1,
          "values": [],
          "vectorType": "sparse"
         },
         0.0,
         {
          "indices": [
           0
          ],
          "length": 2,
          "values": [
           1.0
          ],
          "vectorType": "sparse"
         },
         2.0,
         {
          "indices": [],
          "length": 2,
          "values": [],
          "vectorType": "sparse"
         },
         0.0,
         {
          "indices": [
           0
          ],
          "length": 4,
          "values": [
           1.0
          ],
          "vectorType": "sparse"
         },
         0.0,
         {
          "indices": [
           0
          ],
          "length": 2,
          "values": [
           1.0
          ],
          "vectorType": "sparse"
         },
         0.0,
         {
          "indices": [
           0
          ],
          "length": 3,
          "values": [
           1.0
          ],
          "vectorType": "sparse"
         },
         {
          "indices": [
           0,
           2,
           6,
           8,
           12,
           16,
           18
          ],
          "length": 21,
          "values": [
           1.0,
           1.0,
           1.0,
           1.0,
           1.0,
           1.0,
           1.0
          ],
          "vectorType": "sparse"
         }
        ],
        [
         33,
         "mid",
         "low",
         "good",
         "mid",
         "stable",
         "stable",
         "stable",
         "10",
         "A",
         33,
         0.0,
         "Uncomfortable",
         0.0,
         {
          "indices": [
           0
          ],
          "length": 2,
          "values": [
           1.0
          ],
          "vectorType": "sparse"
         },
         1.0,
         {
          "indices": [
           1
          ],
          "length": 2,
          "values": [
           1.0
          ],
          "vectorType": "sparse"
         },
         0.0,
         {
          "indices": [
           0
          ],
          "length": 1,
          "values": [
           1.0
          ],
          "vectorType": "sparse"
         },
         0.0,
         {
          "indices": [
           0
          ],
          "length": 2,
          "values": [
           1.0
          ],
          "vectorType": "sparse"
         },
         0.0,
         {
          "indices": [
           0
          ],
          "length": 1,
          "values": [
           1.0
          ],
          "vectorType": "sparse"
         },
         0.0,
         {
          "indices": [
           0
          ],
          "length": 2,
          "values": [
           1.0
          ],
          "vectorType": "sparse"
         },
         0.0,
         {
          "indices": [
           0
          ],
          "length": 2,
          "values": [
           1.0
          ],
          "vectorType": "sparse"
         },
         0.0,
         {
          "indices": [
           0
          ],
          "length": 4,
          "values": [
           1.0
          ],
          "vectorType": "sparse"
         },
         0.0,
         {
          "indices": [
           0
          ],
          "length": 2,
          "values": [
           1.0
          ],
          "vectorType": "sparse"
         },
         0.0,
         {
          "indices": [
           0
          ],
          "length": 3,
          "values": [
           1.0
          ],
          "vectorType": "sparse"
         },
         {
          "indices": [
           0,
           3,
           4,
           5,
           7,
           8,
           10,
           12,
           16,
           18
          ],
          "length": 21,
          "values": [
           1.0,
           1.0,
           1.0,
           1.0,
           1.0,
           1.0,
           1.0,
           1.0,
           1.0,
           1.0
          ],
          "vectorType": "sparse"
         }
        ],
        [
         34,
         "low",
         "mid",
         "excellent",
         "high",
         "stable",
         "stable",
         "mod-stable",
         "10",
         "A",
         34,
         1.0,
         "Uncomfortable",
         1.0,
         {
          "indices": [
           1
          ],
          "length": 2,
          "values": [
           1.0
          ],
          "vectorType": "sparse"
         },
         0.0,
         {
          "indices": [
           0
          ],
          "length": 2,
          "values": [
           1.0
          ],
          "vectorType": "sparse"
         },
         1.0,
         {
          "indices": [],
          "length": 1,
          "values": [],
          "vectorType": "sparse"
         },
         1.0,
         {
          "indices": [
           1
          ],
          "length": 2,
          "values": [
           1.0
          ],
          "vectorType": "sparse"
         },
         0.0,
         {
          "indices": [
           0
          ],
          "length": 1,
          "values": [
           1.0
          ],
          "vectorType": "sparse"
         },
         0.0,
         {
          "indices": [
           0
          ],
          "length": 2,
          "values": [
           1.0
          ],
          "vectorType": "sparse"
         },
         2.0,
         {
          "indices": [],
          "length": 2,
          "values": [],
          "vectorType": "sparse"
         },
         0.0,
         {
          "indices": [
           0
          ],
          "length": 4,
          "values": [
           1.0
          ],
          "vectorType": "sparse"
         },
         0.0,
         {
          "indices": [
           0
          ],
          "length": 2,
          "values": [
           1.0
          ],
          "vectorType": "sparse"
         },
         0.0,
         {
          "indices": [
           0
          ],
          "length": 3,
          "values": [
           1.0
          ],
          "vectorType": "sparse"
         },
         {
          "indices": [
           1,
           2,
           6,
           7,
           8,
           12,
           16,
           18
          ],
          "length": 21,
          "values": [
           1.0,
           1.0,
           1.0,
           1.0,
           1.0,
           1.0,
           1.0,
           1.0
          ],
          "vectorType": "sparse"
         }
        ],
        [
         35,
         "mid",
         "mid",
         "good",
         "mid",
         "stable",
         "stable",
         "stable",
         "10",
         "A",
         35,
         0.0,
         "Uncomfortable",
         0.0,
         {
          "indices": [
           0
          ],
          "length": 2,
          "values": [
           1.0
          ],
          "vectorType": "sparse"
         },
         0.0,
         {
          "indices": [
           0
          ],
          "length": 2,
          "values": [
           1.0
          ],
          "vectorType": "sparse"
         },
         0.0,
         {
          "indices": [
           0
          ],
          "length": 1,
          "values": [
           1.0
          ],
          "vectorType": "sparse"
         },
         0.0,
         {
          "indices": [
           0
          ],
          "length": 2,
          "values": [
           1.0
          ],
          "vectorType": "sparse"
         },
         0.0,
         {
          "indices": [
           0
          ],
          "length": 1,
          "values": [
           1.0
          ],
          "vectorType": "sparse"
         },
         0.0,
         {
          "indices": [
           0
          ],
          "length": 2,
          "values": [
           1.0
          ],
          "vectorType": "sparse"
         },
         0.0,
         {
          "indices": [
           0
          ],
          "length": 2,
          "values": [
           1.0
          ],
          "vectorType": "sparse"
         },
         0.0,
         {
          "indices": [
           0
          ],
          "length": 4,
          "values": [
           1.0
          ],
          "vectorType": "sparse"
         },
         0.0,
         {
          "indices": [
           0
          ],
          "length": 2,
          "values": [
           1.0
          ],
          "vectorType": "sparse"
         },
         0.0,
         {
          "indices": [
           0
          ],
          "length": 3,
          "values": [
           1.0
          ],
          "vectorType": "sparse"
         },
         {
          "indices": [
           0,
           2,
           4,
           5,
           7,
           8,
           10,
           12,
           16,
           18
          ],
          "length": 21,
          "values": [
           1.0,
           1.0,
           1.0,
           1.0,
           1.0,
           1.0,
           1.0,
           1.0,
           1.0,
           1.0
          ],
          "vectorType": "sparse"
         }
        ],
        [
         36,
         "low",
         "mid",
         "excellent",
         "mid",
         "stable",
         "stable",
         "stable",
         "10",
         "S",
         36,
         1.0,
         "Uncomfortable",
         1.0,
         {
          "indices": [
           1
          ],
          "length": 2,
          "values": [
           1.0
          ],
          "vectorType": "sparse"
         },
         0.0,
         {
          "indices": [
           0
          ],
          "length": 2,
          "values": [
           1.0
          ],
          "vectorType": "sparse"
         },
         1.0,
         {
          "indices": [],
          "length": 1,
          "values": [],
          "vectorType": "sparse"
         },
         0.0,
         {
          "indices": [
           0
          ],
          "length": 2,
          "values": [
           1.0
          ],
          "vectorType": "sparse"
         },
         0.0,
         {
          "indices": [
           0
          ],
          "length": 1,
          "values": [
           1.0
          ],
          "vectorType": "sparse"
         },
         0.0,
         {
          "indices": [
           0
          ],
          "length": 2,
          "values": [
           1.0
          ],
          "vectorType": "sparse"
         },
         0.0,
         {
          "indices": [
           0
          ],
          "length": 2,
          "values": [
           1.0
          ],
          "vectorType": "sparse"
         },
         0.0,
         {
          "indices": [
           0
          ],
          "length": 4,
          "values": [
           1.0
          ],
          "vectorType": "sparse"
         },
         1.0,
         {
          "indices": [
           1
          ],
          "length": 2,
          "values": [
           1.0
          ],
          "vectorType": "sparse"
         },
         0.0,
         {
          "indices": [
           0
          ],
          "length": 3,
          "values": [
           1.0
          ],
          "vectorType": "sparse"
         },
         {
          "indices": [
           1,
           2,
           5,
           7,
           8,
           10,
           12,
           17,
           18
          ],
          "length": 21,
          "values": [
           1.0,
           1.0,
           1.0,
           1.0,
           1.0,
           1.0,
           1.0,
           1.0,
           1.0
          ],
          "vectorType": "sparse"
         }
        ],
        [
         37,
         "low",
         "low",
         "good",
         "mid",
         "unstable",
         "stable",
         "unstable",
         "10",
         "S",
         37,
         1.0,
         "Uncomfortable",
         1.0,
         {
          "indices": [
           1
          ],
          "length": 2,
          "values": [
           1.0
          ],
          "vectorType": "sparse"
         },
         1.0,
         {
          "indices": [
           1
          ],
          "length": 2,
          "values": [
           1.0
          ],
          "vectorType": "sparse"
         },
         0.0,
         {
          "indices": [
           0
          ],
          "length": 1,
          "values": [
           1.0
          ],
          "vectorType": "sparse"
         },
         0.0,
         {
          "indices": [
           0
          ],
          "length": 2,
          "values": [
           1.0
          ],
          "vectorType": "sparse"
         },
         1.0,
         {
          "indices": [],
          "length": 1,
          "values": [],
          "vectorType": "sparse"
         },
         0.0,
         {
          "indices": [
           0
          ],
          "length": 2,
          "values": [
           1.0
          ],
          "vectorType": "sparse"
         },
         1.0,
         {
          "indices": [
           1
          ],
          "length": 2,
          "values": [
           1.0
          ],
          "vectorType": "sparse"
         },
         0.0,
         {
          "indices": [
           0
          ],
          "length": 4,
          "values": [
           1.0
          ],
          "vectorType": "sparse"
         },
         1.0,
         {
          "indices": [
           1
          ],
          "length": 2,
          "values": [
           1.0
          ],
          "vectorType": "sparse"
         },
         0.0,
         {
          "indices": [
           0
          ],
          "length": 3,
          "values": [
           1.0
          ],
          "vectorType": "sparse"
         },
         {
          "indices": [
           1,
           3,
           4,
           5,
           8,
           11,
           12,
           17,
           18
          ],
          "length": 21,
          "values": [
           1.0,
           1.0,
           1.0,
           1.0,
           1.0,
           1.0,
           1.0,
           1.0,
           1.0
          ],
          "vectorType": "sparse"
         }
        ],
        [
         38,
         "low",
         "low",
         "good",
         "mid",
         "stable",
         "stable",
         "stable",
         "07",
         "S",
         38,
         1.0,
         "Uncomfortable",
         1.0,
         {
          "indices": [
           1
          ],
          "length": 2,
          "values": [
           1.0
          ],
          "vectorType": "sparse"
         },
         1.0,
         {
          "indices": [
           1
          ],
          "length": 2,
          "values": [
           1.0
          ],
          "vectorType": "sparse"
         },
         0.0,
         {
          "indices": [
           0
          ],
          "length": 1,
          "values": [
           1.0
          ],
          "vectorType": "sparse"
         },
         0.0,
         {
          "indices": [
           0
          ],
          "length": 2,
          "values": [
           1.0
          ],
          "vectorType": "sparse"
         },
         0.0,
         {
          "indices": [
           0
          ],
          "length": 1,
          "values": [
           1.0
          ],
          "vectorType": "sparse"
         },
         0.0,
         {
          "indices": [
           0
          ],
          "length": 2,
          "values": [
           1.0
          ],
          "vectorType": "sparse"
         },
         0.0,
         {
          "indices": [
           0
          ],
          "length": 2,
          "values": [
           1.0
          ],
          "vectorType": "sparse"
         },
         4.0,
         {
          "indices": [],
          "length": 4,
          "values": [],
          "vectorType": "sparse"
         },
         1.0,
         {
          "indices": [
           1
          ],
          "length": 2,
          "values": [
           1.0
          ],
          "vectorType": "sparse"
         },
         0.0,
         {
          "indices": [
           0
          ],
          "length": 3,
          "values": [
           1.0
          ],
          "vectorType": "sparse"
         },
         {
          "indices": [
           1,
           3,
           4,
           5,
           7,
           8,
           10,
           17,
           18
          ],
          "length": 21,
          "values": [
           1.0,
           1.0,
           1.0,
           1.0,
           1.0,
           1.0,
           1.0,
           1.0,
           1.0
          ],
          "vectorType": "sparse"
         }
        ],
        [
         39,
         "mid",
         "mid",
         "good",
         "high",
         "unstable",
         "stable",
         "mod-stable",
         "10",
         "A",
         39,
         0.0,
         "Uncomfortable",
         0.0,
         {
          "indices": [
           0
          ],
          "length": 2,
          "values": [
           1.0
          ],
          "vectorType": "sparse"
         },
         0.0,
         {
          "indices": [
           0
          ],
          "length": 2,
          "values": [
           1.0
          ],
          "vectorType": "sparse"
         },
         0.0,
         {
          "indices": [
           0
          ],
          "length": 1,
          "values": [
           1.0
          ],
          "vectorType": "sparse"
         },
         1.0,
         {
          "indices": [
           1
          ],
          "length": 2,
          "values": [
           1.0
          ],
          "vectorType": "sparse"
         },
         1.0,
         {
          "indices": [],
          "length": 1,
          "values": [],
          "vectorType": "sparse"
         },
         0.0,
         {
          "indices": [
           0
          ],
          "length": 2,
          "values": [
           1.0
          ],
          "vectorType": "sparse"
         },
         2.0,
         {
          "indices": [],
          "length": 2,
          "values": [],
          "vectorType": "sparse"
         },
         0.0,
         {
          "indices": [
           0
          ],
          "length": 4,
          "values": [
           1.0
          ],
          "vectorType": "sparse"
         },
         0.0,
         {
          "indices": [
           0
          ],
          "length": 2,
          "values": [
           1.0
          ],
          "vectorType": "sparse"
         },
         0.0,
         {
          "indices": [
           0
          ],
          "length": 3,
          "values": [
           1.0
          ],
          "vectorType": "sparse"
         },
         {
          "indices": [
           0,
           2,
           4,
           6,
           8,
           12,
           16,
           18
          ],
          "length": 21,
          "values": [
           1.0,
           1.0,
           1.0,
           1.0,
           1.0,
           1.0,
           1.0,
           1.0
          ],
          "vectorType": "sparse"
         }
        ],
        [
         40,
         "low",
         "low",
         "good",
         "mid",
         "unstable",
         "stable",
         "stable",
         "10",
         "A",
         40,
         1.0,
         "Uncomfortable",
         1.0,
         {
          "indices": [
           1
          ],
          "length": 2,
          "values": [
           1.0
          ],
          "vectorType": "sparse"
         },
         1.0,
         {
          "indices": [
           1
          ],
          "length": 2,
          "values": [
           1.0
          ],
          "vectorType": "sparse"
         },
         0.0,
         {
          "indices": [
           0
          ],
          "length": 1,
          "values": [
           1.0
          ],
          "vectorType": "sparse"
         },
         0.0,
         {
          "indices": [
           0
          ],
          "length": 2,
          "values": [
           1.0
          ],
          "vectorType": "sparse"
         },
         1.0,
         {
          "indices": [],
          "length": 1,
          "values": [],
          "vectorType": "sparse"
         },
         0.0,
         {
          "indices": [
           0
          ],
          "length": 2,
          "values": [
           1.0
          ],
          "vectorType": "sparse"
         },
         0.0,
         {
          "indices": [
           0
          ],
          "length": 2,
          "values": [
           1.0
          ],
          "vectorType": "sparse"
         },
         0.0,
         {
          "indices": [
           0
          ],
          "length": 4,
          "values": [
           1.0
          ],
          "vectorType": "sparse"
         },
         0.0,
         {
          "indices": [
           0
          ],
          "length": 2,
          "values": [
           1.0
          ],
          "vectorType": "sparse"
         },
         0.0,
         {
          "indices": [
           0
          ],
          "length": 3,
          "values": [
           1.0
          ],
          "vectorType": "sparse"
         },
         {
          "indices": [
           1,
           3,
           4,
           5,
           8,
           10,
           12,
           16,
           18
          ],
          "length": 21,
          "values": [
           1.0,
           1.0,
           1.0,
           1.0,
           1.0,
           1.0,
           1.0,
           1.0,
           1.0
          ],
          "vectorType": "sparse"
         }
        ],
        [
         41,
         "low",
         "mid",
         "good",
         "mid",
         "stable",
         "stable",
         "stable",
         "15",
         "S",
         41,
         1.0,
         "Comfortable",
         1.0,
         {
          "indices": [
           1
          ],
          "length": 2,
          "values": [
           1.0
          ],
          "vectorType": "sparse"
         },
         0.0,
         {
          "indices": [
           0
          ],
          "length": 2,
          "values": [
           1.0
          ],
          "vectorType": "sparse"
         },
         0.0,
         {
          "indices": [
           0
          ],
          "length": 1,
          "values": [
           1.0
          ],
          "vectorType": "sparse"
         },
         0.0,
         {
          "indices": [
           0
          ],
          "length": 2,
          "values": [
           1.0
          ],
          "vectorType": "sparse"
         },
         0.0,
         {
          "indices": [
           0
          ],
          "length": 1,
          "values": [
           1.0
          ],
          "vectorType": "sparse"
         },
         0.0,
         {
          "indices": [
           0
          ],
          "length": 2,
          "values": [
           1.0
          ],
          "vectorType": "sparse"
         },
         0.0,
         {
          "indices": [
           0
          ],
          "length": 2,
          "values": [
           1.0
          ],
          "vectorType": "sparse"
         },
         1.0,
         {
          "indices": [
           1
          ],
          "length": 4,
          "values": [
           1.0
          ],
          "vectorType": "sparse"
         },
         1.0,
         {
          "indices": [
           1
          ],
          "length": 2,
          "values": [
           1.0
          ],
          "vectorType": "sparse"
         },
         1.0,
         {
          "indices": [
           1
          ],
          "length": 3,
          "values": [
           1.0
          ],
          "vectorType": "sparse"
         },
         {
          "indices": [
           1,
           2,
           4,
           5,
           7,
           8,
           10,
           13,
           17,
           19
          ],
          "length": 21,
          "values": [
           1.0,
           1.0,
           1.0,
           1.0,
           1.0,
           1.0,
           1.0,
           1.0,
           1.0,
           1.0
          ],
          "vectorType": "sparse"
         }
        ],
        [
         42,
         "high",
         "high",
         "good",
         "high",
         "unstable",
         "stable",
         "stable",
         "15",
         "S",
         42,
         2.0,
         "Comfortable",
         2.0,
         {
          "indices": [],
          "length": 2,
          "values": [],
          "vectorType": "sparse"
         },
         2.0,
         {
          "indices": [],
          "length": 2,
          "values": [],
          "vectorType": "sparse"
         },
         0.0,
         {
          "indices": [
           0
          ],
          "length": 1,
          "values": [
           1.0
          ],
          "vectorType": "sparse"
         },
         1.0,
         {
          "indices": [
           1
          ],
          "length": 2,
          "values": [
           1.0
          ],
          "vectorType": "sparse"
         },
         1.0,
         {
          "indices": [],
          "length": 1,
          "values": [],
          "vectorType": "sparse"
         },
         0.0,
         {
          "indices": [
           0
          ],
          "length": 2,
          "values": [
           1.0
          ],
          "vectorType": "sparse"
         },
         0.0,
         {
          "indices": [
           0
          ],
          "length": 2,
          "values": [
           1.0
          ],
          "vectorType": "sparse"
         },
         1.0,
         {
          "indices": [
           1
          ],
          "length": 4,
          "values": [
           1.0
          ],
          "vectorType": "sparse"
         },
         1.0,
         {
          "indices": [
           1
          ],
          "length": 2,
          "values": [
           1.0
          ],
          "vectorType": "sparse"
         },
         1.0,
         {
          "indices": [
           1
          ],
          "length": 3,
          "values": [
           1.0
          ],
          "vectorType": "sparse"
         },
         {
          "indices": [
           4,
           6,
           8,
           10,
           13,
           17,
           19
          ],
          "length": 21,
          "values": [
           1.0,
           1.0,
           1.0,
           1.0,
           1.0,
           1.0,
           1.0
          ],
          "vectorType": "sparse"
         }
        ],
        [
         43,
         "mid",
         "mid",
         "good",
         "mid",
         "stable",
         "stable",
         "stable",
         "10",
         "S",
         43,
         0.0,
         "Uncomfortable",
         0.0,
         {
          "indices": [
           0
          ],
          "length": 2,
          "values": [
           1.0
          ],
          "vectorType": "sparse"
         },
         0.0,
         {
          "indices": [
           0
          ],
          "length": 2,
          "values": [
           1.0
          ],
          "vectorType": "sparse"
         },
         0.0,
         {
          "indices": [
           0
          ],
          "length": 1,
          "values": [
           1.0
          ],
          "vectorType": "sparse"
         },
         0.0,
         {
          "indices": [
           0
          ],
          "length": 2,
          "values": [
           1.0
          ],
          "vectorType": "sparse"
         },
         0.0,
         {
          "indices": [
           0
          ],
          "length": 1,
          "values": [
           1.0
          ],
          "vectorType": "sparse"
         },
         0.0,
         {
          "indices": [
           0
          ],
          "length": 2,
          "values": [
           1.0
          ],
          "vectorType": "sparse"
         },
         0.0,
         {
          "indices": [
           0
          ],
          "length": 2,
          "values": [
           1.0
          ],
          "vectorType": "sparse"
         },
         0.0,
         {
          "indices": [
           0
          ],
          "length": 4,
          "values": [
           1.0
          ],
          "vectorType": "sparse"
         },
         1.0,
         {
          "indices": [
           1
          ],
          "length": 2,
          "values": [
           1.0
          ],
          "vectorType": "sparse"
         },
         0.0,
         {
          "indices": [
           0
          ],
          "length": 3,
          "values": [
           1.0
          ],
          "vectorType": "sparse"
         },
         {
          "indices": [
           0,
           2,
           4,
           5,
           7,
           8,
           10,
           12,
           17,
           18
          ],
          "length": 21,
          "values": [
           1.0,
           1.0,
           1.0,
           1.0,
           1.0,
           1.0,
           1.0,
           1.0,
           1.0,
           1.0
          ],
          "vectorType": "sparse"
         }
        ],
        [
         44,
         "low",
         "low",
         "excellent",
         "mid",
         "stable",
         "stable",
         "stable",
         "10",
         "A",
         44,
         1.0,
         "Uncomfortable",
         1.0,
         {
          "indices": [
           1
          ],
          "length": 2,
          "values": [
           1.0
          ],
          "vectorType": "sparse"
         },
         1.0,
         {
          "indices": [
           1
          ],
          "length": 2,
          "values": [
           1.0
          ],
          "vectorType": "sparse"
         },
         1.0,
         {
          "indices": [],
          "length": 1,
          "values": [],
          "vectorType": "sparse"
         },
         0.0,
         {
          "indices": [
           0
          ],
          "length": 2,
          "values": [
           1.0
          ],
          "vectorType": "sparse"
         },
         0.0,
         {
          "indices": [
           0
          ],
          "length": 1,
          "values": [
           1.0
          ],
          "vectorType": "sparse"
         },
         0.0,
         {
          "indices": [
           0
          ],
          "length": 2,
          "values": [
           1.0
          ],
          "vectorType": "sparse"
         },
         0.0,
         {
          "indices": [
           0
          ],
          "length": 2,
          "values": [
           1.0
          ],
          "vectorType": "sparse"
         },
         0.0,
         {
          "indices": [
           0
          ],
          "length": 4,
          "values": [
           1.0
          ],
          "vectorType": "sparse"
         },
         0.0,
         {
          "indices": [
           0
          ],
          "length": 2,
          "values": [
           1.0
          ],
          "vectorType": "sparse"
         },
         0.0,
         {
          "indices": [
           0
          ],
          "length": 3,
          "values": [
           1.0
          ],
          "vectorType": "sparse"
         },
         {
          "indices": [
           1,
           3,
           5,
           7,
           8,
           10,
           12,
           16,
           18
          ],
          "length": 21,
          "values": [
           1.0,
           1.0,
           1.0,
           1.0,
           1.0,
           1.0,
           1.0,
           1.0,
           1.0
          ],
          "vectorType": "sparse"
         }
        ],
        [
         45,
         "low",
         "mid",
         "good",
         "mid",
         "unstable",
         "stable",
         "stable",
         "10",
         "S",
         45,
         1.0,
         "Uncomfortable",
         1.0,
         {
          "indices": [
           1
          ],
          "length": 2,
          "values": [
           1.0
          ],
          "vectorType": "sparse"
         },
         0.0,
         {
          "indices": [
           0
          ],
          "length": 2,
          "values": [
           1.0
          ],
          "vectorType": "sparse"
         },
         0.0,
         {
          "indices": [
           0
          ],
          "length": 1,
          "values": [
           1.0
          ],
          "vectorType": "sparse"
         },
         0.0,
         {
          "indices": [
           0
          ],
          "length": 2,
          "values": [
           1.0
          ],
          "vectorType": "sparse"
         },
         1.0,
         {
          "indices": [],
          "length": 1,
          "values": [],
          "vectorType": "sparse"
         },
         0.0,
         {
          "indices": [
           0
          ],
          "length": 2,
          "values": [
           1.0
          ],
          "vectorType": "sparse"
         },
         0.0,
         {
          "indices": [
           0
          ],
          "length": 2,
          "values": [
           1.0
          ],
          "vectorType": "sparse"
         },
         0.0,
         {
          "indices": [
           0
          ],
          "length": 4,
          "values": [
           1.0
          ],
          "vectorType": "sparse"
         },
         1.0,
         {
          "indices": [
           1
          ],
          "length": 2,
          "values": [
           1.0
          ],
          "vectorType": "sparse"
         },
         0.0,
         {
          "indices": [
           0
          ],
          "length": 3,
          "values": [
           1.0
          ],
          "vectorType": "sparse"
         },
         {
          "indices": [
           1,
           2,
           4,
           5,
           8,
           10,
           12,
           17,
           18
          ],
          "length": 21,
          "values": [
           1.0,
           1.0,
           1.0,
           1.0,
           1.0,
           1.0,
           1.0,
           1.0,
           1.0
          ],
          "vectorType": "sparse"
         }
        ],
        [
         46,
         "low",
         "mid",
         "good",
         "high",
         "unstable",
         "stable",
         "stable",
         "?",
         "I",
         46,
         1.0,
         "Unknown",
         1.0,
         {
          "indices": [
           1
          ],
          "length": 2,
          "values": [
           1.0
          ],
          "vectorType": "sparse"
         },
         0.0,
         {
          "indices": [
           0
          ],
          "length": 2,
          "values": [
           1.0
          ],
          "vectorType": "sparse"
         },
         0.0,
         {
          "indices": [
           0
          ],
          "length": 1,
          "values": [
           1.0
          ],
          "vectorType": "sparse"
         },
         1.0,
         {
          "indices": [
           1
          ],
          "length": 2,
          "values": [
           1.0
          ],
          "vectorType": "sparse"
         },
         1.0,
         {
          "indices": [],
          "length": 1,
          "values": [],
          "vectorType": "sparse"
         },
         0.0,
         {
          "indices": [
           0
          ],
          "length": 2,
          "values": [
           1.0
          ],
          "vectorType": "sparse"
         },
         0.0,
         {
          "indices": [
           0
          ],
          "length": 2,
          "values": [
           1.0
          ],
          "vectorType": "sparse"
         },
         2.0,
         {
          "indices": [
           2
          ],
          "length": 4,
          "values": [
           1.0
          ],
          "vectorType": "sparse"
         },
         2.0,
         {
          "indices": [],
          "length": 2,
          "values": [],
          "vectorType": "sparse"
         },
         2.0,
         {
          "indices": [
           2
          ],
          "length": 3,
          "values": [
           1.0
          ],
          "vectorType": "sparse"
         },
         {
          "indices": [
           1,
           2,
           4,
           6,
           8,
           10,
           14,
           20
          ],
          "length": 21,
          "values": [
           1.0,
           1.0,
           1.0,
           1.0,
           1.0,
           1.0,
           1.0,
           1.0
          ],
          "vectorType": "sparse"
         }
        ],
        [
         47,
         "mid",
         "mid",
         "excellent",
         "mid",
         "unstable",
         "stable",
         "stable",
         "10",
         "A",
         47,
         0.0,
         "Uncomfortable",
         0.0,
         {
          "indices": [
           0
          ],
          "length": 2,
          "values": [
           1.0
          ],
          "vectorType": "sparse"
         },
         0.0,
         {
          "indices": [
           0
          ],
          "length": 2,
          "values": [
           1.0
          ],
          "vectorType": "sparse"
         },
         1.0,
         {
          "indices": [],
          "length": 1,
          "values": [],
          "vectorType": "sparse"
         },
         0.0,
         {
          "indices": [
           0
          ],
          "length": 2,
          "values": [
           1.0
          ],
          "vectorType": "sparse"
         },
         1.0,
         {
          "indices": [],
          "length": 1,
          "values": [],
          "vectorType": "sparse"
         },
         0.0,
         {
          "indices": [
           0
          ],
          "length": 2,
          "values": [
           1.0
          ],
          "vectorType": "sparse"
         },
         0.0,
         {
          "indices": [
           0
          ],
          "length": 2,
          "values": [
           1.0
          ],
          "vectorType": "sparse"
         },
         0.0,
         {
          "indices": [
           0
          ],
          "length": 4,
          "values": [
           1.0
          ],
          "vectorType": "sparse"
         },
         0.0,
         {
          "indices": [
           0
          ],
          "length": 2,
          "values": [
           1.0
          ],
          "vectorType": "sparse"
         },
         0.0,
         {
          "indices": [
           0
          ],
          "length": 3,
          "values": [
           1.0
          ],
          "vectorType": "sparse"
         },
         {
          "indices": [
           0,
           2,
           5,
           8,
           10,
           12,
           16,
           18
          ],
          "length": 21,
          "values": [
           1.0,
           1.0,
           1.0,
           1.0,
           1.0,
           1.0,
           1.0,
           1.0
          ],
          "vectorType": "sparse"
         }
        ],
        [
         48,
         "high",
         "high",
         "excellent",
         "high",
         "stable",
         "stable",
         "unstable",
         "?",
         "A",
         48,
         2.0,
         "Unknown",
         2.0,
         {
          "indices": [],
          "length": 2,
          "values": [],
          "vectorType": "sparse"
         },
         2.0,
         {
          "indices": [],
          "length": 2,
          "values": [],
          "vectorType": "sparse"
         },
         1.0,
         {
          "indices": [],
          "length": 1,
          "values": [],
          "vectorType": "sparse"
         },
         1.0,
         {
          "indices": [
           1
          ],
          "length": 2,
          "values": [
           1.0
          ],
          "vectorType": "sparse"
         },
         0.0,
         {
          "indices": [
           0
          ],
          "length": 1,
          "values": [
           1.0
          ],
          "vectorType": "sparse"
         },
         0.0,
         {
          "indices": [
           0
          ],
          "length": 2,
          "values": [
           1.0
          ],
          "vectorType": "sparse"
         },
         1.0,
         {
          "indices": [
           1
          ],
          "length": 2,
          "values": [
           1.0
          ],
          "vectorType": "sparse"
         },
         2.0,
         {
          "indices": [
           2
          ],
          "length": 4,
          "values": [
           1.0
          ],
          "vectorType": "sparse"
         },
         0.0,
         {
          "indices": [
           0
          ],
          "length": 2,
          "values": [
           1.0
          ],
          "vectorType": "sparse"
         },
         2.0,
         {
          "indices": [
           2
          ],
          "length": 3,
          "values": [
           1.0
          ],
          "vectorType": "sparse"
         },
         {
          "indices": [
           6,
           7,
           8,
           11,
           14,
           16,
           20
          ],
          "length": 21,
          "values": [
           1.0,
           1.0,
           1.0,
           1.0,
           1.0,
           1.0,
           1.0
          ],
          "vectorType": "sparse"
         }
        ],
        [
         49,
         "mid",
         "high",
         "good",
         "low",
         "unstable",
         "stable",
         "stable",
         "10",
         "A",
         49,
         0.0,
         "Uncomfortable",
         0.0,
         {
          "indices": [
           0
          ],
          "length": 2,
          "values": [
           1.0
          ],
          "vectorType": "sparse"
         },
         2.0,
         {
          "indices": [],
          "length": 2,
          "values": [],
          "vectorType": "sparse"
         },
         0.0,
         {
          "indices": [
           0
          ],
          "length": 1,
          "values": [
           1.0
          ],
          "vectorType": "sparse"
         },
         2.0,
         {
          "indices": [],
          "length": 2,
          "values": [],
          "vectorType": "sparse"
         },
         1.0,
         {
          "indices": [],
          "length": 1,
          "values": [],
          "vectorType": "sparse"
         },
         0.0,
         {
          "indices": [
           0
          ],
          "length": 2,
          "values": [
           1.0
          ],
          "vectorType": "sparse"
         },
         0.0,
         {
          "indices": [
           0
          ],
          "length": 2,
          "values": [
           1.0
          ],
          "vectorType": "sparse"
         },
         0.0,
         {
          "indices": [
           0
          ],
          "length": 4,
          "values": [
           1.0
          ],
          "vectorType": "sparse"
         },
         0.0,
         {
          "indices": [
           0
          ],
          "length": 2,
          "values": [
           1.0
          ],
          "vectorType": "sparse"
         },
         0.0,
         {
          "indices": [
           0
          ],
          "length": 3,
          "values": [
           1.0
          ],
          "vectorType": "sparse"
         },
         {
          "indices": [
           0,
           4,
           8,
           10,
           12,
           16,
           18
          ],
          "length": 21,
          "values": [
           1.0,
           1.0,
           1.0,
           1.0,
           1.0,
           1.0,
           1.0
          ],
          "vectorType": "sparse"
         }
        ],
        [
         50,
         "mid",
         "high",
         "good",
         "mid",
         "unstable",
         "mod-stable",
         "mod-stable",
         "10",
         "A",
         50,
         0.0,
         "Uncomfortable",
         0.0,
         {
          "indices": [
           0
          ],
          "length": 2,
          "values": [
           1.0
          ],
          "vectorType": "sparse"
         },
         2.0,
         {
          "indices": [],
          "length": 2,
          "values": [],
          "vectorType": "sparse"
         },
         0.0,
         {
          "indices": [
           0
          ],
          "length": 1,
          "values": [
           1.0
          ],
          "vectorType": "sparse"
         },
         0.0,
         {
          "indices": [
           0
          ],
          "length": 2,
          "values": [
           1.0
          ],
          "vectorType": "sparse"
         },
         1.0,
         {
          "indices": [],
          "length": 1,
          "values": [],
          "vectorType": "sparse"
         },
         2.0,
         {
          "indices": [],
          "length": 2,
          "values": [],
          "vectorType": "sparse"
         },
         2.0,
         {
          "indices": [],
          "length": 2,
          "values": [],
          "vectorType": "sparse"
         },
         0.0,
         {
          "indices": [
           0
          ],
          "length": 4,
          "values": [
           1.0
          ],
          "vectorType": "sparse"
         },
         0.0,
         {
          "indices": [
           0
          ],
          "length": 2,
          "values": [
           1.0
          ],
          "vectorType": "sparse"
         },
         0.0,
         {
          "indices": [
           0
          ],
          "length": 3,
          "values": [
           1.0
          ],
          "vectorType": "sparse"
         },
         {
          "indices": [
           0,
           4,
           5,
           12,
           16,
           18
          ],
          "length": 21,
          "values": [
           1.0,
           1.0,
           1.0,
           1.0,
           1.0,
           1.0
          ],
          "vectorType": "sparse"
         }
        ],
        [
         51,
         "low",
         "high",
         "excellent",
         "mid",
         "unstable",
         "stable",
         "stable",
         "10",
         "A",
         51,
         1.0,
         "Uncomfortable",
         1.0,
         {
          "indices": [
           1
          ],
          "length": 2,
          "values": [
           1.0
          ],
          "vectorType": "sparse"
         },
         2.0,
         {
          "indices": [],
          "length": 2,
          "values": [],
          "vectorType": "sparse"
         },
         1.0,
         {
          "indices": [],
          "length": 1,
          "values": [],
          "vectorType": "sparse"
         },
         0.0,
         {
          "indices": [
           0
          ],
          "length": 2,
          "values": [
           1.0
          ],
          "vectorType": "sparse"
         },
         1.0,
         {
          "indices": [],
          "length": 1,
          "values": [],
          "vectorType": "sparse"
         },
         0.0,
         {
          "indices": [
           0
          ],
          "length": 2,
          "values": [
           1.0
          ],
          "vectorType": "sparse"
         },
         0.0,
         {
          "indices": [
           0
          ],
          "length": 2,
          "values": [
           1.0
          ],
          "vectorType": "sparse"
         },
         0.0,
         {
          "indices": [
           0
          ],
          "length": 4,
          "values": [
           1.0
          ],
          "vectorType": "sparse"
         },
         0.0,
         {
          "indices": [
           0
          ],
          "length": 2,
          "values": [
           1.0
          ],
          "vectorType": "sparse"
         },
         0.0,
         {
          "indices": [
           0
          ],
          "length": 3,
          "values": [
           1.0
          ],
          "vectorType": "sparse"
         },
         {
          "indices": [
           1,
           5,
           8,
           10,
           12,
           16,
           18
          ],
          "length": 21,
          "values": [
           1.0,
           1.0,
           1.0,
           1.0,
           1.0,
           1.0,
           1.0
          ],
          "vectorType": "sparse"
         }
        ],
        [
         52,
         "mid",
         "low",
         "excellent",
         "high",
         "unstable",
         "stable",
         "unstable",
         "10",
         "A",
         52,
         0.0,
         "Uncomfortable",
         0.0,
         {
          "indices": [
           0
          ],
          "length": 2,
          "values": [
           1.0
          ],
          "vectorType": "sparse"
         },
         1.0,
         {
          "indices": [
           1
          ],
          "length": 2,
          "values": [
           1.0
          ],
          "vectorType": "sparse"
         },
         1.0,
         {
          "indices": [],
          "length": 1,
          "values": [],
          "vectorType": "sparse"
         },
         1.0,
         {
          "indices": [
           1
          ],
          "length": 2,
          "values": [
           1.0
          ],
          "vectorType": "sparse"
         },
         1.0,
         {
          "indices": [],
          "length": 1,
          "values": [],
          "vectorType": "sparse"
         },
         0.0,
         {
          "indices": [
           0
          ],
          "length": 2,
          "values": [
           1.0
          ],
          "vectorType": "sparse"
         },
         1.0,
         {
          "indices": [
           1
          ],
          "length": 2,
          "values": [
           1.0
          ],
          "vectorType": "sparse"
         },
         0.0,
         {
          "indices": [
           0
          ],
          "length": 4,
          "values": [
           1.0
          ],
          "vectorType": "sparse"
         },
         0.0,
         {
          "indices": [
           0
          ],
          "length": 2,
          "values": [
           1.0
          ],
          "vectorType": "sparse"
         },
         0.0,
         {
          "indices": [
           0
          ],
          "length": 3,
          "values": [
           1.0
          ],
          "vectorType": "sparse"
         },
         {
          "indices": [
           0,
           3,
           6,
           8,
           11,
           12,
           16,
           18
          ],
          "length": 21,
          "values": [
           1.0,
           1.0,
           1.0,
           1.0,
           1.0,
           1.0,
           1.0,
           1.0
          ],
          "vectorType": "sparse"
         }
        ],
        [
         53,
         "mid",
         "mid",
         "good",
         "mid",
         "unstable",
         "stable",
         "mod-stable",
         "10",
         "S",
         53,
         0.0,
         "Uncomfortable",
         0.0,
         {
          "indices": [
           0
          ],
          "length": 2,
          "values": [
           1.0
          ],
          "vectorType": "sparse"
         },
         0.0,
         {
          "indices": [
           0
          ],
          "length": 2,
          "values": [
           1.0
          ],
          "vectorType": "sparse"
         },
         0.0,
         {
          "indices": [
           0
          ],
          "length": 1,
          "values": [
           1.0
          ],
          "vectorType": "sparse"
         },
         0.0,
         {
          "indices": [
           0
          ],
          "length": 2,
          "values": [
           1.0
          ],
          "vectorType": "sparse"
         },
         1.0,
         {
          "indices": [],
          "length": 1,
          "values": [],
          "vectorType": "sparse"
         },
         0.0,
         {
          "indices": [
           0
          ],
          "length": 2,
          "values": [
           1.0
          ],
          "vectorType": "sparse"
         },
         2.0,
         {
          "indices": [],
          "length": 2,
          "values": [],
          "vectorType": "sparse"
         },
         0.0,
         {
          "indices": [
           0
          ],
          "length": 4,
          "values": [
           1.0
          ],
          "vectorType": "sparse"
         },
         1.0,
         {
          "indices": [
           1
          ],
          "length": 2,
          "values": [
           1.0
          ],
          "vectorType": "sparse"
         },
         0.0,
         {
          "indices": [
           0
          ],
          "length": 3,
          "values": [
           1.0
          ],
          "vectorType": "sparse"
         },
         {
          "indices": [
           0,
           2,
           4,
           5,
           8,
           12,
           17,
           18
          ],
          "length": 21,
          "values": [
           1.0,
           1.0,
           1.0,
           1.0,
           1.0,
           1.0,
           1.0,
           1.0
          ],
          "vectorType": "sparse"
         }
        ],
        [
         54,
         "high",
         "high",
         "excellent",
         "mid",
         "unstable",
         "stable",
         "mod-stable",
         "10",
         "A",
         54,
         2.0,
         "Uncomfortable",
         2.0,
         {
          "indices": [],
          "length": 2,
          "values": [],
          "vectorType": "sparse"
         },
         2.0,
         {
          "indices": [],
          "length": 2,
          "values": [],
          "vectorType": "sparse"
         },
         1.0,
         {
          "indices": [],
          "length": 1,
          "values": [],
          "vectorType": "sparse"
         },
         0.0,
         {
          "indices": [
           0
          ],
          "length": 2,
          "values": [
           1.0
          ],
          "vectorType": "sparse"
         },
         1.0,
         {
          "indices": [],
          "length": 1,
          "values": [],
          "vectorType": "sparse"
         },
         0.0,
         {
          "indices": [
           0
          ],
          "length": 2,
          "values": [
           1.0
          ],
          "vectorType": "sparse"
         },
         2.0,
         {
          "indices": [],
          "length": 2,
          "values": [],
          "vectorType": "sparse"
         },
         0.0,
         {
          "indices": [
           0
          ],
          "length": 4,
          "values": [
           1.0
          ],
          "vectorType": "sparse"
         },
         0.0,
         {
          "indices": [
           0
          ],
          "length": 2,
          "values": [
           1.0
          ],
          "vectorType": "sparse"
         },
         0.0,
         {
          "indices": [
           0
          ],
          "length": 3,
          "values": [
           1.0
          ],
          "vectorType": "sparse"
         },
         {
          "indices": [
           5,
           8,
           12,
           16,
           18
          ],
          "length": 21,
          "values": [
           1.0,
           1.0,
           1.0,
           1.0,
           1.0
          ],
          "vectorType": "sparse"
         }
        ],
        [
         55,
         "mid",
         "mid",
         "good",
         "mid",
         "unstable",
         "stable",
         "stable",
         "15",
         "A",
         55,
         0.0,
         "Comfortable",
         0.0,
         {
          "indices": [
           0
          ],
          "length": 2,
          "values": [
           1.0
          ],
          "vectorType": "sparse"
         },
         0.0,
         {
          "indices": [
           0
          ],
          "length": 2,
          "values": [
           1.0
          ],
          "vectorType": "sparse"
         },
         0.0,
         {
          "indices": [
           0
          ],
          "length": 1,
          "values": [
           1.0
          ],
          "vectorType": "sparse"
         },
         0.0,
         {
          "indices": [
           0
          ],
          "length": 2,
          "values": [
           1.0
          ],
          "vectorType": "sparse"
         },
         1.0,
         {
          "indices": [],
          "length": 1,
          "values": [],
          "vectorType": "sparse"
         },
         0.0,
         {
          "indices": [
           0
          ],
          "length": 2,
          "values": [
           1.0
          ],
          "vectorType": "sparse"
         },
         0.0,
         {
          "indices": [
           0
          ],
          "length": 2,
          "values": [
           1.0
          ],
          "vectorType": "sparse"
         },
         1.0,
         {
          "indices": [
           1
          ],
          "length": 4,
          "values": [
           1.0
          ],
          "vectorType": "sparse"
         },
         0.0,
         {
          "indices": [
           0
          ],
          "length": 2,
          "values": [
           1.0
          ],
          "vectorType": "sparse"
         },
         1.0,
         {
          "indices": [
           1
          ],
          "length": 3,
          "values": [
           1.0
          ],
          "vectorType": "sparse"
         },
         {
          "indices": [
           0,
           2,
           4,
           5,
           8,
           10,
           13,
           16,
           19
          ],
          "length": 21,
          "values": [
           1.0,
           1.0,
           1.0,
           1.0,
           1.0,
           1.0,
           1.0,
           1.0,
           1.0
          ],
          "vectorType": "sparse"
         }
        ],
        [
         56,
         "high",
         "mid",
         "good",
         "high",
         "stable",
         "stable",
         "unstable",
         "15",
         "A",
         56,
         2.0,
         "Comfortable",
         2.0,
         {
          "indices": [],
          "length": 2,
          "values": [],
          "vectorType": "sparse"
         },
         0.0,
         {
          "indices": [
           0
          ],
          "length": 2,
          "values": [
           1.0
          ],
          "vectorType": "sparse"
         },
         0.0,
         {
          "indices": [
           0
          ],
          "length": 1,
          "values": [
           1.0
          ],
          "vectorType": "sparse"
         },
         1.0,
         {
          "indices": [
           1
          ],
          "length": 2,
          "values": [
           1.0
          ],
          "vectorType": "sparse"
         },
         0.0,
         {
          "indices": [
           0
          ],
          "length": 1,
          "values": [
           1.0
          ],
          "vectorType": "sparse"
         },
         0.0,
         {
          "indices": [
           0
          ],
          "length": 2,
          "values": [
           1.0
          ],
          "vectorType": "sparse"
         },
         1.0,
         {
          "indices": [
           1
          ],
          "length": 2,
          "values": [
           1.0
          ],
          "vectorType": "sparse"
         },
         1.0,
         {
          "indices": [
           1
          ],
          "length": 4,
          "values": [
           1.0
          ],
          "vectorType": "sparse"
         },
         0.0,
         {
          "indices": [
           0
          ],
          "length": 2,
          "values": [
           1.0
          ],
          "vectorType": "sparse"
         },
         1.0,
         {
          "indices": [
           1
          ],
          "length": 3,
          "values": [
           1.0
          ],
          "vectorType": "sparse"
         },
         {
          "indices": [
           2,
           4,
           6,
           7,
           8,
           11,
           13,
           16,
           19
          ],
          "length": 21,
          "values": [
           1.0,
           1.0,
           1.0,
           1.0,
           1.0,
           1.0,
           1.0,
           1.0,
           1.0
          ],
          "vectorType": "sparse"
         }
        ],
        [
         57,
         "mid",
         "low",
         "good",
         "high",
         "unstable",
         "stable",
         "mod-stable",
         "10",
         "A",
         57,
         0.0,
         "Uncomfortable",
         0.0,
         {
          "indices": [
           0
          ],
          "length": 2,
          "values": [
           1.0
          ],
          "vectorType": "sparse"
         },
         1.0,
         {
          "indices": [
           1
          ],
          "length": 2,
          "values": [
           1.0
          ],
          "vectorType": "sparse"
         },
         0.0,
         {
          "indices": [
           0
          ],
          "length": 1,
          "values": [
           1.0
          ],
          "vectorType": "sparse"
         },
         1.0,
         {
          "indices": [
           1
          ],
          "length": 2,
          "values": [
           1.0
          ],
          "vectorType": "sparse"
         },
         1.0,
         {
          "indices": [],
          "length": 1,
          "values": [],
          "vectorType": "sparse"
         },
         0.0,
         {
          "indices": [
           0
          ],
          "length": 2,
          "values": [
           1.0
          ],
          "vectorType": "sparse"
         },
         2.0,
         {
          "indices": [],
          "length": 2,
          "values": [],
          "vectorType": "sparse"
         },
         0.0,
         {
          "indices": [
           0
          ],
          "length": 4,
          "values": [
           1.0
          ],
          "vectorType": "sparse"
         },
         0.0,
         {
          "indices": [
           0
          ],
          "length": 2,
          "values": [
           1.0
          ],
          "vectorType": "sparse"
         },
         0.0,
         {
          "indices": [
           0
          ],
          "length": 3,
          "values": [
           1.0
          ],
          "vectorType": "sparse"
         },
         {
          "indices": [
           0,
           3,
           4,
           6,
           8,
           12,
           16,
           18
          ],
          "length": 21,
          "values": [
           1.0,
           1.0,
           1.0,
           1.0,
           1.0,
           1.0,
           1.0,
           1.0
          ],
          "vectorType": "sparse"
         }
        ],
        [
         58,
         "low",
         "low",
         "good",
         "high",
         "stable",
         "stable",
         "stable",
         "10",
         "A",
         58,
         1.0,
         "Uncomfortable",
         1.0,
         {
          "indices": [
           1
          ],
          "length": 2,
          "values": [
           1.0
          ],
          "vectorType": "sparse"
         },
         1.0,
         {
          "indices": [
           1
          ],
          "length": 2,
          "values": [
           1.0
          ],
          "vectorType": "sparse"
         },
         0.0,
         {
          "indices": [
           0
          ],
          "length": 1,
          "values": [
           1.0
          ],
          "vectorType": "sparse"
         },
         1.0,
         {
          "indices": [
           1
          ],
          "length": 2,
          "values": [
           1.0
          ],
          "vectorType": "sparse"
         },
         0.0,
         {
          "indices": [
           0
          ],
          "length": 1,
          "values": [
           1.0
          ],
          "vectorType": "sparse"
         },
         0.0,
         {
          "indices": [
           0
          ],
          "length": 2,
          "values": [
           1.0
          ],
          "vectorType": "sparse"
         },
         0.0,
         {
          "indices": [
           0
          ],
          "length": 2,
          "values": [
           1.0
          ],
          "vectorType": "sparse"
         },
         0.0,
         {
          "indices": [
           0
          ],
          "length": 4,
          "values": [
           1.0
          ],
          "vectorType": "sparse"
         },
         0.0,
         {
          "indices": [
           0
          ],
          "length": 2,
          "values": [
           1.0
          ],
          "vectorType": "sparse"
         },
         0.0,
         {
          "indices": [
           0
          ],
          "length": 3,
          "values": [
           1.0
          ],
          "vectorType": "sparse"
         },
         {
          "indices": [
           1,
           3,
           4,
           6,
           7,
           8,
           10,
           12,
           16,
           18
          ],
          "length": 21,
          "values": [
           1.0,
           1.0,
           1.0,
           1.0,
           1.0,
           1.0,
           1.0,
           1.0,
           1.0,
           1.0
          ],
          "vectorType": "sparse"
         }
        ],
        [
         59,
         "mid",
         "high",
         "good",
         "mid",
         "stable",
         "stable",
         "mod-stable",
         "10",
         "A",
         59,
         0.0,
         "Uncomfortable",
         0.0,
         {
          "indices": [
           0
          ],
          "length": 2,
          "values": [
           1.0
          ],
          "vectorType": "sparse"
         },
         2.0,
         {
          "indices": [],
          "length": 2,
          "values": [],
          "vectorType": "sparse"
         },
         0.0,
         {
          "indices": [
           0
          ],
          "length": 1,
          "values": [
           1.0
          ],
          "vectorType": "sparse"
         },
         0.0,
         {
          "indices": [
           0
          ],
          "length": 2,
          "values": [
           1.0
          ],
          "vectorType": "sparse"
         },
         0.0,
         {
          "indices": [
           0
          ],
          "length": 1,
          "values": [
           1.0
          ],
          "vectorType": "sparse"
         },
         0.0,
         {
          "indices": [
           0
          ],
          "length": 2,
          "values": [
           1.0
          ],
          "vectorType": "sparse"
         },
         2.0,
         {
          "indices": [],
          "length": 2,
          "values": [],
          "vectorType": "sparse"
         },
         0.0,
         {
          "indices": [
           0
          ],
          "length": 4,
          "values": [
           1.0
          ],
          "vectorType": "sparse"
         },
         0.0,
         {
          "indices": [
           0
          ],
          "length": 2,
          "values": [
           1.0
          ],
          "vectorType": "sparse"
         },
         0.0,
         {
          "indices": [
           0
          ],
          "length": 3,
          "values": [
           1.0
          ],
          "vectorType": "sparse"
         },
         {
          "indices": [
           0,
           4,
           5,
           7,
           8,
           12,
           16,
           18
          ],
          "length": 21,
          "values": [
           1.0,
           1.0,
           1.0,
           1.0,
           1.0,
           1.0,
           1.0,
           1.0
          ],
          "vectorType": "sparse"
         }
        ],
        [
         60,
         "mid",
         "high",
         "good",
         "mid",
         "unstable",
         "stable",
         "unstable",
         "10",
         "A",
         60,
         0.0,
         "Uncomfortable",
         0.0,
         {
          "indices": [
           0
          ],
          "length": 2,
          "values": [
           1.0
          ],
          "vectorType": "sparse"
         },
         2.0,
         {
          "indices": [],
          "length": 2,
          "values": [],
          "vectorType": "sparse"
         },
         0.0,
         {
          "indices": [
           0
          ],
          "length": 1,
          "values": [
           1.0
          ],
          "vectorType": "sparse"
         },
         0.0,
         {
          "indices": [
           0
          ],
          "length": 2,
          "values": [
           1.0
          ],
          "vectorType": "sparse"
         },
         1.0,
         {
          "indices": [],
          "length": 1,
          "values": [],
          "vectorType": "sparse"
         },
         0.0,
         {
          "indices": [
           0
          ],
          "length": 2,
          "values": [
           1.0
          ],
          "vectorType": "sparse"
         },
         1.0,
         {
          "indices": [
           1
          ],
          "length": 2,
          "values": [
           1.0
          ],
          "vectorType": "sparse"
         },
         0.0,
         {
          "indices": [
           0
          ],
          "length": 4,
          "values": [
           1.0
          ],
          "vectorType": "sparse"
         },
         0.0,
         {
          "indices": [
           0
          ],
          "length": 2,
          "values": [
           1.0
          ],
          "vectorType": "sparse"
         },
         0.0,
         {
          "indices": [
           0
          ],
          "length": 3,
          "values": [
           1.0
          ],
          "vectorType": "sparse"
         },
         {
          "indices": [
           0,
           4,
           5,
           8,
           11,
           12,
           16,
           18
          ],
          "length": 21,
          "values": [
           1.0,
           1.0,
           1.0,
           1.0,
           1.0,
           1.0,
           1.0,
           1.0
          ],
          "vectorType": "sparse"
         }
        ],
        [
         61,
         "mid",
         "low",
         "excellent",
         "high",
         "stable",
         "stable",
         "stable",
         "10",
         "A",
         61,
         0.0,
         "Uncomfortable",
         0.0,
         {
          "indices": [
           0
          ],
          "length": 2,
          "values": [
           1.0
          ],
          "vectorType": "sparse"
         },
         1.0,
         {
          "indices": [
           1
          ],
          "length": 2,
          "values": [
           1.0
          ],
          "vectorType": "sparse"
         },
         1.0,
         {
          "indices": [],
          "length": 1,
          "values": [],
          "vectorType": "sparse"
         },
         1.0,
         {
          "indices": [
           1
          ],
          "length": 2,
          "values": [
           1.0
          ],
          "vectorType": "sparse"
         },
         0.0,
         {
          "indices": [
           0
          ],
          "length": 1,
          "values": [
           1.0
          ],
          "vectorType": "sparse"
         },
         0.0,
         {
          "indices": [
           0
          ],
          "length": 2,
          "values": [
           1.0
          ],
          "vectorType": "sparse"
         },
         0.0,
         {
          "indices": [
           0
          ],
          "length": 2,
          "values": [
           1.0
          ],
          "vectorType": "sparse"
         },
         0.0,
         {
          "indices": [
           0
          ],
          "length": 4,
          "values": [
           1.0
          ],
          "vectorType": "sparse"
         },
         0.0,
         {
          "indices": [
           0
          ],
          "length": 2,
          "values": [
           1.0
          ],
          "vectorType": "sparse"
         },
         0.0,
         {
          "indices": [
           0
          ],
          "length": 3,
          "values": [
           1.0
          ],
          "vectorType": "sparse"
         },
         {
          "indices": [
           0,
           3,
           6,
           7,
           8,
           10,
           12,
           16,
           18
          ],
          "length": 21,
          "values": [
           1.0,
           1.0,
           1.0,
           1.0,
           1.0,
           1.0,
           1.0,
           1.0,
           1.0
          ],
          "vectorType": "sparse"
         }
        ],
        [
         62,
         "mid",
         "mid",
         "good",
         "mid",
         "stable",
         "stable",
         "unstable",
         "10",
         "A",
         62,
         0.0,
         "Uncomfortable",
         0.0,
         {
          "indices": [
           0
          ],
          "length": 2,
          "values": [
           1.0
          ],
          "vectorType": "sparse"
         },
         0.0,
         {
          "indices": [
           0
          ],
          "length": 2,
          "values": [
           1.0
          ],
          "vectorType": "sparse"
         },
         0.0,
         {
          "indices": [
           0
          ],
          "length": 1,
          "values": [
           1.0
          ],
          "vectorType": "sparse"
         },
         0.0,
         {
          "indices": [
           0
          ],
          "length": 2,
          "values": [
           1.0
          ],
          "vectorType": "sparse"
         },
         0.0,
         {
          "indices": [
           0
          ],
          "length": 1,
          "values": [
           1.0
          ],
          "vectorType": "sparse"
         },
         0.0,
         {
          "indices": [
           0
          ],
          "length": 2,
          "values": [
           1.0
          ],
          "vectorType": "sparse"
         },
         1.0,
         {
          "indices": [
           1
          ],
          "length": 2,
          "values": [
           1.0
          ],
          "vectorType": "sparse"
         },
         0.0,
         {
          "indices": [
           0
          ],
          "length": 4,
          "values": [
           1.0
          ],
          "vectorType": "sparse"
         },
         0.0,
         {
          "indices": [
           0
          ],
          "length": 2,
          "values": [
           1.0
          ],
          "vectorType": "sparse"
         },
         0.0,
         {
          "indices": [
           0
          ],
          "length": 3,
          "values": [
           1.0
          ],
          "vectorType": "sparse"
         },
         {
          "indices": [
           0,
           2,
           4,
           5,
           7,
           8,
           11,
           12,
           16,
           18
          ],
          "length": 21,
          "values": [
           1.0,
           1.0,
           1.0,
           1.0,
           1.0,
           1.0,
           1.0,
           1.0,
           1.0,
           1.0
          ],
          "vectorType": "sparse"
         }
        ],
        [
         63,
         "mid",
         "low",
         "excellent",
         "mid",
         "stable",
         "stable",
         "unstable",
         "10",
         "S",
         63,
         0.0,
         "Uncomfortable",
         0.0,
         {
          "indices": [
           0
          ],
          "length": 2,
          "values": [
           1.0
          ],
          "vectorType": "sparse"
         },
         1.0,
         {
          "indices": [
           1
          ],
          "length": 2,
          "values": [
           1.0
          ],
          "vectorType": "sparse"
         },
         1.0,
         {
          "indices": [],
          "length": 1,
          "values": [],
          "vectorType": "sparse"
         },
         0.0,
         {
          "indices": [
           0
          ],
          "length": 2,
          "values": [
           1.0
          ],
          "vectorType": "sparse"
         },
         0.0,
         {
          "indices": [
           0
          ],
          "length": 1,
          "values": [
           1.0
          ],
          "vectorType": "sparse"
         },
         0.0,
         {
          "indices": [
           0
          ],
          "length": 2,
          "values": [
           1.0
          ],
          "vectorType": "sparse"
         },
         1.0,
         {
          "indices": [
           1
          ],
          "length": 2,
          "values": [
           1.0
          ],
          "vectorType": "sparse"
         },
         0.0,
         {
          "indices": [
           0
          ],
          "length": 4,
          "values": [
           1.0
          ],
          "vectorType": "sparse"
         },
         1.0,
         {
          "indices": [
           1
          ],
          "length": 2,
          "values": [
           1.0
          ],
          "vectorType": "sparse"
         },
         0.0,
         {
          "indices": [
           0
          ],
          "length": 3,
          "values": [
           1.0
          ],
          "vectorType": "sparse"
         },
         {
          "indices": [
           0,
           3,
           5,
           7,
           8,
           11,
           12,
           17,
           18
          ],
          "length": 21,
          "values": [
           1.0,
           1.0,
           1.0,
           1.0,
           1.0,
           1.0,
           1.0,
           1.0,
           1.0
          ],
          "vectorType": "sparse"
         }
        ],
        [
         64,
         "high",
         "mid",
         "excellent",
         "mid",
         "unstable",
         "unstable",
         "unstable",
         "10",
         "A",
         64,
         2.0,
         "Uncomfortable",
         2.0,
         {
          "indices": [],
          "length": 2,
          "values": [],
          "vectorType": "sparse"
         },
         0.0,
         {
          "indices": [
           0
          ],
          "length": 2,
          "values": [
           1.0
          ],
          "vectorType": "sparse"
         },
         1.0,
         {
          "indices": [],
          "length": 1,
          "values": [],
          "vectorType": "sparse"
         },
         0.0,
         {
          "indices": [
           0
          ],
          "length": 2,
          "values": [
           1.0
          ],
          "vectorType": "sparse"
         },
         1.0,
         {
          "indices": [],
          "length": 1,
          "values": [],
          "vectorType": "sparse"
         },
         1.0,
         {
          "indices": [
           1
          ],
          "length": 2,
          "values": [
           1.0
          ],
          "vectorType": "sparse"
         },
         1.0,
         {
          "indices": [
           1
          ],
          "length": 2,
          "values": [
           1.0
          ],
          "vectorType": "sparse"
         },
         0.0,
         {
          "indices": [
           0
          ],
          "length": 4,
          "values": [
           1.0
          ],
          "vectorType": "sparse"
         },
         0.0,
         {
          "indices": [
           0
          ],
          "length": 2,
          "values": [
           1.0
          ],
          "vectorType": "sparse"
         },
         0.0,
         {
          "indices": [
           0
          ],
          "length": 3,
          "values": [
           1.0
          ],
          "vectorType": "sparse"
         },
         {
          "indices": [
           2,
           5,
           9,
           11,
           12,
           16,
           18
          ],
          "length": 21,
          "values": [
           1.0,
           1.0,
           1.0,
           1.0,
           1.0,
           1.0,
           1.0
          ],
          "vectorType": "sparse"
         }
        ],
        [
         65,
         "mid",
         "mid",
         "good",
         "high",
         "stable",
         "stable",
         "stable",
         "10",
         "S",
         65,
         0.0,
         "Uncomfortable",
         0.0,
         {
          "indices": [
           0
          ],
          "length": 2,
          "values": [
           1.0
          ],
          "vectorType": "sparse"
         },
         0.0,
         {
          "indices": [
           0
          ],
          "length": 2,
          "values": [
           1.0
          ],
          "vectorType": "sparse"
         },
         0.0,
         {
          "indices": [
           0
          ],
          "length": 1,
          "values": [
           1.0
          ],
          "vectorType": "sparse"
         },
         1.0,
         {
          "indices": [
           1
          ],
          "length": 2,
          "values": [
           1.0
          ],
          "vectorType": "sparse"
         },
         0.0,
         {
          "indices": [
           0
          ],
          "length": 1,
          "values": [
           1.0
          ],
          "vectorType": "sparse"
         },
         0.0,
         {
          "indices": [
           0
          ],
          "length": 2,
          "values": [
           1.0
          ],
          "vectorType": "sparse"
         },
         0.0,
         {
          "indices": [
           0
          ],
          "length": 2,
          "values": [
           1.0
          ],
          "vectorType": "sparse"
         },
         0.0,
         {
          "indices": [
           0
          ],
          "length": 4,
          "values": [
           1.0
          ],
          "vectorType": "sparse"
         },
         1.0,
         {
          "indices": [
           1
          ],
          "length": 2,
          "values": [
           1.0
          ],
          "vectorType": "sparse"
         },
         0.0,
         {
          "indices": [
           0
          ],
          "length": 3,
          "values": [
           1.0
          ],
          "vectorType": "sparse"
         },
         {
          "indices": [
           0,
           2,
           4,
           6,
           7,
           8,
           10,
           12,
           17,
           18
          ],
          "length": 21,
          "values": [
           1.0,
           1.0,
           1.0,
           1.0,
           1.0,
           1.0,
           1.0,
           1.0,
           1.0,
           1.0
          ],
          "vectorType": "sparse"
         }
        ],
        [
         66,
         "mid",
         "low",
         "excellent",
         "mid",
         "unstable",
         "stable",
         "stable",
         "10",
         "A",
         66,
         0.0,
         "Uncomfortable",
         0.0,
         {
          "indices": [
           0
          ],
          "length": 2,
          "values": [
           1.0
          ],
          "vectorType": "sparse"
         },
         1.0,
         {
          "indices": [
           1
          ],
          "length": 2,
          "values": [
           1.0
          ],
          "vectorType": "sparse"
         },
         1.0,
         {
          "indices": [],
          "length": 1,
          "values": [],
          "vectorType": "sparse"
         },
         0.0,
         {
          "indices": [
           0
          ],
          "length": 2,
          "values": [
           1.0
          ],
          "vectorType": "sparse"
         },
         1.0,
         {
          "indices": [],
          "length": 1,
          "values": [],
          "vectorType": "sparse"
         },
         0.0,
         {
          "indices": [
           0
          ],
          "length": 2,
          "values": [
           1.0
          ],
          "vectorType": "sparse"
         },
         0.0,
         {
          "indices": [
           0
          ],
          "length": 2,
          "values": [
           1.0
          ],
          "vectorType": "sparse"
         },
         0.0,
         {
          "indices": [
           0
          ],
          "length": 4,
          "values": [
           1.0
          ],
          "vectorType": "sparse"
         },
         0.0,
         {
          "indices": [
           0
          ],
          "length": 2,
          "values": [
           1.0
          ],
          "vectorType": "sparse"
         },
         0.0,
         {
          "indices": [
           0
          ],
          "length": 3,
          "values": [
           1.0
          ],
          "vectorType": "sparse"
         },
         {
          "indices": [
           0,
           3,
           5,
           8,
           10,
           12,
           16,
           18
          ],
          "length": 21,
          "values": [
           1.0,
           1.0,
           1.0,
           1.0,
           1.0,
           1.0,
           1.0,
           1.0
          ],
          "vectorType": "sparse"
         }
        ],
        [
         67,
         "mid",
         "mid",
         "excellent",
         "mid",
         "unstable",
         "stable",
         "stable",
         "10",
         "A",
         67,
         0.0,
         "Uncomfortable",
         0.0,
         {
          "indices": [
           0
          ],
          "length": 2,
          "values": [
           1.0
          ],
          "vectorType": "sparse"
         },
         0.0,
         {
          "indices": [
           0
          ],
          "length": 2,
          "values": [
           1.0
          ],
          "vectorType": "sparse"
         },
         1.0,
         {
          "indices": [],
          "length": 1,
          "values": [],
          "vectorType": "sparse"
         },
         0.0,
         {
          "indices": [
           0
          ],
          "length": 2,
          "values": [
           1.0
          ],
          "vectorType": "sparse"
         },
         1.0,
         {
          "indices": [],
          "length": 1,
          "values": [],
          "vectorType": "sparse"
         },
         0.0,
         {
          "indices": [
           0
          ],
          "length": 2,
          "values": [
           1.0
          ],
          "vectorType": "sparse"
         },
         0.0,
         {
          "indices": [
           0
          ],
          "length": 2,
          "values": [
           1.0
          ],
          "vectorType": "sparse"
         },
         0.0,
         {
          "indices": [
           0
          ],
          "length": 4,
          "values": [
           1.0
          ],
          "vectorType": "sparse"
         },
         0.0,
         {
          "indices": [
           0
          ],
          "length": 2,
          "values": [
           1.0
          ],
          "vectorType": "sparse"
         },
         0.0,
         {
          "indices": [
           0
          ],
          "length": 3,
          "values": [
           1.0
          ],
          "vectorType": "sparse"
         },
         {
          "indices": [
           0,
           2,
           5,
           8,
           10,
           12,
           16,
           18
          ],
          "length": 21,
          "values": [
           1.0,
           1.0,
           1.0,
           1.0,
           1.0,
           1.0,
           1.0,
           1.0
          ],
          "vectorType": "sparse"
         }
        ],
        [
         68,
         "mid",
         "mid",
         "excellent",
         "high",
         "stable",
         "stable",
         "stable",
         "10",
         "A",
         68,
         0.0,
         "Uncomfortable",
         0.0,
         {
          "indices": [
           0
          ],
          "length": 2,
          "values": [
           1.0
          ],
          "vectorType": "sparse"
         },
         0.0,
         {
          "indices": [
           0
          ],
          "length": 2,
          "values": [
           1.0
          ],
          "vectorType": "sparse"
         },
         1.0,
         {
          "indices": [],
          "length": 1,
          "values": [],
          "vectorType": "sparse"
         },
         1.0,
         {
          "indices": [
           1
          ],
          "length": 2,
          "values": [
           1.0
          ],
          "vectorType": "sparse"
         },
         0.0,
         {
          "indices": [
           0
          ],
          "length": 1,
          "values": [
           1.0
          ],
          "vectorType": "sparse"
         },
         0.0,
         {
          "indices": [
           0
          ],
          "length": 2,
          "values": [
           1.0
          ],
          "vectorType": "sparse"
         },
         0.0,
         {
          "indices": [
           0
          ],
          "length": 2,
          "values": [
           1.0
          ],
          "vectorType": "sparse"
         },
         0.0,
         {
          "indices": [
           0
          ],
          "length": 4,
          "values": [
           1.0
          ],
          "vectorType": "sparse"
         },
         0.0,
         {
          "indices": [
           0
          ],
          "length": 2,
          "values": [
           1.0
          ],
          "vectorType": "sparse"
         },
         0.0,
         {
          "indices": [
           0
          ],
          "length": 3,
          "values": [
           1.0
          ],
          "vectorType": "sparse"
         },
         {
          "indices": [
           0,
           2,
           6,
           7,
           8,
           10,
           12,
           16,
           18
          ],
          "length": 21,
          "values": [
           1.0,
           1.0,
           1.0,
           1.0,
           1.0,
           1.0,
           1.0,
           1.0,
           1.0
          ],
          "vectorType": "sparse"
         }
        ],
        [
         69,
         "mid",
         "mid",
         "excellent",
         "low",
         "stable",
         "stable",
         "stable",
         "10",
         "A",
         69,
         0.0,
         "Uncomfortable",
         0.0,
         {
          "indices": [
           0
          ],
          "length": 2,
          "values": [
           1.0
          ],
          "vectorType": "sparse"
         },
         0.0,
         {
          "indices": [
           0
          ],
          "length": 2,
          "values": [
           1.0
          ],
          "vectorType": "sparse"
         },
         1.0,
         {
          "indices": [],
          "length": 1,
          "values": [],
          "vectorType": "sparse"
         },
         2.0,
         {
          "indices": [],
          "length": 2,
          "values": [],
          "vectorType": "sparse"
         },
         0.0,
         {
          "indices": [
           0
          ],
          "length": 1,
          "values": [
           1.0
          ],
          "vectorType": "sparse"
         },
         0.0,
         {
          "indices": [
           0
          ],
          "length": 2,
          "values": [
           1.0
          ],
          "vectorType": "sparse"
         },
         0.0,
         {
          "indices": [
           0
          ],
          "length": 2,
          "values": [
           1.0
          ],
          "vectorType": "sparse"
         },
         0.0,
         {
          "indices": [
           0
          ],
          "length": 4,
          "values": [
           1.0
          ],
          "vectorType": "sparse"
         },
         0.0,
         {
          "indices": [
           0
          ],
          "length": 2,
          "values": [
           1.0
          ],
          "vectorType": "sparse"
         },
         0.0,
         {
          "indices": [
           0
          ],
          "length": 3,
          "values": [
           1.0
          ],
          "vectorType": "sparse"
         },
         {
          "indices": [
           0,
           2,
           7,
           8,
           10,
           12,
           16,
           18
          ],
          "length": 21,
          "values": [
           1.0,
           1.0,
           1.0,
           1.0,
           1.0,
           1.0,
           1.0,
           1.0
          ],
          "vectorType": "sparse"
         }
        ],
        [
         70,
         "mid",
         "low",
         "excellent",
         "mid",
         "unstable",
         "unstable",
         "unstable",
         "?",
         "A",
         70,
         0.0,
         "Unknown",
         0.0,
         {
          "indices": [
           0
          ],
          "length": 2,
          "values": [
           1.0
          ],
          "vectorType": "sparse"
         },
         1.0,
         {
          "indices": [
           1
          ],
          "length": 2,
          "values": [
           1.0
          ],
          "vectorType": "sparse"
         },
         1.0,
         {
          "indices": [],
          "length": 1,
          "values": [],
          "vectorType": "sparse"
         },
         0.0,
         {
          "indices": [
           0
          ],
          "length": 2,
          "values": [
           1.0
          ],
          "vectorType": "sparse"
         },
         1.0,
         {
          "indices": [],
          "length": 1,
          "values": [],
          "vectorType": "sparse"
         },
         1.0,
         {
          "indices": [
           1
          ],
          "length": 2,
          "values": [
           1.0
          ],
          "vectorType": "sparse"
         },
         1.0,
         {
          "indices": [
           1
          ],
          "length": 2,
          "values": [
           1.0
          ],
          "vectorType": "sparse"
         },
         2.0,
         {
          "indices": [
           2
          ],
          "length": 4,
          "values": [
           1.0
          ],
          "vectorType": "sparse"
         },
         0.0,
         {
          "indices": [
           0
          ],
          "length": 2,
          "values": [
           1.0
          ],
          "vectorType": "sparse"
         },
         2.0,
         {
          "indices": [
           2
          ],
          "length": 3,
          "values": [
           1.0
          ],
          "vectorType": "sparse"
         },
         {
          "indices": [
           0,
           3,
           5,
           9,
           11,
           14,
           16,
           20
          ],
          "length": 21,
          "values": [
           1.0,
           1.0,
           1.0,
           1.0,
           1.0,
           1.0,
           1.0,
           1.0
          ],
          "vectorType": "sparse"
         }
        ],
        [
         71,
         "low",
         "low",
         "excellent",
         "mid",
         "stable",
         "stable",
         "stable",
         "10",
         "A",
         71,
         1.0,
         "Uncomfortable",
         1.0,
         {
          "indices": [
           1
          ],
          "length": 2,
          "values": [
           1.0
          ],
          "vectorType": "sparse"
         },
         1.0,
         {
          "indices": [
           1
          ],
          "length": 2,
          "values": [
           1.0
          ],
          "vectorType": "sparse"
         },
         1.0,
         {
          "indices": [],
          "length": 1,
          "values": [],
          "vectorType": "sparse"
         },
         0.0,
         {
          "indices": [
           0
          ],
          "length": 2,
          "values": [
           1.0
          ],
          "vectorType": "sparse"
         },
         0.0,
         {
          "indices": [
           0
          ],
          "length": 1,
          "values": [
           1.0
          ],
          "vectorType": "sparse"
         },
         0.0,
         {
          "indices": [
           0
          ],
          "length": 2,
          "values": [
           1.0
          ],
          "vectorType": "sparse"
         },
         0.0,
         {
          "indices": [
           0
          ],
          "length": 2,
          "values": [
           1.0
          ],
          "vectorType": "sparse"
         },
         0.0,
         {
          "indices": [
           0
          ],
          "length": 4,
          "values": [
           1.0
          ],
          "vectorType": "sparse"
         },
         0.0,
         {
          "indices": [
           0
          ],
          "length": 2,
          "values": [
           1.0
          ],
          "vectorType": "sparse"
         },
         0.0,
         {
          "indices": [
           0
          ],
          "length": 3,
          "values": [
           1.0
          ],
          "vectorType": "sparse"
         },
         {
          "indices": [
           1,
           3,
           5,
           7,
           8,
           10,
           12,
           16,
           18
          ],
          "length": 21,
          "values": [
           1.0,
           1.0,
           1.0,
           1.0,
           1.0,
           1.0,
           1.0,
           1.0,
           1.0
          ],
          "vectorType": "sparse"
         }
        ],
        [
         72,
         "mid",
         "mid",
         "excellent",
         "mid",
         "stable",
         "stable",
         "mod-stable",
         "10",
         "S",
         72,
         0.0,
         "Uncomfortable",
         0.0,
         {
          "indices": [
           0
          ],
          "length": 2,
          "values": [
           1.0
          ],
          "vectorType": "sparse"
         },
         0.0,
         {
          "indices": [
           0
          ],
          "length": 2,
          "values": [
           1.0
          ],
          "vectorType": "sparse"
         },
         1.0,
         {
          "indices": [],
          "length": 1,
          "values": [],
          "vectorType": "sparse"
         },
         0.0,
         {
          "indices": [
           0
          ],
          "length": 2,
          "values": [
           1.0
          ],
          "vectorType": "sparse"
         },
         0.0,
         {
          "indices": [
           0
          ],
          "length": 1,
          "values": [
           1.0
          ],
          "vectorType": "sparse"
         },
         0.0,
         {
          "indices": [
           0
          ],
          "length": 2,
          "values": [
           1.0
          ],
          "vectorType": "sparse"
         },
         2.0,
         {
          "indices": [],
          "length": 2,
          "values": [],
          "vectorType": "sparse"
         },
         0.0,
         {
          "indices": [
           0
          ],
          "length": 4,
          "values": [
           1.0
          ],
          "vectorType": "sparse"
         },
         1.0,
         {
          "indices": [
           1
          ],
          "length": 2,
          "values": [
           1.0
          ],
          "vectorType": "sparse"
         },
         0.0,
         {
          "indices": [
           0
          ],
          "length": 3,
          "values": [
           1.0
          ],
          "vectorType": "sparse"
         },
         {
          "indices": [
           0,
           2,
           5,
           7,
           8,
           12,
           17,
           18
          ],
          "length": 21,
          "values": [
           1.0,
           1.0,
           1.0,
           1.0,
           1.0,
           1.0,
           1.0,
           1.0
          ],
          "vectorType": "sparse"
         }
        ],
        [
         73,
         "mid",
         "mid",
         "excellent",
         "high",
         "stable",
         "stable",
         "stable",
         "10",
         "A",
         73,
         0.0,
         "Uncomfortable",
         0.0,
         {
          "indices": [
           0
          ],
          "length": 2,
          "values": [
           1.0
          ],
          "vectorType": "sparse"
         },
         0.0,
         {
          "indices": [
           0
          ],
          "length": 2,
          "values": [
           1.0
          ],
          "vectorType": "sparse"
         },
         1.0,
         {
          "indices": [],
          "length": 1,
          "values": [],
          "vectorType": "sparse"
         },
         1.0,
         {
          "indices": [
           1
          ],
          "length": 2,
          "values": [
           1.0
          ],
          "vectorType": "sparse"
         },
         0.0,
         {
          "indices": [
           0
          ],
          "length": 1,
          "values": [
           1.0
          ],
          "vectorType": "sparse"
         },
         0.0,
         {
          "indices": [
           0
          ],
          "length": 2,
          "values": [
           1.0
          ],
          "vectorType": "sparse"
         },
         0.0,
         {
          "indices": [
           0
          ],
          "length": 2,
          "values": [
           1.0
          ],
          "vectorType": "sparse"
         },
         0.0,
         {
          "indices": [
           0
          ],
          "length": 4,
          "values": [
           1.0
          ],
          "vectorType": "sparse"
         },
         0.0,
         {
          "indices": [
           0
          ],
          "length": 2,
          "values": [
           1.0
          ],
          "vectorType": "sparse"
         },
         0.0,
         {
          "indices": [
           0
          ],
          "length": 3,
          "values": [
           1.0
          ],
          "vectorType": "sparse"
         },
         {
          "indices": [
           0,
           2,
           6,
           7,
           8,
           10,
           12,
           16,
           18
          ],
          "length": 21,
          "values": [
           1.0,
           1.0,
           1.0,
           1.0,
           1.0,
           1.0,
           1.0,
           1.0,
           1.0
          ],
          "vectorType": "sparse"
         }
        ],
        [
         74,
         "mid",
         "low",
         "excellent",
         "high",
         "stable",
         "stable",
         "mod-stable",
         "10",
         "A",
         74,
         0.0,
         "Uncomfortable",
         0.0,
         {
          "indices": [
           0
          ],
          "length": 2,
          "values": [
           1.0
          ],
          "vectorType": "sparse"
         },
         1.0,
         {
          "indices": [
           1
          ],
          "length": 2,
          "values": [
           1.0
          ],
          "vectorType": "sparse"
         },
         1.0,
         {
          "indices": [],
          "length": 1,
          "values": [],
          "vectorType": "sparse"
         },
         1.0,
         {
          "indices": [
           1
          ],
          "length": 2,
          "values": [
           1.0
          ],
          "vectorType": "sparse"
         },
         0.0,
         {
          "indices": [
           0
          ],
          "length": 1,
          "values": [
           1.0
          ],
          "vectorType": "sparse"
         },
         0.0,
         {
          "indices": [
           0
          ],
          "length": 2,
          "values": [
           1.0
          ],
          "vectorType": "sparse"
         },
         2.0,
         {
          "indices": [],
          "length": 2,
          "values": [],
          "vectorType": "sparse"
         },
         0.0,
         {
          "indices": [
           0
          ],
          "length": 4,
          "values": [
           1.0
          ],
          "vectorType": "sparse"
         },
         0.0,
         {
          "indices": [
           0
          ],
          "length": 2,
          "values": [
           1.0
          ],
          "vectorType": "sparse"
         },
         0.0,
         {
          "indices": [
           0
          ],
          "length": 3,
          "values": [
           1.0
          ],
          "vectorType": "sparse"
         },
         {
          "indices": [
           0,
           3,
           6,
           7,
           8,
           12,
           16,
           18
          ],
          "length": 21,
          "values": [
           1.0,
           1.0,
           1.0,
           1.0,
           1.0,
           1.0,
           1.0,
           1.0
          ],
          "vectorType": "sparse"
         }
        ],
        [
         75,
         "low",
         "mid",
         "good",
         "mid",
         "stable",
         "stable",
         "unstable",
         "10",
         "A",
         75,
         1.0,
         "Uncomfortable",
         1.0,
         {
          "indices": [
           1
          ],
          "length": 2,
          "values": [
           1.0
          ],
          "vectorType": "sparse"
         },
         0.0,
         {
          "indices": [
           0
          ],
          "length": 2,
          "values": [
           1.0
          ],
          "vectorType": "sparse"
         },
         0.0,
         {
          "indices": [
           0
          ],
          "length": 1,
          "values": [
           1.0
          ],
          "vectorType": "sparse"
         },
         0.0,
         {
          "indices": [
           0
          ],
          "length": 2,
          "values": [
           1.0
          ],
          "vectorType": "sparse"
         },
         0.0,
         {
          "indices": [
           0
          ],
          "length": 1,
          "values": [
           1.0
          ],
          "vectorType": "sparse"
         },
         0.0,
         {
          "indices": [
           0
          ],
          "length": 2,
          "values": [
           1.0
          ],
          "vectorType": "sparse"
         },
         1.0,
         {
          "indices": [
           1
          ],
          "length": 2,
          "values": [
           1.0
          ],
          "vectorType": "sparse"
         },
         0.0,
         {
          "indices": [
           0
          ],
          "length": 4,
          "values": [
           1.0
          ],
          "vectorType": "sparse"
         },
         0.0,
         {
          "indices": [
           0
          ],
          "length": 2,
          "values": [
           1.0
          ],
          "vectorType": "sparse"
         },
         0.0,
         {
          "indices": [
           0
          ],
          "length": 3,
          "values": [
           1.0
          ],
          "vectorType": "sparse"
         },
         {
          "indices": [
           1,
           2,
           4,
           5,
           7,
           8,
           11,
           12,
           16,
           18
          ],
          "length": 21,
          "values": [
           1.0,
           1.0,
           1.0,
           1.0,
           1.0,
           1.0,
           1.0,
           1.0,
           1.0,
           1.0
          ],
          "vectorType": "sparse"
         }
        ],
        [
         76,
         "mid",
         "mid",
         "excellent",
         "mid",
         "stable",
         "stable",
         "mod-stable",
         "10",
         "A",
         76,
         0.0,
         "Uncomfortable",
         0.0,
         {
          "indices": [
           0
          ],
          "length": 2,
          "values": [
           1.0
          ],
          "vectorType": "sparse"
         },
         0.0,
         {
          "indices": [
           0
          ],
          "length": 2,
          "values": [
           1.0
          ],
          "vectorType": "sparse"
         },
         1.0,
         {
          "indices": [],
          "length": 1,
          "values": [],
          "vectorType": "sparse"
         },
         0.0,
         {
          "indices": [
           0
          ],
          "length": 2,
          "values": [
           1.0
          ],
          "vectorType": "sparse"
         },
         0.0,
         {
          "indices": [
           0
          ],
          "length": 1,
          "values": [
           1.0
          ],
          "vectorType": "sparse"
         },
         0.0,
         {
          "indices": [
           0
          ],
          "length": 2,
          "values": [
           1.0
          ],
          "vectorType": "sparse"
         },
         2.0,
         {
          "indices": [],
          "length": 2,
          "values": [],
          "vectorType": "sparse"
         },
         0.0,
         {
          "indices": [
           0
          ],
          "length": 4,
          "values": [
           1.0
          ],
          "vectorType": "sparse"
         },
         0.0,
         {
          "indices": [
           0
          ],
          "length": 2,
          "values": [
           1.0
          ],
          "vectorType": "sparse"
         },
         0.0,
         {
          "indices": [
           0
          ],
          "length": 3,
          "values": [
           1.0
          ],
          "vectorType": "sparse"
         },
         {
          "indices": [
           0,
           2,
           5,
           7,
           8,
           12,
           16,
           18
          ],
          "length": 21,
          "values": [
           1.0,
           1.0,
           1.0,
           1.0,
           1.0,
           1.0,
           1.0,
           1.0
          ],
          "vectorType": "sparse"
         }
        ],
        [
         77,
         "mid",
         "mid",
         "excellent",
         "mid",
         "stable",
         "stable",
         "unstable",
         "10",
         "A",
         77,
         0.0,
         "Uncomfortable",
         0.0,
         {
          "indices": [
           0
          ],
          "length": 2,
          "values": [
           1.0
          ],
          "vectorType": "sparse"
         },
         0.0,
         {
          "indices": [
           0
          ],
          "length": 2,
          "values": [
           1.0
          ],
          "vectorType": "sparse"
         },
         1.0,
         {
          "indices": [],
          "length": 1,
          "values": [],
          "vectorType": "sparse"
         },
         0.0,
         {
          "indices": [
           0
          ],
          "length": 2,
          "values": [
           1.0
          ],
          "vectorType": "sparse"
         },
         0.0,
         {
          "indices": [
           0
          ],
          "length": 1,
          "values": [
           1.0
          ],
          "vectorType": "sparse"
         },
         0.0,
         {
          "indices": [
           0
          ],
          "length": 2,
          "values": [
           1.0
          ],
          "vectorType": "sparse"
         },
         1.0,
         {
          "indices": [
           1
          ],
          "length": 2,
          "values": [
           1.0
          ],
          "vectorType": "sparse"
         },
         0.0,
         {
          "indices": [
           0
          ],
          "length": 4,
          "values": [
           1.0
          ],
          "vectorType": "sparse"
         },
         0.0,
         {
          "indices": [
           0
          ],
          "length": 2,
          "values": [
           1.0
          ],
          "vectorType": "sparse"
         },
         0.0,
         {
          "indices": [
           0
          ],
          "length": 3,
          "values": [
           1.0
          ],
          "vectorType": "sparse"
         },
         {
          "indices": [
           0,
           2,
           5,
           7,
           8,
           11,
           12,
           16,
           18
          ],
          "length": 21,
          "values": [
           1.0,
           1.0,
           1.0,
           1.0,
           1.0,
           1.0,
           1.0,
           1.0,
           1.0
          ],
          "vectorType": "sparse"
         }
        ],
        [
         78,
         "mid",
         "mid",
         "excellent",
         "mid",
         "unstable",
         "unstable",
         "stable",
         "10",
         "S",
         78,
         0.0,
         "Uncomfortable",
         0.0,
         {
          "indices": [
           0
          ],
          "length": 2,
          "values": [
           1.0
          ],
          "vectorType": "sparse"
         },
         0.0,
         {
          "indices": [
           0
          ],
          "length": 2,
          "values": [
           1.0
          ],
          "vectorType": "sparse"
         },
         1.0,
         {
          "indices": [],
          "length": 1,
          "values": [],
          "vectorType": "sparse"
         },
         0.0,
         {
          "indices": [
           0
          ],
          "length": 2,
          "values": [
           1.0
          ],
          "vectorType": "sparse"
         },
         1.0,
         {
          "indices": [],
          "length": 1,
          "values": [],
          "vectorType": "sparse"
         },
         1.0,
         {
          "indices": [
           1
          ],
          "length": 2,
          "values": [
           1.0
          ],
          "vectorType": "sparse"
         },
         0.0,
         {
          "indices": [
           0
          ],
          "length": 2,
          "values": [
           1.0
          ],
          "vectorType": "sparse"
         },
         0.0,
         {
          "indices": [
           0
          ],
          "length": 4,
          "values": [
           1.0
          ],
          "vectorType": "sparse"
         },
         1.0,
         {
          "indices": [
           1
          ],
          "length": 2,
          "values": [
           1.0
          ],
          "vectorType": "sparse"
         },
         0.0,
         {
          "indices": [
           0
          ],
          "length": 3,
          "values": [
           1.0
          ],
          "vectorType": "sparse"
         },
         {
          "indices": [
           0,
           2,
           5,
           9,
           10,
           12,
           17,
           18
          ],
          "length": 21,
          "values": [
           1.0,
           1.0,
           1.0,
           1.0,
           1.0,
           1.0,
           1.0,
           1.0
          ],
          "vectorType": "sparse"
         }
        ],
        [
         79,
         "mid",
         "mid",
         "good",
         "high",
         "stable",
         "stable",
         "stable",
         "10",
         "A",
         79,
         0.0,
         "Uncomfortable",
         0.0,
         {
          "indices": [
           0
          ],
          "length": 2,
          "values": [
           1.0
          ],
          "vectorType": "sparse"
         },
         0.0,
         {
          "indices": [
           0
          ],
          "length": 2,
          "values": [
           1.0
          ],
          "vectorType": "sparse"
         },
         0.0,
         {
          "indices": [
           0
          ],
          "length": 1,
          "values": [
           1.0
          ],
          "vectorType": "sparse"
         },
         1.0,
         {
          "indices": [
           1
          ],
          "length": 2,
          "values": [
           1.0
          ],
          "vectorType": "sparse"
         },
         0.0,
         {
          "indices": [
           0
          ],
          "length": 1,
          "values": [
           1.0
          ],
          "vectorType": "sparse"
         },
         0.0,
         {
          "indices": [
           0
          ],
          "length": 2,
          "values": [
           1.0
          ],
          "vectorType": "sparse"
         },
         0.0,
         {
          "indices": [
           0
          ],
          "length": 2,
          "values": [
           1.0
          ],
          "vectorType": "sparse"
         },
         0.0,
         {
          "indices": [
           0
          ],
          "length": 4,
          "values": [
           1.0
          ],
          "vectorType": "sparse"
         },
         0.0,
         {
          "indices": [
           0
          ],
          "length": 2,
          "values": [
           1.0
          ],
          "vectorType": "sparse"
         },
         0.0,
         {
          "indices": [
           0
          ],
          "length": 3,
          "values": [
           1.0
          ],
          "vectorType": "sparse"
         },
         {
          "indices": [
           0,
           2,
           4,
           6,
           7,
           8,
           10,
           12,
           16,
           18
          ],
          "length": 21,
          "values": [
           1.0,
           1.0,
           1.0,
           1.0,
           1.0,
           1.0,
           1.0,
           1.0,
           1.0,
           1.0
          ],
          "vectorType": "sparse"
         }
        ],
        [
         80,
         "mid",
         "mid",
         "excellent",
         "mid",
         "stable",
         "stable",
         "stable",
         "15",
         "A",
         80,
         0.0,
         "Comfortable",
         0.0,
         {
          "indices": [
           0
          ],
          "length": 2,
          "values": [
           1.0
          ],
          "vectorType": "sparse"
         },
         0.0,
         {
          "indices": [
           0
          ],
          "length": 2,
          "values": [
           1.0
          ],
          "vectorType": "sparse"
         },
         1.0,
         {
          "indices": [],
          "length": 1,
          "values": [],
          "vectorType": "sparse"
         },
         0.0,
         {
          "indices": [
           0
          ],
          "length": 2,
          "values": [
           1.0
          ],
          "vectorType": "sparse"
         },
         0.0,
         {
          "indices": [
           0
          ],
          "length": 1,
          "values": [
           1.0
          ],
          "vectorType": "sparse"
         },
         0.0,
         {
          "indices": [
           0
          ],
          "length": 2,
          "values": [
           1.0
          ],
          "vectorType": "sparse"
         },
         0.0,
         {
          "indices": [
           0
          ],
          "length": 2,
          "values": [
           1.0
          ],
          "vectorType": "sparse"
         },
         1.0,
         {
          "indices": [
           1
          ],
          "length": 4,
          "values": [
           1.0
          ],
          "vectorType": "sparse"
         },
         0.0,
         {
          "indices": [
           0
          ],
          "length": 2,
          "values": [
           1.0
          ],
          "vectorType": "sparse"
         },
         1.0,
         {
          "indices": [
           1
          ],
          "length": 3,
          "values": [
           1.0
          ],
          "vectorType": "sparse"
         },
         {
          "indices": [
           0,
           2,
           5,
           7,
           8,
           10,
           13,
           16,
           19
          ],
          "length": 21,
          "values": [
           1.0,
           1.0,
           1.0,
           1.0,
           1.0,
           1.0,
           1.0,
           1.0,
           1.0
          ],
          "vectorType": "sparse"
         }
        ],
        [
         81,
         "mid",
         "mid",
         "excellent",
         "mid",
         "stable",
         "stable",
         "stable",
         "10",
         "S",
         81,
         0.0,
         "Uncomfortable",
         0.0,
         {
          "indices": [
           0
          ],
          "length": 2,
          "values": [
           1.0
          ],
          "vectorType": "sparse"
         },
         0.0,
         {
          "indices": [
           0
          ],
          "length": 2,
          "values": [
           1.0
          ],
          "vectorType": "sparse"
         },
         1.0,
         {
          "indices": [],
          "length": 1,
          "values": [],
          "vectorType": "sparse"
         },
         0.0,
         {
          "indices": [
           0
          ],
          "length": 2,
          "values": [
           1.0
          ],
          "vectorType": "sparse"
         },
         0.0,
         {
          "indices": [
           0
          ],
          "length": 1,
          "values": [
           1.0
          ],
          "vectorType": "sparse"
         },
         0.0,
         {
          "indices": [
           0
          ],
          "length": 2,
          "values": [
           1.0
          ],
          "vectorType": "sparse"
         },
         0.0,
         {
          "indices": [
           0
          ],
          "length": 2,
          "values": [
           1.0
          ],
          "vectorType": "sparse"
         },
         0.0,
         {
          "indices": [
           0
          ],
          "length": 4,
          "values": [
           1.0
          ],
          "vectorType": "sparse"
         },
         1.0,
         {
          "indices": [
           1
          ],
          "length": 2,
          "values": [
           1.0
          ],
          "vectorType": "sparse"
         },
         0.0,
         {
          "indices": [
           0
          ],
          "length": 3,
          "values": [
           1.0
          ],
          "vectorType": "sparse"
         },
         {
          "indices": [
           0,
           2,
           5,
           7,
           8,
           10,
           12,
           17,
           18
          ],
          "length": 21,
          "values": [
           1.0,
           1.0,
           1.0,
           1.0,
           1.0,
           1.0,
           1.0,
           1.0,
           1.0
          ],
          "vectorType": "sparse"
         }
        ],
        [
         82,
         "mid",
         "low",
         "good",
         "mid",
         "stable",
         "stable",
         "unstable",
         "10",
         "I",
         82,
         0.0,
         "Uncomfortable",
         0.0,
         {
          "indices": [
           0
          ],
          "length": 2,
          "values": [
           1.0
          ],
          "vectorType": "sparse"
         },
         1.0,
         {
          "indices": [
           1
          ],
          "length": 2,
          "values": [
           1.0
          ],
          "vectorType": "sparse"
         },
         0.0,
         {
          "indices": [
           0
          ],
          "length": 1,
          "values": [
           1.0
          ],
          "vectorType": "sparse"
         },
         0.0,
         {
          "indices": [
           0
          ],
          "length": 2,
          "values": [
           1.0
          ],
          "vectorType": "sparse"
         },
         0.0,
         {
          "indices": [
           0
          ],
          "length": 1,
          "values": [
           1.0
          ],
          "vectorType": "sparse"
         },
         0.0,
         {
          "indices": [
           0
          ],
          "length": 2,
          "values": [
           1.0
          ],
          "vectorType": "sparse"
         },
         1.0,
         {
          "indices": [
           1
          ],
          "length": 2,
          "values": [
           1.0
          ],
          "vectorType": "sparse"
         },
         0.0,
         {
          "indices": [
           0
          ],
          "length": 4,
          "values": [
           1.0
          ],
          "vectorType": "sparse"
         },
         2.0,
         {
          "indices": [],
          "length": 2,
          "values": [],
          "vectorType": "sparse"
         },
         0.0,
         {
          "indices": [
           0
          ],
          "length": 3,
          "values": [
           1.0
          ],
          "vectorType": "sparse"
         },
         {
          "indices": [
           0,
           3,
           4,
           5,
           7,
           8,
           11,
           12,
           18
          ],
          "length": 21,
          "values": [
           1.0,
           1.0,
           1.0,
           1.0,
           1.0,
           1.0,
           1.0,
           1.0,
           1.0
          ],
          "vectorType": "sparse"
         }
        ],
        [
         83,
         "high",
         "mid",
         "excellent",
         "mid",
         "unstable",
         "stable",
         "unstable",
         "05",
         "A",
         83,
         2.0,
         "Very Uncomfortable",
         2.0,
         {
          "indices": [],
          "length": 2,
          "values": [],
          "vectorType": "sparse"
         },
         0.0,
         {
          "indices": [
           0
          ],
          "length": 2,
          "values": [
           1.0
          ],
          "vectorType": "sparse"
         },
         1.0,
         {
          "indices": [],
          "length": 1,
          "values": [],
          "vectorType": "sparse"
         },
         0.0,
         {
          "indices": [
           0
          ],
          "length": 2,
          "values": [
           1.0
          ],
          "vectorType": "sparse"
         },
         1.0,
         {
          "indices": [],
          "length": 1,
          "values": [],
          "vectorType": "sparse"
         },
         0.0,
         {
          "indices": [
           0
          ],
          "length": 2,
          "values": [
           1.0
          ],
          "vectorType": "sparse"
         },
         1.0,
         {
          "indices": [
           1
          ],
          "length": 2,
          "values": [
           1.0
          ],
          "vectorType": "sparse"
         },
         3.0,
         {
          "indices": [
           3
          ],
          "length": 4,
          "values": [
           1.0
          ],
          "vectorType": "sparse"
         },
         0.0,
         {
          "indices": [
           0
          ],
          "length": 2,
          "values": [
           1.0
          ],
          "vectorType": "sparse"
         },
         3.0,
         {
          "indices": [],
          "length": 3,
          "values": [],
          "vectorType": "sparse"
         },
         {
          "indices": [
           2,
           5,
           8,
           11,
           15,
           16
          ],
          "length": 21,
          "values": [
           1.0,
           1.0,
           1.0,
           1.0,
           1.0,
           1.0
          ],
          "vectorType": "sparse"
         }
        ],
        [
         84,
         "mid",
         "mid",
         "excellent",
         "mid",
         "stable",
         "stable",
         "unstable",
         "10",
         "A",
         84,
         0.0,
         "Uncomfortable",
         0.0,
         {
          "indices": [
           0
          ],
          "length": 2,
          "values": [
           1.0
          ],
          "vectorType": "sparse"
         },
         0.0,
         {
          "indices": [
           0
          ],
          "length": 2,
          "values": [
           1.0
          ],
          "vectorType": "sparse"
         },
         1.0,
         {
          "indices": [],
          "length": 1,
          "values": [],
          "vectorType": "sparse"
         },
         0.0,
         {
          "indices": [
           0
          ],
          "length": 2,
          "values": [
           1.0
          ],
          "vectorType": "sparse"
         },
         0.0,
         {
          "indices": [
           0
          ],
          "length": 1,
          "values": [
           1.0
          ],
          "vectorType": "sparse"
         },
         0.0,
         {
          "indices": [
           0
          ],
          "length": 2,
          "values": [
           1.0
          ],
          "vectorType": "sparse"
         },
         1.0,
         {
          "indices": [
           1
          ],
          "length": 2,
          "values": [
           1.0
          ],
          "vectorType": "sparse"
         },
         0.0,
         {
          "indices": [
           0
          ],
          "length": 4,
          "values": [
           1.0
          ],
          "vectorType": "sparse"
         },
         0.0,
         {
          "indices": [
           0
          ],
          "length": 2,
          "values": [
           1.0
          ],
          "vectorType": "sparse"
         },
         0.0,
         {
          "indices": [
           0
          ],
          "length": 3,
          "values": [
           1.0
          ],
          "vectorType": "sparse"
         },
         {
          "indices": [
           0,
           2,
           5,
           7,
           8,
           11,
           12,
           16,
           18
          ],
          "length": 21,
          "values": [
           1.0,
           1.0,
           1.0,
           1.0,
           1.0,
           1.0,
           1.0,
           1.0,
           1.0
          ],
          "vectorType": "sparse"
         }
        ],
        [
         85,
         "mid",
         "mid",
         "excellent",
         "mid",
         "unstable",
         "stable",
         "stable",
         "10",
         "A",
         85,
         0.0,
         "Uncomfortable",
         0.0,
         {
          "indices": [
           0
          ],
          "length": 2,
          "values": [
           1.0
          ],
          "vectorType": "sparse"
         },
         0.0,
         {
          "indices": [
           0
          ],
          "length": 2,
          "values": [
           1.0
          ],
          "vectorType": "sparse"
         },
         1.0,
         {
          "indices": [],
          "length": 1,
          "values": [],
          "vectorType": "sparse"
         },
         0.0,
         {
          "indices": [
           0
          ],
          "length": 2,
          "values": [
           1.0
          ],
          "vectorType": "sparse"
         },
         1.0,
         {
          "indices": [],
          "length": 1,
          "values": [],
          "vectorType": "sparse"
         },
         0.0,
         {
          "indices": [
           0
          ],
          "length": 2,
          "values": [
           1.0
          ],
          "vectorType": "sparse"
         },
         0.0,
         {
          "indices": [
           0
          ],
          "length": 2,
          "values": [
           1.0
          ],
          "vectorType": "sparse"
         },
         0.0,
         {
          "indices": [
           0
          ],
          "length": 4,
          "values": [
           1.0
          ],
          "vectorType": "sparse"
         },
         0.0,
         {
          "indices": [
           0
          ],
          "length": 2,
          "values": [
           1.0
          ],
          "vectorType": "sparse"
         },
         0.0,
         {
          "indices": [
           0
          ],
          "length": 3,
          "values": [
           1.0
          ],
          "vectorType": "sparse"
         },
         {
          "indices": [
           0,
           2,
           5,
           8,
           10,
           12,
           16,
           18
          ],
          "length": 21,
          "values": [
           1.0,
           1.0,
           1.0,
           1.0,
           1.0,
           1.0,
           1.0,
           1.0
          ],
          "vectorType": "sparse"
         }
        ],
        [
         86,
         "mid",
         "mid",
         "excellent",
         "mid",
         "unstable",
         "stable",
         "stable",
         "15",
         "S",
         86,
         0.0,
         "Comfortable",
         0.0,
         {
          "indices": [
           0
          ],
          "length": 2,
          "values": [
           1.0
          ],
          "vectorType": "sparse"
         },
         0.0,
         {
          "indices": [
           0
          ],
          "length": 2,
          "values": [
           1.0
          ],
          "vectorType": "sparse"
         },
         1.0,
         {
          "indices": [],
          "length": 1,
          "values": [],
          "vectorType": "sparse"
         },
         0.0,
         {
          "indices": [
           0
          ],
          "length": 2,
          "values": [
           1.0
          ],
          "vectorType": "sparse"
         },
         1.0,
         {
          "indices": [],
          "length": 1,
          "values": [],
          "vectorType": "sparse"
         },
         0.0,
         {
          "indices": [
           0
          ],
          "length": 2,
          "values": [
           1.0
          ],
          "vectorType": "sparse"
         },
         0.0,
         {
          "indices": [
           0
          ],
          "length": 2,
          "values": [
           1.0
          ],
          "vectorType": "sparse"
         },
         1.0,
         {
          "indices": [
           1
          ],
          "length": 4,
          "values": [
           1.0
          ],
          "vectorType": "sparse"
         },
         1.0,
         {
          "indices": [
           1
          ],
          "length": 2,
          "values": [
           1.0
          ],
          "vectorType": "sparse"
         },
         1.0,
         {
          "indices": [
           1
          ],
          "length": 3,
          "values": [
           1.0
          ],
          "vectorType": "sparse"
         },
         {
          "indices": [
           0,
           2,
           5,
           8,
           10,
           13,
           17,
           19
          ],
          "length": 21,
          "values": [
           1.0,
           1.0,
           1.0,
           1.0,
           1.0,
           1.0,
           1.0,
           1.0
          ],
          "vectorType": "sparse"
         }
        ],
        [
         87,
         "mid",
         "mid",
         "good",
         "mid",
         "unstable",
         "stable",
         "stable",
         "15",
         "A",
         87,
         0.0,
         "Comfortable",
         0.0,
         {
          "indices": [
           0
          ],
          "length": 2,
          "values": [
           1.0
          ],
          "vectorType": "sparse"
         },
         0.0,
         {
          "indices": [
           0
          ],
          "length": 2,
          "values": [
           1.0
          ],
          "vectorType": "sparse"
         },
         0.0,
         {
          "indices": [
           0
          ],
          "length": 1,
          "values": [
           1.0
          ],
          "vectorType": "sparse"
         },
         0.0,
         {
          "indices": [
           0
          ],
          "length": 2,
          "values": [
           1.0
          ],
          "vectorType": "sparse"
         },
         1.0,
         {
          "indices": [],
          "length": 1,
          "values": [],
          "vectorType": "sparse"
         },
         0.0,
         {
          "indices": [
           0
          ],
          "length": 2,
          "values": [
           1.0
          ],
          "vectorType": "sparse"
         },
         0.0,
         {
          "indices": [
           0
          ],
          "length": 2,
          "values": [
           1.0
          ],
          "vectorType": "sparse"
         },
         1.0,
         {
          "indices": [
           1
          ],
          "length": 4,
          "values": [
           1.0
          ],
          "vectorType": "sparse"
         },
         0.0,
         {
          "indices": [
           0
          ],
          "length": 2,
          "values": [
           1.0
          ],
          "vectorType": "sparse"
         },
         1.0,
         {
          "indices": [
           1
          ],
          "length": 3,
          "values": [
           1.0
          ],
          "vectorType": "sparse"
         },
         {
          "indices": [
           0,
           2,
           4,
           5,
           8,
           10,
           13,
           16,
           19
          ],
          "length": 21,
          "values": [
           1.0,
           1.0,
           1.0,
           1.0,
           1.0,
           1.0,
           1.0,
           1.0,
           1.0
          ],
          "vectorType": "sparse"
         }
        ],
        [
         88,
         "mid",
         "mid",
         "excellent",
         "mid",
         "unstable",
         "stable",
         "stable",
         "10",
         "A",
         88,
         0.0,
         "Uncomfortable",
         0.0,
         {
          "indices": [
           0
          ],
          "length": 2,
          "values": [
           1.0
          ],
          "vectorType": "sparse"
         },
         0.0,
         {
          "indices": [
           0
          ],
          "length": 2,
          "values": [
           1.0
          ],
          "vectorType": "sparse"
         },
         1.0,
         {
          "indices": [],
          "length": 1,
          "values": [],
          "vectorType": "sparse"
         },
         0.0,
         {
          "indices": [
           0
          ],
          "length": 2,
          "values": [
           1.0
          ],
          "vectorType": "sparse"
         },
         1.0,
         {
          "indices": [],
          "length": 1,
          "values": [],
          "vectorType": "sparse"
         },
         0.0,
         {
          "indices": [
           0
          ],
          "length": 2,
          "values": [
           1.0
          ],
          "vectorType": "sparse"
         },
         0.0,
         {
          "indices": [
           0
          ],
          "length": 2,
          "values": [
           1.0
          ],
          "vectorType": "sparse"
         },
         0.0,
         {
          "indices": [
           0
          ],
          "length": 4,
          "values": [
           1.0
          ],
          "vectorType": "sparse"
         },
         0.0,
         {
          "indices": [
           0
          ],
          "length": 2,
          "values": [
           1.0
          ],
          "vectorType": "sparse"
         },
         0.0,
         {
          "indices": [
           0
          ],
          "length": 3,
          "values": [
           1.0
          ],
          "vectorType": "sparse"
         },
         {
          "indices": [
           0,
           2,
           5,
           8,
           10,
           12,
           16,
           18
          ],
          "length": 21,
          "values": [
           1.0,
           1.0,
           1.0,
           1.0,
           1.0,
           1.0,
           1.0,
           1.0
          ],
          "vectorType": "sparse"
         }
        ],
        [
         89,
         "mid",
         "mid",
         "good",
         "mid",
         "unstable",
         "stable",
         "stable",
         "15",
         "S",
         89,
         0.0,
         "Comfortable",
         0.0,
         {
          "indices": [
           0
          ],
          "length": 2,
          "values": [
           1.0
          ],
          "vectorType": "sparse"
         },
         0.0,
         {
          "indices": [
           0
          ],
          "length": 2,
          "values": [
           1.0
          ],
          "vectorType": "sparse"
         },
         0.0,
         {
          "indices": [
           0
          ],
          "length": 1,
          "values": [
           1.0
          ],
          "vectorType": "sparse"
         },
         0.0,
         {
          "indices": [
           0
          ],
          "length": 2,
          "values": [
           1.0
          ],
          "vectorType": "sparse"
         },
         1.0,
         {
          "indices": [],
          "length": 1,
          "values": [],
          "vectorType": "sparse"
         },
         0.0,
         {
          "indices": [
           0
          ],
          "length": 2,
          "values": [
           1.0
          ],
          "vectorType": "sparse"
         },
         0.0,
         {
          "indices": [
           0
          ],
          "length": 2,
          "values": [
           1.0
          ],
          "vectorType": "sparse"
         },
         1.0,
         {
          "indices": [
           1
          ],
          "length": 4,
          "values": [
           1.0
          ],
          "vectorType": "sparse"
         },
         1.0,
         {
          "indices": [
           1
          ],
          "length": 2,
          "values": [
           1.0
          ],
          "vectorType": "sparse"
         },
         1.0,
         {
          "indices": [
           1
          ],
          "length": 3,
          "values": [
           1.0
          ],
          "vectorType": "sparse"
         },
         {
          "indices": [
           0,
           2,
           4,
           5,
           8,
           10,
           13,
           17,
           19
          ],
          "length": 21,
          "values": [
           1.0,
           1.0,
           1.0,
           1.0,
           1.0,
           1.0,
           1.0,
           1.0,
           1.0
          ],
          "vectorType": "sparse"
         }
        ]
       ],
       "datasetInfos": [],
       "dbfsResultPath": null,
       "isJsonSchema": true,
       "metadata": {},
       "overflow": false,
       "plotOptions": {
        "customPlotOptions": {},
        "displayType": "table",
        "pivotAggregation": null,
        "pivotColumns": null,
        "xColumns": null,
        "yColumns": null
       },
       "removedWidgets": [],
       "schema": [
        {
         "metadata": "{}",
         "name": "index",
         "type": "\"long\""
        },
        {
         "metadata": "{}",
         "name": "L_CORE",
         "type": "\"string\""
        },
        {
         "metadata": "{}",
         "name": "L_SURF",
         "type": "\"string\""
        },
        {
         "metadata": "{}",
         "name": "L_O2",
         "type": "\"string\""
        },
        {
         "metadata": "{}",
         "name": "L_BP",
         "type": "\"string\""
        },
        {
         "metadata": "{}",
         "name": "SURF_STBL",
         "type": "\"string\""
        },
        {
         "metadata": "{}",
         "name": "CORE_STBL",
         "type": "\"string\""
        },
        {
         "metadata": "{}",
         "name": "BP_STBL",
         "type": "\"string\""
        },
        {
         "metadata": "{}",
         "name": "COMFORT",
         "type": "\"string\""
        },
        {
         "metadata": "{}",
         "name": "discharge_decision",
         "type": "\"string\""
        },
        {
         "metadata": "{}",
         "name": "index",
         "type": "\"long\""
        },
        {
         "metadata": "{\"ml_attr\":{\"vals\":[\"mid\",\"low\",\"high\"],\"type\":\"nominal\",\"name\":\"L-CORE_index\"}}",
         "name": "L-CORE_index",
         "type": "\"double\""
        },
        {
         "metadata": "{}",
         "name": "COMFORT_Category",
         "type": "\"string\""
        },
        {
         "metadata": "{\"ml_attr\":{\"vals\":[\"mid\",\"low\",\"high\"],\"type\":\"nominal\",\"name\":\"L_CORE_index\"}}",
         "name": "L_CORE_index",
         "type": "\"double\""
        },
        {
         "metadata": "{\"ml_attr\":{\"attrs\":{\"binary\":[{\"idx\":0,\"name\":\"mid\"},{\"idx\":1,\"name\":\"low\"}]},\"num_attrs\":2}}",
         "name": "L_CORE_encoded",
         "type": "{\"type\":\"udt\",\"class\":\"org.apache.spark.ml.linalg.VectorUDT\",\"pyClass\":\"pyspark.ml.linalg.VectorUDT\",\"sqlType\":{\"type\":\"struct\",\"fields\":[{\"name\":\"type\",\"type\":\"byte\",\"nullable\":false,\"metadata\":{}},{\"name\":\"size\",\"type\":\"integer\",\"nullable\":true,\"metadata\":{}},{\"name\":\"indices\",\"type\":{\"type\":\"array\",\"elementType\":\"integer\",\"containsNull\":false},\"nullable\":true,\"metadata\":{}},{\"name\":\"values\",\"type\":{\"type\":\"array\",\"elementType\":\"double\",\"containsNull\":false},\"nullable\":true,\"metadata\":{}}]}}"
        },
        {
         "metadata": "{\"ml_attr\":{\"vals\":[\"mid\",\"low\",\"high\"],\"type\":\"nominal\",\"name\":\"L_SURF_index\"}}",
         "name": "L_SURF_index",
         "type": "\"double\""
        },
        {
         "metadata": "{\"ml_attr\":{\"attrs\":{\"binary\":[{\"idx\":0,\"name\":\"mid\"},{\"idx\":1,\"name\":\"low\"}]},\"num_attrs\":2}}",
         "name": "L_SURF_encoded",
         "type": "{\"type\":\"udt\",\"class\":\"org.apache.spark.ml.linalg.VectorUDT\",\"pyClass\":\"pyspark.ml.linalg.VectorUDT\",\"sqlType\":{\"type\":\"struct\",\"fields\":[{\"name\":\"type\",\"type\":\"byte\",\"nullable\":false,\"metadata\":{}},{\"name\":\"size\",\"type\":\"integer\",\"nullable\":true,\"metadata\":{}},{\"name\":\"indices\",\"type\":{\"type\":\"array\",\"elementType\":\"integer\",\"containsNull\":false},\"nullable\":true,\"metadata\":{}},{\"name\":\"values\",\"type\":{\"type\":\"array\",\"elementType\":\"double\",\"containsNull\":false},\"nullable\":true,\"metadata\":{}}]}}"
        },
        {
         "metadata": "{\"ml_attr\":{\"vals\":[\"good\",\"excellent\"],\"type\":\"nominal\",\"name\":\"L_O2_index\"}}",
         "name": "L_O2_index",
         "type": "\"double\""
        },
        {
         "metadata": "{\"ml_attr\":{\"attrs\":{\"binary\":[{\"idx\":0,\"name\":\"good\"}]},\"num_attrs\":1}}",
         "name": "L_O2_encoded",
         "type": "{\"type\":\"udt\",\"class\":\"org.apache.spark.ml.linalg.VectorUDT\",\"pyClass\":\"pyspark.ml.linalg.VectorUDT\",\"sqlType\":{\"type\":\"struct\",\"fields\":[{\"name\":\"type\",\"type\":\"byte\",\"nullable\":false,\"metadata\":{}},{\"name\":\"size\",\"type\":\"integer\",\"nullable\":true,\"metadata\":{}},{\"name\":\"indices\",\"type\":{\"type\":\"array\",\"elementType\":\"integer\",\"containsNull\":false},\"nullable\":true,\"metadata\":{}},{\"name\":\"values\",\"type\":{\"type\":\"array\",\"elementType\":\"double\",\"containsNull\":false},\"nullable\":true,\"metadata\":{}}]}}"
        },
        {
         "metadata": "{\"ml_attr\":{\"vals\":[\"mid\",\"high\",\"low\"],\"type\":\"nominal\",\"name\":\"L_BP_index\"}}",
         "name": "L_BP_index",
         "type": "\"double\""
        },
        {
         "metadata": "{\"ml_attr\":{\"attrs\":{\"binary\":[{\"idx\":0,\"name\":\"mid\"},{\"idx\":1,\"name\":\"high\"}]},\"num_attrs\":2}}",
         "name": "L_BP_encoded",
         "type": "{\"type\":\"udt\",\"class\":\"org.apache.spark.ml.linalg.VectorUDT\",\"pyClass\":\"pyspark.ml.linalg.VectorUDT\",\"sqlType\":{\"type\":\"struct\",\"fields\":[{\"name\":\"type\",\"type\":\"byte\",\"nullable\":false,\"metadata\":{}},{\"name\":\"size\",\"type\":\"integer\",\"nullable\":true,\"metadata\":{}},{\"name\":\"indices\",\"type\":{\"type\":\"array\",\"elementType\":\"integer\",\"containsNull\":false},\"nullable\":true,\"metadata\":{}},{\"name\":\"values\",\"type\":{\"type\":\"array\",\"elementType\":\"double\",\"containsNull\":false},\"nullable\":true,\"metadata\":{}}]}}"
        },
        {
         "metadata": "{\"ml_attr\":{\"vals\":[\"stable\",\"unstable\"],\"type\":\"nominal\",\"name\":\"SURF_STBL_index\"}}",
         "name": "SURF_STBL_index",
         "type": "\"double\""
        },
        {
         "metadata": "{\"ml_attr\":{\"attrs\":{\"binary\":[{\"idx\":0,\"name\":\"stable\"}]},\"num_attrs\":1}}",
         "name": "SURF_STBL_encoded",
         "type": "{\"type\":\"udt\",\"class\":\"org.apache.spark.ml.linalg.VectorUDT\",\"pyClass\":\"pyspark.ml.linalg.VectorUDT\",\"sqlType\":{\"type\":\"struct\",\"fields\":[{\"name\":\"type\",\"type\":\"byte\",\"nullable\":false,\"metadata\":{}},{\"name\":\"size\",\"type\":\"integer\",\"nullable\":true,\"metadata\":{}},{\"name\":\"indices\",\"type\":{\"type\":\"array\",\"elementType\":\"integer\",\"containsNull\":false},\"nullable\":true,\"metadata\":{}},{\"name\":\"values\",\"type\":{\"type\":\"array\",\"elementType\":\"double\",\"containsNull\":false},\"nullable\":true,\"metadata\":{}}]}}"
        },
        {
         "metadata": "{\"ml_attr\":{\"vals\":[\"stable\",\"unstable\",\"mod-stable\"],\"type\":\"nominal\",\"name\":\"CORE_STBL_index\"}}",
         "name": "CORE_STBL_index",
         "type": "\"double\""
        },
        {
         "metadata": "{\"ml_attr\":{\"attrs\":{\"binary\":[{\"idx\":0,\"name\":\"stable\"},{\"idx\":1,\"name\":\"unstable\"}]},\"num_attrs\":2}}",
         "name": "CORE_STBL_encoded",
         "type": "{\"type\":\"udt\",\"class\":\"org.apache.spark.ml.linalg.VectorUDT\",\"pyClass\":\"pyspark.ml.linalg.VectorUDT\",\"sqlType\":{\"type\":\"struct\",\"fields\":[{\"name\":\"type\",\"type\":\"byte\",\"nullable\":false,\"metadata\":{}},{\"name\":\"size\",\"type\":\"integer\",\"nullable\":true,\"metadata\":{}},{\"name\":\"indices\",\"type\":{\"type\":\"array\",\"elementType\":\"integer\",\"containsNull\":false},\"nullable\":true,\"metadata\":{}},{\"name\":\"values\",\"type\":{\"type\":\"array\",\"elementType\":\"double\",\"containsNull\":false},\"nullable\":true,\"metadata\":{}}]}}"
        },
        {
         "metadata": "{\"ml_attr\":{\"vals\":[\"stable\",\"unstable\",\"mod-stable\"],\"type\":\"nominal\",\"name\":\"BP_STBL_index\"}}",
         "name": "BP_STBL_index",
         "type": "\"double\""
        },
        {
         "metadata": "{\"ml_attr\":{\"attrs\":{\"binary\":[{\"idx\":0,\"name\":\"stable\"},{\"idx\":1,\"name\":\"unstable\"}]},\"num_attrs\":2}}",
         "name": "BP_STBL_encoded",
         "type": "{\"type\":\"udt\",\"class\":\"org.apache.spark.ml.linalg.VectorUDT\",\"pyClass\":\"pyspark.ml.linalg.VectorUDT\",\"sqlType\":{\"type\":\"struct\",\"fields\":[{\"name\":\"type\",\"type\":\"byte\",\"nullable\":false,\"metadata\":{}},{\"name\":\"size\",\"type\":\"integer\",\"nullable\":true,\"metadata\":{}},{\"name\":\"indices\",\"type\":{\"type\":\"array\",\"elementType\":\"integer\",\"containsNull\":false},\"nullable\":true,\"metadata\":{}},{\"name\":\"values\",\"type\":{\"type\":\"array\",\"elementType\":\"double\",\"containsNull\":false},\"nullable\":true,\"metadata\":{}}]}}"
        },
        {
         "metadata": "{\"ml_attr\":{\"vals\":[\"10\",\"15\",\"?\",\"05\",\"07\"],\"type\":\"nominal\",\"name\":\"COMFORT_index\"}}",
         "name": "COMFORT_index",
         "type": "\"double\""
        },
        {
         "metadata": "{\"ml_attr\":{\"attrs\":{\"binary\":[{\"idx\":0,\"name\":\"10\"},{\"idx\":1,\"name\":\"15\"},{\"idx\":2,\"name\":\"?\"},{\"idx\":3,\"name\":\"05\"}]},\"num_attrs\":4}}",
         "name": "COMFORT_encoded",
         "type": "{\"type\":\"udt\",\"class\":\"org.apache.spark.ml.linalg.VectorUDT\",\"pyClass\":\"pyspark.ml.linalg.VectorUDT\",\"sqlType\":{\"type\":\"struct\",\"fields\":[{\"name\":\"type\",\"type\":\"byte\",\"nullable\":false,\"metadata\":{}},{\"name\":\"size\",\"type\":\"integer\",\"nullable\":true,\"metadata\":{}},{\"name\":\"indices\",\"type\":{\"type\":\"array\",\"elementType\":\"integer\",\"containsNull\":false},\"nullable\":true,\"metadata\":{}},{\"name\":\"values\",\"type\":{\"type\":\"array\",\"elementType\":\"double\",\"containsNull\":false},\"nullable\":true,\"metadata\":{}}]}}"
        },
        {
         "metadata": "{\"ml_attr\":{\"vals\":[\"A\",\"S\",\"I\"],\"type\":\"nominal\",\"name\":\"discharge_decision_index\"}}",
         "name": "discharge_decision_index",
         "type": "\"double\""
        },
        {
         "metadata": "{\"ml_attr\":{\"attrs\":{\"binary\":[{\"idx\":0,\"name\":\"A\"},{\"idx\":1,\"name\":\"S\"}]},\"num_attrs\":2}}",
         "name": "discharge_decision_encoded",
         "type": "{\"type\":\"udt\",\"class\":\"org.apache.spark.ml.linalg.VectorUDT\",\"pyClass\":\"pyspark.ml.linalg.VectorUDT\",\"sqlType\":{\"type\":\"struct\",\"fields\":[{\"name\":\"type\",\"type\":\"byte\",\"nullable\":false,\"metadata\":{}},{\"name\":\"size\",\"type\":\"integer\",\"nullable\":true,\"metadata\":{}},{\"name\":\"indices\",\"type\":{\"type\":\"array\",\"elementType\":\"integer\",\"containsNull\":false},\"nullable\":true,\"metadata\":{}},{\"name\":\"values\",\"type\":{\"type\":\"array\",\"elementType\":\"double\",\"containsNull\":false},\"nullable\":true,\"metadata\":{}}]}}"
        },
        {
         "metadata": "{\"ml_attr\":{\"vals\":[\"Uncomfortable\",\"Comfortable\",\"Unknown\",\"Very Uncomfortable\"],\"type\":\"nominal\",\"name\":\"COMFORT_Category_index\"}}",
         "name": "COMFORT_Category_index",
         "type": "\"double\""
        },
        {
         "metadata": "{\"ml_attr\":{\"attrs\":{\"binary\":[{\"idx\":0,\"name\":\"Uncomfortable\"},{\"idx\":1,\"name\":\"Comfortable\"},{\"idx\":2,\"name\":\"Unknown\"}]},\"num_attrs\":3}}",
         "name": "COMFORT_Category_encoded",
         "type": "{\"type\":\"udt\",\"class\":\"org.apache.spark.ml.linalg.VectorUDT\",\"pyClass\":\"pyspark.ml.linalg.VectorUDT\",\"sqlType\":{\"type\":\"struct\",\"fields\":[{\"name\":\"type\",\"type\":\"byte\",\"nullable\":false,\"metadata\":{}},{\"name\":\"size\",\"type\":\"integer\",\"nullable\":true,\"metadata\":{}},{\"name\":\"indices\",\"type\":{\"type\":\"array\",\"elementType\":\"integer\",\"containsNull\":false},\"nullable\":true,\"metadata\":{}},{\"name\":\"values\",\"type\":{\"type\":\"array\",\"elementType\":\"double\",\"containsNull\":false},\"nullable\":true,\"metadata\":{}}]}}"
        },
        {
         "metadata": "{\"ml_attr\":{\"attrs\":{\"binary\":[{\"idx\":0,\"name\":\"L_CORE_encoded_mid\"},{\"idx\":1,\"name\":\"L_CORE_encoded_low\"},{\"idx\":2,\"name\":\"L_SURF_encoded_mid\"},{\"idx\":3,\"name\":\"L_SURF_encoded_low\"},{\"idx\":4,\"name\":\"L_O2_encoded_good\"},{\"idx\":5,\"name\":\"L_BP_encoded_mid\"},{\"idx\":6,\"name\":\"L_BP_encoded_high\"},{\"idx\":7,\"name\":\"SURF_STBL_encoded_stable\"},{\"idx\":8,\"name\":\"CORE_STBL_encoded_stable\"},{\"idx\":9,\"name\":\"CORE_STBL_encoded_unstable\"},{\"idx\":10,\"name\":\"BP_STBL_encoded_stable\"},{\"idx\":11,\"name\":\"BP_STBL_encoded_unstable\"},{\"idx\":12,\"name\":\"COMFORT_encoded_10\"},{\"idx\":13,\"name\":\"COMFORT_encoded_15\"},{\"idx\":14,\"name\":\"COMFORT_encoded_?\"},{\"idx\":15,\"name\":\"COMFORT_encoded_05\"},{\"idx\":16,\"name\":\"discharge_decision_encoded_A\"},{\"idx\":17,\"name\":\"discharge_decision_encoded_S\"},{\"idx\":18,\"name\":\"COMFORT_Category_encoded_Uncomfortable\"},{\"idx\":19,\"name\":\"COMFORT_Category_encoded_Comfortable\"},{\"idx\":20,\"name\":\"COMFORT_Category_encoded_Unknown\"}]},\"num_attrs\":21}}",
         "name": "features",
         "type": "{\"type\":\"udt\",\"class\":\"org.apache.spark.ml.linalg.VectorUDT\",\"pyClass\":\"pyspark.ml.linalg.VectorUDT\",\"sqlType\":{\"type\":\"struct\",\"fields\":[{\"name\":\"type\",\"type\":\"byte\",\"nullable\":false,\"metadata\":{}},{\"name\":\"size\",\"type\":\"integer\",\"nullable\":true,\"metadata\":{}},{\"name\":\"indices\",\"type\":{\"type\":\"array\",\"elementType\":\"integer\",\"containsNull\":false},\"nullable\":true,\"metadata\":{}},{\"name\":\"values\",\"type\":{\"type\":\"array\",\"elementType\":\"double\",\"containsNull\":false},\"nullable\":true,\"metadata\":{}}]}}"
        }
       ],
       "type": "table"
      }
     },
     "output_type": "display_data"
    }
   ],
   "source": [
    "indexers = [StringIndexer(inputCol=col, outputCol=col + \"_index\") for col in feature_columns]\n",
    "encoders = [OneHotEncoder(inputCol=col + \"_index\", outputCol=col + \"_encoded\") for col in feature_columns]\n",
    "\n",
    "for indexer, encoder in zip(indexers, encoders):\n",
    "    df = indexer.fit(df).transform(df)\n",
    "    df = encoder.fit(df).transform(df)\n",
    "\n",
    "encoded_columns = [col + \"_encoded\" for col in feature_columns]\n",
    "feature_columns = [col for col in feature_columns if col not in feature_columns] + encoded_columns\n",
    "\n",
    "assembler = VectorAssembler(inputCols=feature_columns, outputCol=\"features\")\n",
    "df = assembler.transform(df)\n",
    "\n",
    "display(df)"
   ]
  },
  {
   "cell_type": "code",
   "execution_count": 0,
   "metadata": {
    "application/vnd.databricks.v1+cell": {
     "cellMetadata": {
      "byteLimit": 2048000,
      "rowLimit": 10000
     },
     "inputWidgets": {},
     "nuid": "c78712bf-f549-4c34-8e76-bdbdcf5ebded",
     "showTitle": false,
     "tableResultSettingsMap": {},
     "title": ""
    }
   },
   "outputs": [
    {
     "output_type": "stream",
     "name": "stdout",
     "output_type": "stream",
     "text": [
      "Model accuracy: 0.9129411764705884\n"
     ]
    }
   ],
   "source": [
    "# Split the data\n",
    "train_data, test_data = df.randomSplit([0.8, 0.2], seed=42)\n",
    "\n",
    "# Train the model\n",
    "classifier = RandomForestClassifier(labelCol=\"discharge_decision_index\", featuresCol=\"features\")\n",
    "model = classifier.fit(train_data)\n",
    "\n",
    "predictions = model.transform(test_data)\n",
    "\n",
    "# Evaluate the model\n",
    "evaluator = MulticlassClassificationEvaluator(labelCol=\"discharge_decision_index\", predictionCol=\"prediction\")\n",
    "accuracy = evaluator.evaluate(predictions)\n",
    "\n",
    "print(f\"Model accuracy: {accuracy}\")"
   ]
  },
  {
   "cell_type": "markdown",
   "metadata": {
    "application/vnd.databricks.v1+cell": {
     "cellMetadata": {},
     "inputWidgets": {},
     "nuid": "721d8166-d252-4864-b2e4-e5cfabe2489c",
     "showTitle": false,
     "tableResultSettingsMap": {},
     "title": ""
    }
   },
   "source": [
    "#### Store the Processed Data"
   ]
  },
  {
   "cell_type": "code",
   "execution_count": 0,
   "metadata": {
    "application/vnd.databricks.v1+cell": {
     "cellMetadata": {
      "byteLimit": 2048000,
      "rowLimit": 10000
     },
     "inputWidgets": {},
     "nuid": "0e2c3053-18ca-4a5d-b4e4-03635ea42657",
     "showTitle": false,
     "tableResultSettingsMap": {},
     "title": ""
    }
   },
   "outputs": [
    {
     "output_type": "stream",
     "name": "stdout",
     "output_type": "stream",
     "text": [
      "Successfully wrote DataFrame to: wasbs://my-container@mlrstorage2025.blob.core.windows.net/your/output/path/\n"
     ]
    }
   ],
   "source": [
    "df_without_index = df.drop(\"index\")\n",
    "\n",
    "storage_account_name = \"mlrstorage2025\"\n",
    "container_name = \"my-container\"\n",
    "sas_token = \"sp=racwdli&st=2025-03-26T08:26:02Z&se=2025-03-26T16:26:02Z&sv=2024-11-04&sr=c&sig=obreMqDEGcyCj1BsJhDC8YXxT7jEPqmslPg6sZj4krw%3D\"\n",
    "\n",
    "output_path = f\"wasbs://{container_name}@{storage_account_name}.blob.core.windows.net/your/output/path/\"\n",
    "\n",
    "# Configure Spark session with the SAS token\n",
    "spark.conf.set(\n",
    "    f\"fs.azure.sas.{container_name}.{storage_account_name}.blob.core.windows.net\",\n",
    "    sas_token\n",
    ")\n",
    "\n",
    "try:\n",
    "    df_without_index.write.mode(\"overwrite\").parquet(output_path)\n",
    "    print(f\"Successfully wrote DataFrame to: {output_path}\")\n",
    "except Exception as e:\n",
    "    print(f\"An error occurred while writing to Parquet: {e}\")"
   ]
  }
 ],
 "metadata": {
  "application/vnd.databricks.v1+notebook": {
   "computePreferences": null,
   "dashboards": [],
   "environmentMetadata": {
    "base_environment": "",
    "environment_version": "2"
   },
   "inputWidgetPreferences": null,
   "language": "python",
   "notebookMetadata": {
    "pythonIndentUnit": 4
   },
   "notebookName": "Postoperative_Patient_Data",
   "widgets": {}
  },
  "language_info": {
   "name": "python"
  }
 },
 "nbformat": 4,
 "nbformat_minor": 0
}